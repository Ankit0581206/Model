{
  "nbformat": 4,
  "nbformat_minor": 0,
  "metadata": {
    "colab": {
      "provenance": []
    },
    "kernelspec": {
      "name": "python3",
      "display_name": "Python 3"
    },
    "language_info": {
      "name": "python"
    }
  },
  "cells": [
    {
      "cell_type": "code",
      "execution_count": null,
      "metadata": {
        "id": "JA_zoiG_lUbk"
      },
      "outputs": [],
      "source": [
        "import pandas as pd\n",
        "pd.set_option(\"display.max_colwidth\", 200)"
      ]
    },
    {
      "cell_type": "code",
      "source": [
        "\n",
        "data = pd.read_csv('/content/ss_ac_at_txt_bal.csv')\n",
        "data.head()"
      ],
      "metadata": {
        "colab": {
          "base_uri": "https://localhost:8080/",
          "height": 276
        },
        "id": "kNPOKRhpldqH",
        "outputId": "244d6db8-540a-4350-8c91-e909061ef1d5"
      },
      "execution_count": null,
      "outputs": [
        {
          "output_type": "execute_result",
          "data": {
            "text/plain": [
              "   1  GENERAL                            शोषक  \\\n",
              "0  1  GENERAL                      उल्लु बनाए   \n",
              "1  1  GENERAL  न पहिला ठिक थियो न अहिले ठिक छ   \n",
              "2  1  GENERAL                             चोर   \n",
              "3  1  GENERAL                            हरास   \n",
              "4  0  GENERAL                    कुरा सही हाे   \n",
              "\n",
              "  यो मुजि बानियाँ ले कस्तो खाते कुरा गर्दैछ कुलमान नभए को आज नेपाल उज्यालो हुन्थ्यो अझ कुलमान को कमजोरी देखाउछ यिनी 2 त शोषक हुन ।  \n",
              "0                सबै भन्दा ठुलो सरकार ले नै सबै लाई उल्लु बनाए को छ बाँकी पैसा त खान्छन नै यो अहिले को सरकार तुरुन्त धाल्नु पर्छ ।  \n",
              "1                                                                यो पुलिस न पहिला ठिक थियो न अहिले ठिक छ यस्तो लाई बोलाउनु हुदैन ?  \n",
              "2                       यिनी चोर हरु ले जनता लाई अन्धकार मा रखेर आफ्नो धुनु सुधारने कुकुर हरु हुन कुलमन सार ले गरे को ठिक काम हो ।  \n",
              "3                                                                                          सहि कुरा के पि को अस्तित्व हरास हुदैछ !  \n",
              "4                                                                 कुरा सही हाे प्र म भएर काम गरेर देखाउनु पर्याे नारायण मान ज्यू ।  "
            ],
            "text/html": [
              "\n",
              "  <div id=\"df-c9088446-1c33-4256-b11c-af4b7a59c3ef\" class=\"colab-df-container\">\n",
              "    <div>\n",
              "<style scoped>\n",
              "    .dataframe tbody tr th:only-of-type {\n",
              "        vertical-align: middle;\n",
              "    }\n",
              "\n",
              "    .dataframe tbody tr th {\n",
              "        vertical-align: top;\n",
              "    }\n",
              "\n",
              "    .dataframe thead th {\n",
              "        text-align: right;\n",
              "    }\n",
              "</style>\n",
              "<table border=\"1\" class=\"dataframe\">\n",
              "  <thead>\n",
              "    <tr style=\"text-align: right;\">\n",
              "      <th></th>\n",
              "      <th>1</th>\n",
              "      <th>GENERAL</th>\n",
              "      <th>शोषक</th>\n",
              "      <th>यो मुजि बानियाँ ले कस्तो खाते कुरा गर्दैछ कुलमान नभए को आज नेपाल उज्यालो हुन्थ्यो अझ कुलमान को कमजोरी देखाउछ यिनी 2 त शोषक हुन ।</th>\n",
              "    </tr>\n",
              "  </thead>\n",
              "  <tbody>\n",
              "    <tr>\n",
              "      <th>0</th>\n",
              "      <td>1</td>\n",
              "      <td>GENERAL</td>\n",
              "      <td>उल्लु बनाए</td>\n",
              "      <td>सबै भन्दा ठुलो सरकार ले नै सबै लाई उल्लु बनाए को छ बाँकी पैसा त खान्छन नै यो अहिले को सरकार तुरुन्त धाल्नु पर्छ ।</td>\n",
              "    </tr>\n",
              "    <tr>\n",
              "      <th>1</th>\n",
              "      <td>1</td>\n",
              "      <td>GENERAL</td>\n",
              "      <td>न पहिला ठिक थियो न अहिले ठिक छ</td>\n",
              "      <td>यो पुलिस न पहिला ठिक थियो न अहिले ठिक छ यस्तो लाई बोलाउनु हुदैन ?</td>\n",
              "    </tr>\n",
              "    <tr>\n",
              "      <th>2</th>\n",
              "      <td>1</td>\n",
              "      <td>GENERAL</td>\n",
              "      <td>चोर</td>\n",
              "      <td>यिनी चोर हरु ले जनता लाई अन्धकार मा रखेर आफ्नो धुनु सुधारने कुकुर हरु हुन कुलमन सार ले गरे को ठिक काम हो ।</td>\n",
              "    </tr>\n",
              "    <tr>\n",
              "      <th>3</th>\n",
              "      <td>1</td>\n",
              "      <td>GENERAL</td>\n",
              "      <td>हरास</td>\n",
              "      <td>सहि कुरा के पि को अस्तित्व हरास हुदैछ !</td>\n",
              "    </tr>\n",
              "    <tr>\n",
              "      <th>4</th>\n",
              "      <td>0</td>\n",
              "      <td>GENERAL</td>\n",
              "      <td>कुरा सही हाे</td>\n",
              "      <td>कुरा सही हाे प्र म भएर काम गरेर देखाउनु पर्याे नारायण मान ज्यू ।</td>\n",
              "    </tr>\n",
              "  </tbody>\n",
              "</table>\n",
              "</div>\n",
              "    <div class=\"colab-df-buttons\">\n",
              "\n",
              "  <div class=\"colab-df-container\">\n",
              "    <button class=\"colab-df-convert\" onclick=\"convertToInteractive('df-c9088446-1c33-4256-b11c-af4b7a59c3ef')\"\n",
              "            title=\"Convert this dataframe to an interactive table.\"\n",
              "            style=\"display:none;\">\n",
              "\n",
              "  <svg xmlns=\"http://www.w3.org/2000/svg\" height=\"24px\" viewBox=\"0 -960 960 960\">\n",
              "    <path d=\"M120-120v-720h720v720H120Zm60-500h600v-160H180v160Zm220 220h160v-160H400v160Zm0 220h160v-160H400v160ZM180-400h160v-160H180v160Zm440 0h160v-160H620v160ZM180-180h160v-160H180v160Zm440 0h160v-160H620v160Z\"/>\n",
              "  </svg>\n",
              "    </button>\n",
              "\n",
              "  <style>\n",
              "    .colab-df-container {\n",
              "      display:flex;\n",
              "      gap: 12px;\n",
              "    }\n",
              "\n",
              "    .colab-df-convert {\n",
              "      background-color: #E8F0FE;\n",
              "      border: none;\n",
              "      border-radius: 50%;\n",
              "      cursor: pointer;\n",
              "      display: none;\n",
              "      fill: #1967D2;\n",
              "      height: 32px;\n",
              "      padding: 0 0 0 0;\n",
              "      width: 32px;\n",
              "    }\n",
              "\n",
              "    .colab-df-convert:hover {\n",
              "      background-color: #E2EBFA;\n",
              "      box-shadow: 0px 1px 2px rgba(60, 64, 67, 0.3), 0px 1px 3px 1px rgba(60, 64, 67, 0.15);\n",
              "      fill: #174EA6;\n",
              "    }\n",
              "\n",
              "    .colab-df-buttons div {\n",
              "      margin-bottom: 4px;\n",
              "    }\n",
              "\n",
              "    [theme=dark] .colab-df-convert {\n",
              "      background-color: #3B4455;\n",
              "      fill: #D2E3FC;\n",
              "    }\n",
              "\n",
              "    [theme=dark] .colab-df-convert:hover {\n",
              "      background-color: #434B5C;\n",
              "      box-shadow: 0px 1px 3px 1px rgba(0, 0, 0, 0.15);\n",
              "      filter: drop-shadow(0px 1px 2px rgba(0, 0, 0, 0.3));\n",
              "      fill: #FFFFFF;\n",
              "    }\n",
              "  </style>\n",
              "\n",
              "    <script>\n",
              "      const buttonEl =\n",
              "        document.querySelector('#df-c9088446-1c33-4256-b11c-af4b7a59c3ef button.colab-df-convert');\n",
              "      buttonEl.style.display =\n",
              "        google.colab.kernel.accessAllowed ? 'block' : 'none';\n",
              "\n",
              "      async function convertToInteractive(key) {\n",
              "        const element = document.querySelector('#df-c9088446-1c33-4256-b11c-af4b7a59c3ef');\n",
              "        const dataTable =\n",
              "          await google.colab.kernel.invokeFunction('convertToInteractive',\n",
              "                                                    [key], {});\n",
              "        if (!dataTable) return;\n",
              "\n",
              "        const docLinkHtml = 'Like what you see? Visit the ' +\n",
              "          '<a target=\"_blank\" href=https://colab.research.google.com/notebooks/data_table.ipynb>data table notebook</a>'\n",
              "          + ' to learn more about interactive tables.';\n",
              "        element.innerHTML = '';\n",
              "        dataTable['output_type'] = 'display_data';\n",
              "        await google.colab.output.renderOutput(dataTable, element);\n",
              "        const docLink = document.createElement('div');\n",
              "        docLink.innerHTML = docLinkHtml;\n",
              "        element.appendChild(docLink);\n",
              "      }\n",
              "    </script>\n",
              "  </div>\n",
              "\n",
              "\n",
              "<div id=\"df-9f9b6a4e-5773-4ca0-8a9a-c5ba38a02f70\">\n",
              "  <button class=\"colab-df-quickchart\" onclick=\"quickchart('df-9f9b6a4e-5773-4ca0-8a9a-c5ba38a02f70')\"\n",
              "            title=\"Suggest charts\"\n",
              "            style=\"display:none;\">\n",
              "\n",
              "<svg xmlns=\"http://www.w3.org/2000/svg\" height=\"24px\"viewBox=\"0 0 24 24\"\n",
              "     width=\"24px\">\n",
              "    <g>\n",
              "        <path d=\"M19 3H5c-1.1 0-2 .9-2 2v14c0 1.1.9 2 2 2h14c1.1 0 2-.9 2-2V5c0-1.1-.9-2-2-2zM9 17H7v-7h2v7zm4 0h-2V7h2v10zm4 0h-2v-4h2v4z\"/>\n",
              "    </g>\n",
              "</svg>\n",
              "  </button>\n",
              "\n",
              "<style>\n",
              "  .colab-df-quickchart {\n",
              "      --bg-color: #E8F0FE;\n",
              "      --fill-color: #1967D2;\n",
              "      --hover-bg-color: #E2EBFA;\n",
              "      --hover-fill-color: #174EA6;\n",
              "      --disabled-fill-color: #AAA;\n",
              "      --disabled-bg-color: #DDD;\n",
              "  }\n",
              "\n",
              "  [theme=dark] .colab-df-quickchart {\n",
              "      --bg-color: #3B4455;\n",
              "      --fill-color: #D2E3FC;\n",
              "      --hover-bg-color: #434B5C;\n",
              "      --hover-fill-color: #FFFFFF;\n",
              "      --disabled-bg-color: #3B4455;\n",
              "      --disabled-fill-color: #666;\n",
              "  }\n",
              "\n",
              "  .colab-df-quickchart {\n",
              "    background-color: var(--bg-color);\n",
              "    border: none;\n",
              "    border-radius: 50%;\n",
              "    cursor: pointer;\n",
              "    display: none;\n",
              "    fill: var(--fill-color);\n",
              "    height: 32px;\n",
              "    padding: 0;\n",
              "    width: 32px;\n",
              "  }\n",
              "\n",
              "  .colab-df-quickchart:hover {\n",
              "    background-color: var(--hover-bg-color);\n",
              "    box-shadow: 0 1px 2px rgba(60, 64, 67, 0.3), 0 1px 3px 1px rgba(60, 64, 67, 0.15);\n",
              "    fill: var(--button-hover-fill-color);\n",
              "  }\n",
              "\n",
              "  .colab-df-quickchart-complete:disabled,\n",
              "  .colab-df-quickchart-complete:disabled:hover {\n",
              "    background-color: var(--disabled-bg-color);\n",
              "    fill: var(--disabled-fill-color);\n",
              "    box-shadow: none;\n",
              "  }\n",
              "\n",
              "  .colab-df-spinner {\n",
              "    border: 2px solid var(--fill-color);\n",
              "    border-color: transparent;\n",
              "    border-bottom-color: var(--fill-color);\n",
              "    animation:\n",
              "      spin 1s steps(1) infinite;\n",
              "  }\n",
              "\n",
              "  @keyframes spin {\n",
              "    0% {\n",
              "      border-color: transparent;\n",
              "      border-bottom-color: var(--fill-color);\n",
              "      border-left-color: var(--fill-color);\n",
              "    }\n",
              "    20% {\n",
              "      border-color: transparent;\n",
              "      border-left-color: var(--fill-color);\n",
              "      border-top-color: var(--fill-color);\n",
              "    }\n",
              "    30% {\n",
              "      border-color: transparent;\n",
              "      border-left-color: var(--fill-color);\n",
              "      border-top-color: var(--fill-color);\n",
              "      border-right-color: var(--fill-color);\n",
              "    }\n",
              "    40% {\n",
              "      border-color: transparent;\n",
              "      border-right-color: var(--fill-color);\n",
              "      border-top-color: var(--fill-color);\n",
              "    }\n",
              "    60% {\n",
              "      border-color: transparent;\n",
              "      border-right-color: var(--fill-color);\n",
              "    }\n",
              "    80% {\n",
              "      border-color: transparent;\n",
              "      border-right-color: var(--fill-color);\n",
              "      border-bottom-color: var(--fill-color);\n",
              "    }\n",
              "    90% {\n",
              "      border-color: transparent;\n",
              "      border-bottom-color: var(--fill-color);\n",
              "    }\n",
              "  }\n",
              "</style>\n",
              "\n",
              "  <script>\n",
              "    async function quickchart(key) {\n",
              "      const quickchartButtonEl =\n",
              "        document.querySelector('#' + key + ' button');\n",
              "      quickchartButtonEl.disabled = true;  // To prevent multiple clicks.\n",
              "      quickchartButtonEl.classList.add('colab-df-spinner');\n",
              "      try {\n",
              "        const charts = await google.colab.kernel.invokeFunction(\n",
              "            'suggestCharts', [key], {});\n",
              "      } catch (error) {\n",
              "        console.error('Error during call to suggestCharts:', error);\n",
              "      }\n",
              "      quickchartButtonEl.classList.remove('colab-df-spinner');\n",
              "      quickchartButtonEl.classList.add('colab-df-quickchart-complete');\n",
              "    }\n",
              "    (() => {\n",
              "      let quickchartButtonEl =\n",
              "        document.querySelector('#df-9f9b6a4e-5773-4ca0-8a9a-c5ba38a02f70 button');\n",
              "      quickchartButtonEl.style.display =\n",
              "        google.colab.kernel.accessAllowed ? 'block' : 'none';\n",
              "    })();\n",
              "  </script>\n",
              "</div>\n",
              "\n",
              "    </div>\n",
              "  </div>\n"
            ],
            "application/vnd.google.colaboratory.intrinsic+json": {
              "type": "dataframe",
              "variable_name": "data",
              "summary": "{\n  \"name\": \"data\",\n  \"rows\": 1699,\n  \"fields\": [\n    {\n      \"column\": \"1\",\n      \"properties\": {\n        \"dtype\": \"number\",\n        \"std\": 0,\n        \"min\": 0,\n        \"max\": 1,\n        \"num_unique_values\": 2,\n        \"samples\": [\n          0,\n          1\n        ],\n        \"semantic_type\": \"\",\n        \"description\": \"\"\n      }\n    },\n    {\n      \"column\": \"GENERAL\",\n      \"properties\": {\n        \"dtype\": \"category\",\n        \"num_unique_values\": 4,\n        \"samples\": [\n          \"PROFANITY\",\n          \"FEEDBACK\"\n        ],\n        \"semantic_type\": \"\",\n        \"description\": \"\"\n      }\n    },\n    {\n      \"column\": \"\\u0936\\u094b\\u0937\\u0915\",\n      \"properties\": {\n        \"dtype\": \"string\",\n        \"num_unique_values\": 1341,\n        \"samples\": [\n          \"\\u0939\\u093f\\u0930\\u094d\\u0915\\u093e\\u0909\\u091b\",\n          \"\\u0938\\u093e\\u0932\\u093e \\u0927\\u094b\\u0924\\u0940 \\u0928\\u0930\\u092a\\u093f\\u091a\\u093e\\u0938\"\n        ],\n        \"semantic_type\": \"\",\n        \"description\": \"\"\n      }\n    },\n    {\n      \"column\": \"\\u092f\\u094b \\u092e\\u0941\\u091c\\u093f \\u092c\\u093e\\u0928\\u093f\\u092f\\u093e\\u0901 \\u0932\\u0947 \\u0915\\u0938\\u094d\\u0924\\u094b \\u0916\\u093e\\u0924\\u0947 \\u0915\\u0941\\u0930\\u093e \\u0917\\u0930\\u094d\\u0926\\u0948\\u091b \\u0915\\u0941\\u0932\\u092e\\u093e\\u0928 \\u0928\\u092d\\u090f \\u0915\\u094b \\u0906\\u091c \\u0928\\u0947\\u092a\\u093e\\u0932 \\u0909\\u091c\\u094d\\u092f\\u093e\\u0932\\u094b \\u0939\\u0941\\u0928\\u094d\\u0925\\u094d\\u092f\\u094b \\u0905\\u091d \\u0915\\u0941\\u0932\\u092e\\u093e\\u0928 \\u0915\\u094b \\u0915\\u092e\\u091c\\u094b\\u0930\\u0940 \\u0926\\u0947\\u0916\\u093e\\u0909\\u091b \\u092f\\u093f\\u0928\\u0940 2 \\u0924 \\u0936\\u094b\\u0937\\u0915 \\u0939\\u0941\\u0928 \\u0964\",\n      \"properties\": {\n        \"dtype\": \"string\",\n        \"num_unique_values\": 1409,\n        \"samples\": [\n          \"\\u0905\\u0938\\u0932\\u0940 \\u0939\\u093f\\u0930\\u094b \\u092d\\u0928\\u0947 \\u0915\\u0948 \\u0930\\u092c\\u093f \\u0939\\u0941\\u0928\\u094d\\u0928 \\u092d\\u0928\\u094d\\u0928\\u0947 \\u091c\\u0924\\u093f \\u0939\\u093e\\u091c\\u093f\\u0930 \\u0917\\u0930\\u0941\\u0924 \\u0939\\u091c\\u0941\\u0930 \\u0964\",\n          \"\\u091c\\u0938\\u094d \\u0915\\u094b \\u0915\\u0941\\u0930\\u094b \\u0938\\u094d\\u092a\\u0937\\u094d\\u091f \\u092c\\u0941\\u091d\\u093f\\u0928\\u094d\\u0925\\u094d\\u092f\\u094b \\u0909\\u0938\\u093e\\u0907 \\u0932\\u093e\\u0908 \\u0938\\u093f\\u0926\\u094d\\u0927\\u094d\\u092f\\u093e\\u0907 \\u0926\\u093f\\u092f\\u0947\\u0909 \\u0905\\u092c \\u0915\\u0947 \\u092c\\u0941\\u091d\\u094d\\u0928\\u0947 ?\"\n        ],\n        \"semantic_type\": \"\",\n        \"description\": \"\"\n      }\n    }\n  ]\n}"
            }
          },
          "metadata": {},
          "execution_count": 42
        }
      ]
    },
    {
      "cell_type": "code",
      "source": [
        "column_name = ['label','catagory','flags','text']\n",
        "data = pd.read_csv('/content/ss_ac_at_txt_bal.csv', names = column_name)"
      ],
      "metadata": {
        "id": "J8JINp-9liNl"
      },
      "execution_count": null,
      "outputs": []
    },
    {
      "cell_type": "code",
      "source": [
        "data.isnull().sum()"
      ],
      "metadata": {
        "colab": {
          "base_uri": "https://localhost:8080/"
        },
        "id": "bo5epR0olsrb",
        "outputId": "6d3c0cac-b154-4717-8196-af9d5e283346"
      },
      "execution_count": null,
      "outputs": [
        {
          "output_type": "execute_result",
          "data": {
            "text/plain": [
              "label       0\n",
              "catagory    0\n",
              "flags       0\n",
              "text        0\n",
              "dtype: int64"
            ]
          },
          "metadata": {},
          "execution_count": 44
        }
      ]
    },
    {
      "cell_type": "code",
      "source": [
        "data.head()"
      ],
      "metadata": {
        "id": "cvtQil07lvLo",
        "colab": {
          "base_uri": "https://localhost:8080/",
          "height": 276
        },
        "outputId": "7cc84561-96b3-489a-cde8-bb0d69aac337"
      },
      "execution_count": null,
      "outputs": [
        {
          "output_type": "execute_result",
          "data": {
            "text/plain": [
              "   label catagory                           flags  \\\n",
              "0      1  GENERAL                            शोषक   \n",
              "1      1  GENERAL                      उल्लु बनाए   \n",
              "2      1  GENERAL  न पहिला ठिक थियो न अहिले ठिक छ   \n",
              "3      1  GENERAL                             चोर   \n",
              "4      1  GENERAL                            हरास   \n",
              "\n",
              "                                                                                                                               text  \n",
              "0  यो मुजि बानियाँ ले कस्तो खाते कुरा गर्दैछ कुलमान नभए को आज नेपाल उज्यालो हुन्थ्यो अझ कुलमान को कमजोरी देखाउछ यिनी 2 त शोषक हुन ।  \n",
              "1                 सबै भन्दा ठुलो सरकार ले नै सबै लाई उल्लु बनाए को छ बाँकी पैसा त खान्छन नै यो अहिले को सरकार तुरुन्त धाल्नु पर्छ ।  \n",
              "2                                                                 यो पुलिस न पहिला ठिक थियो न अहिले ठिक छ यस्तो लाई बोलाउनु हुदैन ?  \n",
              "3                        यिनी चोर हरु ले जनता लाई अन्धकार मा रखेर आफ्नो धुनु सुधारने कुकुर हरु हुन कुलमन सार ले गरे को ठिक काम हो ।  \n",
              "4                                                                                           सहि कुरा के पि को अस्तित्व हरास हुदैछ !  "
            ],
            "text/html": [
              "\n",
              "  <div id=\"df-d8d4d272-6a62-4a89-aafc-ec3668770fe6\" class=\"colab-df-container\">\n",
              "    <div>\n",
              "<style scoped>\n",
              "    .dataframe tbody tr th:only-of-type {\n",
              "        vertical-align: middle;\n",
              "    }\n",
              "\n",
              "    .dataframe tbody tr th {\n",
              "        vertical-align: top;\n",
              "    }\n",
              "\n",
              "    .dataframe thead th {\n",
              "        text-align: right;\n",
              "    }\n",
              "</style>\n",
              "<table border=\"1\" class=\"dataframe\">\n",
              "  <thead>\n",
              "    <tr style=\"text-align: right;\">\n",
              "      <th></th>\n",
              "      <th>label</th>\n",
              "      <th>catagory</th>\n",
              "      <th>flags</th>\n",
              "      <th>text</th>\n",
              "    </tr>\n",
              "  </thead>\n",
              "  <tbody>\n",
              "    <tr>\n",
              "      <th>0</th>\n",
              "      <td>1</td>\n",
              "      <td>GENERAL</td>\n",
              "      <td>शोषक</td>\n",
              "      <td>यो मुजि बानियाँ ले कस्तो खाते कुरा गर्दैछ कुलमान नभए को आज नेपाल उज्यालो हुन्थ्यो अझ कुलमान को कमजोरी देखाउछ यिनी 2 त शोषक हुन ।</td>\n",
              "    </tr>\n",
              "    <tr>\n",
              "      <th>1</th>\n",
              "      <td>1</td>\n",
              "      <td>GENERAL</td>\n",
              "      <td>उल्लु बनाए</td>\n",
              "      <td>सबै भन्दा ठुलो सरकार ले नै सबै लाई उल्लु बनाए को छ बाँकी पैसा त खान्छन नै यो अहिले को सरकार तुरुन्त धाल्नु पर्छ ।</td>\n",
              "    </tr>\n",
              "    <tr>\n",
              "      <th>2</th>\n",
              "      <td>1</td>\n",
              "      <td>GENERAL</td>\n",
              "      <td>न पहिला ठिक थियो न अहिले ठिक छ</td>\n",
              "      <td>यो पुलिस न पहिला ठिक थियो न अहिले ठिक छ यस्तो लाई बोलाउनु हुदैन ?</td>\n",
              "    </tr>\n",
              "    <tr>\n",
              "      <th>3</th>\n",
              "      <td>1</td>\n",
              "      <td>GENERAL</td>\n",
              "      <td>चोर</td>\n",
              "      <td>यिनी चोर हरु ले जनता लाई अन्धकार मा रखेर आफ्नो धुनु सुधारने कुकुर हरु हुन कुलमन सार ले गरे को ठिक काम हो ।</td>\n",
              "    </tr>\n",
              "    <tr>\n",
              "      <th>4</th>\n",
              "      <td>1</td>\n",
              "      <td>GENERAL</td>\n",
              "      <td>हरास</td>\n",
              "      <td>सहि कुरा के पि को अस्तित्व हरास हुदैछ !</td>\n",
              "    </tr>\n",
              "  </tbody>\n",
              "</table>\n",
              "</div>\n",
              "    <div class=\"colab-df-buttons\">\n",
              "\n",
              "  <div class=\"colab-df-container\">\n",
              "    <button class=\"colab-df-convert\" onclick=\"convertToInteractive('df-d8d4d272-6a62-4a89-aafc-ec3668770fe6')\"\n",
              "            title=\"Convert this dataframe to an interactive table.\"\n",
              "            style=\"display:none;\">\n",
              "\n",
              "  <svg xmlns=\"http://www.w3.org/2000/svg\" height=\"24px\" viewBox=\"0 -960 960 960\">\n",
              "    <path d=\"M120-120v-720h720v720H120Zm60-500h600v-160H180v160Zm220 220h160v-160H400v160Zm0 220h160v-160H400v160ZM180-400h160v-160H180v160Zm440 0h160v-160H620v160ZM180-180h160v-160H180v160Zm440 0h160v-160H620v160Z\"/>\n",
              "  </svg>\n",
              "    </button>\n",
              "\n",
              "  <style>\n",
              "    .colab-df-container {\n",
              "      display:flex;\n",
              "      gap: 12px;\n",
              "    }\n",
              "\n",
              "    .colab-df-convert {\n",
              "      background-color: #E8F0FE;\n",
              "      border: none;\n",
              "      border-radius: 50%;\n",
              "      cursor: pointer;\n",
              "      display: none;\n",
              "      fill: #1967D2;\n",
              "      height: 32px;\n",
              "      padding: 0 0 0 0;\n",
              "      width: 32px;\n",
              "    }\n",
              "\n",
              "    .colab-df-convert:hover {\n",
              "      background-color: #E2EBFA;\n",
              "      box-shadow: 0px 1px 2px rgba(60, 64, 67, 0.3), 0px 1px 3px 1px rgba(60, 64, 67, 0.15);\n",
              "      fill: #174EA6;\n",
              "    }\n",
              "\n",
              "    .colab-df-buttons div {\n",
              "      margin-bottom: 4px;\n",
              "    }\n",
              "\n",
              "    [theme=dark] .colab-df-convert {\n",
              "      background-color: #3B4455;\n",
              "      fill: #D2E3FC;\n",
              "    }\n",
              "\n",
              "    [theme=dark] .colab-df-convert:hover {\n",
              "      background-color: #434B5C;\n",
              "      box-shadow: 0px 1px 3px 1px rgba(0, 0, 0, 0.15);\n",
              "      filter: drop-shadow(0px 1px 2px rgba(0, 0, 0, 0.3));\n",
              "      fill: #FFFFFF;\n",
              "    }\n",
              "  </style>\n",
              "\n",
              "    <script>\n",
              "      const buttonEl =\n",
              "        document.querySelector('#df-d8d4d272-6a62-4a89-aafc-ec3668770fe6 button.colab-df-convert');\n",
              "      buttonEl.style.display =\n",
              "        google.colab.kernel.accessAllowed ? 'block' : 'none';\n",
              "\n",
              "      async function convertToInteractive(key) {\n",
              "        const element = document.querySelector('#df-d8d4d272-6a62-4a89-aafc-ec3668770fe6');\n",
              "        const dataTable =\n",
              "          await google.colab.kernel.invokeFunction('convertToInteractive',\n",
              "                                                    [key], {});\n",
              "        if (!dataTable) return;\n",
              "\n",
              "        const docLinkHtml = 'Like what you see? Visit the ' +\n",
              "          '<a target=\"_blank\" href=https://colab.research.google.com/notebooks/data_table.ipynb>data table notebook</a>'\n",
              "          + ' to learn more about interactive tables.';\n",
              "        element.innerHTML = '';\n",
              "        dataTable['output_type'] = 'display_data';\n",
              "        await google.colab.output.renderOutput(dataTable, element);\n",
              "        const docLink = document.createElement('div');\n",
              "        docLink.innerHTML = docLinkHtml;\n",
              "        element.appendChild(docLink);\n",
              "      }\n",
              "    </script>\n",
              "  </div>\n",
              "\n",
              "\n",
              "<div id=\"df-5452060e-a254-430b-bd79-65007e1bdbb7\">\n",
              "  <button class=\"colab-df-quickchart\" onclick=\"quickchart('df-5452060e-a254-430b-bd79-65007e1bdbb7')\"\n",
              "            title=\"Suggest charts\"\n",
              "            style=\"display:none;\">\n",
              "\n",
              "<svg xmlns=\"http://www.w3.org/2000/svg\" height=\"24px\"viewBox=\"0 0 24 24\"\n",
              "     width=\"24px\">\n",
              "    <g>\n",
              "        <path d=\"M19 3H5c-1.1 0-2 .9-2 2v14c0 1.1.9 2 2 2h14c1.1 0 2-.9 2-2V5c0-1.1-.9-2-2-2zM9 17H7v-7h2v7zm4 0h-2V7h2v10zm4 0h-2v-4h2v4z\"/>\n",
              "    </g>\n",
              "</svg>\n",
              "  </button>\n",
              "\n",
              "<style>\n",
              "  .colab-df-quickchart {\n",
              "      --bg-color: #E8F0FE;\n",
              "      --fill-color: #1967D2;\n",
              "      --hover-bg-color: #E2EBFA;\n",
              "      --hover-fill-color: #174EA6;\n",
              "      --disabled-fill-color: #AAA;\n",
              "      --disabled-bg-color: #DDD;\n",
              "  }\n",
              "\n",
              "  [theme=dark] .colab-df-quickchart {\n",
              "      --bg-color: #3B4455;\n",
              "      --fill-color: #D2E3FC;\n",
              "      --hover-bg-color: #434B5C;\n",
              "      --hover-fill-color: #FFFFFF;\n",
              "      --disabled-bg-color: #3B4455;\n",
              "      --disabled-fill-color: #666;\n",
              "  }\n",
              "\n",
              "  .colab-df-quickchart {\n",
              "    background-color: var(--bg-color);\n",
              "    border: none;\n",
              "    border-radius: 50%;\n",
              "    cursor: pointer;\n",
              "    display: none;\n",
              "    fill: var(--fill-color);\n",
              "    height: 32px;\n",
              "    padding: 0;\n",
              "    width: 32px;\n",
              "  }\n",
              "\n",
              "  .colab-df-quickchart:hover {\n",
              "    background-color: var(--hover-bg-color);\n",
              "    box-shadow: 0 1px 2px rgba(60, 64, 67, 0.3), 0 1px 3px 1px rgba(60, 64, 67, 0.15);\n",
              "    fill: var(--button-hover-fill-color);\n",
              "  }\n",
              "\n",
              "  .colab-df-quickchart-complete:disabled,\n",
              "  .colab-df-quickchart-complete:disabled:hover {\n",
              "    background-color: var(--disabled-bg-color);\n",
              "    fill: var(--disabled-fill-color);\n",
              "    box-shadow: none;\n",
              "  }\n",
              "\n",
              "  .colab-df-spinner {\n",
              "    border: 2px solid var(--fill-color);\n",
              "    border-color: transparent;\n",
              "    border-bottom-color: var(--fill-color);\n",
              "    animation:\n",
              "      spin 1s steps(1) infinite;\n",
              "  }\n",
              "\n",
              "  @keyframes spin {\n",
              "    0% {\n",
              "      border-color: transparent;\n",
              "      border-bottom-color: var(--fill-color);\n",
              "      border-left-color: var(--fill-color);\n",
              "    }\n",
              "    20% {\n",
              "      border-color: transparent;\n",
              "      border-left-color: var(--fill-color);\n",
              "      border-top-color: var(--fill-color);\n",
              "    }\n",
              "    30% {\n",
              "      border-color: transparent;\n",
              "      border-left-color: var(--fill-color);\n",
              "      border-top-color: var(--fill-color);\n",
              "      border-right-color: var(--fill-color);\n",
              "    }\n",
              "    40% {\n",
              "      border-color: transparent;\n",
              "      border-right-color: var(--fill-color);\n",
              "      border-top-color: var(--fill-color);\n",
              "    }\n",
              "    60% {\n",
              "      border-color: transparent;\n",
              "      border-right-color: var(--fill-color);\n",
              "    }\n",
              "    80% {\n",
              "      border-color: transparent;\n",
              "      border-right-color: var(--fill-color);\n",
              "      border-bottom-color: var(--fill-color);\n",
              "    }\n",
              "    90% {\n",
              "      border-color: transparent;\n",
              "      border-bottom-color: var(--fill-color);\n",
              "    }\n",
              "  }\n",
              "</style>\n",
              "\n",
              "  <script>\n",
              "    async function quickchart(key) {\n",
              "      const quickchartButtonEl =\n",
              "        document.querySelector('#' + key + ' button');\n",
              "      quickchartButtonEl.disabled = true;  // To prevent multiple clicks.\n",
              "      quickchartButtonEl.classList.add('colab-df-spinner');\n",
              "      try {\n",
              "        const charts = await google.colab.kernel.invokeFunction(\n",
              "            'suggestCharts', [key], {});\n",
              "      } catch (error) {\n",
              "        console.error('Error during call to suggestCharts:', error);\n",
              "      }\n",
              "      quickchartButtonEl.classList.remove('colab-df-spinner');\n",
              "      quickchartButtonEl.classList.add('colab-df-quickchart-complete');\n",
              "    }\n",
              "    (() => {\n",
              "      let quickchartButtonEl =\n",
              "        document.querySelector('#df-5452060e-a254-430b-bd79-65007e1bdbb7 button');\n",
              "      quickchartButtonEl.style.display =\n",
              "        google.colab.kernel.accessAllowed ? 'block' : 'none';\n",
              "    })();\n",
              "  </script>\n",
              "</div>\n",
              "\n",
              "    </div>\n",
              "  </div>\n"
            ],
            "application/vnd.google.colaboratory.intrinsic+json": {
              "type": "dataframe",
              "variable_name": "data",
              "summary": "{\n  \"name\": \"data\",\n  \"rows\": 1700,\n  \"fields\": [\n    {\n      \"column\": \"label\",\n      \"properties\": {\n        \"dtype\": \"number\",\n        \"std\": 0,\n        \"min\": 0,\n        \"max\": 1,\n        \"num_unique_values\": 2,\n        \"samples\": [\n          0,\n          1\n        ],\n        \"semantic_type\": \"\",\n        \"description\": \"\"\n      }\n    },\n    {\n      \"column\": \"catagory\",\n      \"properties\": {\n        \"dtype\": \"category\",\n        \"num_unique_values\": 4,\n        \"samples\": [\n          \"PROFANITY\",\n          \"FEEDBACK\"\n        ],\n        \"semantic_type\": \"\",\n        \"description\": \"\"\n      }\n    },\n    {\n      \"column\": \"flags\",\n      \"properties\": {\n        \"dtype\": \"string\",\n        \"num_unique_values\": 1342,\n        \"samples\": [\n          \"\\u091d\\u0941\\u0923\\u094d\\u0921\\u093e\\u090f\\u0930 \\u092e\\u0930\\u094d\\u0926\\u093e\",\n          \"\\u0938\\u093e\\u0932\\u093e \\u0927\\u094b\\u0924\\u093f\"\n        ],\n        \"semantic_type\": \"\",\n        \"description\": \"\"\n      }\n    },\n    {\n      \"column\": \"text\",\n      \"properties\": {\n        \"dtype\": \"string\",\n        \"num_unique_values\": 1409,\n        \"samples\": [\n          \"\\u0905\\u0938\\u0932\\u0940 \\u0939\\u093f\\u0930\\u094b \\u092d\\u0928\\u0947 \\u0915\\u0948 \\u0930\\u092c\\u093f \\u0939\\u0941\\u0928\\u094d\\u0928 \\u092d\\u0928\\u094d\\u0928\\u0947 \\u091c\\u0924\\u093f \\u0939\\u093e\\u091c\\u093f\\u0930 \\u0917\\u0930\\u0941\\u0924 \\u0939\\u091c\\u0941\\u0930 \\u0964\",\n          \"\\u091c\\u0938\\u094d \\u0915\\u094b \\u0915\\u0941\\u0930\\u094b \\u0938\\u094d\\u092a\\u0937\\u094d\\u091f \\u092c\\u0941\\u091d\\u093f\\u0928\\u094d\\u0925\\u094d\\u092f\\u094b \\u0909\\u0938\\u093e\\u0907 \\u0932\\u093e\\u0908 \\u0938\\u093f\\u0926\\u094d\\u0927\\u094d\\u092f\\u093e\\u0907 \\u0926\\u093f\\u092f\\u0947\\u0909 \\u0905\\u092c \\u0915\\u0947 \\u092c\\u0941\\u091d\\u094d\\u0928\\u0947 ?\"\n        ],\n        \"semantic_type\": \"\",\n        \"description\": \"\"\n      }\n    }\n  ]\n}"
            }
          },
          "metadata": {},
          "execution_count": 45
        }
      ]
    },
    {
      "cell_type": "code",
      "source": [
        "data.to_csv('data.csv', index=False)\n",
        "data['label'].value_counts(normalize=True)"
      ],
      "metadata": {
        "colab": {
          "base_uri": "https://localhost:8080/"
        },
        "id": "ms52oHyGmSyP",
        "outputId": "83dc8995-e8a2-4ba2-cb4b-e8130ac813cc"
      },
      "execution_count": null,
      "outputs": [
        {
          "output_type": "execute_result",
          "data": {
            "text/plain": [
              "label\n",
              "0    0.599412\n",
              "1    0.400588\n",
              "Name: proportion, dtype: float64"
            ]
          },
          "metadata": {},
          "execution_count": 46
        }
      ]
    },
    {
      "cell_type": "code",
      "source": [
        "data['label'].value_counts().plot(kind='bar')"
      ],
      "metadata": {
        "colab": {
          "base_uri": "https://localhost:8080/",
          "height": 463
        },
        "id": "IrATtcMPndk0",
        "outputId": "854d23eb-6f70-465f-876d-07587738d114"
      },
      "execution_count": null,
      "outputs": [
        {
          "output_type": "execute_result",
          "data": {
            "text/plain": [
              "<Axes: xlabel='label'>"
            ]
          },
          "metadata": {},
          "execution_count": 47
        },
        {
          "output_type": "display_data",
          "data": {
            "text/plain": [
              "<Figure size 640x480 with 1 Axes>"
            ],
            "image/png": "[encoded data removed]"
          },
          "metadata": {}
        }
      ]
    },
    {
      "cell_type": "code",
      "source": [
        "data['text'] [24]"
      ],
      "metadata": {
        "id": "KtTtabvRogzK",
        "colab": {
          "base_uri": "https://localhost:8080/",
          "height": 36
        },
        "outputId": "c47f07f0-4a72-4293-cc87-90e7913737b7"
      },
      "execution_count": null,
      "outputs": [
        {
          "output_type": "execute_result",
          "data": {
            "text/plain": [
              "'के नाचे को हौ तेस्तो बरु फरिया उचालेर देखाइ देउ नेपाली यस्तो हुन्छ भनेर जाठी हो ।'"
            ],
            "application/vnd.google.colaboratory.intrinsic+json": {
              "type": "string"
            }
          },
          "metadata": {},
          "execution_count": 48
        }
      ]
    },
    {
      "cell_type": "code",
      "source": [
        "!pip install contractions"
      ],
      "metadata": {
        "colab": {
          "base_uri": "https://localhost:8080/"
        },
        "id": "TJ2xr8uvSrIP",
        "outputId": "df912aef-aeb8-433d-a7b2-cc3491c06162"
      },
      "execution_count": null,
      "outputs": [
        {
          "output_type": "stream",
          "name": "stdout",
          "text": [
            "Requirement already satisfied: contractions in /usr/local/lib/python3.10/dist-packages (0.1.73)\n",
            "Requirement already satisfied: textsearch>=0.0.21 in /usr/local/lib/python3.10/dist-packages (from contractions) (0.0.24)\n",
            "Requirement already satisfied: anyascii in /usr/local/lib/python3.10/dist-packages (from textsearch>=0.0.21->contractions) (0.3.2)\n",
            "Requirement already satisfied: pyahocorasick in /usr/local/lib/python3.10/dist-packages (from textsearch>=0.0.21->contractions) (2.1.0)\n"
          ]
        }
      ]
    },
    {
      "cell_type": "code",
      "source": [
        "import nltk\n",
        "from nltk.corpus import stopwords\n",
        "nltk.download('stopwords')\n",
        "nltk_stopwords = set(stopwords.words('nepali'))\n",
        "print (nltk_stopwords)"
      ],
      "metadata": {
        "colab": {
          "base_uri": "https://localhost:8080/"
        },
        "id": "flHiR7xi5M8z",
        "outputId": "3e4eb693-9478-426f-d13a-26654736ea68"
      },
      "execution_count": null,
      "outputs": [
        {
          "output_type": "stream",
          "name": "stdout",
          "text": [
            "{'आफू', 'ती', 'तपाई', 'त्यो', 'गरौं', 'यस', 'पक्का', 'पर्छ', 'कहिलेकाहीं', 'सबै', 'त', 'नि', 'यति', 'सायद', 'छौं', 'गरि', 'भएको', 'गर्छु', 'का', 'पहिल्यै', 'प्रतेक', 'निम्न', 'पहिले', 'चाले', 'नै', 'जस्तै', 'तत्काल', 'यी', 'चाहन्छु', 'कसरी', 'तुरुन्तै', 'हुन', 'हुन्छ', 'कि', 'तिनीहरू', 'बाहेक', 'पूर्व', 'आए', 'देखि', 'बारे', 'निम्ति', 'भन्नुभयो', 'गरेर', 'सक्छ', 'सम्भव', 'तापनी', 'अक्सर', 'चार', 'गयौ', 'रहेका', 'समय', 'प्रति', 'कसै', 'उदाहरण', 'तल', 'अर्थात्', 'उप', 'यथोचित', 'जस्तोसुकै', 'मलाई', 'हुने', 'अर्को', 'रहेको', 'गरी', 'तिनिहरुलाई', 'बीच', 'यस्तो', 'जान', 'फेरी', 'अन्यथा', 'जो', 'निर्दिष्ट', 'तिनी', 'पनि', 'अलग', 'के', 'जुन', 'सम्म', 'पाँच', 'तर', 'अगाडी', 'सबैलाई', 'पक्कै', 'छैन', 'लाई', 'थिए', 'दुई', 'लागि', 'जसको', 'बने', 'पाँचौं', 'कतै', 'उनको', 'निम्नानुसार', 'अरुलाई', 'दिए', 'भन्ने', 'यहाँ', 'बिशेष', 'भन', 'किनभने', 'माथि', 'गरेको', 'मेरो', 'पर्थ्यो', 'किन', 'ठीक', 'छ', 'भने', 'हरे', 'ओठ', 'भए', 'आयो', 'तदनुसार', 'तिमी', 'या', 'साथ', 'गर्नुपर्छ', 'यदि', 'सट्टा', 'अब', 'जहाँ', 'तीन', 'धेरै', 'तिनीहरुको', 'जे', 'जताततै', 'गर्दै', 'त्सपछि', 'बीचमा', 'सात', 'भित्री', 'अन्यत्र', 'सारा', 'राम्रो', 'साथै', 'हरेक', 'सो', 'जबकि', 'त्सैले', 'पछिल्लो', 'यसरी', 'थिएन', 'जसमा', 'तथा', 'भित्र', 'र', 'हो', 'कुरा', 'आफ्नो', 'देखे', 'छु', 'भन्', 'कोही', 'गर्नु', 'कहाँबाट', 'बिरुद्ध', 'को', 'कम से कम', 'यसबाहेक', 'पटक', 'मा', 'अरु', 'बरु', 'पर्याप्त', 'ले', 'नजिकै', 'आजको', 'कृपया', 'छन्', 'जस्तो', 'यहाँसम्म', 'नयाँ', 'सोही', 'औं', 'आत्म', 'म', 'नौ', 'क्रमशः', 'एउटै', 'चाहिए', 'अन्तर्गत', 'एकदम', 'छू', 'मुख्य', 'राखे', 'केही', 'रूप', 'गर्ने', 'त्यहाँ', 'गए', 'आफ्नै', 'वास्तवमा', 'एक', 'हुन्', 'तेस्कारण', 'तेस्रो', 'यसपछि', 'पहिलो', 'दिनुभएको', 'सधै', 'मात्र', 'गर्छ', 'जाहिर', 'देखेर', 'सही', 'भन्छु', 'नत्र', 'थियो', 'देखेको', 'कसैले', 'गरेका', 'संग', 'लगभग', 'शायद', 'अर्थात', 'अन्य', 'यद्यपि', 'राख्छ', 'प्लस', 'आदि', 'संगै', 'कुनै', 'चाहनुहुन्छ', 'तिर', 'साँच्चै', 'आफूलाई', 'स्पष्ट', 'जसले', 'जसलाई', 'वरीपरी', 'दोस्रो', 'न', 'बाहिर', 'उहालाई', 'यसो', 'जब', 'रही', 'तपाईको', 'भन्छन्', 'दिनुहुन्छ', 'यो', 'पछि', 'यसको', 'गर्न', 'देखिन्छ', 'भन्दा', 'भर', 'जसबाट', 'उनले', 'देखियो', 'गैर', 'अनुसार', 'अझै'}\n"
          ]
        },
        {
          "output_type": "stream",
          "name": "stderr",
          "text": [
            "[nltk_data] Downloading package stopwords to /root/nltk_data...\n",
            "[nltk_data]   Package stopwords is already up-to-date!\n"
          ]
        }
      ]
    },
    {
      "cell_type": "code",
      "source": [
        "import nltk\n",
        "from nltk.corpus import stopwords\n",
        "nltk.download('stopwords')\n",
        "nltk_stopwords = set(stopwords.words('nepali'))\n",
        "\n",
        "nepali_stopwords = nltk_stopwords\n",
        "\n",
        "# Text Normalization: Stemming or Lemmatization (prefer)\n",
        "from nltk.stem import WordNetLemmatizer\n",
        "lemmatizer = WordNetLemmatizer()\n",
        "\n",
        "import contractions"
      ],
      "metadata": {
        "colab": {
          "base_uri": "https://localhost:8080/"
        },
        "id": "tAsJQ_z1TN69",
        "outputId": "8fd376b3-1861-453a-b467-145b55fcf10d"
      },
      "execution_count": null,
      "outputs": [
        {
          "output_type": "stream",
          "name": "stderr",
          "text": [
            "[nltk_data] Downloading package stopwords to /root/nltk_data...\n",
            "[nltk_data]   Package stopwords is already up-to-date!\n"
          ]
        }
      ]
    },
    {
      "cell_type": "code",
      "source": [
        "import re\n",
        "import nltk\n",
        "from nltk.corpus import stopwords\n",
        "\n",
        "nltk.download('stopwords')\n",
        "\n",
        "# Load Nepali stopwords from NLTK\n",
        "nepali_stopwords = set(stopwords.words('nepali'))\n",
        "\n",
        "def text_cleaner_without_stopwords(text):\n",
        "    # Remove punctuation, symbols, and numbers\n",
        "    clean_text = re.sub(r'[^\\u0900-\\u097F]', ' ', text)\n",
        "    # Tokenize the text\n",
        "    tokens = clean_text.split()\n",
        "    # Remove stopwords\n",
        "    cleaned_tokens = [token for token in tokens if token.lower() not in nepali_stopwords or token in ['राम्रो','शोषक','उल्लु बनाए ','न पहिला ठिक थियो न अहिले ठिक छ ','चोर ','हरास ','कुरा सही हाे ','प्याक हुन्छ ','अाफु लाई देउता सम्झेकाे ','थुक्क कुकुर नालाएक ','चोर ','जाठी ','जरो आउदै छ ','लापरवाही ','झोले ','मुला ','लुट ','लाज पचे को नालायेक ','चोरी मुद्दा हाल्नु पर्छ ','हस्तक्षेप गरिरहे का ','गरेकोे थिएन ','सलाम ','बदनाम हुदैछ ','लाजपचाएर ','भ्रष्ट ','जाठी ','श्रद्धावान ','मन्त्री होस् ','सातोजानेभो ','चाक ','चाकरी ','भ्रम मा पर्यो होला ','भस्टचारि ','राम्रो सोच ','शतप्रतिशत सहि ','दलाल भ्रष्टाचारि घुस्याहा ','नमन ','दलाल चोर ','I am with ','जन्तु ','पद्च्युत ','झुट कुरा ','घिन लाग्नथाल्यो ','तालु ','शक्ति मिलोस् ','जालि हरु , फटाहाहरु ','इज्जत को लिलामी ','ठिक छ ','झन्डे ','झुट न बोल ','साही लगियो ','मज्जा लाग्छ ','बाधेर घासहाल्नु पर्ने ','सलाम ','फतफताय ','कस्तो कुरा ','देस बचाउ ','झोले ','मगन्ते ','गधा ','रक्षा गरून् ','हासेर प्रस्तुत ','दलाल ','सही बोले ','नियत ','आत्याचार ','बिचार पनि माहान ','बोधनै गर्दैन ','ठिक गर्नु ','जय ','भगवान ','असल इमानदार ब्यक्ति ','दासै आ को जस्तो ','बेचेर खान्छन् ','with you ','कहाँ बाट काह ','स्पस्टिकरण छैन ','लुट्न लाइसन्स पाए का ','हल्का र गलत ','अाशा काे दियाे ','गर्व ले छाती फुल्छ ','हनुमान ','झुट बोल्छ ','भतुवा झोले ','भ्रष्टाचार ','गधा ','गोरु ','नाथे ','तुक छैन ','माफीया , दलाल , भ्रस्टाचारी , लुटेरा ','लुटने काम ','जय होस ','भुत ','खाते साला ','चोर ','झोले ','कुरो त सहि ','राम्रो काम ','गल्ती धाकछोप ','गफडि ','घुस खोर ','सहिछ ','अपराधी ','चोर ','कालो कर्तुत ','सम्पुर्णरुप मा साथ सहयोग रहनेछ ','काम छैन ','राजनितिक संरक्षण ','खुशी ','मन परेन ','राष्ट्र का सपुत ','राम्रो विचार स्पष्ट वक्ता ','मुला ','लुटे को रहेछ ','Well come ','कारवाही होस ','छबि धमिल्याउने ','किरा परेर झरि जा वस ','झुट बोल्ने ','भ्रम क छर्ने ','राम्रो बिचार ','पतान भको ','डेङ्गो भन्दा पनि कडा ','ढाड भाँच्चिने गरि ','पोजेटिभ कुरा ','हाम्रो आवाज ','पित , झाेले ','हावा ','पूर्वाग्रहि ','हडपेकाे छ ','जिन्दावाद ','फ्यान ','खतरनाक ','हटाउनु पर्छ ','असहिष्णु ','योग्य होइनन् ','भंडुवा ','प्रधानमन्त्री बनाउनै पर्छ ','अरिङ्गाल ','सही कुरा गर्नु ','अरिगाल् ','खाचो छ ','दालाल ','भ्रष्टाचारी ','बोकोहराम उखाने ','दाजु नमस्कार ','डाका ज्यान मारा ','झोलेझाम्टे ','सल्युट ','दलाल ','पागल ','मातिन थाले ','लाज लाग्छ ','लालबुझकट ','सहि गर्नु ','खारेज गर्नु पर्छ ','साथ ','वा वा ','जनता को माग ','Big salute ','राम्रो ','अविवेकी ','सिमा कटाउनु पर्छ ','माननीय ','माहान हुनु हुन्छ ','गिन्लादो ','ल्याउनु पर्यो ','पद्खोर ','ठिस ','सहि जबाफ ','हावा बोल्ने सैलिइ ','स्याल ','चोर ','सहि छन ','सिकायर लगेकाे रहेछ ','बिसयान्तर ','भ्रष्ट ','झोले कुलंगार ढुपौरे ','जन्तु ','समर्थक ','अरिङ्गाल ','डराउछ ','घट्ना दोहोर्याउन ','भ्रष्ट गोरु ','दलाल ','सिकाएछ ','राम्रो सङ स्वागत गरेन ','भ्रष्टाचारी ','जाएज ','धन्यबाद ','राजा ','अलिक भयन ','hero ','जंगली ','फाँसी ','फ्यान ','हेर्नै नहुने ','भ्रष्ट ','खातिनी ','सपूत ','युग पुरुष ','प्रपञ्च ','दहिचिउरे कुरा ','जिन्दाबाद ','पिचास ','not specific in his words ','भस्ट्चार ','तातो न छारो ','डाका ','गरिव बनिरहे का ','जड्या ','दुख बुझ्ने गरिव दुखि को आँसु पुच्छिने ','सलाम ','खारेज हुनु पर्छ ','थुक्क नलायक पशु ','सोमत नभा को ','धमिरा किरा ','देखिए को छैन ','दिमाख तातियो ','खाते कुरा ','मुर्दार ','आँखा लागि सक्यो ','भ्रष्टाचारि ','hats off , सल्युट यु सर ','भ्रष्टाचार बिरोधि अभियन्ता ','गधा ','दलाल ','पेन्टी पेन्टी घाँटी मा झुन्डएर ','हप्काउने ','सहमत ','सुन्न नसक्ने ','हिरो ','चोर ','गुठि कर्म मर्म के थाहा ','सहि हो ','न्याय मिलोस् ','नालाएक भ्रष्टाचार ','मन मा शान्ति ','बलात्कारि ','हाल्ने छौ ','उत्तम छ ','साचो बोल्दैनन ','आवश्यकता छ ','के गर्यौ ','हिसा ','सुधार्नु भएछ ','राम्रो सोच ','खुशी लागियो ','लिखे ','झोले ','कता जानू भएछ ','सहि हुनुहुन्छ ','चोर ','corrupted ','बधाई छ ','घमन्ड ','नरपशु ','साथ छ ','समर्थन गरिन्न ','LOVE YOU ','तलुवा चाटेर झुट कुरा गर्छ ','फेन ','डुङ्गडुङ ','च्याउ सरी चले ','खाते ','भ्रष्ट ','गोबर गणेश ','देख्न पाइयोस ','कुकुर ','जिम्मेवेरी र मर्यादा नबुझेपछी ','नरम र सम्मानित ','फाँसी दीनु पर्छ ','समर्थन ','कायर ','स-सम्मान ','खाेक्राे पार्याे ','100 प्रतिशत सही ','मौलाउने छ ','माननीय जि ','जिब्रो नचपाइ प्रष्ट निस्वार्थभाव ','कति राम्रो ','गलत छ ','फसाउने योजना बनाउँदै होला ','चोर दलाल ठग ','मुर्दावाद ','ठिक हुदैन ','नकारात्मक सन्देश ','आगो बलेर आउँछ ','भ्रस्टाचारी ','जोगी बनेर हिड ','जिन्दावाद ','राम्रो योजाना ','मानवअधिकार बादी चाेर ','मुत खाको चोर ','फटाई ','सिन्का भाच्दैन ','चर्को बोलेर ','खारिज गर्नु पर्छ ','जलि रा को होला ','साथ दिनेछन ','आउनु पर्छ ','झुट बाेल्दै छ ','झोले ','तेरि मा ताेरि ','लम्पट स्वार्थी भ्रष्ट ','पूर्वाग्रही ','ज्ये ','अरिङ्गाल ','सजिलो छैन ','सलुट ','बेकार ','झोले मुदाबाद ','पुछर ','थु ','माहाभ्रष्ट को कुतर्क ','धर्ति की बोझ ','कुरा ठिक ','अाफनता लाई जागिर खुवाउने मात्रै ','दमदार कार्यक्रम ','Heartly welcome ','दलाल ','खाते ','भेडे ','सलाम ','राम्रो लाग्यो ','सरकार को आशीर्वाद ','जन्तु ','चोर ','झोले ','गुमाउनु पर्ने थियन ','के हो ','मुला ','सालीन व्यक्तित्त्व आदरणीय ','पापि ','देशै स्वाहा पार्छन ','खुसी भो मन सलाम ','सहि कुराे ','घमण्डि रैछ ','पैसा मा किने ','भ्रस्टाचार ','देश निकाला गर्नु पर्छ ','भ्रष्टाचारि ','भ्रस्टाचारी ','उत्कृष्ट ','चोर ','झोले ','काम छैन ','चोर ','चोर हो ','भ्रष्ट ','भोसोडी ','चुतिया ','भुक्ने मात्र ','खतम भै सके को ','मागेकाे नेता ','थुक्क कुकुर्नी ','कुपुत्र ','चोर ','झोले कुकुर ','राम्रो कुरा ','भ्रष्ट ','झोले ','दैब ले लगे को ','भु माफिया को चाल ','काम छैन ','साथ छौ ','हिरो ','कसै बात संचालित ','सलाम ','प्याक हान्दै होला ','अन्धभक्ता भेडा ','सोज विचार ','असम्भब केही छैन ','सलाम ','सुपर ','ठीक ','जब्बर ','रगत उम्लेर आयो ','सही लाग्य ','Hero of our nation ','गाेबर कुरा ','फता ','दलाल ','भ्रस्टाचारि को मतियार् ','साले कुकुर ','बधाइ छ ','झुसे लुटेरा भ्रष्टाचारी नस्लबादी झुसे ','मजा आयो ','Legend ','भुक्ने कुकुर ','धन्यवाद राम्रो प्रश्न ','लदाउने खेल हुदैछ ','हिरो ','सपूत ','ठिक गर्नु ','राम्रो काम गर्ने ','कारबाही हुनु पर्छ ','दोशी भेडा ','महत्त्व पुर्ण छ ','कुपुत्र ','कम ','कोपि गरेछ ','पाप ','भिलेन जस्तो ','दोसिलाइ सम्मरज्ञक ','फसाउन ','झोले ','धोती ','शाहासिक ','थुक्क ','खाते ','मुजि ','भ्रस्ट ','डर छ ','ठग ','सादा जिबन अनी उच्च छ ','जन्मिनु पर्छ ','गद्दार ','आवश्यकता ','ठिक छन ','खुसि को दिन ','झारपाते ','कुकुर ','दिन नसक्ने ','लगार्ने नियात ','भ्रष्ट दलाली अनि माफिया राष्ट्रघाती ','लुट्तन्त्र ','रिहाइ गरियोस ','खत्रा ','सहि निडर निर्भीक ','आश ','निर्दोष छन् ','मुख मा राम राम हात मा छुरा ','लखेटे हुन्छ ','अपराधीक गुन्डाराज ','भिजिलान्ते ','कारबाही ','पोखिन्छ ','घुस्खोरी ','मुर्दावाद ','हिराे ','होरो ','विद्वान ','जय ','झोले ','भतुवा ','जिन्दाबाद ','सम्मान भयेन ','बाँदर को बथान कराए को जस्तै ','धाक ','हार्दिक नमन ','चमचे ','राम्रो छ ','हिरो ','सहि कुरो ','राम्रो मान्छे ','भतुवा ','गधा ','ढुकढुकि ','ठिक छ ','दशै आयो जस्तो ','फसायर देखा ','झोले ','कुत्ता ','भर्स्तचारि ','सलाम ','गैरजिम्मेदार चोर ','कालोमोसो लगाएर भगउनु पर्छ ','मरे को स्याल ','सहि छ ','बधाई छ ','भरोसा र बिस्वास ','फसाउने खेल ','धम्की ','खाते ','काम छैन ','भ्रष्ट ','सहि ','माया लाग्यो ','अाशिर्बाद ','good ','बेची खाने नियत ','ठिक भन्नुभयो ','सोझो ','धन्येबाद ','पैसा र पद को माया ','अगाडि बढिरहुन् ','सलाम ','ozone layer ','हो यो होनि ','भष्ट ','झुट बाेल्छ ','गर्व ','बिनाबाउ का केटाकेटी ','झुठो ','कडा कार्वाही होस ','कार्बाही को गर्नुपर्छ ','चुतिया साला झोले ','चोर लुटेरा खाते ','mula ','झोले ','साला नाके बाहुन ','चोर ','पाखन्डी ','चोर ','खाते ','चाेरै चाेर ','चोरै चोर ','नालायक चोर ','चोर ','अपराधी डाँका ','चोर ','चोर र फटाहा ','चोर ','चोर ','मुतेर सुकाईदीए हुन्छ ','चोर ','चोर ','चोर ','फटाहा चोर ','चोर ','चोर ','पाजी ','माचिस ','राणि को वान ','मुला ','खाते दलाल ','नकचरा ','साला रारिका बान चोर ','खाते ','खाते ','साला ','साले खाते ','स्साला भ्रष्ट ','साले दहिचिउरे कुत्ता ','जाँठा डाका ','खाते मुजि ','जाँठा ','कुकुर ','साला कुत्ता थग ','साला कुत्ता ','कुत्ता ','मुजि ','मुजि ','साले खाते ','खाते ','डाका ','राडी को बान ','मुजि ','हुडार ','मुजि ','मूजि ','हिजडा ','कुकुर ','लुटेरा ','साले कुत्ता ','देश लुटने चोर ','मुजी खाते ','चिक्ने ','साले ','साला कुत्ता ','साला ','साला दलाल ','साला ','साले ','दलाल चिक्ने ','राडि को छोरा ','चुतिया ','माचिक्ने रन्डि का बान ','बेइमानी गधा ','मुजी ','रन्डि ','रन्डी ','छक्का ','रन्डी ','साला ','कुकुरनी ','चुतिया ','रन्डि ','राणी ','रन्डी भालु छ्क्का ','कुकुरनि ','जाठो ','जन्तु ','भालु ','रन्डि ','ककुरनि ','कुकुरनी ','भालुनी ','भलु ','छक्का ','कुकुरनी ','हीजडा ','रन्दी ','ब्यस्या ','हिजडा ','साला कुकुर्नी ','छक्क ','हिजडा रनडि ','छक्का ','हिजडा ','छक्का ','साला ','भुस्याहा कुकुर ','साला कुकुर ','खाते ','साला ','रंडि को छोरो ','माचिक्ने ','कुकुर ','चोर ','साला झनडु ','चुतिया ','चोर ','डाका ','साले कुकुर ','बेस्यालय को मालिक ','चोरि ','चोर ','साला ','चोर ','चोर डाँ का ','कुकुर ','कुकुर डाका ','बलत्कारी ','महाचाेर ','भ्रष्चारि दलाल भुसिया कुकुर ','कुकुर ','साला ','राडि का बान ','नरपिसाच ','खाते ','हुत्तिहारा ','खाते ','चोर ','साले ','खाते ','खाते मुला ','कन्डम फुटेर जन्मे को ','डाका ','साला पसु ','पागल ','मुजि ','भ्रष्ट दलाल चोर ','दलाल ','कुकुर ','मुजि ','जुठो खाने भतुवा कुकुर ','थुक्क चाेर ','चोर ','अपराधी ','बलात्कार ','चौथो लिंगि ','साले कुकुर ','खाते ','मुजि ','साला नालायक ','साले ','राडिकाछोरा ','माच्चिक्नि ','चुप साला ','कुकुर ','भाडा का टट्टू ','गद्दार ','कुकुर कुकुर्नी ','नकचरा ','अलछिना ','साला चोर भ्रष्टाचार लुटेरा ','साला भिकारी ','बेइमान कुकुर ','चोर दलाल ','रणडी को छोरा माचिक्ने चोर कुकुर ','चोर ','मुजि ','साले कुकुर ','रा* ','जाठी ','चोर ','थुक्क साला ','मुजि ','साले रण्डि को छोरी पोईमारा ','साला चोर ','रखेल ','थुक्क रण्डी ','साला ','साला खाते ','साला ','चुतिया ','साले कुकुर ','कुकुर ','चुतिया ','खाते ','गु खा साल ','विहारी ','चिक्ने ','मुजी ','लामो मा. .. चि साले थुक खाते ','खाते ','चोर ','राडि को बान पाखे ','पाखन्डि ','खाते ','साले चोर ','कुकुर ','चुतिया ','मुजि ','लामो जस्तो ','पाल्तु कुकुर ','मुत्र पिएर मति भ्रष्ट ','पैसा मा बेच्छ ','कुकुर ','बाउला कुकुर ','बौलाए ','बाैला ','मुजि ','साला अन्ध भक्त ','बाैला ','कुकुर ','साला ','रण्डि को बान ','कुकुर ','बफादार कुक्कुर ','रन्डि को छोरा ','साला ','पातकी डाका ','चोर ','कुकुर को छाऊरो ','कुकुर ','मुजि ','राडिकाछोरा ','चिक्ने ','साला कुकुर ','कुकुर बलतकारि ','मुजि ','साले खाते ','मा चिक्ने रन्डि को छोरो ','धाेती सले चाेर खाते ','साले ','साले कुकुर ','साला धोति ','साला धोती नरपिचास ','साला ','साला कुकुर ','साले ','कुकुर ','साला ','घुसखोर ददाल भ्रस्ट लाई मुर्दाबाद ','दलाल भ्रष्टाचारी गुण्डा ','पाखन्डि साला ','चोर ','चोर ','चिक्ने ','जाठो ','माधरचोत ','जाठा ','मुजि घन्टा ',\n",
        "'मुजि ','मुजि ','बलात्कारी ','रण्डि को छोरो ','साले ','चोर ','भ्रष्टचारी का सन्तान ','मुला जड्या दलाली ','खाते ','तेरि मा टोक्ने ','खाते ','रनडि को चेलो ','मुजि ','खाते ','तेरि मा टोक्ने ','साला ','रण्डी ','धिक्कार होसा ','मुजि ','साले कुत्त ','रन्डी को छोरो अरिंगाल ','माचिक्ने ','माचिक्ने ','साला खाते ','साला आतंककारी ','मुजि ','मुजि देशद्रही जंगली ','मुर्कट्टा ','मुजि ','खाते ','मुजि ','चम्चा साला ','रन्डि को बाहान ','साला ','साला धर्म बेचुवा ','साले इसाइ डलरे ','मुजि ','राडि ','गोरु ','मुजि गधा ','साला कुत्ता ','मुजि ','कुकुर को बच्चा हरु ','माधर्चोत ','खाते ','साला भाते ','साला ','खाते मुजि ','खाते ','मुजि ','साला ','साले ','खाते चाेर ','कलङ्क ','कुकुर ','चोर ','रन्डी को छोरो ','मुजि ','लाडो ','चोर साले ','कुकुर ','खाते ','साले चोर भष्ट् ','तेरि मा डाकाहाे ','चोर ','मुला खाते ','थुइक्क जाठा ','मुजि ','भोडगधा ','भोडगधा ','saale चोर ','मा चिक्ने ','साला दलाल ','गद्दार ','कुकुर ','लाज लाग्दै चोर ','डम्ना ','चाेर ','चाेर ','थुक्क चुतिया ','चुतिया भ्रष्टाचार को नाइके ','चोर ','चोर भ्रस्ट ','चोर ','भ्रष्ट चोर ','चोर दलाल ','रन्डि का भ्रस्ट छोरा ','थुईक्क चोर , दलाल ','थुइक्क गधा ','मुजि तालु ','साला ','खाते ','साला ','रडिकाे छाेरा ','रनडिकाे छाराण ','माचिक्ने रन्दि को छोरा ','साले खाते रन्दि को छोरा ','छाडा रन्दि को छोरा ','सालाखाते ','राडिकाे छोरा ','मुजि ','साले हरामि ','झुटे मुजि ','पापी ','गधा ','साला चोर ','साला ','खाते ','खाते रन्डि को छोरा ','चोर ','साला ','चोर ','खाते ','साला ','साला ','खाते ','चोर ','राणि का छोरा ','माचिस ','साले ','गोरु जस्तो मुजि डण्ठे ','रन्डी का छोरा ','चोर ','gunda चोर अनि बलातकारि ','साला ','साला कुकुर ','चोर , दलाल , भ्रष्ट , बलत्कारी ','झोले कुकुर ','चोर ','बलात्कारि ','साला ','चोर ','साला भाते ','भालुनी ','रन्डी ','भालु ','बौलाऊदै हिडीछे बेश्या लय ','बौलाएर भालु बरबराएर नांगै ','रन्डी भालु ','चिक्यो ','चिलाएर मोज गरिस ','कंलड़कित ','मुजी ','राडी रन्डी ','चिकायो ','मुजि ','भालु ','उत्तानो भएर थाप्ने ','राडि ','मुजी ','साली भालु ','भालू ','नाक काटीदिनु पर्छ ','गोलि हानी ','गोलि हान्न ','हत्या हिंसा लुट बलात्कार ','काटेर मारन ','यातना दिएर मारिदिए हुन्छ ','कट्टा हन्दा ','गोलि हानु परछ ','हान्छु गोली ','पिट्नु पर्ने ','गर्धन भाचीने गरी हान्नु पर्ने ','चाक मा आगो लगाइन्छ ','मारेर कमाए का ','मारछन ','फासि दिनु पर्छ ','गोली ठोक्नु पर्छ ','झुन्ड्याएर गोलि ठोक्ने ','समुन्द्र मा खसाउदा ','घाँटी च्यापेर ','गोली हान्नु पर्ने ','घाटी कातेर फ्याँक्नु पर्छ ','बम हान्दा हुन्छ ','बम हानिन्छ ','बम खसालिदेउ ','मरि दिन्छु ','मरोस् ','बम राखेर उडाउने ','घाटि काटनु प्रछ ','नाक को डाडी फुटालि दिउ ','ठोक्ने ','गुलोकोच दिनुपर्छ ','झुण्डिएर मर्छ ','खुर्सानी र नुन हालेर खाद्नु पर्छ ','आगो लाउनु पर्छ ','धोबी हान्नुपर्ने ','मार्न ','गोलि ठोक्नु पर्छ ','फाँसी दिनु पर्छ ','डाडी भाच्नु पर्छ ','मार्न ','मृत्‍युडाँडा ','हत्यार ','हान्न मन् लाग्यो ','फसि दिन पर्छ ','हत्यारा ','जिउँदै जलाउनु ','mukhma mutideu ','करेन्ट लगाउनु पर्छ ','बलत्कार ','वल्त्कार ','वल्तकार गरि हत्या ','झुन्डेर मर्नु ','फासी फासी ','झापट हान्थें ','फुट्ने गरि हान्न ','थुक्न मन लाग्छ ','बलात्कारी ','गोलीहान ','पाता कसेर कोर्ला हाने ','लात लाएर ','फासे दे ','मान्छे मार्ने ','ज्यान मार्ने ','आतंकवादी ','हत्यारा ','आतंककारी ','झुण्डयानु पर्छ ','मारे को ','मार्नु पर्छ ','सिध्याउनु ','झुनडाउनु पर्छ ','हत्यारा ','किक हानेर ','नाँक को डाँडी भाँचिदिनुपर्छ ','बल्त्कार ','पात्ता फर्काउनु पर्छ ','हत्यारा ','गौलि हानुपरछ ','मारेउ ','मार्नु परछ ','गोलि ठोक्नु ','मार्ने ','फाँसी ','सिधाईदिने ','करेन्ट लगाएर ','नाक को डाडी भाच्नु पर्छ ','नाक भाच्नेगरि हान्न ','नाक को डाडि भाच्नै पर्ने ','नाक को डाडि नभाचेर ','दिनुपर्छ दनक ','ढाड भाच्नु पर्छ ','नाक को डाँडी भाँच्नु पर्छ ','नाक को डाँडी भाच्न ','लोपारिदिन्छु ','नाक को डारि ','हात पनि काट्नु ','नाक को डाँडि ','हात खुट्टा नै भाँचिदिनु ','नाक को डारी चै भाचनु ','मुख फुट्ने गरि बजाउछु ','गोलि ले भुट्नु पर्छ ','जीउँदै जलाउनुपर्छ ','राम धुलाई ','ढाडनै भाचनु ','मर्नेछन ','बलत्कार हत्यारा ','हत्यारा ','चोर हत्यारा ','भर्स्ट्चार बलत्कार हत्या ','आतंककारी ','मर्दिने ','मर्ने छैन ','मारेर खाइस ','करेन्ट ','हत्या ','हत्या ','हत्या गर्ने ','मार्ने ','पोइ मारेर ','हत्या ','सिद्ध्याइ दियेउ ','मारिदिए ','भिर बाट झारिदेउ ','कान उखेलेर उठबस ','मुख मा थप्पड हान्न ','मारे ','झापड ','गाला पुट्ने गरि दिनु पर्छ ','ठोक्नुपर्छ ','भेटे दनक ','नकाटेको ','फुट्ने गरि हान्नु ','गाला फुट्ने गरि हाने ','हान्नु पर्यो ','चाक मा अागाे ','गाला रन्काउनु पर्ने ','जाली फुट ने गरि ','कुटपिट ','बलात्कारि ','मुखा हानौ ','गुउ खुवाउन पर्छ ','अम्लो काट्छु ','राम धुलाई गर्नु पर्छ ','कन्डो मा अागो ','ठोक्नु पर्छ ','फांसी ','नुन खुर्सानि दल्लनु पर्छ ','खुकुरि ले घाटि रेटनु पर्ने ','फासी गनुपछ ','लात लगाएर ','मार्नु पर्छ ','मार ','हान्नु पर्ने ','करेन्ट लगाएर ','किक हाने ','आगो लाक्छ ','तहसनहस हुनेछ ','ज़िन्दा जलाईनेछ ','काटेर ','जिउदै जलाउनु पर्छ ','fight ','हात र खुट्टा भाच्नु पर्ने ','खुट्टा काट्छौ ','आगो लाग्ने छ ','अागाे लगाउनु पर्छ ','जिउदै खाल्डा मा पुर्नु पर्ने ','नाक पच्कने गरि दिन ','झुन्डायर ','खुर्सनी दल्नी पर्छ ','पाता फर्काएर चुट्नु पर्छ ','रामधुलाइ हानुपर्छ ','योन दुव्र्यवहार ','यौन सोसन गर्दछन् ','मार्ने ','मारिन्छ ','मर ','नाङ्गो परेर ','मुख मा हानु ','भिडनु मन छ ','झुन डाउ न पर्छ ','बलत्कारी ज्यान मारा ','मान्छे मार्ने ','खुट्टा भाच्ने ','रेलिंग भांचे ','जलाउनु पर्छ ','फुटाउने ','बक्सिङ्ग हान्छु ','बम बिस्फोट ','गोलि खाना ','ज्यादती ','झुण्डाएर मर्दा ','हिर्काउछ ','गोलि खानु पर्ने ','ठोक्दौन गोलि ','हानेर फकलक् ','goli hannu parne ','गलत्याएर फाल्नुपर्छ ','बम ठोक्नुपर्छ ','गोलि ठोक्नु पर्छ ','गोलि ठोक्ने ','इन्काउन्टर ','गोलि हानी ','अाक्रमण ','हान ','मार्छ ','आक्रमण भक्क्षणम ','कुटे को ','कुटपिट यत्ना ','गोलि ठोक्नु ','गोलि ठोक्ने ','नठोकेर ','मान्छे मार्न पाईन्छ ','हत्यारा , आतंककारी ','बम लगाएर पड्काउनु पर्छ ','कुट्छ ','एनकाउन्टर ','गोलि हानी ','मारे को ','ज्यान मारा ','गोलि हानि मार्ने ','मारे को रहेछ ','पोलिस मार्न ','गोलि चल्यो ','हत्यारा ','आतंक ','कल् लाई मार्छ ','भाच्नु पर्छ ','लड्ने ','गोलि ','रगत को खोली ','मुठभेड मा जादैछ ','बम आतंक ','हान्न्न ','हान्नै पर्छ ','हात र जिब्रो काट्नुपर्छ ','नाककाे डारि ','लाता ले हानेर ढाड भाच्नु पर्छ ','भाटे कर्बाही ','लोपार्नु पर्नी ','नाक नै भाचे ','नाक को डाडी भाच्न ','मार्न र मर्न ','नाक भाच्नु ','नाक को डाढी भाच्ने ','गोलि हानु ','नाक को हड्डी भाचिदिने ','नाक को हड्डी ','मार्दिनु ','कालोमोसो दलेर टिन ठोक्दै ','पिटेरै तह लगाउनुपर्छ ','गोली ठोक्नु पर्छ ','नाक को डाटि बाच्नु पर्छ ','नाक को डाडि भाचिदिन्थे ','कुटाइ खालास ','गोलि हान्छ ','हान्नै पर्छ ','छाला उतारेर ','निल डाम ','नकुटे ','निलडाम ','मारी दिनु पर्छ ','यातना ','यातना ','भाला नै हानु पर्छ ','नकुटे ','बलात्कार गर्छ ','कुटे ','मरूनजेल सम्म कुट्ने ','कुटपिट ','मरणासन्न हुने गरि कुट्न ','भाला रोपे ','कुटिनछिन ','पिटे ','यातना ','हान्ने ','बुट ले हाने ','यातना ','जीउँदै आगो लगाउनुपर्छ ','फासी ','कुटपिट ','छाला तारेर भित्ता मा टांग्नु पर्छ ','यौन हिंसा ','यौन हिंग्सा ','बलात्कार ','हिंसा , बलात्कार र हत्या ','बिरोध गरिनुपर्छ ','लेउनु न हौ ','बिदा गरिदेउ ','दिने हैन ','समाधान गर्नु पर्छ ','कदम चालोस ','देस निकाला गर्नु पर्छ ','अन्त्य गर्न एक हौ ','अावस्कता छ ','बोलाइयोस ','बहिस्कार गर्नुपर्छ ','सडक मा आउनुपर्छ ','निर्माण गर ','बचाउन उठ ','ल्याऊनुपने थियो ','लखेटनु पर्यो ','खाँचो छ ','आउनु पर्यो ','नबोलाउनुहोस ','राष्ट्रीयकारण गरौ ','अन्त्या गरौ ','जेल हाल्न पर्छ ','action लिनुस ','जेल हाल्नु पर्छ ','लिनु पर्छ ','कड़ा कर्बाही होस ','अनूरोथ छ ','बोलाउनु हुदैन ','सुदृढीकरण हुनुपर्छ ','सुसूचित गर्नुहोला ','उत्तानो चित बनाउन सक्नुपर्छ ','देख्न न परोस ','बाहिर ल्याउनु पर्छ ','नदेखाउनु होला ','नबोलाउनु ','अघि बढनु ','लखेटनुपर्छ ','कारवाही गर ','समेट्नु पर्छ ','गोलि थोग्नुपर्छ ','खारिज गर्न जरुरी छ ','बेलै मा जागौ ','अनुरोध गर्दछु ','पार्ती खोल्नुपर्यो ','नियम गरौनुपर्यो ','न लाउनु ','सम्सोधन गर्नु पर्छ ','जस्तो लाग्छ ','सिक्नु पर्यो ','हुनु पर्छ ','जरुरी छ ','हातेमालो गरौँ ','रोजौं ','बढ्दै जाओस ','अगाडि जाँदै गर्नुस ','समर्थन गर्नै पर्छ ','अन्तरबार्ता हेर ','साथ लिएर अाउन पर्छ ','साथ दिनु पर्छ ','गर्नु पर्छ ','राम्रो काम गर्दै जानुहाेला ','साथ दिएर हेरौ ','पाइयोस् ','समय मै चिनौ ','जानु होला ','अाउ चाँडै ','बोलाउनु होला ','एक हाेअाैँ ','बडाउनु छ ','आग्रह छ ','कदर गर्नु पर्छ ','भोट गर्नुपर्छ ','पाउनु पर्छ ','ठिक पार्नु पर्छ ','अगाडि बढ्नुहोला ','मुद्दा हाल्नु ','सुरु गरम ','नगर्नुहोस् ','बिधुत कट्नुस ','बोलाउनु पर्छ ','हुन सिकौ ','सहयोग गरौ ','चालियोस् ','चार्ज लगाउनु पर्छ ','पछी नहट्नुस ','नाङ्गो पार्नुस ','बुज्नु पर्यो ','रहनु होला ','राख्दिनुस ','दिनुस है ','भेट्नुस भन्छु ','खार्नु पर्‍यो ','जरुरत छ ','विकल्प छैन ','फाल्नु पर्छ ','बोल्न देउ ','हेक् का रहोस ','सम्मान गर ','गलत हो ','थेग्न सक्दैन ','बोल्न देउ ','हुनु पर्यो ','बुझ्नु हो ','बोल्न देउ ','प्वाक प्वाक नबोल ','जरुरी छ ','खोज्नै पर्छ ','त्याग्नै पर्छ ','उच्च राख्नु होला ','कालोमोसो दल्नुपर्छ ','जरुरी छ ','विकल्प छैन ','खारेज गरौँ ','खारेज गरोउ ','गर्नु पर्छ ','हेर्नुस् ','नगर्नुहोस् ','दिनुहोस ','काम गरेर देखाउनुस ','सिक्नुस ','हुन्थियो कि ','पाखा लगाउनुस ','बन्देज लगाउनुस ','बोल्न सकिन्न ','बोल्न दे ','बोल्नु हवस् न ','छोड्नु हुन्न है ','गराउनु पर्छ ','कार्बाही हुबु पर्छ ','गरे को भए हुन्थ्यो ','राख्नु भएन ','जेल हाल्नु पर्छ ','ल्याउनै पर्छ ','हुनुपर्छ ','बनाउनु पर्छ ','अाउनु परछ ','निस्किनै पर्छ ','बकबास बन्द गर ','आउनु पर्छ ','खर्चिनु पर्छ ','सिक्नुहोस ','प्राथमिकता दिनुपर्छ ','विकास हुनुपर्छ ','आउनु पर्छ ','गर्नुपर्यो ','आउनै पर्छ ','कमेन्ट हरु हेर्नुस ','बनाउनु पर्छ ','अगाडी वढ्नुपर्छ ','सदुपयोग गर्नुपर्छ ','जनमतसंग्रह गरौं ','गर्नु पर्छ ','भगाऊ ','अवसर दिनुपर्छ ','नमार ','भुलेर नगर्नु ','मिल्न जाउ ','गर्नु पर्ने ','आउनुपर्यो ','खारेजी हुनु पर्छ ','देखाउनु पर्याे ','गर्नु हुँदैन ','तताउनै पर्छ ','सक्ने हुनुपर्छ ','आउनु पर्ने ','हुनु पर्ने ','हेडिङ नराख्नुस ','खेती नगरौं ','रहनु होल ','नबद्लिनु होला ','बन्नु है ','नगर्नु होला ','निकाला गर्नु पर्छ ','बनाउनुस ','गर्नुस ','नगर्नु ','आउनु होस ','बड्नुहाेस ','निरास नबन्नु ','मुस्कुराउनु ','माग गर्नु पर्छ ','चलाउनु पर्छ ','अबेर नगरौं ','नङाउनु पर्यो ','नमान्नुहाेला ','बनाउन पर्छ ','खाेल्नुपरयाे ','राम्रो थियो ','जेल हाल्नु पर्छ ','बनौनु पर्छ ','सम्म्मान गर्नु पर्छ ','हुनै पर्छ ','सक्नु पर्छ ','अाउनु पर्याे ','बनाऊनपछ ','सम्बोधन गरनुस ','हुनै पर्छ ','गरि रहनु ','भेट्नु नै होला ','नझुकोस ','बनाउनु हुंदैन ','तान्नु हुँदैन ','खोल्लुस ','उठनु होस ','बन्नु पर्छ ','कार्बाही गर ','रामा्े कामगर्नु है ','रिहाइ गर्नु पर्छ ','सोधपुछ गरिदिनु होल ','काम गर्नुस ','बाहिर निकालौ ','छोड्दिय हुन्छ ','अनुसन्धान गर ','रिहा हुनुपर्छ ','बोल्न त सिक ''दिनुहोला ','सोदनु पर्यो','चाहिन्छ ','सर्बे गर्नुपर्छ ','बर्खास्त गर्नुपर्छ','रिजलट खोइ ','नहेरौ ','हुनुपर्ने ','साेध्नु पर्याे ','कार्बही गर्नु पर्छ ','नस्ट गर्न पर्छ ','बिरोध गर्नु पर्छ ','नबोलौ ','जादा हुन्छ ','ढकमगाउनु हुदैन ','हतोत्साहित हुनु हुदैन ','गर्नु पर्छ ','हुनु पर्छ ','पाउनु पर्छ ','कार्बाहि हुनुपर्छ ','अन्त्य गर्नुपर्छ ','आउनु पार्‍यो ','कसो होला ','निडर हुनुस् ','बिचलित नहुनु है ','बुझ्नुपर्छ ','काचुली फेर्नु पर्यो ','नआवस है ','सुरक्षा दिनु पर्यो ','देखाउनुहोस ','गुनु पर्छ ','चुनाव मा लडनु पर्छ ','बनाउनु पर्छ ','हुनि थियो ','बड़ाऊनु होला ','छान्नु पर्छ ','बढाउनुपर्छ ','जानुपर्छ ','चलाउनु पर्छ ','चलाउनु पर्छ ','हाँक्नु पर्दछ ','दिनुस है ','गरौ ','सेक्ने कि ','दिनु पर्छ ','हेर्नू पर्छ ','गरौ ','be care ','हूनूपर्छ ','नचोरनु हो ला ','हुन परछ ','गरनु होला ','गरोस ','ठिक पार्नु ','विकास गरौं ','आबाज ऊठाऊनुहोस् ','हुन पर्छ ','हुन पर्छ ','कोसिस गर्नुहोला ','सुधारेर देखाउनुस ','गर्नुस ','प्रयोग गर ','बेबाहार होस् ','सडक मा आउनु पर्यो ','ढाल्नु पर्छ ','पत्यसाप गर्नु पर्छ ','चलाउन पर्छ ','ढाल्नु पर्छ ','तातिनु पर्यो ','support गरौं ','हेर बिचार गर ','बाेल्नुस ','माग गर्नुस ','बनाउन पर्याे ','गर्नु पर्यो ','गर्दै जानुस ','आबश्यक छ ','आन्दोलन गर्नु पर्छ ','सुजाब दिन्छु ','आग्रह गर्छु ','मजाक गर्नु हुदैन ','गलत हो ','सन्यासी हुनु ','उपचार गराउनुहोस् ','हेक् का हुनुपर्छ ','कुरा बुझ्नु पर्छ ','सुहाउँदैन ','खिल्लि उडाउन मिल्दैन ','देखाउन त भएन ','आग्रह गर्नु भए को छ ','सचेत ','बराबर हेर्नू पर्छ ','राख्नुस है ','गर्नु पर्यो ','राम्रो हुन्थ्यो ','पडेर आऊ ','दिनोस ','राम्रो हुनेछ ','हेर्नुहाेला ','बोल्नुपर्छ ','बेला भए को छैन ','सिक्न पर्यो ','हासील गर ','गरेर आउदा ','प्रश्न गर ','गर्नु पर्नी ','छानबिन होस ','बनाउनु पर्यो ','भुल्नु हुदैन ','garum haiii ','समर्थन नगर ','झापड लगाइदिनु पर्ने ','नदिय हुन्छ ','दुबेर मरे हुन्छ ','कोच्नु पर्छ ','आरोप नलगाउ ','उभिनु राम्रो ','नबोल्नुस ','फुर्ति नलगाय हुन्छ ','आउट गर्नु पर्छ ','हिम्मत नहार्नुहोस ','लाग्नु पर्छ ','अनुरोध गर्दछु ','कानुन बनाउन पर्यो ','गरौं ','हटाइयोस ','साथ र समर्थन गराै ','निडर रहनुहोला ','लम्किरहनु होला ','उडाइदौ ','बनाउनु ल ','जोडीनु होला ','गरौं है ','सुरक्षा दिनु पर्छ ','ध्यानाकर्षण होस ','माग गरौ ','सावधान ','बनाउनु पर्यो ','ल्याउनुस न ','सावधान रहनुहोस् ','न्याय दिलाई दिनु होला ','subscribe गर्नु होला ','कर्बाही गर्नु होला ','राख्नुहोला ','Coment गर न ','सहयोग गर्नु ','कार्बाही हुनु पर्‍यो ','पुग्नु होला ','कार्वाही हुनु पर्छ ','लियाउनु परो ','कारबाही होस ','कारवाही हुनुपर्छ ','छानबिन सुरु गरियोस ','कार्बाही गरीयोस ','नबिगार ','जेल हाल्नुपर्छ ','सुरक्षा दिनु पर्छ ','राम्रो काम मा लाग ','गर्ने की ','जानू होल ','अनुराेध गर्दछु ','थपियला कि ','प्रधानमन्त्री को लागि लड्नु पर्यो ','मिलाउनु पर्यो ','नबोलाए को भए हुन्थो ','राजनिति मा आउनुपर्छ ','ल्याउनु पर्यो ','टीपेर फालाै ','नबोलाउनु होला ','खाल को हैन ','बिचार गर्नुपर्थ्याे ','छोडनुपर्छ ','राजीनामा देउ ','pm देउ ','भैदिनुस है ','सिक ','गु खा ','घाम मा सुकाइदिनु पर्यो ','देश निकला गरनुपरछ ','मुत खा ','सक्नै पर्छ ','गर्दै गर्नुस ','बोलाउन पर्ने ','सक्किनै पर्छ ','गोजि मा राख ','सिक्नुहास ','सोच्नीकि ','पर्नी होकि ','आग्रह गर्दछु ','होशियार ','बोलाए को भए हुन्थ्यो ','सोध्नु पर्छ ','गर्नु परेन ','जनमत सङ्ग्रह गर ','राख्नुहाेस ','लयाऊनु पर्छ ','सिक ','गर्नु पर्छ ','हुनु पर्थ्यो ','डसिराख्नु ल ','बद्दै जानू ','बर्खास्ती गर्नु पर्छ ','बिरोध गर्नुहोस ','बोलाउनु हुदैन ','हुनू पर्छ ','गरिनु पर्छ ','दिनुहोस ','राजीनामा दिए भयो ','सोध्नुन ','किरा परोस ','सोद्नुस न ','चेतना भय ','कारबाही गर ','जानू पर्यो ','हुनु पर्यो ','गरानु होला ','बनौनु पर्छ ','बोल्न दिनुभयन ','गर्नुपर्यो ','गर्न पर्ला ','किन बाेल्नु ','कार्यवाई गर्नुपरेयाे ','हुनु पर्छ ','कामकारबाही हुनु पर्छ ','दैर मा ल्याउनु पर्छ ','वार्ता मा आउनु पर्छ ','गर्नुपर्छ ','बदल्न्नु पर्छ ','सजाए हुनुपर्छ ','आवश्यक छैन ','जानु न ','गर्नुपर्नेछ ','खुट्टा भाच्नुहोस ','दिनु पर्छ ','please support ','साथ दिनु पछ ','प्रधानमन्त्री हुनु ','ईन्टरभिउ लिनु ','सुन्दिनोस ','माग्नु पर्दैन ','नबिराउनु नदराउनु ','कम गर्नुहोस ','हुनुपर्ने ','फेरनु होला ','भन्नै पर्छ ','सपोट गर्नु होला ','नऊत्रनु होला ','gardinnu पर्छ ','छोड्नु हुदैन ','परीवर्तन गर्न परो ','फोकस गर्नु नि ','अधि बढ्नु ','बन्द गर्नुहोस् ','जेनि सुद्नु आवसेक छैन ','ल्याउनु परो ','केरकार गर्नुपर्छ ','लिनु पर्थ्यो ','बुज्दा हुन्छ ','कुरा गर्नु पर्यो ','राम्रो काम गर्दै जानु होला ','सिकाउनुहोस ','सिक्दा हुन्छ ','ल्याउनु पर्यो ','सुरक्षा छैन ','न गर्दिनु होला ','प्रस्न गरेन ','पाए हुन्थ्यो ','दु : खद कुरा ','उडान गरौ ','लेनु पर्छ ','हतार न गर्नु होला ','कार्बाही हुनुपर्छ ','कुराकानी गराउनुपर्याे ','सोच्नुहोला ','अन्त्य गर्नुपर्छ ','अन्तरबार्ता लिनु पर्यो ','ल्याउनु पर्यो ','सोधी दिन्नु पर्यो ','बनाउनुपर्या ','ल्याउनु पर्छ ','गर्नु परो ','बनाउनु पर्छ ','बनाउनु जरुरी छ ','सहयोग गरौँ ','भई गयाे ','हुनुपर्यो ','हुनु पर्यो ','राख्नुहोला ','कार्वाही हुनुपर्छ ','आवश्यक छ ','कम हुन्छ ','लानु पर्छ ','गर्न्नु पर्छ']]\n",
        "                                                                                                      # Include specific words like\n",
        "    # Join the cleaned tokens back into text\n",
        "    cleaned_text = ' '.join(cleaned_tokens)\n",
        "    return cleaned_text.strip()\n",
        "\n",
        "# Example usage\n",
        "cleaned_text = [text_cleaner_without_stopwords(txt) for txt in data['text']]\n",
        "\n",
        "print(cleaned_text)"
      ],
      "metadata": {
        "id": "v70PDptuT7um",
        "colab": {
          "base_uri": "https://localhost:8080/"
        },
        "outputId": "e25de840-956c-4166-fe99-a75dcd5d7a05"
      },
      "execution_count": null,
      "outputs": [
        {
          "output_type": "stream",
          "name": "stderr",
          "text": [
            "[nltk_data] Downloading package stopwords to /root/nltk_data...\n",
            "[nltk_data]   Package stopwords is already up-to-date!\n"
          ]
        },
        {
          "output_type": "stream",
          "name": "stdout",
          "text": [
            "['मुजि बानियाँ कस्तो खाते गर्दैछ कुलमान नभए आज नेपाल उज्यालो हुन्थ्यो अझ कुलमान कमजोरी देखाउछ यिनी शोषक ।', 'ठुलो सरकार उल्लु बनाए बाँकी पैसा खान्छन अहिले सरकार तुरुन्त धाल्नु ।', 'पुलिस पहिला ठिक अहिले ठिक बोलाउनु हुदैन', 'यिनी चोर हरु जनता अन्धकार रखेर धुनु सुधारने कुकुर हरु कुलमन सार गरे ठिक काम ।', 'सहि पि अस्तित्व हरास हुदैछ', 'हाे प्र भएर काम देखाउनु पर्याे नारायण मान ज्यू ।', 'नेता सम्पति छान बिन जेल हाल्नी भनी जेल प्याक ।', 'याे सुर्य पाठाक अाफु देउता सम्झेकाे ।', 'थुक्क कुकुर नालाएक हरु ।', 'पार्टी उ पार्टी हैन सब चोर भ्रष्ट देश बनाउने कम्युनिस्ट काङ्ग्रेस ।', 'साबितृ अनुहार देख्दा बोली सुन्दा अनुहार भरि थुक्न मन लाग्छ जाठी बिदेस जाने केटा हरु बलात्कारी रबि सपोटर सुने ।', 'कानुन गुन्डा नाइके तरफ जादै तेसै हत्य हिन्सा हुदै पुलिस भनेनी जनताला जरो आउदै झुट सहारा लि दै छ्न इनि जन सेवक ।', 'पुलिस चै झुठो लाग्यो है अनि पुलिस लापरवाही हुँदै आ तेस्तै होकि लग्छ बा की चाल खेल होला राजनिती होला है अनुसन्धान निस्किन्छ चाल खेल होस राजनीति होस सत्ते तथ्थे हुनु तेति ।', 'पार्टी झोले चै हैन ।', 'थुक् एमाले गोठालो यस्ता मुला जड्या दलाली डलरे गोठाला बोल्ने तरिका तेरो यस्ता मुलालाइ नेता चाहिँ कस् बनायो ठिक ठिक बेठिक बेठिल भन्न नसक्ने कुपुत्र हरु किना गर्छौ राजनिती बोरु इशाइ धोती धोयर बस्न यार ।', 'लुट लुट साला हरू बाउ सम्पती नेपाल लुट याद राख चोर भ्रष्टाचारि हरु परित्राणाय साधुनाम बिनासचाय च दुसकृताम ।', 'बेला राजा नाम सम्पती सरकार नाम ल्याउनु भन्न लाज पचे नालायेक सरकार ।', 'चोर हरु पुरै बत्ती लिने अनि अहिले आयर बत्ती बिल दिन्नौ भन्छ चोर हरु चोरी मुद्दा हाल्नु ।', 'गूठी हस्तक्षेप गरिरहे छन ।', 'राजा तँ भस्त्रचार तँ गरेकोे ।', 'रबि दाजु सलाम ।', 'बिश्वासिलो नेपाल प्रहरी काम आफै बदनाम हुदैछ नेपाली जनता बिश्वास ठाउँ', 'कस्ताे चित्न नबुजेकाे गधा हरूकाे पत्रकार् एस्ताे भन्दापनि लाजपचाएर बाेल्छन थुइक्क गधा हाे ।', 'चोर नेता हरू तर्क गरे होइन भ्रष्ट रुए यिनि हरु शब्द सहि बोले ।', 'नाचे हौ तेस्तो फरिया उचालेर देखाइ देउ नेपाली भनेर जाठी ।', 'फरक बिचार भएता नेपाली राजनिति अत्यन्तै श्रद्धावान आदर्श व्यक्तित्व ।', 'मेहर सर मन्त्री होस् भन्न चाहने हरू यता हाजिर हौ', 'अबचै नेपाल प्रधानमंत्री सातोजानेभो हैं रबी जि भबिसै चै गरेरै देखाउनु परने हुनछ है रबि जि ।', 'नेकपा मुला पशुपति सेलाउन लगे तेरि टोक्ने हरु पढाइ घमण्ड बुद्धि चाक मुनि रहेछ मुला', 'इतिहास बिरसेर नेताकाे चाकरी बाेलने साहि तिमराे ५ साल हाे ।', 'बिचरा चीन राश्ट्रपती नेपाल यतिकओ राम्रो रहेछ भनेर भ्रम पर्यो होला ।', 'अगाडि बडै जानुहोस हाम्रो फुल सपोट भस्टचारि दायरा ल्याउनु पर्यो ।', 'राम्रो सोच आज देश निक्कै माथी हुन्थ्यो किसान छोरा कोदालो खनेर खान्छु सोच ।', 'सलाम द्वारिकालाल चौधरी मेयर ज्यु हजुर ठाउ मेयर खाचो शतप्रतिशत सहि हुनु मेयर ज्यु ।', 'डिस लाइक १०३ जना दलाल भ्रष्टाचारि घुस्याहा हरु ।', 'हजुर हरु प्रती हार्दिक नमन अनि दिपक दाइ मुस्कान कति राम्रो हौ ।', 'लालिगुरास सस्था सुरेन्द्र श्याम प्रदेशी चोर डाका रछ साले छोडनु हुन्न दलाल चोर ।', '।', 'केशब बडालभन्ने जन्तु च्यानल कहिल्यै नबोलाउनुहोस कहिल्यै साचो बोल्दैन मन्त्री अर्याल भु माफिया कै पक्ष छिन यस्ता मन्त्री', 'अहिले सताधारी हरु जति सबैलाइ पद्च्युत नगरी देश बाट भ्रष्टाचार कहिले उन्मुलन हुन्न ।', 'झुट स्थानीय जानी बुझी मारे स्थानीय हरु भनाई ।', 'हुनत हामि हजुर राष्ट्रपती भन्न घिन लाग्नथाल्यो हजुर होइन हजुर बानी व्यवहार बोल्ने शैली हजुर गरे सम्पुर्ण काम् धिक्कार लागेर आउच ।', 'ज्योति वानियाँ कुलमन हेर अनि तालु हेर अनि तिनि हरु सुनेर रगत उम्लन्छ यार तिर्दैनै रे सर्ब साधारन जनता लाइन काटेर मज्जा ऊध्योग सन्चालन नाफा लिन आज आएर तिर्दैनै खाए फाल्न नजान्ने मुला चोर दलाल ठग ।', 'मृतात् हार्दिक श्रद्धासुमन सम्पूर्ण परिवारजन हार्दिक समवेदना प्रकट गर्दछु परिवारजन धैर्यधारण शक्ति मिलोस् ।', 'याे जालि हरु फटाहाहरुकाे यस्तै हाे', 'हौ आईमाई कस् कति पैसा इज्जत लिलामी गर्दैछ', 'पत्रकार प्रस्न सोद्ने शैली सारै मन पर्यो ठिक', 'पठक भटेर आ जनता नेता झन्डे झोले ।', 'आखा अगाडि झुट बोल क्या पुलिस हरू भाला जलाउँछन् बल्ल बुजिन्दै ।', '२ साही लगियो २ चै चोर ।', 'पेल्छ केटो मज्जा लाग्छ', 'रत्नपार्क ब्यपार हैसियत भनेर अाफ्नाे पदकाे मर्यादा थाहा तलाइ बाधेर घासहाल्नु पर्ने ।', 'सलाम कुल्मान सर हजुर् पछी २ करोड ९० लाख जनता ईनी हरु असुल ।', 'जति फतफताय हुन्या वाला ।', 'कस्तो गर्छौ पत्रकार', 'राजा अाउ देस बचाउ ।', 'पार्टी झोले पत्रकार यसलाइ स्पष्टीकरण दिई रहन आवश्यक द्वारिका जि ।', 'मगन्ते हरू नक्कली स्वागत ।', 'साला चोर हरु गधा हरु नालायक हरु खोर जाग्नु गरिब जनता कर तिरे पैसा ।', 'रबि सर हजुर भरि श्रिपशुपति नाथ रक्षा गरून् ।', 'जीव राम जी एस्तो गम्बिर समस्या गम्भीर छलफल हुदा हासेर प्रस्तुत', 'मन्त्री ठुलाे नेता बिस्नु पौडेल भुमाफिया दलाल बिचरा मन्त्री पद होईन राजनीतिक जिवन समाप्त होला अनि कार्वाहि ।', 'गगन थापा देश जनता आशा गरे प्रतिभावान नेता यीन बोले ।', 'दशैँ तिहार आस पास सि पुलिस नियत छर्लङ हून्छ ।', 'नेपाली हरू आत्याचार हरू ।', 'निखिल नेपाली नः दिराे बिचार माहान ।', 'सरकार गल्ती सुधार गल्ती गरे बोधनै गर्दैन अनि कसरि जनचाहना ।', 'भो मेयर साहव ठिक भो ।', 'राजतन्त्र आज आवश्यकता जय नेपाल हाम्रो राज हाम्रो देस प्राण प्यारो ।', 'निकै राम्रो काम भयो रबि सर हजुर देश भगवान ।', 'भातामारा दाका हरु कुलमान सर मात्रै असल इमानदार ब्यक्ति हुनुहुन्छ उहाँ ।', 'कार्यक्रम पछी दासै आ लाग्छ ।', 'मुन बिर्यपान धर्म बेचे गुठि बिधेक ल्याएर भ मठ मन्दिर अनि देशै बेचेर खान्छन् मुन सन्तान हरु ।', '।', 'कहाँ बाट काह', 'हैन ईन्टर्भिउ लिने मान्छे मोदि जुवाई खलक होकि प्रस्न सोधाई स्पस्टिकरण हैट ।', 'लुट्न लाइसन्स पाए नेता लाखाै लाख जनता मारेर कमाए धनी भएर त्यहि धन रुवाइँ रहेछ ।', 'प्रबक्ता हल्का गलत तरिका भनाई राख्दैछ ।', 'गगन थापा पहिला जय नेपाल तपाईं एउ टा पर्दाे युवा नेता हाे अाशा काे दियाे हाे त्यसैले मेराे शुजाभ भ्रष्टाचार बेथिति खुलेर बाेल्नुस जाे सुकै हाेस त्यस शेरे भएनि कारबाइकाे माग गर्नुस तब अाउने पहिलाे पाटि काग्रेश ।', 'रबि दाइ लाइ देखदा गर्व छाती फुल्छ ।', 'बिस्नु पौडेल हनुमान ।', 'जहि झुट बोल्छ ज्ञानेन्द्र साही हिरासत कुटपिट यत्ना दियो झोले होलि वाइन ।', 'नेकपा नेता सुन्दा ओलि भतुवा झोले रहेछ ।', 'प्रचण्ड भ्रष्टाचार दिन हरु नजिक आउदै गान्दै बस हामी छिटै तेरो घर आएर मर्दिने जनता देश जनता ताकत हेर्दै जानु हामी प्रचण्ड सजिलो मर्ने हजर मान्छे मरे हामी अन्तर्राष्ट्रिय अदालत मुद्दा हल्ने ।', 'लास्ट सोम पान्डे गधा बोले सुन्नैमन थीयन झन तेही खाते बोल्यो ।', 'प्रस्न सोद्ने गोरु ।', 'फिङ्गर पिङ् सिस्टम हाम्रो देश नेपाल फिङ्गर पिङ् सिस्टम हुन्थ्यो ति नाथे हरू अहिले जेल् सदिनेथिय ।', 'प्रवक्ता बोलि सहि बोलि तुक ।', 'डिस लाइक हान्ने हरु माफीया दलाल भ्रस्टाचारी लुटेरा हरु ।', 'नेपाल सहकारी नाम बैकँक नाम खाली गरीव दुखी जन्ता लुटने काम कहिले होला नेपाल ।', 'जन्ता लगि राम्रो भय कुल्मान घिसिङ सर जय होस तपाईं ।', 'याे सावित्री काे अनुहार भुत जस्तैः ।', 'खाते साला हु भन्छ साला खाते साले तेरो चुतिया साला झोले कृस्रन पैसा खायर पढे होलास कुकुर ।', 'चोर हरु गल्ती स्विकार्नु कहाँ कहाँ दोस लगाउदै जाने स्साला भ्रष्ट हरुलाइ लाजै ।', 'पुणय महा झोले भिजिलान्ते हरामी ।', 'कुरो सहि गरो है ।', 'राम्रो काम जारी राख्नुहोस् ।', 'गल्ती धाकछोप खोजी ।', 'यस्ता पत्रकार हटाउनु सि गफडि पत्रकार भारत पुच्छर घुसघुसे ऋषि ।', 'साला दिलनिसानी मगर चुपलाग साला खाते सब भस्ट्चार घुस खोर दालाल हरु काम रबि सर फसाउन ।', 'राताे काेट लगाउने भाईकाे सहिछ ।', 'अपराधीक डाँ नेता हरू सत्ता अनि पुलिसप्रशासन तिनै अपराधी नेता गुलाम बनेर गुन्डागर्दी अपराध संलग्न देश बिद्रोह निश्चित ।', 'लाएन कात्छौ भबिस्य भनेर हास्ने चोर चोरी मुद्दा हाल्नु कुल्मान सर हामी हजुर छौ ।', 'धन्येबाद एभिन्वुज कार्येक्रम सन्चालक ज्यु छान्बिन प्रक्र्ये भिडियो प्रसारण मिडिया नखोजि रबिलामिछाने लाइ हिरासत लाने वाआअ एस्लाइ प्रहरी कालो कर्तुत अथबा भर्स्त हरु दबाब कारण कस्तो न्याए', 'अहिले भैरहे पार्टी हरु मध्य राम्रो पार्टी नेता हरु मध्य राम्रो नेता बिचार शैलि आचरण कारण रबिन्द्र मिश्र सम्पुर्णरुप सहयोग रहनेछ ।', 'डा केसी काम खाली आलोचना मात्रा सिन्का भाच्दैन ।', 'कुरो बुझ्दै जादा राम बहादुर बम्जन आश्रम ठुलै राजनितिक संरक्षण', 'डिसलाइक १२ जाना रबि ज्यु हिरासत मन पर्ने थिएछ खाते हरु ईन्डिया बाट कति खुशी रबि ज्यु आउनु ।', 'प्रश्न साेधेकाे मन परेन ।', 'राष्ट्र सपुत रबि लामिछाने सपोर्ट हरू यता हाजिर ।', 'सिधा जनता सग हेर्दा अलिकति गलत नियत लागे थियोे याे कार्यक्रम हेरेर भयाे हजुर राम्रो विचार वक्ता हुनुहुदाे रैछ ।', 'आलु मुला', 'उध्योग लुट्नुसम् लुटे रहेछ ।', 'हाम्रो देश नेपाल ।', 'डकैती सहकारी चाडो कारवाही होस रामकृष्ण ढकाल चाडो न्याय चाहियो ।', 'छबि धमिल्याउने क्षेतिपुर्ती ब्यहोर्नु ।', 'याे डिस लाईक हरु हात किरा परेर झरि जा वस ।', 'सरकारी संयन्त्र प्रबक्ता हरु काम कै झुट बोल्ने ।', 'पत्रकार भन्दिन पत्रकार नेपाली जनता भ्रम क छर्ने काम गरे ।', 'राम्रो बिचार मेयर साब ।', 'नेकपा छिटै पतान भको हेर्न चाहने हरू यत हाजीर हौ ।', 'रवी दाई डेङ्गो कडा रहेछौ नेपाली रगत रगत सङ्क्रमित भएर बसे छौ ।', 'राणि वान हरु ढाड भाँच्चिने कर लादे ।', 'निखिल दाइ एक्दमै पोजेटिभ भयो सलुट दाइ ।', 'हाम्रो आवाज बनेर फेरि रबि सर कार्यक्रम देख्न याउदा ज्यादै खुशी ।', 'भष्टचारि कर्मचारी पित झाेले पत्रकारकाे नाक हैन ढाडकाे हट्डि भाच्न ।', 'भा खोइत किशोर करिश्मा जवाफ कडा रे हावा मिडिया हरु छन ।', 'सुशील जि तपाईं प्रस्न पूर्वाग्रहि भयो ।', 'बालुवाटार काे जग्गा हडपेकाे गुठि त्यसै छाेड्छन बाहुन हरु याे एउ टा सडयन्त्र हाे ।', 'रातो कोट जिन्दावाद निलो कोट मुर्दावाद ।', 'रवि लामेछाने फ्यान यता हाजिर हुम ।', 'गोकुले चुतिया खतरनाक राउन्ड किक हानेर नाँक डाँडी भाँचिदिनुपर्छ ।', 'सोम काम यस्लाइ पार्टी बाट हटाउनु ।', 'स्तर अशिष्ट असहिष्णु अहम मैनत्त मान्छे नेता भन्नुपर्दा नेकपा नेताकार्यकर्ता दुख लाग्छ लाग्दैन होला', 'विद्यादेवी बुद्धि अनुहार देश प्रतिनिधित्व योग्य होइनन् ।', 'कुल्मान घिसिङ सर गर्नत खोज्नुहुन्छ एउ टा भंडुवा निस्कन्छ ।', 'रबि सर नेपाल प्रधानमन्त्री बनाउनै हरु हुनुहुन्छ ।', 'सारो पाटि गरो अरिङ्गाल बन्नु पर्ने पाठक जि ।', 'नारायण मान बिजुक्छेजी बेला बेला ।', 'जनता नाम बेचेर कतिदिन खन्छ्न अरिगाल् हरु ।', 'मेयर सयेब काठमाडौं खाचो काठमाडौं सम्हाल्नु आउनु पार् ।', 'साला दिलनिसानी मगर चुपलाग साला खाते सब भस्ट्चार घुस खोर दालाल हरु काम रबि सर फसाउन ।', 'यस्तै पारा त्यों दिन आउन बेर लाग्दैन छोरी देखी जुवाई घर देखी ससुराली हेर्ने जनता हालत कहिले बुझे छौ भ्रष्टाचारी हों आफु सुख सहेल बसेर ।', 'आज राक्षस बाहुन हरु प्रचन्डे बोकोहराम उखाने जस्ता राज योगि नरहरिनाथ भबिस्यबाणी ठ्याक् कै मिले ।', 'कस्ताे दरिलाे प्रशन साेध्नुहुन्छ दाजु नमस्कार ।', 'काङ्रेस चोर उधोग नदि नाला सक्यो कम्निस्ट डाका ज्यान मारा कर उठायो भन्सार उठायो खायो येहि रछ बिकास ।', 'नहोस नेता तिन झोलेझाम्टे धनी', 'शिर झुकाउछौ तपाइ झुक्न दिन्छौ सल्युट ।', 'उठ नेवार दाजुभाइ दिदीबहिनी सस्कृती बचाउन उठ दलाल सरकार काठमाडौं नेवार समुदाय सस्कृती मेट्ने कुचेस्टा गरिस ।', 'दिल निशानी साच्चै पागल रहेछ ।', 'साह्रै मातिन थाले हरु ।', 'गरिमामय पद ख्याल नगरी बोल्ने व्यति देश रास्ट्रपति लाज लाग्छ ।', 'स्वर्गीय श्री मार्क्स श्री लेलिन जन्मभूमि हिउँ पर्दा नेपाल कालो काम्लो ओढ्ने लालबुझकट हरु सित होशियार', 'सलाम मेयर जि जेगर्नु भा सहि भा ।', 'नेपाल संघियता खारेज ।', 'नमस्कार भिमार्जुन सर निडर भयर बोल्नुस छौ हामी ।', 'वा वा होनित समर्थन बधाई', 'प्रधानमन्त्री रबि सर नेइ हुनुपर्छ योनेई जनता माग ।', 'कोइराला साहस्लाइ', 'नेपाली जहि राम्रो ।', 'यस्ता अविवेकी पत्रकार सङ्ग अन्तर्वार्ता दिनु ।', 'सेरे प्रचण्ड ओलि इ जना नाङ्गै बनायर सिमा कटाउनु ।', 'माननीय कमेन्टर हरु यता हाजिर उता हाजिर भनेर बकवास बैचारिक कमेन्ट समर्थन योग्य धारण राख्नुहोला ।', 'सचि रबि दाइ माहान हुनु ।', 'जाठा पुग्ने गौतम कति सारो बाइस भएर गरे छ्या कस्तो लाज मर्दो सिदै एस्तो गिन्लादो गरे ।', 'रवि सर बिन्ती एकदिन प्रेम सन्जेल सरलाइ ल्याउनु पर्यो उहा बाट दलाल पर्दाफास हुनेछ ।', 'कहाँ गयो रात दिन करायर हिड्ने पद्खोर सुरेन्द्र सि', 'खेम गुल्ले भन्डारी ठिस मुकुन्दे एन्ड दिल ठिसानी मगर ।', 'सागर जि गुड दनक दिनु भयो गौतमे झोले सहि जबाफ दिनु हजुर ।', 'प्रधानमन्त्री मात्रै हावा क्मेडी रास्ट्रपति गरिमामय पद् हावा बोल्ने सैलिइ अनि नेपाल् भुत्रो बन्छ ।', 'जनमत संग्रह गरना सकने तेस हिकमत भनेर सोद्नु नेपाल स्याल हरु रजाइँ नेपाल राजा आउनु परछ जन्ता सोच्नु ।', 'चोर नेता हरू तर्क गरे होइन भ्रष्ट रुए यिनि हरु शब्द सहि बोले ।', 'मेयर साब सहि छन ।', 'सावित्री सिकायर लगेकाे रहेछ ।', 'नेकपा लाउरे कहाँ कहाँ लगेर बिसयान्तर ।', 'सुशासन रहित भ्रष्ट ब्यक्ति हरु सत्ता रहे स्थिरता झनै खतरनाक ।', 'पार्टी झोले कुलंगार ढुपौरे राजा लाखौं गुणा देश जनता प्रतिबद्ध माया उनी माटो ।', 'सुशील सर आईन्धा पुलिस डिपार्टमेन्ट मान्छिलाइ ड्रेस निम्तो गर्दिनु होला किना इनि हरु ड्रेस् मुल्लेनै थाहा छैना एति गाली गर्ना मन पुलिस जन्तु हरु साधे छैना ।', 'लाग्छ जन्ता चायो जन्ता भावना बुजेर एउ टा सच्चा देश प्रधान मन्त्री हुनै रबि सर हजुर ३करोडौ जन्ता समर्थक ।', 'एकपटक सुर्य पाठक अरिङ्गाल भिडनु मन ।', 'अनि डाक्टर सुरेन्द्र केसि बोल्ने मात्रै मैदान निस्केर काम डराउछ ।', 'फेरि टीकापुर घट्ना दोहोर्याउन पर्यो सुन चोर हरु ।', 'भ्रष्ट गोरु हरुला नौडाडा समुन्द्र पारी नकटाई जनता बिकल्प जागौ जागौ बेलै जागौ ।', 'दलाल नेता सरकार आफै मोहि बनी हदपिने दाउ ।', 'सब केपि सिकाएछ यत्रो बर्ष बुझने अहिले नबुझ्ने चाइ कुन चाहिँ राम्री होउ छि छि ।', 'नेपालि इज्जत फाक्यो कुकुर कुकुर्नी हरु पाहुनालाइ राम्रो सङ स्वागत गरेन कम्सेकम २ हात जोदि नमस्ते ।', 'भ्रष्टाचारी हामी जनताकाे रस चुसेर बस्ने ।', 'रातो कोट लाउने दम जाएज ।', 'धन्यबाद निमेस जी समसामायीक बिषय जनता जानकारी गराउनु ।', 'दिपक दाई फिलिम राजा हैन साचि कै राजा बोलिछ ।', 'पत्रकार कुरो तत्बिज अलिक भयन है भाइ बुझेर प्रस्न गरौ है ।', 'कुलमान भएर अन्तरवार्ता हेरे', 'जति बहस गरेपनि राजा जनता फा होइनन् जङ्गल कन्दमुल खाने जंगली हरु फा ।', 'रामकृष्ण ढकाल ठग्ने फाँसी कम ढकाल राष्ट्र गहना रामकृष्ण ढकाल न्याय मिलोस् छिट्टै ।', 'रबि दाजु फ्यान हुनु यता हाजिर गरम ।', 'खाली पुरानो थोत्रा अनुहार ल्याएर हेर्नै नहुने बनाए दहाल् ।', 'रामहरि जतिसुकै फुर्ति गरे नेपाली कंग्रेस भ्रष्ट ।', 'थुक्क ककुरनि सावित्री तेरो कुन चाहिँ कार्यक्रम नेपाली जन्ता दिन्छन १ लाख २ लाख जन्ता जम्मा सक्छु भन्छेस ४ जना मान्छे जम्मा देखा हेरम खातिनी सावित्री ।', 'होइन हाम्रो देश युवराज कोइरालाज्यू जस्ता सपूत रहेछन् धन्य भएँ आज उहाँ सुनेर ।', 'जस पिडित नेपाली न्याय निसाफ दिइ रहे छन युग पुरुष रबि ।', 'छायाँ सेन्टर जस्ता जाेगाउने प्रपञ्च हाे याे कति ठुलाे बिटाे मिल्याे सचिव ज्यू', 'सुरेन्द्र मान्छे दहिचिउरे ।', 'सवै सपोट समर्थन गरौ हार्दिक नमन अहिले रबि सर यक्दमै जरुरी रबि लामिछाने जिन्दाबाद ।', 'उफ्फ हेर हेर सभामुख धाकछोप बर्ष निकाल्दै कस्तो पिचास', '', 'काङ्ग्रेस भस्ट्चार चोर भनेर कम्युनिस्ट बलत्कार हत्यारा भनेर यस्ता कुकुर हरु भोट दिएर हुदैन हामि सचेत भै सके छौ हुनु चोर हरु पत्यसाप ।', 'पत्रकार चाई बाट हौ येस्तो तातो छारो अलि अभ्यास पत्रकारिता आईज ।', 'डाका हरु उद्योग बन्द गरे भो बिदेशी कमपनि धमाधम भित्रीन्छ लुटमारा ।', 'जसरी नेता धनाड्य बन्दै त्यसरी कृषक मजदुर हरु कृषि उत्पादन उचित मुल्य नतोकिनु उचित पारिश्रमिक अनियन्त्रित अनुचित मुल्यबृद्दी झन गरिव बनिरहे छन ।', 'पुण्य गौतम जड्या कस कस लाग्छ ।', 'नेपाली हरु दुख बुझ्ने गरिव दुखि आँसु पुच्छिने कै रवि दाइ ।', 'सलाम गगन थापा ज्यु यसरि राम्रो काम जानुस ।', 'जन्मिदा जन्मियौ मर्दा तेसै जाने मान्छे हरु मर्नै नपर्ने अनि मर्दा खेरी सम्पत्ति लाने छ्या लाली गुराँस सहकारी कारबाही हुनु लाली गुराँस सहकारी संस्था खारेज हुनु ।', 'अधिकारी पशु की मान्छे बालुवाटार जग्गा बेची खायौं अझ गुठी हरु छोड्छौ हरु दलाल थुक्क नलायक पशु ।', 'सोमत नभा नी राष्ट्रपति ।', 'देस धमिरा किरा हरु देस खोक्रो पारे ।', 'देश जनता केहि मतलब गरे देखिए ।', 'नगेन्द्र शाही बोले दिमाख तातियो ।', 'मुजि बानियाँ कस्तो खाते गर्दैछ कुलमान नभए आज नेपाल उज्यालो हुन्थ्यो अझ कुलमान कमजोरी देखाउछ यिनी शोषक ।', 'मुर्दार पत्रकार कहलिय कुन्नी', 'गद्दार सर्कार आँखा सक्यो ।', 'कार्यक्रम आउनी सानो ठुलो नेता हरु भ्रष्टाचारि काराबाही सुनिन्छ ।', 'सल्युट यु सर ।', 'भ्रष्टाचार बिरोधि अभियन्ता ज्ञानेन्द्र शाहि माथी राज्य द्वारा बर्बर दमन लोकतन्त्र कम्मर मुनि भुत्ला देखायो ।', 'कस्ताे चित्न नबुजेकाे गधा हरूकाे पत्रकार् एस्ताे भन्दापनि लाजपचाएर बाेल्छन थुइक्क गधा हाे ।', 'देश बेच्न उग्र रुप लागे दलाल देश डुबाय ।', 'धोती प्राध्यापक प्रेसर हाइ भएर यस्ता मुख मै सु अनि लेडिस पेन्टी पेन्टी घाँटी झुन्डएर काठमाडौं रिङ रोड घुमाउनु पर्ने ।', 'लोकतन्त्र नेता नागरिक अभियन्ता हप्काउने हैन ।', 'डा भिमार्जुन बिचार सहमत ।', 'धमला बोलाए गेस्ट सुन्न नसक्ने कस्ता पत्रकार ।', 'देश प्रेमी जनता हिरो ।', 'बिच चोर रय क्स ।', 'बाहुन च्याउ खाए पो स्वाद गुठि नभए बाहुन लाइ गुठि कर्म मर्म थाहा अनपढ बाहुन लाइ निल्दिन्छ ।', 'गगन जि सहि पक्ष गनु पने काम कडाइ गरिए सरकार गरे नराम्रा काम बुलन्द रुप अावज उठाउनु परो हामी तपाईं ।', 'रामकृष्ण ढकाल ठग्ने फाँसी कम ढकाल राष्ट्र गहना रामकृष्ण ढकाल न्याय मिलोस् छिट्टै ।', 'सुशील भाइ खरो प्रस्न सामना गारो तेसै भग्छ्न नालाएक भ्रष्टाचार हरु ।', 'आज बल्ल बल्ल मन शान्ति छायो ।', 'हर्नेभरी बलात्कारि चोर डाँका सन्तान ।', 'हामी नेपाली जन्ता बुज्न थाले भोट अब्स्य साझा हाल्ने छौ ।', 'अहिले ब्यबस्था राजसस्था उत्तम', 'नेपाल प्रहरी कहिले साचो बोल्दैनन ।', 'देश राजा आवश्यकता ।', 'नेपाल संविधान कस् भन्यो बोल्न पाइदैन देसै टुक्र् याउने खुला बोल्दा गर्यौ ।', 'पहिला मोज गारने आहिल हिसा ।', 'सुधार्नु भएछ आज ऋषि धमाला बानी ।', 'भीमाअर्जुन सर सुन्न नपाए थीयो राम्रो सोच ।', 'बधाई दाइ खुशी लागियो आयोजक टिम युबा छान्नु ।', 'रास्ट्रपति बनाउनुस अनि हेर्नुस् यस्ता लिखे रास्ट्रपति भएर ।', 'पुण्य ठुलो झोले होला ।', 'राजेश हमाल दाइ कता जानू भएछ', 'सुशील सर उहाँ कार्यक्रम नहेरी निद्रा लाग्दैन लागिरहनुस हजुर सहि हुनुहुन्छ ।', 'तिर्दैन भन्छत चोर उसै ठूलो श्वोर खाय हग्न पर्छकि पर्दैन कोइसन उतर देउ पैल चोर हरु ।', 'नियाम कानुन साहारा लेर हरुला ।', 'वा वा होनित समर्थन बधाई', 'शेरबहादुर कुर्सी नपाए रीस बिद्धाया देबि भन्डारी पद घमन्ड एही भयो ।', 'पुन्य नरपशु घटना डाईबट ।', 'रबि फसाउने काम पमि रबि ।', 'इ जागिर आयकालाइ समर्थन गरिन्न बिबेकशिलसाझा लाइ गरिन्छ ।', 'प्रतीक्षा फल मिठो भन्छन विश्वास तोडन मृत्यु हुनु प्रछ ।', 'झोले पाठक ओली प्रचण्ड तलुवा चाटेर झुट ।', 'मिस्र जि फेन है ।', 'डुङ्गडुङ गनाए चोरहरुलाइ बर्ष प्रधानमन्त्री हुन्छु प्रधानमन्त्री हरु कर्मचारी हरु भष्टचारि लाइ टुडिखेल राखेर कन्चठ गोलि ठोक्छु ।', 'अपरिपक्व पत्रकार च्याउ सरी चले अनलाईन मेडिया जनमानस भ्रम फैलाउने माध्यम महशुस हुँदैछु ।', 'राजा आउनु पर् भ्रष्टचारी ठुलो खोर बनाएर भित्र्याउनु पर् खाते हरु ।', 'शबै थुलाे माछा अाेलि हाे भ्रष्टाचार राेखछु चाेर उस्काे बाउ शेरे क्राबाई ग्रनुकाे स्ता राेखन पुगे मिली खाउ भाले भ्रष्ट हरू ।', 'पाहुना हरु बाट केहि सिक है गोबर गणेश नेता हरु चीन तिब्रता समाउन सक्छौ', 'येस्तै उच्च आत्मबिस् वस सदै देख्न पाइयोस ।', 'पुन्या भाइ कुकुर नभुक कम्निस्ट् नाम् क थाहा नभए कम्निस्ट छौ हरू ।', 'राष्ट्रपती गरिमामय पद रहेर पद जिम्मेवेरी मर्यादा नबुझेपछी ।', 'जवाफ नरम सम्मानित छन ।', 'कुकुर फाँसी दीनु रबी सर अल द वेस्ट ।', 'मिडिया हेर्दा जनता समर्थन मेयर साब ९९ देख्छु ।', 'सुरज बस्नेत कायर तर्क निडर भएर राख्न नसक्ने ब्यक्ति लिनु पर्यो', 'रबि सर लगायत जना स सम्मान भोलि रिहाई हुनुहुनेछ ।', 'सङ्घियता गणतन्त्र देश खाेक्राे पार्याे ।', 'अधिवक्ता बालकृष्ण नेउपाने शहर अन्तर्वार्ता प्रतिशत सुशील पाण्डे पत्रकार धेरैधेरै सलुट ।', 'जत्ती सरकार मन म्रजी ग्रछ उत्ती मौलाउने बिप्लब ।', 'प्रतिपक्ष बसेर भएन माननीय जि ।', 'जीवित मध्य उहाँ इमान्दार हक्कि जिब्रो नचपाइ प्रष्ट निस्वार्थभाव दृष्टिकोण राख्ने नेता नारायणमान बिजुक्छे मात्रै ।', 'रवि सर बोले कति राम्रो सँग मिठास शब्द बिरोधि हरु जवाफ दिदा छाती ठुलो भयो अति खुशी गौरव लाग्यो रवि सर जिन्दावाद ।', 'बम्जन गलत जति हात ऊठाऔ ।', 'रवी फसाउन किशोर श्रेष्ठ अझ फसाउने योजना बनाउँदै होला सावधान रवी सर ।', 'ज्योति वानियाँ कुलमन हेर अनि तालु हेर अनि तिनि हरु सुनेर रगत उम्लन्छ यार तिर्दैनै रे सर्ब साधारन जनता लाइन काटेर मज्जा ऊध्योग सन्चालन नाफा लिन आज आएर तिर्दैनै खाए फाल्न नजान्ने मुला चोर दलाल ठग ।', 'याे बिश्वराज पाेखरेल भ्रष्ट पार्टी कै दलाल हाे सब झुट बाेल्दै प्रहरी याे जना बध्ध तरिका गरिए एनकाउन्टर हाे प्रस्ट यस्ता प्रहरी हुनु नहुनु बेस नेपाल प्रहरी मुर्दावाद ।', 'एउ टा प्रहरी प्रबकता घरि घरि झुट बोल्नु ठिक हुदैन घटना प्रहरी गलत ।', 'सिदै नकारात्मक सन्देश पुगिरहे ।', 'सुर्य पाठक डाक्टर प्रेम सर ठिक पार्नुपर्छ सुशील जी चलाए कार्यक्रम हेरियो पाठक अनुहार हेर्दा आगो बलेर आउँछ ।', 'होइन देश भ्रस्टाचारी पाता कस्ने आयोग बिक्यो', 'थुक्क राज्य देश चलाउन सक्दैनौ जोगी बनेर हिड कुकुर हरु ।', 'एउ टा धोको रबि लामिछाने प्रधानमन्त्री हेर्न पाउ रबि सर जिन्दावाद', 'राम्रो योजाना हरु छन रबिन्द्र मिश्र सङ्ग रहेछन मनपर्यो ।', 'याे चाेर मानवअधिकार बादी चाेर कालाे कांग्रेस भतुवा भनछ मुजि तालु ।', 'मुन मुत खाको चोर हरु गूठी सकेनन् ।', 'मुजी आईमाई फटाई रहिछे', 'डा केसी काम खाली आलोचना मात्रा सिन्का भाच्दैन ।', 'ठेट्ना हरु तर्क चर्को बोलेर जित्ने पक्ष छ्न् ।', 'खरदार सुब्बा समात्ने भ्रष्ट नेता हरु संरक्षण त्यस्तो पार्टी कार्यकर्ता भर्ति अक्तियार खारिज ।', 'उता धोती हरु जलि रा होला चिनियाँ रास्ट्रपति आउँदा ।', 'अडिक रहनु होला थाक्ने सुबिधा तपाईं जनता १ दिन अबस्य बुझ्ने छन दिनेछन ।', 'रबि दाइ हाइ हाइ प्रचण्ड केपि सेरे बाइ बाइ आउनु रबि दाइ राज्निति आउनु नेपाली जनता माग ।', 'याे बिश्वराज पाेखरेल भ्रष्ट पार्टी कै दलाल हाे सब झुट बाेल्दै प्रहरी याे जना बध्ध तरिका गरिए एनकाउन्टर हाे प्रस्ट यस्ता प्रहरी हुनु नहुनु बेस नेपाल प्रहरी मुर्दावाद ।', 'झोले पुन्ने गौतम लाइ राम धुलाई ।', 'भारत झड तेरि ताेरि ।', 'लम्पट स्वार्थी भ्रष्ट नेता ।', 'प्रस्न कडा गर्नुस पूर्वाग्रही लाग्यो ।', 'रबि जिन्दबात भोलि दिन फेरि दायाँ बायाँ नराम्रो जात भात फरक नआवस है रबि सर आज जति तपाइ सपोट गरे फेरि नराम्रो भो हामी येस्तै ब्रो ज्ये रबि सर ।', 'अस्ती मुनकाे वृयपान नेपालीकाे हीत भन्दै अरिङ्गाल हरू अहिले गुठीपनि त्यही भन्दैछन कृश्यन भतुवा हरू ।', 'नेता ठाउँ भएर काम सजिलो', 'सलुट सुरेन्द्र केसी सर ।', 'निलो कोट लगाउने फटाहा नभए फटाहा रहेछ यस्ता लाइ अन्तर्वार्ता बोलाउनु गल्ति नेकपा राजनीति शास्त्र पढे बेकार अन्त मत रातो कोट लगाउने लाइ ।', 'पुण्य झोले मुदाबाद केपी प्रचण्डे झोले कुकरा ।', 'मुजि गणतन्त्र नेपाल लागी अभीसाप नेता उनी हरु पेट भर्न लागी उनी हरु झोले कार्यकर्ता साथसाथै रीसी धमला कुरै नगरौ ऊ पनी पर्चन्डे पुछर पत्रकार बाहाना ।', 'साले खाते सोम पान्डे थु ।', 'थुक्क पोखरेल माहाभ्रष्ट कुतर्क ।', 'सावित्री सामाजिक बहिष्कार गुमनाम गरौ धर्ति की बोझ ।', 'जना माहा पुरुष ठिक मन्त्री ज्यु प्रष्ट बुज्न सकिन्छ पद पाटी बचाउदै छिन ।', 'प्रचनडे गरे देखेकाे हामी काम याे हाेकि उसकाे अाफनता जागिर खुवाउने मात्रै याे दिन गय ।', 'जनता दमदार कार्यक्रम भ्रष्ट हरु साइड लाग ।', 'हामी नेपाली चीन बाट सिक्नु ।', 'जागिर खुस्किने सवाल ढाकछोप बोल्छ्न दलाल पुलिस हरु थाम्दैनन नेपाली जनता होस पुर्याएस ।', 'खाते नाक भाच्नेगरि हान्न जन्ता हेर्न चाहान्छन ।', 'प्रस्न सोध्ने चाइ भेडे रैछ ।', 'वा राम्रो बोली पत्रकार मित्र ज्यु छड्के सलाम हजुर धन्यवाद ।', 'सारै राम्रो लाग्यो सर हजुर प्रभाबित ।', 'पोख्रेल आफै सरकार आशीर्वाद बाट प्रवक्ता यिनी जनता वफादार हुनै सक्दैनन् ।', 'याे पाठक जन्तु कुन दुनियाँ ।', 'चोर सहकारी संस्था रहेछ पीडित सहकारी संस्था स्टाफ लगायत सम्पूर्ण कारबाही होस् ।', 'जनता जागिसके बुझ पार्टी झोले ।', 'आज ठुला ठुला मान्छे गुमाउनु पर्ने थियन ।', 'सुशिल सर तपाइ सैली सारै मन होइन पाठक बोलि ।', 'ज्योति वानियाँ कुलमन हेर अनि तालु हेर अनि तिनि हरु सुनेर रगत उम्लन्छ यार तिर्दैनै रे सर्ब साधारन जनता लाइन काटेर मज्जा ऊध्योग सन्चालन नाफा लिन आज आएर तिर्दैनै खाए फाल्न नजान्ने मुला चोर दलाल ठग ।', 'कहिले नरिसाइकन अन्तर्वार्ता लिन सक्ने उत्ते जना धैर्यता बढी सालीन व्यक्तित्त्व आदरणीय भूषण दाहाल प्रष्ट वक्ता रवीन्द्र मिश्र संवाद निकै प्रभाव पार् ।', 'सक्यो सक्यो पापि हरु जुन्सु कै कुना बाट लुछी लुछी भ्रस्टाचार गरे ।', 'यीनी हरु जस्ता नकचरा हरु सरकार बर्ष टिक्यो देशै स्वाहा पार्छन बेचेर बिदेश भासिन्छन यीनी हरु ।', 'एक्दम खुसी भो मन सलाम ।', 'हाे सहि कुराे ड साब ।', 'मेअर घमण्डि रैछ देस नियम कानुन मानु ।', 'सावित्री सुबेदिलाइ बम दिदी बैनि कति पैसा किने होलान ।', 'बाघ सिंह बन्न बाध्य बनाउने भ्रस्टाचार नेता झोले कार्यकर्ता धन्यवाद ॥', 'बिजुलि बालेर पैसा तिर्दिन देश धमिरा दलाल हरु मोसो दलेर पाता कसेर देश निकाला ।', 'भ्रष्टाचारि हरु मर्नै पर्ने लिएर जान्छन् अनि मन खिन्न', 'भ्रस्टाचारी कारवाही गर काग्रेस होकि कम्निस्ट नेता होकि कार्यकर्ता वा कोहि ।', 'राजेश्वरी दाइ बिचार उत्कृष्ट पुण्य गौतम सरकारलाइ बोक्न जरुरी ।', 'चोर अनि जनता माहाचोर साला दिमाग नभा जनता यहि हाल ।', 'बाघ सिंह बन्न बाध्य बनाउने भ्रस्टाचार नेता झोले कार्यकर्ता धन्यवाद ॥', 'मुजि काम सम् बानना पुग्यो साला नेता हरू झो रैछ साले हावलदर जति छ्मता नभए ।', 'हे भगवान देश चोर नेता हरु सङ्ग बचाउ ।', '२ साही लगियो २ चै चोर ।', 'थुइक सब सब भ्रष्ट नेता हरु ।', 'काठमाण्डू खलटो मैं चलाऊनू परने भोसोडी वाला हरू ।', 'खाउ चुतिया नेपालि रगत खाएर जु मोटाअो', 'माओ भुक्ने हुन्न काम छैन्न ।', 'बाकिनै यहि गुठी अरुत खतम भै सके नदिनाला कलकारखाना धर्म सस्कृती गै सक्यो बा की आस लाग्दो नेपाली सेना गुठी ।', 'याे हाे देश जनता मागेकाे नेताकाे लाइन ।', 'मानवअधिकार वाद नाम कंलक भनौदी कालो मोसो दलेर सडक नघुमाइ नहुने भयो थुक्क कुकुर्नी जता डलर पायो उतै सरल्क तै न्याय यहि ।', 'तिमि हरु नेपाल आमा कुपुत्र सन्तान हौ लुट लुटेरा हरु ।', 'चोर नेता गरे माफ दिने भ्रष्टाचार नेता जुनसुकै जनता सडक तानेर ल्ययेर आगो लाउनु', 'पुने गोताम पार्टी झोले कुकुर ।', 'राताे काेट लगाउने सर राम्रो गरनु भयाे निलाे काेट गाेबर गरेयाे निलाे काेटे छि छि छि ।', 'यस्था भ्रष्ट नेता हरुलाइ सिधै इन्काउन्टर पाइन्छ नाइ ।', 'झोले डा सुरेन्द्र केसी सॅग राखेर गर्या ।', 'सेरे बोली दैब लगे त्यों उहि', 'सब भु माफिया चाल नेपाल सरकार तिनै भु माफिया गोटि बन्दैछ ।', 'पि डि घुम्टो ओडेर राष्ट्रियता नभए मान्छे काम ।', 'द्वारिकालाल चौधरी मेयर साब ढकमगाउनु हुदैन हामी छौ तपाईं अलिकति हतोत्साहित हुनु हुदैन हाम्रो सुझाब ।', 'असली हिरो कै रबि हुन्न जति हाजिर गरुत हजुर ।', 'भन्दै तेर्साउने ऋषि धमला कार्यक्रम अतिथि जाने हरु सोच्नु पर्ने बेला धमला बात संचालित ।', 'मेयर ज्यु पत्रकार नाक डारि हैन त्यस जता भाबी लेख्ने हात काट्नु सलाम हजुर देश धमिरा हरू नस्ट आब जन फेसला ऐक दम जरूरी', 'न्यूज कायॅक्रम डिसलाइक गनेॅ झोले हरू ठमेल अहिले प्याक हान्दै होला ।', 'भिडियो हेरहोई रबि अन्धभक्ता भेडा पार्टि झोले महा भेढा हरु हामि रबि खुबि सलाम ठोक्छु ।', 'रवीन्द्र मिश्र सर सोज विचार नेता हाम्रो देश अहिले एस्तो अवस्था हुन्न ।', 'हजुर हरु आत्नुस असम्भब ।', 'आँट भा जनप्रतिनिधि सलाम तपाईं पक्ष करोड जनता ।', 'रातो कोट लाउने सुपर ।', 'राजकुमारी रेणु दाहाल राजकुमार पारस ।', 'जब्बर पाईन्छ राजेन्द्र जी', 'मुजि बाग्मति बगाईदिदा राम्रो पी ओली झोले सुनेर रगत उम्लेर ।', 'डा सुरेन्द्र बिस्लेसन लाग्य ।', 'प्रधानमंत्री तपै ३ करोड़ नेपाली जनता ।', 'राताे काेट लगाउने सर राम्रो गरनु भयाे निलाे काेट गाेबर गरेयाे निलाे काेटे छि छि छि ।', 'छि छि फता ऋाषि ।', 'रिसि धमला डाका कस्तो हल्का तर्क मुला दलाल केपि अोलि प्रचण्ड चम्चा मात्रै होइन भारत गुलाम ।', 'सोम् पान्डे औकात् एउटा भ्रस्टाचारि मतियार् बाहेक् केहि छैन् ।', 'पुन्य गौतम घमण साले कस्तो साले कुकुर कुकुर सहि तरिका भुक्छ यार ।', 'सुसिल पान्डे रबि हिरो प्रहरी प्रबक्ता अक बक्क पार्नु भय बधाइ ।', 'थोडी झुसे लुटेरा भ्रष्टाचारी नस्लबादी झुसे हरु होर', 'आज मजा कार्यक्रम नसकिन्जेल हेरिरहन मन लाग्यो ।', 'चेली जिन्दगी दिनुभए हजुर देश भगवान ।', 'गल्लि भुक्ने कुकुर हरू हिजोआज कता गएछन रबि दाईकाे माहानता हेरेर सिक भाडा टट्टू हरू ।', 'शुशिल जि धन्यवाद राम्रो प्रश्न सोध्नु ।', 'हामी गगन थापा जि भासण कति सुन्यौं कति एउ टा नेपाली बुझुन हहि विशेष गरिकन एउ टा खुट्टा तान्ने पाती जाति धर्म अनावश्यक बिसय बस्तु उथाएर नेपाली नेपाली बिच लदाउने खेल हुदैछ', 'निर्दोष शालिकराम मारेर निडर सहासिक जनता हिरो रबि लामिछाने फसाउने षड्यन्त्र हुदैछ सत्य तथ्य अाउनु शालिकराम रबि न्याय पाउनै वास्तविक हत्यारा पत्ता लगाउनै ।', 'रास्ट्रपति बन्न लायक सपूत ।', 'पत्रकार ठिक लागेन ठिक भयो मेयर जि यस्तै देश राम्रो ।', 'रबि हैन उस बाउ फरक पर्दैन राम्रो काम मेयर साब हाम्रो समर्थन ।', 'जन्मिदा जन्मियौ मर्दा तेसै जाने मान्छे हरु मर्नै नपर्ने अनि मर्दा खेरी सम्पत्ति लाने छ्या लाली गुराँस सहकारी कारबाही हुनु लाली गुराँस सहकारी संस्था खारेज हुनु ।', 'बुदो दोषी नेता हरू दोषी दोशी भेडा जन्ता ।', 'पल हाम्रो महत्त्व पुर्ण ।', 'थुक् एमाले गोठालो यस्ता मुला जड्या दलाली डलरे गोठाला बोल्ने तरिका तेरो यस्ता मुलालाइ नेता चाहिँ कस् बनायो ठिक ठिक बेठिक बेठिल भन्न नसक्ने कुपुत्र हरु किना गर्छौ राजनिती बोरु इशाइ धोती धोयर बस्न यार ।', 'नेपाल पत्रकार कम पुत्रकारी छन सलाम मियर ज्युलाइ जय नेपाल ।', 'राफेल भ्रष्टाचार कोपि गरेछ हवाइड वडो थाहा ।', 'देस लुटे पाप', 'दुइ जना हेर्दै भिलेन ।', 'नेपाल प्रहरी दोसिलाइ सम्मरज्ञक गरिएकाो शुशिल सर शहि पस्न गरिरहनु छ् ।', 'चिंत्त बुझ्दो जवाफ पटक् कै आयन रबि फसाउन प्रहरी समेत लागी परे ।', 'पुन्य गौतमे राम्रो झोले पो रेछ गाठे ।', 'उता धोती हरु जलि रा होला चिनियाँ रास्ट्रपति आउँदा ।', 'सुशील पान्डे एउ टा शाहासिक पत्रकार ।', 'थुक्क ककुरनि सावित्री तेरो कुन चाहिँ कार्यक्रम नेपाली जन्ता दिन्छन १ लाख २ लाख जन्ता जम्मा सक्छु भन्छेस ४ जना मान्छे जम्मा देखा हेरम खातिनी सावित्री ।', 'खाते हरु कार्बाही जरुरी ।', 'छि छि थुक्क रास्ट्रपति औकात अलिकती सरम लाज देश खोक्क्रो बनायो मुजि बाहुन बाहुनी हरु ।', 'भ्रस्ट नेता दलाल पत्रकारहरूकाे घेरा पर्नुभएजस्ताेछ ।', 'कमेन्ट गर्दा समातेर देलान् की डर ।', 'ई ठग हरु छोड्नु हुँदैन ।', 'यही चोज बिचार लाइ गरे हउ हामी बिस्वास अनी हउ कती सादा जिबन अनी उच्च बिचार हाम्रो रबी दाई सिकउ सिकउ ।', 'द्वारिकालाल जनप्रतिनिधी हरु एउ टा हैन देश हजारौ जन्मिनु अनि देश सम्बृदी बाटो अघि बढ्न मेयर साप सलाम', 'पार्टी भतुवा देश इतिहास बिर्सेर कुरो गर्दैछ राजा देश बनाय भय कहा बाट लोकतन्त्र गणतन्त्र ल्याथ्यो देश खोक्रो बनाइ सके यस्तै गद्दार नेता हरू गर्दा राजा फालेर आफु राम्रो काम सक्नुपर्छ अनि पो सुहाउछ ।', 'सभ्य सुस्कृत पारदर्शी राजनितिक ब्यबस्था नेपाल आज आवश्यकता ।', 'हेरेर राजा ठिक छन ।', 'नेपाल नेपालि आज खुसि दिन ।', 'यस्ता झारपाते हरु सगँ राखि लिएर ।', 'खाते साला हु भन्छ साला खाते साले तेरो चुतिया साला झोले कृस्रन पैसा खायर पढे होलास कुकुर ।', 'जाबो एउ टा जवाफ दिन नसक्ने चोर साले', 'काठ्माडो न्यावार जाति लाइ हरुलाइ लगार्ने नियात ।', 'भ्रष्ट दलाली अनि माफिया राष्ट्रघाती नेता हरु दिन ।', 'लुट्तन्त्र बिरोध लुटतन्त्र अटाउन्नन ।', 'रविसर रिहाइ गरियोस ।', 'खत्रा बहस च्यानल सत्य तथ्य तुरुन्त आउनु पर्यो जन्ता जान्न चाह्न्न्छ ।', 'सुशील पान्डे सहि निडर निर्भीक पत्रकार सलुट ।', 'रबिन्द्र सर आवाज जोस दम आश रबिन्द्र सर ।', 'उनि निर्दोष १०० ढुक्क ।', 'हामी जनजाती आदिबासी क्षेत्री बाहुन हरु मुख राम राम हात छुरा हुदैन सफा मन कुल मान घिसिंङ्ग द्ववरीक चौधरी प्रमणित गरे ।', 'बिजुली चलाउने बेला चलायो पैसा तिर्ने बेला रु ने उद्योग मालिक हरु लखेटे राम्रो उद्योग औ ।', 'राष्ट्रघात अपराध लुट बिनाश अद्योगती केहि नदिए अपराधीक गुन्डाराज गणतन्त्र ब्रेन डेथ भइसके ।', 'पुणय महा झोले भिजिलान्ते हरामी ।', 'रास्ट्र कै गहना माथी यत्रो अन्याय हैट लालिगुरास कडा कारबाही माग गरौ साथी हरू ।', 'पत्रुकार रगत उम् कुन दिन पोखिन्छ सारै उग्ररूप उत्तेजित ।', 'भ्रष्टाचारी घुस्खोरी नेपाल प्रहरी भाला मत्तितेल लगाएर टिकापुर जीउँदै आगो लगाउनुपर्छ जनता हरु ।', 'बम दिदि बैनि मुर्दावाद', 'रभि लामिछाने दाइ पत्रकारीता जगत कै हिराे हरू हात यता ठडाम', 'रबि दाइ बास्तबमै रियल होरो हुनुन्छ देश दुख पर्दा अन्याय पर्दा भगवान हैन रबि दाइलाइ सम्झिन्छन नेपालि हरु ।', 'उपस्थित विद्वान हरु कस कस गुठी', 'जात धर्म असर नपर्ने तरिका एउ टा एडेन्डा बनाउनुस अनि त्यस्तो एउ टा नया पार्टी निर्माण गर्नुस जनता हजुर भोट दिनेछन हामि प्रधानमन्त्री हेर्ने ठूलो सपना जय नेपाल जय रबि सर धन्यवाद मदन क्यानडा नेपाल युनिट ।', 'झोले हरु काम बिथा विभिन्न गर्छन यार बिथा पारो तातिने ।', 'जाठो पुलिस प्रसासन गतिलो सब मिलिमतो काम चलाउछन भतुवा हरु ।', 'कुलमान घिसिङ जिन्दाबाद सिङ्गो देश नेतृत्व परो घिसिङ आस्याङ्ग नाई देश मुहार फेर्छ ।', 'प्रत्रकार ज्यु प्रश्न सोधे भयेन अध्यन गरनु प्ररो डा सर तपाईं जस्ता वैदिक देश कदर सम्मान भयेन दु ख द ।', 'चोर भ्रस्ट नेता हरू मिडिया आएर बाँदर बथान कराए कराइ रहन्छ ।', 'वाक्य पिछ्छे पढाईकाे धाक लाउछ झाेले ।', 'सवै सपोट समर्थन गरौ हार्दिक नमन अहिले रबि सर यक्दमै जरुरी रबि लामिछाने जिन्दाबाद ।', 'सुरेन्द्र मान्छे चमचे अगाडि दलाल हासो मन परेन ।', 'राबिलामिछाने नियात राम्रो मान्छु ।', 'नेपाल हिरो रवी लामीछाने', 'सहि कुरो मेयर जु छोडनु हुदैन भ्रष्ट दलाल झोले हरु खान नपाएर आरोप काम प्रतिक गर्व सलाम ज्ञानेन्द्र साही सुरेन्द्र सर बालकृष्ण आम जन्ता दिनेछो ।', 'आज नेपाल राम्रो मान्छे नाम अनि सुची कुलमान गनिनु ।', 'नेकपा भतुवा भुकीरा ।', 'गधा नेता हरु जति दुध नुहाएर गाई बन्न खोजे यिनि हरु कर्यसैली नियत प्रष्ट सङ जनता बुझिसके आगामी चुनाव देखाइ दिनेछन् यिनि हरु औकात ।', 'सय सत्तरि प्रसेन्ट जन्ता रबि ढुकढुकि ।', 'सुशील जि ठिक है प्रश्न गराई ।', 'कार्यक्रम हेर्न पाउदा दशै लाग्छ रवि सर ।', 'सरकार हिम्मत रवि दाइ फसायर देखा अनि थाहा देश यसकाे मूल्य ठुलाे चेतना भय ।', 'केपी झोले रहेछ ।', 'ज्ञानेन्द् सरकार पुर्खा हरू आर्जे देश राजा भयर तँ नरेन्द्र कुत्ता राजा तो तँ काहा नाड०गो कुकुर होस तेरो काल आईपुग्यो साला कुत्ता तँ पट मुर्ख खोईरो लागे कुकुर पाँखें तेरो काल पख', 'पशुपति पोल्ने ठाउँ रे भर्स्तचारि मृत् युडाँडा हजु तेसै अजीवन कैद गरे हजुर बाँकी मुजी सरकार भरस्तचारी रहेछ कस् हल्ने जैल सरकार १ जन नरहने खरेज देश् बाट लखेते समपती जाम गरे ।', 'देश आबश्यकता तपाईं कति राम्रो बिचार असल पत्रकार दाई सलाम ।', 'यस्ता गैरजिम्मेदार चोर टीवी नेपाली जनता नदेखाऊन अनूरोथ ।', 'भणडारि लई कालोमोसो लगाएर भगउनु तर्क चै नदीने खालि राम्रो ।', 'मेयर की मरे स्याल ।', 'प्रदिप यादव एकदमै सहि ।', 'वा रबि सर तपाईं हामी सबैकाे मन मष्तिक बस्नु भयाे बधाई तपाईं ।', 'रबि सर माथी भरोसा बिस्वास गरे छन मंत्री भय पछी देश जन्ता लागी ।', 'पुलिस सग भय मोबाइल भिडियो कसरि प्रत्रकार सग पुग्छ तेहि रबि मन नपराउने मान्छे सग सब रबि सरलाइ फसाउने खेल ।', 'बाबुराम पत्रकार पि एच डि धम्की पो ल्गाउछन ।', 'सबैभन्दा दोषी नेपाली जनता तेस्तो खाते नेता हरू जिताउने काम गर्छन्', 'रामकृष्ण सर मान्छे तेस्तो हावा सस्था समाज काम ।', 'नेपाल प्रहरी कति लाचार अनि भ्रष्ट त्याे राम्ररी बुझिए बिषय हाे स्पष्टीकरण दिनुपर्दैन सब प्रहरी नेता चाकरी भतुवा ।', 'रातो कोर्ट लाउने सहि गरे ।', 'बिचरा युबराज कति माया लाग्दो युबराज रबि सहकर्मी उस्लाइ वास्ता नगरे होला मलाइ युबराज पो माया लाग्यो ।', 'चाडै पधान् मत्रि देखन् पाँउ यहि मेराे अाशिर्बाद हजुर रबि सर ।', 'महिला पन्छे बाजा सहित रबि दाइ स्यागत ।', 'नेपाल कल कर्खाना नदि नाला बेची सके मठ मन्दीर बेची खाने नियत ।', 'ठिक मेयर साहब पत्रकार महोदय कहा देख्नु भयो गरीब जनता सुनवाइ ।', 'हैत्त बाहुनि एउटा सोझो राई छोरो खत्तम बनाउने खेल ।', 'धन्येबाद एभिन्वुज कार्येक्रम सन्चालक ज्यु छान्बिन प्रक्र्ये भिडियो प्रसारण मिडिया नखोजि रबिलामिछाने लाइ हिरासत लाने वाआअ एस्लाइ प्रहरी कालो कर्तुत अथबा भर्स्त हरु दबाब कारण कस्तो न्याए', 'केवल हरू पैसा पद माया ।', 'हजुर पाईला अगाडि बढिरहुन् रवि सर', 'सागर सर देखिएकाे राष्ट्रभक्ति सलाम ।', 'रवि दाई पृथ्वी सतह तिन करोड नेपाली किशोर श्रेष्ठ इसा श्रेष्ठ जस्ता हरु बुझ्ने ठोक्नु ।', 'होनि तरिका गरे हुँदैन ।', 'सवै भष्ट कानून बनायेर फासि दिनु ।', 'याे झुट बाेल्छ ज्ञानेन्द्र शाहि काे झुट बालेकाे ।', 'रबि लामीछाने जस्ताे पत्रकार पाउनु नेपाल नेपालीहरूकाे गर्व काे बिषय हाे ।', 'मान्त्री गाली बिनाबाउ केटाकेटी हरु नकरात्मक कमेन्ट अफैँ थुक्ने काम गरे ।', 'सरासर झुठो बोली ।', 'रामकृष्ण ढकाल सर ठगन भियाए सर्वसाधारण कति ठगे होला संस्था माथी छानबिन कडा कडा कार्वाही होस ।', 'रबि सर पछाडी लाग्ने झोले पत्रकार हरु खोजीखोजी कार्बाही ।', 'खाते साला हु भन्छ साला खाते साले तेरो चुतिया साला झोले कृस्रन पैसा खायर पढे होलास कुकुर ।', 'सत्ताधारी कथित कम्युनिष्ट चोर लुटेरा खाते हरु रति लाज लाग्दो रहेनछ ।', '', 'पुन्य झोले लाइ कान जाली फुट ने हान्नु पर्ने ।', 'साला नाके बाहुन गूठी बिदयेक पारित भु माफिया सग अरबौ रुपियाँ लुतेर खाने दाउ ।', 'कमिसन खोरी हरु बाटो खोजी रहे लाटा बुजे लाजमर्दो तर्क नगर चोर हरु ।', 'पाखन्डी भन्डारी क्रिश्चियन दलाल ओलि मुत पिएर होलि वाइन सोझो गर्दैछ नेपाल परम्परा सस्कार सस्कृती मास्ने नियत ।', 'ओलीनै चोर बकि नगरम भो ।', 'राजा हुदा देश बिचियो सरकारि जग्गा बिचियो खाते पार्टी नेता अाए सब बेच्न थाले ।', 'चाेरै चाेर लुट्न सके लुट कान्छा लुट्न सके लुट देश पाईदैन नेपालमै हाे छुट ।', 'आरोप प्रत्यारोप पर्दैन पार्टी नेता हरू चोरै चोर छन ।', 'हाम्रो देश दलाल भर्स्त हरु राज भयो देश कहिले बिकास नहुने भयो नालायक चोर हरु ।', 'शक्तिशाली आयोग तिनै सरकारी जग्गा हड़पने चोर हरु होलान हैन', 'अपराधी डाँका हरु स्वर्ग सपना देखाएर राजा फाले रहेछ्न कम्मर मुनि भुत्ला देखिने प्रष्ट भयो ।', 'चोर ल्याए सामान किन्नेलाइ सामान जफ्त सहित थप सजायं कानूनी व्यवस्था ।', 'काङ्ग्रेस कम्युनिस्ट नेता हरु चोर फटाहा', 'हान्छु गोली आयेर चोरहरुलाइ याद गर ।', 'केश्ब चोर रिस उठछ ।', 'ओई माकुरि ति तिम्रा शक्तिशाली आयोग हरु कै झोल हली भतुवा राख्छौ सुरेन्द्र केसि पाईलट बिजय लामा अर्जुन सुबेदि हरु जस्ता राख्छौ तिम्रो आयोग तिम्रो भतुवा हरु मात्रै राख्छौ ति आयोग घाम मुतेर सुकाईदीए ।', 'हजुर कार्यक्रम राम्रो पावर बेला सरकारी जमीन देश बेचीसके चोर नेता हरू ।', 'चोर जना जेल हाल्दिनु ।', 'तिनै पाती चोर इनी हरू जन्ता मिलेर जेल हाल्न ।', 'चोरी माल सस्तो खरिद गर्नुपनि अपराध ठहरिन्छ त्यसैलै नेता फटाहा चोर ।', 'राजनीतिक पार्टी हरु चोर हरु ।', 'चोर छन यिनी हरु कड़ा कड़ा कर्बाही होस ।', 'यसभन्दा भाते हरु अालोपालो सत्ता थियौ पाजी हरु ।', 'सोमे माचिस कार्यक्रम बोलाउनु हुदैन ।', 'राणि वान हरु ढाड भाँच्चिने कर लादे ।', 'जरा गाडे होइन मुला रुख बनिस ल्याङ्ग गरे यार बिस्व् नम्बर भर्स्टाचार मुलुक बित्तिकै थाहा पाउन त् ।', 'सोम खाते दलाल जहा भेट्यो तेही कालो मोसो दलेर जुत्ता माला लगाएर सहर घुमाउनु यस्ता दलाल ल्याएर जनता यस्ता नरपशु अनुहार नदेखाउनु होला ।', 'यीनी हरु जस्ता नकचरा हरु सरकार बर्ष टिक्यो देशै स्वाहा पार्छन बेचेर बिदेश भासिन्छन यीनी हरु ।', 'सुरेन्द्र भन्दारि सहि भन्नू भो साला रारिका बान चोर नेता हरुलाइ तुधीखेल लगेर गोलि थोग्नुपर्छ ।', 'थुक्क सोम खाते फेरि जस अनुहार नहेरौ त्यस ल्याएछ खाली सरकार बचाउ ।', 'लास्ट सोम पान्डे गधा बोले सुन्नैमन थीयन झन तेही खाते बोल्यो ।', 'लुट लुट साला हरू बाउ सम्पती नेपाल लुट याद राख चोर भ्रष्टाचारि हरु परित्राणाय साधुनाम बिनासचाय च दुसकृताम ।', 'साले खाते सोम पान्डे थु ।', 'चोर हरु गल्ती स्विकार्नु कहाँ कहाँ दोस लगाउदै जाने स्साला भ्रष्ट हरुलाइ लाजै ।', 'ज्योति वानिया साले दहिचिउरे कुत्ता भ्रष्ट फताहा हरु देश सक्ने भयो ।', 'जाँठा डाका हरु बंग्याई सिधैं भन्नु हौं लुट्छ हामी लुट्नु पाउ तिर्दैनौ नौटंकी धत्', 'खाते मुजि हरु बिजुली चलाउने नाफा कमाउने अनि पैसा चहिँ नतिर्ने', 'जाँठा हरु बम हानिन्छ ।', 'यिनी चोर हरु जनता अन्धकार रखेर धुनु सुधारने कुकुर हरु कुलमन सार गरे ठिक काम ।', 'साला कुत्ता थग हरुलाइ छोद नु हुदैन एउटा गरिब जनता सय रुपया नतिर्दा लाइन कात्ने अर्बौं रुपिया नतिर्ने साला कुत्ता हरु यस्ता कुत्ता हरुलाइ नछोद्नु कुल मान सर ।', 'साला कुत्ता थग हरुलाइ छोद नु हुदैन एउटा गरिब जनता सय रुपया नतिर्दा लाइन कात्ने अर्बौं रुपिया नतिर्ने साला कुत्ता हरु यस्ता कुत्ता हरुलाइ नछोद्नु कुल मान सर ।', 'साला कुत्ता थग हरुलाइ छोद नु हुदैन एउटा गरिब जनता सय रुपया नतिर्दा लाइन कात्ने अर्बौं रुपिया नतिर्ने साला कुत्ता हरु यस्ता कुत्ता हरुलाइ नछोद्नु कुल मान सर ।', 'मुजि बानियाँ कस्तो खाते गर्दैछ कुलमान नभए आज नेपाल उज्यालो हुन्थ्यो अझ कुलमान कमजोरी देखाउछ यिनी शोषक ।', 'मुजि बक्बास नगरी राजस्वा तिर्ने कुल मान घिसिङ्ग जि अफ्ठेरो पार्ने काम बन्दा गर बिधुत छोर दलाली ब्यपारी ।', 'लाईन होईना बिल नतिर्ने उद्योगी घाटि काटनु प्रछ साले खाते हरु ।', 'खाते अन्तर्वार्ता दिन आउने हरु एकपटक आफु चिन्ने कोसिस', 'चाहियेन गणतन्त्र सङगियाता ८०० डाका हरु लुटेर सकिसके जनता करेइ कर आफु हरु करोड् गाडी सयेल ।', 'ए राडी बान धमाला पैले तेरी छा स्वासनी सि गणतन्त्र ।', 'मुजि गणतन्त्र नेपाल लागी अभीसाप नेता उनी हरु पेट भर्न लागी उनी हरु झोले कार्यकर्ता साथसाथै रीसी धमला कुरै नगरौ ऊ पनी पर्चन्डे पुछर पत्रकार बाहाना ।', 'वढि हुडार हरु सिंह आहार खोसेर रजाइँ गर्दैछन् ।', 'याे मुजि धमलाकाे अनुहार हेर्न मन लाग्दैन ।', 'ल मूजि धमला जनता जान्न चाहन्छन् तै प्रचंडे देउवा ओली दलाली कति कमाईस्', 'हिजडा नेता अर्का बोकाइदिए भारी बोके नेपाल प्रयोगशाला बनाए ।', 'प्रचण्डे फ्या हड्डी खाने कुकुर ।', 'लुटेरा हरु कुनैपनी लूटन दिनु हुदैन भयो नेपाल् हिन्दु रास्ट्र घोषणा धार्मिक संरक्षक राज सस्था सहित कार्यकार्य प्रधानमन्त्री व्यवस्था हुनु विकल्प ।', 'साले कुत्ता हरु कती लुट छौ देशलाइ ।', 'भारत कुकुर हरु जन्ता मिलेर फाँसी देनु देश लुटने चोर हरु ।', 'कुन कुन मुजी खाते हरु छन हात उठाउ ओलि दाहल देउबा हरु सोझो हरु', 'चिक्ने हरु ला', 'बिच बस्ने कुकुर त्यही काङ्ग्रेस दलाल साले बचाउ मात्रै बोल्ने साला कुत्ता ।', 'बिच बस्ने कुकुर त्यही काङ्ग्रेस दलाल साले बचाउ मात्रै बोल्ने साला कुत्ता ।', 'नेता चोर यार थोरै खान्छ कोहि खान्छन् फरक त्यही चोर दलाल हरु साला देस भिखारी पन बनाय छि छि दलाल हरु देस छोड साला दलाल हरु ।', 'नेता चोर यार थोरै खान्छ कोहि खान्छन् फरक त्यही चोर दलाल हरु साला देस भिखारी पन बनाय छि छि दलाल हरु देस छोड साला दलाल हरु ।', 'चोर अनि जनता माहाचोर साला दिमाग नभा जनता यहि हाल ।', 'हिन्दी चलचित्र नायक एउटा वाक्य याद उपर से निचे तक सब चोर है साले ।', 'थुक्क नालायक भ्रष्टाचरि नेता राडि छोरा केपि प्रचण्ड देउवा दलाल चिक्ने ।', 'थुक्क नालायक भ्रष्टाचरि नेता राडि छोरा केपि प्रचण्ड देउवा दलाल चिक्ने ।', 'तामाङ छोरो हिजो सत्य बोल्दा देश भरि भरौटे नेता चुतिया मिडिया हरु मिलेर रुवाउदै राजिना दिन लगायो', 'तेरिमा माचिक्ने रन्डि बान ।', 'बेइमानी गधा रबिन्द्र अधिकारी निर्देशन पालक दास ।', 'पशुपति पोल्ने ठाउँ रे भर्स्तचारि मृत् युडाँडा हजु तेसै अजीवन कैद गरे हजुर बाँकी मुजी सरकार भरस्तचारी रहेछ कस् हल्ने जैल सरकार १ जन नरहने खरेज देश् बाट लखेते समपती जाम गरे ।', 'या्े रन्डि काे अनुहार देख्नु', 'रन्डी सावित्री तेस्त गर पनो छक्का ।', 'रन्डी सावित्री तेस्त गर पनो छक्का ।', 'साला साबित्रा सुवेदी रन्डी कालो मोसो लगाएर परिक्रमा गराए हेर्न यकदम मन ।', 'साला साबित्रा सुवेदी रन्डी कालो मोसो लगाएर परिक्रमा गराए हेर्न यकदम मन ।', 'साबित्री सुबेदी पैसा बिक्नी कुकुरनी', 'साबित्र सुबेदी चुतिया यस् कार्वाहि गर ।', 'राणी सावित्री रन्डि ।', 'राणी सावित्री रन्डि ।', 'रन्डी भालु छ्क्का सावित्री पैसा बिग ने निर्मला न्याय पितिकोत प्रदशन नाम छक्का शरीर देखायो अहिले बम दिदी बहिनी पैसा दिय होला अनि उनि हरु पक्ष बोल्दै कुकुरनि ।', 'रन्डी भालु छ्क्का सावित्री पैसा बिग ने निर्मला न्याय पितिकोत प्रदशन नाम छक्का शरीर देखायो अहिले बम दिदी बहिनी पैसा दिय होला अनि उनि हरु पक्ष बोल्दै कुकुरनि ।', 'जाठो सावित्री जन्तु खादि नेपाली बलात्कारी एहि हैना साथि हरु तेस् बाजे खोराङ खोराङ ।', 'जाठो सावित्री जन्तु खादि नेपाली बलात्कारी एहि हैना साथि हरु तेस् बाजे खोराङ खोराङ ।', 'साबित्रे भालुनी लै बम दिदी बहिनि भालुनी पैशा किनेछ भालु हरु बोली सुन्दा दिदी बैनी गरे ।', 'सावित्री रन्डि मिले रैछ था भयो ।', 'थुक्क ककुरनि सावित्री तेरो कुन चाहिँ कार्यक्रम नेपाली जन्ता दिन्छन १ लाख २ लाख जन्ता जम्मा सक्छु भन्छेस ४ जना मान्छे जम्मा देखा हेरम खातिनी सावित्री ।', 'भालुनी सावित्री कुकुरनी मिले रहेछ आजा प्रक्षया थाहा भयो निर्माल बहिनी बलत्कार लगाउने यनि भलु हरु रहेछ पहिला जाती आन्दोलान गरे यनि हरु नाटक रहेछ आजा बल थाहा भयो ।', 'भालुनी सावित्री कुकुरनी मिले रहेछ आजा प्रक्षया थाहा भयो निर्माल बहिनी बलत्कार लगाउने यनि भलु हरु रहेछ पहिला जाती आन्दोलान गरे यनि हरु नाटक रहेछ आजा बल थाहा भयो ।', 'भालुनी सावित्री कुकुरनी मिले रहेछ आजा प्रक्षया थाहा भयो निर्माल बहिनी बलत्कार लगाउने यनि भलु हरु रहेछ पहिला जाती आन्दोलान गरे यनि हरु नाटक रहेछ आजा बल थाहा भयो ।', 'ये कार्यक्रम हेरौ छक्का आकि रहेछ तेसै हेर्न मन लगेन यार ।', 'सावित्री कुकुरनी ल्याए धमला सर एस गाला साला फुट्ने हान्न सक्नु भएन ।', 'थुक्क पैसा बिकने सावित्री हीजडा ।', 'थुक्क रन्दी हरु हेर लाज पचाउन रोए नाटक गरे ।', 'बम दिदी बहिनी ब्यस्या बिस्ट छोरा मेयर भतिज ओछ्यान ।', 'साबीत्रा हिजडा पछी नलाग बैनी तिम्रै बेईजत हुनेछ ।', 'साइकल ४बजे भेटियो लास चै कहिले भेटियो हा साला कुकुर्नी हरु ।', 'सावित्री छक्क अनुहार थुक्क आज लोदर लाग्ने भो ।', 'हिजडा रनडि पैसा खाएर घुम्ने थाले ।', 'सावित्री छक्का बोलाए ।', 'ए धमला गुना जसतो कपाल भा हिजडा लया ।', 'पहिला सबित्री छक्का लाइ लात लाएर देश निकाल गर ।', 'नेपाल राजा नेपाली हाेईन् साला हाेलिवान् काे दलालि बडि नबाेल ।', 'भुस्याहा कुकुर बरबराउने गरे प्रचण्ड ।', 'साला कुकुर प्रचण्डे खाते तेरो खरानी दिन आइसक्यो नभुक छोएर देखा राजालाइ तेरो चाहिँ बकबास बन्द गर ।', 'साला कुकुर प्रचण्डे खाते तेरो खरानी दिन आइसक्यो नभुक छोएर देखा राजालाइ तेरो चाहिँ बकबास बन्द गर ।', 'आतंककारी राजा भुक्न सुरु गर् दलाल साला तहि बना देश', 'रंडि छोरो रॉ दलाल ।', 'माचिक्ने प्रचण्ड मार्नु ।', 'प्रचण्ड रेबिच लागे कुकुर होस ।', 'हेर चोर नेता आतिए राजा आउला डर छोरी बुहारी आशे पासे जागिर जाने भो ।', 'देश पानी खान नपाए जनता मरदैछन् याे परमाणु बम बनाउने संविधान बिधेक पास गरिस साला झनडु नेता हरु अमिरिका नेपाल बाट समपति लुटेर लानछ अनि नेपाल अफरिका बनाउछ अनि नेपाली जनता भात हाेईन् गाेलि खानु ।', 'गोकुले चुतिया खतरनाक राउन्ड किक हानेर नाँक डाँडी भाँचिदिनुपर्छ ।', 'पश्चि हरु दलाल प्रचनडे चोर ।', 'डाका हरु भन्दात राजानै ठिकछ ।', 'साले कुकुर प्रचण्ड भासण गर्दा अलि कति लाज लाग्दैन हुनु बेस्यालय मालिक लाज ।', 'साले कुकुर प्रचण्ड भासण गर्दा अलि कति लाज लाग्दैन हुनु बेस्यालय मालिक लाज ।', 'राजा हटेर जन्ता फाएदा भयो जन्ता झन बल्त्कार चोरि बडे चोर कस्तो ३८ कुईन्टल चोरि प्रचन्ड केपि अोलि जना जन्ता अघाए रराज अतिए गनतन्त्र अाए नअातिनु नेपाल गारो हुनथियो ।', 'अनि हत्यारा ज्ञाने चोर जेल कोच्नु ।', 'ओय साला पुर्बा अतनकारी परचनडा तँ चोर भनिस हाम्रो देश महाराजधिराजलाइ ।', 'ओय साला पुर्बा अतनकारी परचनडा तँ चोर भनिस हाम्रो देश महाराजधिराजलाइ ।', 'राजा आउ देश बचाउ प्रचन्ड् चोर डाँ देश बाटा भगाऊ ।', 'नेपकौ केपि कुकुरलाइ गौलि हानुपरछ कुकुर डाकालाइ ।', 'नेपकौ केपि कुकुरलाइ गौलि हानुपरछ कुकुर डाकालाइ ।', 'नेता बलत्कारी घुसखोरी मारेउ तिमि हरु नेपाली जन्ता ।', 'शबै चाेर नेता परचनद महाचाेर जनता मारने शमपति बैक लुटने देश टुकराउने शमुद्व डुबेर मारउ ।', 'बिप्लव नेता हरु मकेभन्चाहानछु देश सोजासाज जन्ता केहि नहोस भ्रष्चारि दलाल भुसिया कुकुर हरु ठिक पार्न गोलि ठोक्नु परे ठोक्नुहोस तेस् राम्रो सपोट रहनेछ ।', 'दिक्क लाग्छ कस्तो कुकुर हरू नेता हरू भएकाे देश जन्मिएछ थुईक्क ।', 'साला भ्रष्ट कुपत्रुकार किशोर रबि पत्रकार हैन होला ।', 'राडि बान हरु ।', 'रबि पुलिस समातो रबि हत्यारा भन्दै खुब चम्कियो एउ टा नरपिसाच किसोर श्रेष्ठ जन्तु भिडियाे मिडिया फैलाउने तेईहो भन्छन करोड जनता संखा गरे छन जन्तु माथी बुदासैनि हत्यारा तेइहो भनेर तेस समातियेन', 'डिसलाइक १२ जाना रबि ज्यु हिरासत मन पर्ने थिएछ खाते हरु', 'मुला चितवन आन्दोलन विभिन्न भयो लाज है अहिले रबि दाई निस्कने बेला चै अनुवार देखाइराछ हुत्तिहारा ।', 'डिसलाइक १२ जाना रबि ज्यु हिरासत मन पर्ने थिएछ खाते हरु ईन्डिया बाट कति खुशी रबि ज्यु आउनु ।', 'रबिदाई भयो साले नेपाल चोर नेत ओलि सिधाईदिने नया सम्बिब्धान लिउने नेपाल नेता हरु चोर ।', 'रबिदाई भयो साले नेपाल चोर नेत ओलि सिधाईदिने नया सम्बिब्धान लिउने नेपाल नेता हरु चोर ।', 'खाते युटुबे हरु युटुबेनै की न्युज भिन्दैर शीर्षक भिन्दै राख्छौ भुउज बराउन खाते मुलाहो सहिर सत्तेकुरा प्रसारण तिमि हरु जनता सरसम्मान गाली गर्दैनन धन्यवाद ।', 'खाते युटुबे हरु युटुबेनै की न्युज भिन्दैर शीर्षक भिन्दै राख्छौ भुउज बराउन खाते मुलाहो सहिर सत्तेकुरा प्रसारण तिमि हरु जनता सरसम्मान गाली गर्दैनन धन्यवाद ।', 'कन्डम फुटेर जन्मे दिल निशानि रबि बिरोध ।', 'रिसि धमला डाका कस्तो हल्का तर्क मुला दलाल केपि अोलि प्रचण्ड चम्चा मात्रै होइन भारत गुलाम ।', 'धमाला साला पसु पाति झोले ।', 'ॠषि धमला पागल हाे हावाकाे सब थहा कस दिएकाे पत्रकारकाे नक्कली लैसन ।', 'हिजो आ युटुबे प्रश्न सोधाइ हेर मुजि ।', 'ऋषि धमाला चाहिँ भ्रष्ट दलाल चोर नेता हरु चम्चे ।', 'ऋषि धमला १०० भारत दलाल ।', 'ऋषि कुकुर खै ।', 'हावा हावा गफ बस्छन् मुजि हरु ।', 'ऋषि धमला पार्टी जुठो खाने भतुवा कुकुर हाे थुक्क चाेर ।', 'ऋषि धमला पार्टी जुठो खाने भतुवा कुकुर हाे थुक्क चाेर ।', 'जनतालाइ विभाजन चोर नेता हरू ।', 'मेयर त्यही भन्दिदा चै अपराधी', 'आफु गरे चमत्कार गरे बलात्कार', 'आफु गरे चमत्कार गरे बलात्कार चौथो लिंगि हरु', 'खाते पत्रकार नाक डाँडि होईन हात खुट्टा भाँचिदिनु साले कुकुर ।', 'खाते पत्रकार नाक डाँडि होईन हात खुट्टा भाँचिदिनु साले कुकुर ।', 'हुनत मपनी क्षेत्री धिकार मुजि बाहुन बादी मिडिया बाहुन हरु ।', 'साला नालायक तँलाइ भेट्यो तेरै माइक थुतेर तेरो मुख फुट्ने बजाउछु साले बोल्ने शैलि थोप्पो नरहेछ गधा ।', 'साला नालायक तँलाइ भेट्यो तेरै माइक थुतेर तेरो मुख फुट्ने बजाउछु साले बोल्ने शैलि थोप्पो नरहेछ गधा ।', 'यिनै राडिकाछोरा हरु गर्दा देश बिकास नसके ।', 'समाज भार्न्ति फैलाउने गलत समाचार देखाउने सहि मान्छे गलत गलत सहि पार्ने यिनै माच्चिक्नि हरु ।', 'चुप साला चाटुकार पत्रुझार ।', 'मेयर साब सहि यस्तै नेता हरू जरुरत नेपाल सलाम द्ववारिका सर नाक हैन ढाडनै भाचनु घुसखोरि जग्गा माफिया भरौटे पत्रुकारनै इ कुकुरहारु छोडनु हुदैन ।', 'गल्लि भुक्ने कुकुर हरू हिजोआज कता गएछन रबि दाईकाे माहानता हेरेर सिक भाडा टट्टू हरू ।', 'गद्दार सर्कार आँखा सक्यो ।', 'नेपालि इज्जत फाक्यो कुकुर कुकुर्नी हरु पाहुनालाइ राम्रो सङ स्वागत गरेन कम्सेकम २ हात जोदि नमस्ते ।', 'लाज पचे नकचरा नेता हरु गरुम सकिम दुनियाँ कहाँ कहाँ पुगिसके स्याल नेता हरु दुनु सोझ्याउन होईन देश सोझ्याउन लाग ।', 'हरु घर आफ्ना बा आमालाइ इन्कार अलछिना हरु ।', 'दिन काठमाडौ शहर झिलिमिली बनाएर सधैं भरी बनाउन साला चोर भ्रष्टाचार लुटेरा नेता ।', 'साला भिकारी हरु तिम्रा बाउ ठूलो होला ।', 'आखिर देश जनता बेइमान कुकुर हरु केहिपनि होइनन् ।', 'काङ्ग्रेस झन चोर दलाल हि गर्दैन ।', 'गगन थापा रणडी छोरा माचिक्ने चोर कुकुर अझ पढ्नै नसक्ने लेख कमेन्ट बन्द भन्द भो मान्यवर', 'काङ्ग्रेस भस्ट्चार चोर भनेर कम्युनिस्ट बलत्कार हत्यारा भनेर यस्ता कुकुर हरु भोट दिएर हुदैन हामि सचेत भै सके छौ हुनु चोर हरु पत्यसाप ।', 'तेस्ता मुजि हरु प्रतिपक्षी रे', 'गगन गर्जियो योपनि हिजु दिन तेस्तैहो साले कुकुर ।', 'रा रास्ट्रपति लाइ कस् बोले बुझ्छ ।', 'जस्ता नारी देश राष्ट्रपति भन्न लाज आफैलाइ श्रीमान हत्या जाठी थुलो लाज ।', 'केपि चोर लागेर श्रीमान मार्ने छि छि तिम्रो दिन ।', 'उस्ता मुजि देश राष्ट्र पथि थुक्क साला ।', 'उस्ता मुजि देश राष्ट्र पथि थुक्क साला ।', 'बिध्यादेबि साले रण्डि छोरी पोईमारा पसुपति तेरो छिटै अन्त्य गरून् इज्जत आउदैन रैच ।', 'शेरे बोल्छनै तेस्तै पत नपाउदा मुर्छा परेछ साला चोर हुनत बिध्या भन्दारि हाई हाई भन्न खोजे होइन है साथी ।', 'याे मदनेकि स्वास्नी हाे केपिकि रखेल', 'थुक्क रण्डी बोल्नु बोल्नु हुदैन थाहाँ ।', 'साला दिलनिसानी मगर चुपलाग साला खाते सब भस्ट्चार घुस खोर दालाल हरु काम रबि सर फसाउन ।', 'साला दिलनिसानी मगर चुपलाग साला खाते सब भस्ट्चार घुस खोर दालाल हरु काम रबि सर फसाउन ।', 'सुँगुर माथी गयर गु खान पाउछु भन्नू साला सुँगुर दिल साचो बोल्नु यौतै ।', 'साले कुकुर पत्रकार चुतिया तो इन्डिया चिन्ता लाग्यो जानू उतै मुन्टिनु कुकुर ।', 'साले कुकुर पत्रकार चुतिया तो इन्डिया चिन्ता लाग्यो जानू उतै मुन्टिनु कुकुर ।', 'साले कुकुर पत्रकार चुतिया तो इन्डिया चिन्ता लाग्यो जानू उतै मुन्टिनु कुकुर ।', 'सहि विश्लेषण केशी डा साब मिडिया कै नेपाल चुतिया छ्न एउटा सहि लेख्दैनन ।', 'खाते पत्रकार चही गु खा साल तेरो पत्रकार आउदैन ।', 'खाते पत्रकार चही गु खा साल तेरो पत्रकार आउदैन ।', 'चिक्ने पत्रकार विहारी परेछ की कसो मुजी नेपाल प्रशन गनुनी नेपाल देश ईन्डीया स्टेट होर सुरेन्द्र केसीसग प्रशन गनु यार अच्म आझै बषेॅ पडेर आऊ पत्रकार भाई ।', 'चिक्ने पत्रकार विहारी परेछ की कसो मुजी नेपाल प्रशन गनुनी नेपाल देश ईन्डीया स्टेट होर सुरेन्द्र केसीसग प्रशन गनु यार अच्म आझै बषेॅ पडेर आऊ पत्रकार भाई ।', 'चिक्ने पत्रकार विहारी परेछ की कसो मुजी नेपाल प्रशन गनुनी नेपाल देश ईन्डीया स्टेट होर सुरेन्द्र केसीसग प्रशन गनु यार अच्म आझै बषेॅ पडेर आऊ पत्रकार भाई ।', 'खाते पत्रकार प्रशन कस्तो लामो चि साले थुक खाते तेरो बुद्धि अलिक सिकेर बोल्नुपर्छ ।', 'खाते पत्रकार प्रशन कस्तो लामो चि साले थुक खाते तेरो बुद्धि अलिक सिकेर बोल्नुपर्छ ।', 'चोर पत्रकार पत्रकार भयो कुल्ली भरिए हैसियत नभए पत्रकार सुरेन्द्र केसी अन्तरबार्ता दिन पुगेयो', 'राडि बान पाखे पत्रकार तै सोद्नी प्रसन एस्तै पाखन्डि ।', 'राडि बान पाखे पत्रकार तै सोद्नी प्रसन एस्तै पाखन्डि ।', 'मुख थप्पड हान्न पर्नी पत्रकार रैछ खाते ।', 'कुकुर पत्रकार चुतिया बोल्ने शैली सोध्ने प्रश्न्न दाम गालत यस्ता पत्रकार हुनु भान्दा नहुनु बेस साले चोर पत्रकार ।', 'कुकुर पत्रकार चुतिया बोल्ने शैली सोध्ने प्रश्न्न दाम गालत यस्ता पत्रकार हुनु भान्दा नहुनु बेस साले चोर पत्रकार ।', 'कुकुर पत्रकार चुतिया बोल्ने शैली सोध्ने प्रश्न्न दाम गालत यस्ता पत्रकार हुनु भान्दा नहुनु बेस साले चोर पत्रकार ।', 'मुजि पुन्य आफै लेखचर दिन्छ लामो केपि प्रचण्ड सरकार बिपल्ब खोजिखोजी दिन्छ दन्क ।', 'मुजि पुन्य आफै लेखचर दिन्छ लामो केपि प्रचण्ड सरकार बिपल्ब खोजिखोजी दिन्छ दन्क ।', 'पुन्य गौतम ओलि पाल्तु कुकुर', 'यू पुन्य आफ्ना आमा दिदीबहिनी श्रीमति पैसा बेच्छ होलीयन मुत्र पिएर मति भ्रष्ट ।', 'यू पुन्य आफ्ना आमा दिदीबहिनी श्रीमति पैसा बेच्छ होलीयन मुत्र पिएर मति भ्रष्ट ।', 'अपराधि प्रचन्डे झोले फुर्ति नगरे पुन्य गौतम कुकुर ।', 'ई पुन्ने गौतम भन्नेब्यक्ती जिब्रो नकाटेको होला बाउला कुकुर भुकने सहिकुरा कहिलै सत्यकुरा भोल्दैन ।', 'पुन्य गौतम हिजोआज बौलाए रहेछ बोल्नु हुँदैन थाहा ।', 'बाैला गाैतम जेमन लाछ तेहि बाेलछस ।', 'मुजि पुन्य गौतम साला अन्ध भक्त ।', 'मुजि पुन्य गौतम साला अन्ध भक्त ।', 'पुन्य बाैला तलाइ लावलागदैन जेपनि बाेन ।', 'हान सागर जि साला दशै बस्नी हान्नु पर्यो कुकुर बदि भुक्दै ।', 'हान सागर जि साला दशै बस्नी हान्नु पर्यो कुकुर बदि भुक्दै ।', 'पुन्य गौतम ग्यानेन्द्र साहि घटना नेकपा आरोप लागे भय रण्डि बान तेरो पुलिस समाउदैन ।', 'पुन्य कुकुरलाइ गुउ खुवाउन अनि यस् सहि बोल्छ ।', 'पुण्य गौतम सरकार नोकर नभए नेकपा अवश्य बफादार कुक्कुर ।', 'देस जन्ता सेवा भन्न लाज लाग्दैन रन्डि छोरा पुन्री गौतम ।', 'साला पून्य कहिले मर्छ होला कुकूर भूके भूक्छ ।', 'बाबुराम पीएडी ऊसतै चोर पुन्य पातकी डाका ।', 'बाबुराम पीएडी ऊसतै चोर पुन्य पातकी डाका ।', 'कुकुर छाऊरो गलत भन्दैछ कुकुर बेरोजगार झोले नेपाली भलो चाहन्न है कुरो सत्यता ।', 'कुकुर छाऊरो गलत भन्दैछ कुकुर बेरोजगार झोले नेपाली भलो चाहन्न है कुरो सत्यता ।', 'पन्ने मुजिलाइ ब्रेनवास गर्नकोलागि राडिकाछोरा खटाए ।', 'पन्ने मुजिलाइ ब्रेनवास गर्नकोलागि राडिकाछोरा खटाए ।', 'चिक्नेलाइ कन्डो अागो लाऊोन ।', 'साला कुकुर पुन्णु लाइ लात हानेर आउट कुकुर बलतकारि यइ ।', 'साला कुकुर पुन्णु लाइ लात हानेर आउट कुकुर बलतकारि यइ ।', 'मुजि बोलेर जित्न सक्दैन अनि दुनियाँ दिन्छ साले खाते ।', 'मुजि बोलेर जित्न सक्दैन अनि दुनियाँ दिन्छ साले खाते ।', 'चिक्ने रन्डि छोरो मास्टर टुडिखेल जिउदै चिरि चिरि नुन खुर्सानि दल्लनु खुकुरि घाटि रेटनु पर्ने धन्यवाद रवि दाई अघि बढनुस् ।', 'धाेती सले चाेर खाते नेपाल अएर नेपाली चेलीबेटी फासी गनुपछ बलात्कार ।', 'साले इन्डियन मार्नु बस्न तयार जेल मार खाते ।', 'क्यामेरा एकछी बन्द रगत छात्ने हान्नु पर्ने साले कुकुर रिस आज उठे ।', 'साला धोति लाइ करेन्ट लगाएर जुत्ता माला कालो मोसो दलेर भारत लखेट्नुपर्छ ।', 'भगवान कसम मलाइ साला धोती नरपिचास मुख हेर्दा भिडियो हेर्दा मै भेटे मै आफै काटेर साला हजार टुत्रा पारिदियर जन्म कैद बस्दाम झै भैसक्यौ ।', 'भगवान कसम मलाइ साला धोती नरपिचास मुख हेर्दा भिडियो हेर्दा मै भेटे मै आफै काटेर साला हजार टुत्रा पारिदियर जन्म कैद बस्दाम झै भैसक्यौ ।', 'पुलिस बन्यो ओकील बन्यो हरू भारतीय दलाल साला कुकुर हरू ।', 'लालिगुरास सस्था सुरेन्द्र श्याम प्रदेशी चोर डाका रछ साले छोडनु हुन्न दलाल चोर ।', 'थुक्क राज्य देश चलाउन सक्दैनौ जोगी बनेर हिड कुकुर हरु ।', 'साला यता हाजिर उता हाजिर रिस उठ्छ कुरै छोड राम्रो गर ।', 'घुसखोर ददाल भ्रस्ट मुर्दाबाद ।', 'आनुहार हेर्दा दलाल भ्रष्टाचारी गुण्डा ।', 'तेरै गुरु राम्राे हाे ढाेङ्गि ढाेङ्गि काहा बाट अायाे याे लिटल बुघ पाखन्डि साला ।', 'धर्म सम्मान चोर हरु तह लगाउनु हाजिर हुनु ।', 'राजा बाट जनता तिमि जनता बाट नेता भ हौ भोलि फेरि फर्किनु पर्ला याद राख चोर नेता भ्रष्टाचार कर्मचारी ।', 'चिक्ने गुरु खै कता गुरु जाठा हरु कुन दुनियाँ माधरचोत हरु जाठो गुरु थोपडा हेर्न पाउनु पर्यो ।', 'चिक्ने गुरु खै कता गुरु जाठा हरु कुन दुनियाँ माधरचोत हरु जाठो गुरु थोपडा हेर्न पाउनु पर्यो ।', 'चिक्ने गुरु खै कता गुरु जाठा हरु कुन दुनियाँ माधरचोत हरु जाठो गुरु थोपडा हेर्न पाउनु पर्यो ।', 'चिक्ने गुरु खै कता गुरु जाठा हरु कुन दुनियाँ माधरचोत हरु जाठो गुरु थोपडा हेर्न पाउनु पर्यो ।', 'राम बा बम्जन मुजि घन्टा गुरु ।', 'मुजि गुरु रे भिखारि ।', 'बलात्कारी बाउ छोरो कता गयो मुजि रबि दाजु हिरासत हुदा खुब लाख माग्यो भनेर आरोप लगाईरा रण्डि छोरो ।', 'बलात्कारी बाउ छोरो कता गयो मुजि रबि दाजु हिरासत हुदा खुब लाख माग्यो भनेर आरोप लगाईरा रण्डि छोरो ।', 'बलात्कारी बाउ छोरो कता गयो मुजि रबि दाजु हिरासत हुदा खुब लाख माग्यो भनेर आरोप लगाईरा रण्डि छोरो ।', 'डिसलाईक हरु गधा हरु नेता गोठाला हरु आजै मर साले हरु राम्रो खबर डिसलाईक गर्छन् चोर हरु ।', 'डिसलाईक हरु गधा हरु नेता गोठाला हरु आजै मर साले हरु राम्रो खबर डिसलाईक गर्छन् चोर हरु ।', 'जना भ्रष्टचारी सन्तान हरू हात किरा परिसकेछ हान्न ।', 'थुईक्क एमाले गोठालो यस्ता मुला जड्या दलाली पुण्य गौतम खाली बिदेसि गुनगान बढाइचढाइ मात्रै ।', 'मलाइ रातो कोट लगाउने मित्र साह्रै मन पर्यो झोले जुठेभात खाने खाते सुन्दा चै साच्चै पारो तातेर हौ ।', 'नेकपा मुला पशुपति सेलाउन लगे तेरि टोक्ने हरु पढाइ घमण्ड बुद्धि चाक मुनि रहेछ मुला', 'ओली चम्चा घोकन्ते विद्यावाला खाते सोध्छ जेहोश ओली उखान टुक् सब रटेछ यस्तै गुं घोकन्ते पढेर गतिलो पढ्ने नेपाल इज्जत भा', 'नेता भनाउदो कस चेलो लार भायौ गाजा खाएर बो लिरहे ला परशन एउ टा उतर अर कै पो दिनछ बा कै रनडि चेलो ।', 'ओए मुजि पुन्य गौतम खाली बिदेसि गुनगान बढाइचढाइ मात्रै गर्छस', 'वाला नेता रे छि छि छि छि लाज लाग्नु पर्ने एउटा प्रश्न उत्तर दिन ३ सोध्दा मोडछ खाते नेता कहिले नबोलाउनु होला', 'नेकपा मुला पशुपति सेलाउन लगे तेरि टोक्ने हरु पढाइ घमण्ड बुद्धि रहेछ मुला', 'काम गरे तेरो सरकार साला पुर्ती लाउछस ।', 'रण्डी मदर मुन सुक्रकिट मिसाए होलि वाइन खाए होला ढाकछोप बोल्छ ।', 'कस्तो पत्रु मान्छे नालायक धिक्कार होसा तेरो जीवन', 'मुजि पाठक जापान मासु बोग्दा बोग्दा खुबै ठूलो ठूलो भुग्छ साले कुत्त ।', 'मुजि पाठक जापान मासु बोग्दा बोग्दा खुबै ठूलो ठूलो भुग्छ साले कुत्त ।', 'रन्डी छोरो अरिंगाल पाठक लै पाटे मुडेर खुला मंच उल्टो पारेर झुन डाउ ।', 'इ माचिक्ने नेता हरुलाइ थेगान नलगाउने ।', 'कस्तो कमिनीस्ट माचिक्ने झुट कती बोले जाठा हरू कमिनीस्ट नेता भनादा ।', 'साला खाते नेता हरू चुप लाक नेपाल नेपाली जनता राजा लेयाउने हाे जय राजा जय नेपाल राजा नेपाल बनायाकाे हाे नेपाल राजा हाेईन् राजा अाउ नेपाल बचाउ ।', 'राजा एकीकरण बनाए देश छाती फुल्काएर नेपाली हु भन्न पाए अझ ठुलो स्वर साला आतंककारी ।', 'मुजि नगेन्द्र साही तेरो पार्टी योगदान मुजि देशद्रही जंगली तेरो केपि प्रचण्ड बना देश तेरो बाउ बिर्ता ।', 'मुजि नगेन्द्र साही तेरो पार्टी योगदान मुजि देशद्रही जंगली तेरो केपि प्रचण्ड बना देश तेरो बाउ बिर्ता ।', 'भन्दे एउ टा राजा फाल्ने मुर्कट्टा हरु आज हज्जारौं ब्वाँसा मिलेर गिद्ध सिनो लुछे जसरी लुटेर देश सखाप पार्र्यो ।', 'मुजि नेकपा गुखा नेता बोली हेर्दै चोर लाग्यो ।', 'खाते नेतागिरि हरु जति कार्यक्रम राखेर समेलन गराउ त्यस बम बिस्फोट गराएर ध्वस्त पार्न मै बम बिस्फोट गराएर ज्यान दिन ससक्छु ता की मेरा सन्तति नेपाली हु भनेर गर्व सकुन ।', 'माचिक्ने प्रचन्द लाइ सिदै गोलि हान्छु रादि छोरा हरु देश दोर्ही जनता पशिना चुसिरा छस मुजि प्रत्र कार ।', 'रन्डि बाहान नगेन्द्र चम्चा साला ।', 'रन्डि बाहान नगेन्द्र चम्चा साला ।', 'साला राज तन्र्त नेपालि जन्तालाइ लुटन पाइ न्न जन्ता बुइ चढेर नेपालि जन्ता राज पाइन्न इसाइ डलरे हरु लाइ थाहा थ तेसै राजतन्तर बिरोध गर्छन साला धर्म बेचुवा देश बेचुवा पाय चेलिबेटि बेच्छन् साले इसाइ डलरे हरु ।', 'साला राज तन्र्त नेपालि जन्तालाइ लुटन पाइ न्न जन्ता बुइ चढेर नेपालि जन्ता राज पाइन्न इसाइ डलरे हरु लाइ थाहा थ तेसै राजतन्तर बिरोध गर्छन साला धर्म बेचुवा देश बेचुवा पाय चेलिबेटि बेच्छन् साले इसाइ डलरे हरु ।', 'साला राज तन्र्त नेपालि जन्तालाइ लुटन पाइ न्न जन्ता बुइ चढेर नेपालि जन्ता राज पाइन्न इसाइ डलरे हरु लाइ थाहा थ तेसै राजतन्तर बिरोध गर्छन साला धर्म बेचुवा देश बेचुवा पाय चेलिबेटि बेच्छन् साले इसाइ डलरे हरु ।', 'मुजि केपि चम्चा लाइ गोलि खाना मन लायो', 'भोलि राडि चढे गाडि भोलि आउने गोरु नचढ्ने होला', 'भोलि राडि चढे गाडि भोलि आउने गोरु नचढ्ने होला', 'या्े गणतन्त्र का्े मुजि गधा मुर्दाबाद राजतन्त्र जिन्दाबाद राजतन्त्र जिन्दावाद जय हा्ेस पशुपतिनाथ ।', 'ज्ञानेन्द् सरकार पुर्खा हरू आर्जे देश राजा भयर तँ नरेन्द्र कुत्ता राजा तो तँ काहा नाड०गो कुकुर होस तेरो काल आईपुग्यो साला कुत्ता तँ पट मुर्ख खोईरो लागे कुकुर पाँखें तेरो काल पख', 'मुजि नगेन्द्र गणतन्त्र झोले अनि चाकरी ।', 'नेपाल प्रहरी भएर सहि जवाफ नदिने भिडियो लिग भयो प्रहरी मुचुल्का उठा मोबाइल चोर बिश्वराज मल्ल बचाउदै है नेपाल प्रहरी बिश्वास है यहि कुकुर बच्चा हरु मिलेर रबि फसाउदै ।', 'यस्ता दोधार माधर्चोत ल्याए थुक्क हरु जुनि नालायक ।', 'याे सुरज मिले खाते हाे पदमुखि प्रहरी मुखि साला भाते घुमाउछ ।', 'याे सुरज मिले खाते हाे पदमुखि प्रहरी मुखि साला भाते घुमाउछ ।', 'प्रहरी गफ दिदै साला ।', 'खाते मुजि सरकार नेपाल पुलिस बचाउ गर्दैछ ।', 'जस्ता खाते अहिले कति छानबिन निस्पक्ष गरियो यउटा भन्न सक्छस हामी त्तकाल भन्दैनौ नभने भिडियो ईडिट तथाकथित पत्रकार चै दिईन्छ भनिनस ।', 'मुजि काम सम् बानना पुग्यो साला नेता हरू झो रैछ साले हावलदर जति छ्मता नभए ।', 'मुजि काम सम् बानना पुग्यो साला नेता हरू झो रैछ साले हावलदर जति छ्मता नभए ।', 'मुजि काम सम् बानना पुग्यो साला नेता हरू झो रैछ साले हावलदर जति छ्मता नभए ।', 'याे पाेखरेल खाते चाेर बर्दिकाे नाम कलङ्क हाे थुक्क किरा पराेस ।', 'याे पाेखरेल खाते चाेर बर्दिकाे नाम कलङ्क हाे थुक्क किरा पराेस ।', 'प्रस्न उतर दिन नसक्ने कुकुर पोखरेल नाक उ लगाइस ।', 'नेपाली पुलिस चोर खाते हरु कुकुर ईज्जत् होला खाते पुलिस नेता दलाल हरु ।', 'बोल्नै मिल्दै भ ने आय रन्डी छोरो पुलिस सोदे बोल्नै मिल्दै यार अनि लाडो आय मुजि ।', 'बोल्नै मिल्दै भ ने आय रन्डी छोरो पुलिस सोदे बोल्नै मिल्दै यार अनि लाडो आय मुजि ।', 'बोल्नै मिल्दै भ ने आय रन्डी छोरो पुलिस सोदे बोल्नै मिल्दै यार अनि लाडो आय मुजि ।', 'जाबो एउ टा जवाफ दिन नसक्ने चोर साले', 'कुकुर किसोर शेरेस्ठ कम्युनिस्ट खोल ओडेर कम्युनिस्ट बेजत गर्यो यस्लाइ बास कप्ट्यारो हानेर फकलक् कै बनाउन ।', 'खाते भारत गर्छस भारतिय दलाल ।', 'हाँ हाँ साले चोर भष्ट् हरू बिनालगानि उधोग संन्चालन देश ख्रोक्रो पारेउ सब युवा बिदेश पलायन बाध्यबनायेउ खाँअो खाँअो कति सजिलो गफ गरन ।', 'तेरि डाकाहाे खाअाे खाअाे अपराधि हाे ।', 'राजनीति आम्दानी पेसा बनाए छौ होइन चोर हरु ।', 'लाजै लाग्यो थैट मुला खाते हरु कुन मर्यादा काहा काहा बोल्दैछु थुइक्क जाठा हरु ।', 'लाजै लाग्यो थैट मुला खाते हरु कुन मर्यादा काहा काहा बोल्दैछु थुइक्क जाठा हरु ।', 'मुजि पत्रकार रिसी धमला रहेछ आफु बोल्छ बक्ता हरु लाइ बोल्न देन भोडगधा ।', 'मुजि पत्रकार रिसी धमला रहेछ आफु बोल्छ बक्ता हरु लाइ बोल्न देन भोडगधा ।', 'कसरि पत्रकार भयो भोडगधा ।', 'कुकुर बिरला झगड़ा चोर हरू बोलन लाज पनी ।', 'यिनी चिक्ने हरु जन्म कैद मान्छे ।', 'मात्रै साला दलाल हरु ।', 'यस्ता गद्दार नेता हरु गलत्याएर फाल्नुपर्छ आम जनता मिलेर यस्ता नेता हुन्छन् कुकुर खान नपाए लुछाचुडी ।', 'यस्ता प्रश्न नसोध्नु पो कुकुर जस्ता अलिकति नेता बुद्धि नैतिकता', 'थुई चोर उस् ठूलो सोर भष्र्टचारै भष्र्टचार लाज लाग्दै चोर हरु ठुला ठुला डा ।', 'नेता हरु चाेर पानिमाथिकाे वबानाे बन्न खाेच्छन डम्ना हरु ।', 'नेता हरु चाेर पानिमाथिकाे वबानाे बन्न खाेच्छन डम्ना हरु ।', 'मिलेर खाउ भाले चाेर हरु ।', 'थुक्क चुतिया हरु लाज सरम दुबै जना चुतिया भ्रष्टाचार नाइके हौ ।', 'थुक्क चुतिया हरु लाज सरम दुबै जना चुतिया भ्रष्टाचार नाइके हौ ।', 'नेता चोर भर्ट जनता खुन चुसने अनि ठुला ठुला ।', 'चोर भ्रस्ट नेता हरू मिडिया आएर बाँदर बथान कराए कराइ रहन्छ ।', 'चोर हरु लाजै नलाग्ने गर्छन् ।', 'हे भ्रष्ट चोर हरु लाज लाग्दैन', 'लाज सरम पचे चोर दलाल हरु ।', 'रन्डि भ्रस्ट छोरा हरु कति लुट्छौ', 'भ्रष्टाचार चुर्लुम्मै डुबे देश नेपाल थुईक्क चोर दलाल हरु ।', 'कस्ताे चित्न नबुजेकाे गधा हरूकाे पत्रकार् एस्ताे भन्दापनि लाजपचाएर बाेल्छन थुइक्क गधा हाे ।', 'याे चाेर मानवअधिकार बादी चाेर कालाे कांग्रेस भतुवा भनछ मुजि तालु ।', 'बिस्वराज पोख्रेल कुकुर लाइ कस् बनायो डि आइ जि गोलि लागेर मिर्तु होइन पहिला हातखुट्टा भाचिदिएर गोलि हानी हत्या गरे छर्लङ्ग साला नक्कली भिदन्त बनाउछ खाते ।', 'बिस्वराज पोख्रेल कुकुर लाइ कस् बनायो डि आइ जि गोलि लागेर मिर्तु होइन पहिला हातखुट्टा भाचिदिएर गोलि हानी हत्या गरे छर्लङ्ग साला नक्कली भिदन्त बनाउछ खाते ।', 'पुलिस हाकिम साला ।', 'घटना घटे ५ ठाउ हात भाचने भिडन्त रडिकाे छाेरा भाेलि पुलिस जागिर खाने हाेस रामाे गर रनडिकाे छाराण ।', 'घटना घटे ५ ठाउ हात भाचने भिडन्त रडिकाे छाेरा भाेलि पुलिस जागिर खाने हाेस रामाे गर रनडिकाे छाराण ।', 'माचिक्ने रन्दि छोरा राम बहादुर बादल साले खाते रन्दि छोरा बिस्वराज पोखरेल मार्नु छाडा रन्दि छोरा हरु ।', 'माचिक्ने रन्दि छोरा राम बहादुर बादल साले खाते रन्दि छोरा बिस्वराज पोखरेल मार्नु छाडा रन्दि छोरा हरु ।', 'माचिक्ने रन्दि छोरा राम बहादुर बादल साले खाते रन्दि छोरा बिस्वराज पोखरेल मार्नु छाडा रन्दि छोरा हरु ।', 'साला पोखरेल नेपाल पोलीस बननालायक छैना सालाखाते नेता हरू चमचा झोल ।', 'राडिकाे छोरा मुख देख्दा रिस उठेर आउँछ सुशील सर हजुर बधाई एकचोटि पागल ज्ञानेन्द्र शाही सङ्गै बनाएर अन्तर्वार्ता गराउनु पर्यो अनि भन्छ गर्दा आज समग्र प्रहरी सस्था बदनाम भयो ।', 'मुजि पोखरेल लठौरा नम्बर झुते साले हरामि खुद ज्ञानेन्द्र शाही जिउदै हुनु यातना दिएर खुट्टा भाचेर हैन प्रहरी बाट यातना भा भन्दै बोल्ने झुटे मुजि पोखरेल शिक्षा कमि ।', 'मुजि पोखरेल लठौरा नम्बर झुते साले हरामि खुद ज्ञानेन्द्र शाही जिउदै हुनु यातना दिएर खुट्टा भाचेर हैन प्रहरी बाट यातना भा भन्दै बोल्ने झुटे मुजि पोखरेल शिक्षा कमि ।', 'मुजि पोखरेल लठौरा नम्बर झुते साले हरामि खुद ज्ञानेन्द्र शाही जिउदै हुनु यातना दिएर खुट्टा भाचेर हैन प्रहरी बाट यातना भा भन्दै बोल्ने झुटे मुजि पोखरेल शिक्षा कमि ।', 'केहो केहो काहाॅ बाट प्रात भयो भन्न लाज लाग्दैन चोर प्ररबक्ताता पापी ।', 'गधा झुट बोल्यो इन्काउटर नाम मान्छे मार्न पाईन्छ मुठभेड मान्छे हात ठाउ भाचिन्छ ।', 'पुलिस जहिलेनि झुट बोल्छ साला ज्ञानेन्द्र साहि हिरा सत कुट्छ कुटे छईन भन्छ साला चोर पुलिस ।', 'पुलिस जहिलेनि झुट बोल्छ साला ज्ञानेन्द्र साहि हिरा सत कुट्छ कुटे छईन भन्छ साला चोर पुलिस ।', 'खाते अधिवक्ता दिनेश त्रिपाठी अावज सुन्न मन पर्दैन ।', 'खाते रन्डि छोरा कस्तो मानव अधिकार बादी', 'बर्दी लगा चोर पुलिस थुक्क तेरो बुदि', 'ओय साला पोखरेल तं साला कति झूठबोलना सकेहोला ।', 'गोलि हान्यो तिर्थ लाइ प्रहरी चोर होश प्रबक्ता ।', 'पोख्रेल खाते बिषय झुठो बोले अहिलेत सरासर गलत बोल्दैक्स ।', 'कुकुर पत्रकार साला जबर्जस्ती माफ माग्न लगाउने तँ कुकुर', 'साला सब मेयर साब कै परेछ पत्रकार अन्तर बर्ता देखाउदै नत सोधेनन् एउटा भ्रष्टचारि पर्दाफ़ाश गर्दा एति सासती एति जवाफ दिनुपर्ने मेयर साब थूईक नेपाल पिते पात्रुकार कुपात्रुकारिता ।', 'मेरय सायब ठिक यस्ता पित पत्रकार खातेलाइ नाक डाढी भाच्ने हैन गोलि हानु मेयर साएब ।', 'मेयर साहिब बाकि ठिके प्रस्तुत हुनुहुने सहिली चाहि फेरनु होला नेपाल ९० संत पत्रकार जासुशि नेपाल चैवर नेता छेवरा दलाल छन जस्ते हुदाण ग्नेन्द्र साह मुदा झैलेपत्रकार कणला चोर ।', 'राणि छोरा हरु जाबो गल्त समाचार सम्प्रेषण प्रकासित पुत्रकार सम्मान पर्ने', 'पत्रकार सुन्दा माचिस पत्रकार भ्रष्टाचारि हरु सङ्ग चिया पानी खाए बुडेसकाल कुटाइ खालास ।', 'पत्रकार नाम तलुवा साले अङ्ग्रेजी बुझ्छ नाइ पत्रकार ।', 'समस्या भनेर नबुझ्ने गोरु मुजि डण्ठे आई जिपि पद पायो हँ ।', 'ए रन्डी छोरा नेपाली प्रहरी हिमत हामी जस्ता सच्चाँ नेपाली दे बर्दि सक्छस् ।', 'फेरि टीकापुर घट्ना दोहोर्याउन पर्यो सुन चोर हरु ।', 'नेपाल प्रहरी नेपाल ठुलो चोर अनि बलातकारि छन ।', 'साला डिआइजी जागिर खुस्किनु पर्ने रहेछ ।', 'यस्ता पुसिल्लाइ भाला हानु साला कुकुर हरु तेसरी पिते अझ भन्छ पुलिस गल्ती भा भनेर ।', 'नेपाल प्रहरी चोर दलाल भ्रष्ट बलत्कारी समर्थन पुलीस ।', 'की ग्यानेन्द्र साही घतना उथाय थुला मिडिया भनाउदा हरु झोले कुकुर पत्रकार हरु कता मरे ।', 'चोर प्रहरी भस्टचारी प्रहरी घुस्याहा प्रहरी गुन्डागर्दी प्रहरी बलात्कारि प्रहरी ।', 'चोर प्रहरी भस्टचारी प्रहरी घुस्याहा प्रहरी गुन्डागर्दी प्रहरी बलात्कारि प्रहरी ।', 'साला प्रहरी घुसिया ।', 'घटना पुर्ण रुप षडयन्त्र योजना बद्द तरिका भये किनकि सबिन्द्र मिश्र वइड बढी केस नाम खुलाउछ भनेर मुक्य केपिवली सेरे चोर सङ्लन्ता घटना घाटये', 'माैसम बिग्रएकाे पठाईयाे गफ साला भाते ।', 'ठुक् भालुनी रहेछ जनता सेवा ।', 'भाइरल रहर रन्डी कुन पार्टी झोले उक्साए दुओ सय खाएर छि ।', 'भालु आइमाई चाहिने बेला मज्जा थाप्ने बलात्कार ।', 'बौलाएर भालु बरबराएर नांगै हिडीछे पार्टी निस्कासन गर्यो अहिले बौलाऊदै हिडीछे बेश्या लय की आईमाई', 'बौलाएर भालु बरबराएर नांगै हिडीछे पार्टी निस्कासन गर्यो अहिले बौलाऊदै हिडीछे बेश्या लय की आईमाई', 'रन्डी भालु सत्यता ।', 'माव बादी चिक्यो होला तेहा चि हिंसा भएन ।', 'आईमाई पागलखाना लानु पर्न्ने भो तेति बेला चिलाएर मोज गरिस अहिले गरेयो गरेयो हा हा ।', 'अरू जान्दैनो हामी जनता यस्ता खाल कंलड़कित आईमाई हरू समाज बाट बहिष्कार गरौ ।', 'यस्ता मुजी आइमाइ बरू एउटा अड्डा खोलेर बस ।', 'राडी रन्डी बौलायो आफु राम्रो भ ४ चोती हैन १ चोती गर्नै दिन्न थ्यो ।', 'थैत मुजि चिकाउने बेला मजा चिकायो अहिले आएर मिलेन होला अनि दोस लाउदै ।', 'थैत मुजि चिकाउने बेला मजा चिकायो अहिले आएर मिलेन होला अनि दोस लाउदै ।', 'अनुहार सनुहार भालु मुहार', 'उत्तानो भएर थाप्ने अहिले हिँसा ।', 'राडिलाइ ७२साल भुकम्प लगेनौ भगवान् ।', 'मुजी आईमाई फटाई रहिछे', 'साली भालु अनुहार हेरे छस ।', 'अनुहार हेर्दा ठमेल भालू आइमै ।', 'नाक काटीदिनु नेवार हरु जती खेर धर्म सँग यार देश रितोपार्छ ।', 'गान्धी भारत हिन्दु हुदा नाथुराम गोद्से गन्धी गोलि हानी मरे ।', 'नेपाली गहना हिन्दु नेपाल नेपाली सस्कर्ती बिरोधि हरु गोलि हान्न नेपाल नथुराम जन्म आबस्यक ।', 'त्यस देश हत्या हिंसा लुट बलात्कार हाहाकार कोलाहल हुनेछ ।', 'ए मुजि नेवार हरुहो मुजि बाहुन नेता हरु काटेर मारन हौ मुजि ।', 'बाहुन हु बाहुन क्षेत्री नाम कलङ्क हरुलाइ चरम यातना दिएर मारिदिए ।', 'त्याे चाेर हरू कट्टा हन्दा राम्राे ।', 'ति आयोग समिति यात घुस खान्छन यात अर दिन समतिनै भग ई नेता टुडेखेल लगेर गोलि हानु परछ ।', 'हान्छु गोली आयेर चोरहरुलाइ याद गर ।', 'टुड़ीखेल लखेटी लखेटी जुत्ता पिट्नु पर्ने मान्छे केशब बडाल गाउँ टोल समाज घरबार बिगार्ने फटाह आइमाई पद्मा अर्याल ।', 'सोम प्रसाद पाण्डे चाहीं गर्धन भाचीने हान्नु पर्ने सर्बहारा बर्ग नेतृत्व हरू खरब पती भैसके अझ तेस्तो भंछन भंदा हास्यास्पद होला', 'कारयलये धुस मागे चाक आगो लगाइन्छ ।', 'लुट्न लाइसन्स पाए नेता लाखाै लाख जनता मारेर कमाए धनी भएर त्यहि धन रुवाइँ रहेछ ।', 'सरकार अदालत प्रहरी सेना अखितियार सरकार निकाय हरु घुन मुशा देश खोकरो बनायर खाईसकयो जनता शिह बनेर यि मुशा हरु दुला खोदी खोदी मारछन ।', 'सवै भष्ट कानून बनायेर फासि दिनु ।', 'हरू गोली ठोक्नु अनि बल्ल देस मुहार फेर्छ झोले कुकुर कार्यकर्ता सिस्नु पानी लायर लखेटनुपर्छ ।', 'भ्रष्टचारी टुंन्डिखेल ल्याएर झुन्ड्याएर गोलि ठोक्ने कानुन सम्सोधन ।', 'प्रचण्डलाईत १००० टन ढुङगा सङग बाधेर बिच समुन्द्र खसाउदा मात्रै सहिद दोन्दपिडित सिङगो नेपाल् सान्ति पाउछ ।', 'कुलमान देश होनहार महान मानब मनोबल घटाउने सवै कुकुर हरू जसरी घाँटी च्यापेर पैसा उठाउनु भ्रस्टाचार पल्के कुकुर हरू ।', 'तालु खुइले चम्किदै टाउको सिधै गोली हान्नु पर्ने थियोे ।', 'विद्युत महशुल नतिर्ने बिजुली लाइन काट्ने होईन घाटी कातेर फ्याँक्नु यस्ता देश धमिरा हरु बाच्ने अधिकार ।', 'उधोगी बिल तिर्दैनन सिधै बम हान्दा ।', 'जाँठा हरु बम हानिन्छ ।', 'बिधुत महसुल नतिर्ने कारखाना हरु बम खसालिदेउ बिप्लप दाजु ।', 'कुल मान जि तापाई चिन्त नगर्नु जस् जस् बिजुली बिल तिर्दैन मान्छे कुता हरु मरि दिन्छु ।', 'सर्प मरोस् लाठी नभाँचियोस् तेसरी कदम चालियोस् ।', 'सेवा सुबिधा लिएर देश कर तिर्न मरे धिकार मुला हरु चाक बम राखेर उडाउने जस्ता नेपाली धमिरा हरु ।', 'लाईन होईना बिल नतिर्ने उद्योगी घाटि काटनु प्रछ साले खाते हरु ।', 'ऋषि धमलालाइ देख्दा यस् प्रश्न सोधाइ तरिका सुन्दा उडेर गएर यस् नाक डाडी फुटालि दिउ लाग्छ ।', 'दस दुनिया देश बेचुवा हरु ठोक्ने बेला ।', 'धमला हावा प्यार प्यार मुख गुलोकोच दिनुपर्छ ।', 'व्यवस्था फेल झुण्डिएर मर्छ धमला ।', 'भस्टचारि मुजि खुर्सानी नुन हालेर खाद्नु जनता नेपाल सके ।', 'चोर नेता गरे माफ दिने भ्रष्टाचार नेता जुनसुकै जनता सडक तानेर ल्ययेर आगो लाउनु', 'धोबी हान्नुपर्ने गु हरुलाइ ।', 'कुर्सी जन्ता मार्न नेता जात भात धर्म चेन्ज नेता कानुन नेपाल ।', 'भ्रश्ट्चारी हरुलाइ टुंडिखेल ल्याइ झुन्ड्याएर गोलि ठोक्नु ।', 'वाईडवडी खरीद समलग्न भ्रष्टचारी फाँसी दिनु ।', 'जतिसुकै जना मुछिय कडा कडा कार्बाही हुनुपर्छ केपि प्रचण्ड सेर बहादुर जोसु कै नाक डाडी भाच्नु माननीय प्रदीप यादब यक्दम ठिक ।', 'यिन मार्न छिट्टै भगवान श्री कृष्ण जन्म ।', 'पशुपति पोल्ने ठाउँ रे भर्स्तचारि मृत् युडाँडा हजु तेसै अजीवन कैद गरे हजुर बाँकी मुजी सरकार भरस्तचारी रहेछ कस् हल्ने जैल सरकार १ जन नरहने खरेज देश् बाट लखेते समपती जाम गरे ।', 'हिजो बम्म दिदी बैहिनी हुन्न हत्यार भनेर बुरुक बुरुक मिडिया यहि पागल्नी कराए की ।', 'साबीत्री सवेदी मुख् फुट्ने हान्न मन् लाग्यो ।', 'हिजो बम दिदी बहिनिलाइ फसि दिन सावित्री आज दलर बिक्यो ।', 'यिनि हरु निर्मला हत्यारा बम दिदिबहिनी ।', 'जना जिउँदै जलाउनु पर्ने बोली ।', '।', 'बम दिदी बहिनिलाइ खोर लगेर करेन्ट लगाउनु वास्तविक खोल्छन यिनि हरु रुदै नाटक गर्दैछन ।', 'भालुनी सावित्री कुकुरनी मिले रहेछ आजा प्रक्षया थाहा भयो निर्माल बहिनी बलत्कार लगाउने यनि भलु हरु रहेछ पहिला जाती आन्दोलान गरे यनि हरु नाटक रहेछ आजा बल थाहा भयो ।', 'वल्त्कार यि वम दिदी वहिनि गरे', 'वल्तकार हत्या खुलेआम डुलिरहे तिनिहरुलाइ समात', 'ठीकै होला साबित्री युट्युब हेरे कमेन्ट हेरे भनेत झुन्डेर मर्नु पर्ने ।', 'दाेसि हाेईन सावित्री दिनु परछ फासी फासी ।', '२मुखे साबीत्री यदी नजीक ४ झापट हान्थें', 'सावित्री कुकुरनी ल्याए धमला सर एस गाला साला फुट्ने हान्न सक्नु भएन ।', 'साबितृ अनुहार देख्दा बोली सुन्दा अनुहार भरि थुक्न मन लाग्छ जाठी बिदेस जाने केटा हरु बलात्कारी रबि सपोटर सुने ।', 'साबितृ अनुहार देख्दा बोली सुन्दा अनुहार भरि थुक्न मन लाग्छ जाठी बिदेस जाने केटा हरु बलात्कारी रबि सपोटर सुने ।', 'सावित्री सुबिदिलाइ सिदै गोलीहान सरकार ।', 'बम दिदीबहिनी पाता कसेर कोर्ला हाने निर्मला पन्त काण्ड वास्तविकता निस्किन्छ ।', 'पहिला सबित्री छक्का लाइ लात लाएर देश निकाल गर ।', 'हेर पहिला कन्चनपुर गएर बम दिदी बहिनी फासे दे अनि अहिले आएर सावित्री कुकुर्नी मानव अधिकार पागल भन्छ ।', 'ज्यान मार्ने पर्चन्ड अजई मान्छे मार्ने गरछ ।', 'ज्यान मार्ने पर्चन्ड अजई मान्छे मार्ने गरछ ।', 'प्रचण्ड जस्ता विदेशी दलाल आतंकवादी प्रचण्ड नेपाली जनता पत्याउँदैन ।', 'छबिलाल आत्महत्या जेल पाप धुरि बाट कराउछ महाशय याद राखेस हत्यारा ।', 'आतंककारी राजा भुक्न सुरु गर् दलाल साला तहि बना देश', 'प्रचन्डे हत्यारो झुण्डयानु ।', 'प्रचण्ड बिप्लप पार्टि छिटो मारे हुन्थ्यो ।', 'माचिक्ने प्रचण्ड मार्नु ।', 'सबैभन्दा पहिला प्रचण्ड सिध्याउनु जरुरी ।', 'कुकुर हरु सम्पति छानबिन भष्टाचार कुकुर हरु रगासाला झुनडाउनु ।', 'देश जोगाउने राजा अति आबसेक्त्ता नेपाल खुइलायो हत्यारा वर्ष ।', 'गोकुले चुतिया खतरनाक राउन्ड किक हानेर नाँक डाँडी भाँचिदिनुपर्छ ।', 'गोकुले चुतिया खतरनाक राउन्ड किक हानेर नाँक डाँडी भाँचिदिनुपर्छ ।', 'राजा हटेर जन्ता फाएदा भयो जन्ता झन बल्त्कार चोरि बडे चोर कस्तो ३८ कुईन्टल चोरि प्रचन्ड केपि अोलि जना जन्ता अघाए रराज अतिए गनतन्त्र अाए नअातिनु नेपाल गारो हुनथियो ।', 'जेल कोचेर पात्ता फर्काउनु ।', 'अनि हत्यारा ज्ञाने चोर जेल कोच्नु ।', 'नेपकौ केपि कुकुरलाइ गौलि हानुपरछ कुकुर डाकालाइ ।', 'नेता बलत्कारी घुसखोरी मारेउ तिमि हरु नेपाली जन्ता ।', 'ठूलो ठूलो नेता मन्त्री हरू मार्नु परछ ।', 'बिप्लव नेता हरु मकेभन्चाहानछु देश सोजासाज जन्ता केहि नहोस भ्रष्चारि दलाल भुसिया कुकुर हरु ठिक पार्न गोलि ठोक्नु परे ठोक्नुहोस तेस् राम्रो सपोट रहनेछ ।', 'हरू कती मार्ने बिचार किराती ज्यु ।', 'दुष्ट भ्रस्टचारी हरु फाँसी हुनु ।', 'रबिदाई भयो साले नेपाल चोर नेत ओलि सिधाईदिने नया सम्बिब्धान लिउने नेपाल नेता हरु चोर ।', 'चितवन प्रशासन होटल कङ्गारु मालिक समातेर अनुसन्धान गर १ झट् करेन्ट लगाएर हेर दूध दूध पानी पानि छुट्टिन्छ ओकल्नेछ ।', 'रिसि नाक डाडी भाच्नु करोड छुट्टीयार भ्रष्टाचारि ।', 'खाते नाक भाच्नेगरि हान्न जन्ता हेर्न चाहान्छन ।', 'ऋषि धमला नाक डाडि भाच्नै पर्ने कस्तो किच्चक रछ म्या हरामी ।', 'पुत्रकार हरु एकजुट द्वारिका चौधरी भ्रष्ट च्युइक लेख लेख्दैन पत्रकार हरु यस्ता पत्रकार हरु नाक डाडि नभाचेर फुलमाला लगाउने', 'निउ खोज्ने जती सब् दिनुपर्छ दनक ।', 'नाक डाडी हैन ढाड भाच्नु ।', 'चाटुकार पत्रुकार जस्ता नालायक हरु नाक डाँडी भाँच्नु ।', 'श्री श्री श्री ३ रबि लामिछाने महाराजअधिराज सरकार बाट चाहिँ राष्ट्रिय टेलिभिजन बाट भ्रष्टाचारि टुंडिखेल राखेर उडेर गुडेर नाक डाँडी भाच्न मन चै लामिछाने हिट', 'इटहरी मेयर भ्रष्टाचारी संरक्षक पक्षपोषक भतुवा पत्रकार हरु लोपारिदिन्छु चै कानुन हात लिए', 'मेयर ज्यु पत्रकार नाक डारि हैन त्यस जता भाबी लेख्ने हात काट्नु सलाम हजुर देश धमिरा हरू नस्ट आब जन फेसला ऐक दम जरूरी', 'मेयर ज्यु पत्रकार नाक डारि हैन त्यस जता भाबी लेख्ने हात काट्नु सलाम हजुर देश धमिरा हरू नस्ट आब जन फेसला ऐक दम जरूरी', 'खाते पत्रकार नाक डाँडि होईन हात खुट्टा भाँचिदिनु साले कुकुर ।', 'खाते पत्रकार नाक डाँडि होईन हात खुट्टा भाँचिदिनु साले कुकुर ।', 'पत्रकार नाक डारी चै भाचनु पर्नी रहेछ ।', 'साला नालायक तँलाइ भेट्यो तेरै माइक थुतेर तेरो मुख फुट्ने बजाउछु साले बोल्ने शैलि थोप्पो नरहेछ गधा ।', 'मुजि झोले पत्रकार हरु गोलि भुट्नु ।', 'भ्रष्टाचारि पत्रकार नाक डाडी होइन जीउँदै जलाउनुपर्छ रबि लामिछाने आरोप लाउनु आलोचना महापाप ।', 'भ्रष्टचारी घुसखोरी कानुन दायरा लिएर राम धुलाई गर्दा कसो होला मेयर ज्यु ।', 'मेयर साब सहि यस्तै नेता हरू जरुरत नेपाल सलाम द्ववारिका सर नाक हैन ढाडनै भाचनु घुसखोरि जग्गा माफिया भरौटे पत्रुकारनै इ कुकुरहारु छोडनु हुदैन ।', 'भ्रष्ट नेता हरु मर्नेछन ।', 'काङ्ग्रेस भस्ट्चार चोर भनेर कम्युनिस्ट बलत्कार हत्यारा भनेर यस्ता कुकुर हरु भोट दिएर हुदैन हामि सचेत भै सके छौ हुनु चोर हरु पत्यसाप ।', 'कांग्रेस भ्रष्ट भयो कम्युनिस्ट हत्यारा राजा ठिक इ ।', 'प्रचन्ड बिगारेको अहिले नेपाल भर्स्ट्चार बलत्कार हत्या केपि खोजे प्रचण्ड मोड लिन्छ चोर हत्यारा प्रचण्ड नेपाली होइन देशी ईन्डियानि तेस् नेपाली पहिचान कहिले देखाउन खोज्दैना ।', 'प्रचन्ड बिगारेको अहिले नेपाल भर्स्ट्चार बलत्कार हत्या केपि खोजे प्रचण्ड मोड लिन्छ चोर हत्यारा प्रचण्ड नेपाली होइन देशी ईन्डियानि तेस् नेपाली पहिचान कहिले देखाउन खोज्दैना ।', 'सबैभन्दा पहिला जय नेपाल गगन दजु आतंककारी हरु दया माया धर्म सस्कार हुदैन ।', 'प्रचण्ड भ्रष्टाचार दिन हरु नजिक आउदै गान्दै बस हामी छिटै तेरो घर आएर मर्दिने जनता देश जनता ताकत हेर्दै जानु हामी प्रचण्ड सजिलो मर्ने हजर मान्छे मरे हामी अन्तर्राष्ट्रिय अदालत मुद्दा हल्ने ।', 'प्रचण्ड भ्रष्टाचार दिन हरु नजिक आउदै गान्दै बस हामी छिटै तेरो घर आएर मर्दिने जनता देश जनता ताकत हेर्दै जानु हामी प्रचण्ड सजिलो मर्ने हजर मान्छे मरे हामी अन्तर्राष्ट्रिय अदालत मुद्दा हल्ने ।', 'बुढा मारेर खाइस अहिले रास्ट्रपति लाज ।', 'सेर बहादुर जिब्रो लागे करेन्ट बिधा भण्डारी जिब्रो लगाइदिये भय हुन्थ्यो', 'स्पस्ट बोल्ने बुढो हत्या हालिस बोली बुझ्झेस ।', 'रास्ट पति यहि बोल्ने सबे थुक यक नारि भयर मत च्यातेर रास्ट पति बना केपि तेहि तै आफनो सिरिमान हत्या गरे ।', 'जस्ता नारी देश राष्ट्रपति भन्न लाज आफैलाइ श्रीमान हत्या जाठी थुलो लाज ।', 'केपि चोर लागेर श्रीमान मार्ने छि छि तिम्रो दिन ।', 'पोइ मारेर ठाउँ पुग्ने इज्जत था', 'मर्ने बेला बैँस हालेर बूढो हत्या गरौर केपि ओलि सँग रमोलिदै राष्टपति भाकि नखर्मौलि ।', 'जस् कुरो बुझिन्थ्यो उसाइ सिद्ध्याइ दियेउ बुझ्ने', 'रबि सर फसाउने षड्यन्त्र पुडासैनी झुट बोल्न लगाईयो बाच्ने आशा झुट बोलिदिए बोलिसकेपछी मारिदिए सत्यतथ्य यहि ।', 'पत्रकार लियर भिर बाट झारिदेउ यार ।', 'भारत दोक्लाम बिषय सँग जोडेर प्रश्न उठाउने वाईडबडी सँग हाँसोलाग्दो प्रश्न पत्रकार कान उखेलेर उठबस गराएर प्रश्न सिकाउन जरुरी ।', 'मुख थप्पड हान्न पर्नी पत्रकार रैछ खाते ।', 'रबिन्द्र दाई राजनीतिज्ञ हरु मारे महसुस भय जनता कडाई छानबिन होस ।', 'पूण्य दूई झापड कस् हान्ला अनी चूप लाग्छ की ।', 'पुन्य गौतम गाला पुट्ने दिनु ।', 'पुण्य मेरूदण्ड फुस्किने ठोक्नुपर्छ है साथि ।', 'महरा रक्षा गर्दा पुण्य गौतम अन्तर्वार्तामै भेटे दनक ।', 'ई पुन्ने गौतम भन्नेब्यक्ती जिब्रो नकाटेको होला बाउला कुकुर भुकने सहिकुरा कहिलै सत्यकुरा भोल्दैन ।', 'पुण्य काे कानकाे जालि फुट्ने हान्नु ।', 'पुन्डे गाला फुट्ने हाने हेर्न मन ।', 'हान सागर जि साला दशै बस्नी हान्नु पर्यो कुकुर बदि भुक्दै ।', 'याे पुण्य चाक अागाे लगाएर लखेट्नु नचाहिने गर्छस् ।', 'साला झोले पुण्य गाला रन्काउनु पर्ने ।', 'पुन्य झोले लाइ कान जाली फुट ने हान्नु पर्ने ।', 'त्यही भएर अस्ति ज्ञानेन्द्र शाही कुटपिट लाए ।', 'बलात्कारि खोर कोच्नु जस् ।', 'गर् मुखा हानौ हामी आग्रा गर्छौ पुन्य गाग्रा ।', 'पुन्य कुकुरलाइ गुउ खुवाउन अनि यस् सहि बोल्छ ।', 'पुण्य गौतम अम्लो ठडाएर नगर तेरो चोर अम्लो काट्छु दिन सत्य बोल्न नशा फुलाउन पर्दैन झुट बोल्नी ठुलो स्वर ।', 'झोले पुन्ने गौतम लाइ राम धुलाई ।', 'चिक्नेलाइ कन्डो अागो लाऊोन ।', 'पुण्य गाैतम भेट्यो तेहि ठोक्नु यता हाजिर गराै ।', 'बलात्कारी धोति फांसी दिएर बलात्कारि हरु फांसि सजाय कानुन बनाउन पर्यो', 'चिक्ने रन्डि छोरो मास्टर टुडिखेल जिउदै चिरि चिरि नुन खुर्सानि दल्लनु खुकुरि घाटि रेटनु पर्ने धन्यवाद रवि दाई अघि बढनुस् ।', 'चिक्ने रन्डि छोरो मास्टर टुडिखेल जिउदै चिरि चिरि नुन खुर्सानि दल्लनु खुकुरि घाटि रेटनु पर्ने धन्यवाद रवि दाई अघि बढनुस् ।', 'धाेती सले चाेर खाते नेपाल अएर नेपाली चेलीबेटी फासी गनुपछ बलात्कार ।', 'धोति दुईचार लात लगाएर बात गर्नुपर्ने दाइ ।', 'साले इन्डियन मार्नु बस्न तयार जेल मार खाते ।', 'साले इन्डियन मार्नु बस्न तयार जेल मार खाते ।', 'क्यामेरा एकछी बन्द रगत छात्ने हान्नु पर्ने साले कुकुर रिस आज उठे ।', 'साला धोति लाइ करेन्ट लगाएर जुत्ता माला कालो मोसो दलेर भारत लखेट्नुपर्छ ।', 'खाते ढोका खोल्ने बिति कै किक हाने दृश्य हेर्न पाए सारै मजा आउथ्यो', 'रबि सर भयो नेपाल आगो लाक्छ ।', 'धोती सामान्य कारवाहि गरियो पुलिसथाना आगो लागनेछ भारतीय राजदूतावास तहसनहस हुनेछ धोती ज़िन्दा जलाईनेछ ।', 'धोती सामान्य कारवाहि गरियो पुलिसथाना आगो लागनेछ भारतीय राजदूतावास तहसनहस हुनेछ धोती ज़िन्दा जलाईनेछ ।', 'भगवान कसम मलाइ साला धोती नरपिचास मुख हेर्दा भिडियो हेर्दा मै भेटे मै आफै काटेर साला हजार टुत्रा पारिदियर जन्म कैद बस्दाम झै भैसक्यौ ।', 'नेपाल नायक रबि लामिछाने भिडियो डिसलाईक कारबाही हुनु अनि टिचर जिउदै जलाउनु ।', 'जना हरु सङ एक्लै मैदान चाहान्छु बलात्कारि हरु दम गर ।', 'कानुन जिम्मा लगाउनु हात खुट्टा भाच्नु पर्ने ।', 'सत्यलाइ जितेर जस् बाटो काट्छ तेस् हामी खुट्टा काट्छौ तपाईं सत्य बाटो लम्किरहनु होला रबि सर समर्थन ।', 'भोलि सहकारी आगो लाग्ने ।', 'लालि गुराँस जस्ताे राष्ट्रिय फुलकाे बिजेत गरेछ सहकारि याे सहकारि अागाे लगाउनु यस्ताे चाेर दलाल सहकारि चाहियकाे ।', 'जनावर बाच्ने अधिकार होइन कुन पागल एस्लाइ जिउदै खाल्डा पुर्नु पर्ने ।', 'किशोर श्रेष्ठ लाइ भेट्नेवितिकै नाक पच्कने दिन इच्छुक हाजिर गर्नुहोस है ।', 'बिप्लप नेता कर्याकर्ता हरु काता गय यस्ता सहकारी संचालक लगेर झुन्डायर कर्बाही होला अनि नेपाली जनता बिप्लब दिन्छ ।', 'येस्ता ढुङी हरु चाक खुर्सनी दल्नी ।', 'खाते पाता फर्काएर चुट्नु सहि सहि ओकल्छ बुद्ध नाम कलंक फैलाउने कुजात ।', 'आश्रम पैसा खाने ठग यस्ता नचाहिय गफ हान्ने देबक ओटा रामधुलाइ हानुपर्छ ।', 'गुरु हु भन्दै दुनियाँ छोरी चेली योन दुव्र्यवहार छानबिन कार्बाही गरीयोस ।', 'गुरु भ्नाउँदा हरु महिला यौन सोसन गर्दछन् ।', 'रबि गरिब दुखी छोरा चोरी देश बचाउने ९९ नेता पुलिस कानुन गरिब छोरा चोरी मार्ने गरिब आमा कोख खाली गराउने कहिले ।', 'बहुला कुकुर हरु बाँधेर मारिन्छ बहुला नेता हरु यसै की की कसो मेयर ज्यू ।', 'डिसलाईक हरु गधा हरु नेता गोठाला हरु आजै मर साले हरु राम्रो खबर डिसलाईक गर्छन् चोर हरु ।', 'निलो कोटे नाङ्गो परेर कोटेश्वर जाम उभिन लगाउन ।', 'केपि काे भाेले भतुबा काे सुन्दा जुत्ता मुख हानु जस्ताे लागछ ।', 'एकपटक सुर्य पाठक अरिङ्गाल भिडनु मन ।', 'रन्डी छोरो अरिंगाल पाठक लै पाटे मुडेर खुला मंच उल्टो पारेर झुन डाउ ।', 'भस्टचार चोर फटा दलाली नेता बलत्कारी ज्यान मारा सुन तस्कारी नम्बरी ई कानुन नलाग्नी सम्बिधान दिवस शुभ कामना ।', 'गणतन्त्र लोकतन्त्र भ्रष्टाचार बलत्कार मान्छे मार्ने रबि फसाउने ग्यनेन्द्र साही मान्छे खुट्टा भाच्ने येइहो येस्तो गणतन्त्र लोकतन्त्र तिमि हरु गोजि राख जनता चाहादैन ।', 'गणतन्त्र लोकतन्त्र भ्रष्टाचार बलत्कार मान्छे मार्ने रबि फसाउने ग्यनेन्द्र साही मान्छे खुट्टा भाच्ने येइहो येस्तो गणतन्त्र लोकतन्त्र तिमि हरु गोजि राख जनता चाहादैन ।', 'पाठक घांस तलुवा चटुवा बडि बिद्वान बन्न पर्दैन ८ पास हरु घन्टा गर्छन दिबेश जि सहि ख़्याल राख दिन सकिए तिमि हरु फेरि रेलिंग भांचे ।', 'क्रिश्चियन हरु झोले सरकार पशुपति लगेर जलाउनु साले पताकि हरु भाबीमन्त्री प्रधानमन्त्री रबि लामिछाने रास्ट्रपति शेष घले उपराष्ट्रपति शुसिला ।', 'जनता चाहे राजा फर्सी फुटाय झै फुटाउने गणतन्त्र ।', 'आज भोलि भयो नाक फुटाएकाे नेता नाक बक्सिङ्ग हान्छु बस्छ ।', 'खाते नेतागिरि हरु जति कार्यक्रम राखेर समेलन गराउ त्यस बम बिस्फोट गराएर ध्वस्त पार्न मै बम बिस्फोट गराएर ज्यान दिन ससक्छु ता की मेरा सन्तति नेपाली हु भनेर गर्व सकुन ।', 'मुजि केपि चम्चा लाइ गोलि खाना मन लायो', 'ए पुलिस टाउके सगँ पुलिस ज्यादती प्रमाण ।', 'पोखरेल हामी पा कुकुर काम नलाग्ने कुकुर रीबिज लागे अरू टोक्यो र्याबिज सर्छ भनेर झुण्डाएर मर्दा फरक पर्दैन ।', 'हिरासत प्रहरि हिर्काउछ बिना कसुर मै भोगेकोछु ।', 'पही माओवादी गोलि खानु पर्ने बचेछ य विप्लव तिमि ठोक्दौन गोलि ।', 'पही माओवादी गोलि खानु पर्ने बचेछ य विप्लव तिमि ठोक्दौन गोलि ।', 'कुकुर किसोर शेरेस्ठ कम्युनिस्ट खोल ओडेर कम्युनिस्ट बेजत गर्यो यस्लाइ बास कप्ट्यारो हानेर फकलक् कै बनाउन ।', 'कुकुर बिरला झगड़ा चोर हरू बोलन लाज पनी ।', 'यस्ता गद्दार नेता हरु गलत्याएर फाल्नुपर्छ आम जनता मिलेर यस्ता नेता हुन्छन् कुकुर खान नपाए लुछाचुडी ।', 'आत्मा घाती बम ठोक्नुपर्छ ।', 'भ्रष्टाचारि हरुलाइ टुंडिखेल ल्याइ झुन्ड्याएर गोलि ठोक्नु ।', 'सब भष्टचारी टुडिखेल ल्येर गोलि ठोक्ने देश भक्ति चाँहिये नेपाल ।', 'यस्था भ्रष्ट नेता हरुलाइ सिधै इन्काउन्टर पाइन्छ नाइ ।', 'हरु चोर चाक बाट गोलि हानी मुख बाट निकाल्नु बेला छिट्टै आउदै होस गर चोर ।', 'बिप्लब काे पाटि पुलिस अाक्रमण गरयाे ।', 'करोड नेपाली जनता तलब नखायर बचे छन ए नेपाल पुलिस आर्मी हरु जनामुत्ति सेना बर्ष तलब खायर लडे थीए सक्छौ बन्दुक बिप्लप हईना सरकार हान हरू महान मान्निछ नेपाल छिट्टै शान्ति आउने ।', 'जस् मान्छे मार्छ उसै प्रतिबेदन सहि आउछ', 'सत्य सेवा सुरक्षणम आज झुट आक्रमण भक्क्षणम गणतन्त्र नेपाल ।', 'नभए ज्ञानेन्द्र शाहि हिरासत कुटे ।', 'जहि झुट बोल्छ ज्ञानेन्द्र साही हिरासत कुटपिट यत्ना दियो झोले होलि वाइन ।', 'मान्छे हत्यार होलेर हिड्नेछ नेपाल पुलिस गोलि ठोक्नु ।', 'हत्यार बोकेर खुल्ला हिड्ने मान्छे हरुलाइ गोलि ठोक्ने अनि कानुनु दैर ल्याउनु ।', 'बिप्लव पनिं हेरेर बसेछः नठोकेर ।', 'गधा झुट बोल्यो इन्काउटर नाम मान्छे मार्न पाईन्छ मुठभेड मान्छे हात ठाउ भाचिन्छ ।', 'बमवाला पद लोलुप हत्यारा आतंककारी हरु हतियार समर्पण शान्तिपूर्वक वार्ता आउनु होइन यिन चाक बम लगाएर पड्काउनु ।', 'बमवाला पद लोलुप हत्यारा आतंककारी हरु हतियार समर्पण शान्तिपूर्वक वार्ता आउनु होइन यिन चाक बम लगाएर पड्काउनु ।', 'पुलिस जहिलेनि झुट बोल्छ साला ज्ञानेन्द्र साहि हिरा सत कुट्छ कुटे छईन भन्छ साला चोर पुलिस ।', 'याे बिश्वराज पाेखरेल भ्रष्ट पार्टी कै दलाल हाे सब झुट बाेल्दै प्रहरी याे जना बध्ध तरिका गरिए एनकाउन्टर हाे प्रस्ट यस्ता प्रहरी हुनु नहुनु बेस नेपाल प्रहरी मुर्दावाद ।', 'अस्ति भर्खर पोखरा गोलि हानी घाईते बनाए जना ब्याक्ती ।', 'झुट स्थानीय जानी बुझी मारे स्थानीय हरु भनाई ।', 'हामी नेपाली हरुलाइ ज्यान मारा नेपाल प्रहरी चाहिदैन जन्तालाइ सुरक्षा दिने प्रहरी ।', 'सर्लाहि प्रहरी हात खुट्टा ठाऊ भाँच्ने गोलि हानि मार्ने अनि भिडन्त मारिए भनी बिज्ञप्ति निकालि प्रहरी चोखो बन्न खोजे ।', 'त्यसैले माओबादी पोलिश मारे रहेछ ड्याम ड्याम बिप्लव सुरु भो पोलिस मार्न ।', 'त्यसैले माओबादी पोलिश मारे रहेछ ड्याम ड्याम बिप्लव सुरु भो पोलिस मार्न ।', 'सामान्य ब्यक्तिलाइ गोलि चल्यो भन्दै पो भन्छ पुलिस् ।', 'वास्तविक लुकायर हत्यारा सपोर्ट ।', 'नेपाल पुलिस देस आतंक फैलाउने सत्रु फुल्माला स्वागत', '३ थाउ हात भचिए गोली हन्यो नेपाली नागरिक विश्वाश तुतेयो पहिला पुलिस पछी जिउ रछा भन्थे अहिले आएर पुलिस् कल् मार्छ भनेर दराउने पर्ने भयो ।', 'हात मात्रै होइन खुट्टा भाच्नु ।', '१०० झुट बोले प्रहरि प्रबक्ता नेपाल प्रहरी ज्यदति लड्ने बेला अाए ।', 'गोलि हान्यो तिर्थ लाइ प्रहरी चोर होश प्रबक्ता ।', 'पुलिस हासिहासी बोले ए सजाए हुनुपर्छ लुकाएर पुग्छ हामी रगत खोली बगाउन तयार हामी छ्म ।', 'पत्रकार अराजकता गर्दा देस मुठभेड जादैछ ।', 'यथार्थ प्रहरी संस्था नमान्ने भोली यहि एभिन्युज कार्लय बम आतंक अनि जोगाउन जान्छ थाहा ।', 'भ्रश्टचारि लाइ उडिउडि हान्न्न हाम् पाइन्छ नाइ', 'गलत् पत्रकार अनी घुस्खोरि हान्नै ।', 'मियर ज्यु नाक होइन पत्रकार् गल्त लेख्ने हात जिब्रो काट्नुपर्छ सलाम ।', 'धन्यबाद मेयर यस्तै हुनु यस्ता घुसखाेरि दलाल हरु नाककाे डारि हाेईन उफ्रि उफ्रि घुमि घुमि लाता हानेर ढाड भाच्नु ।', 'धन्यबाद मेयर यस्तै हुनु यस्ता घुसखाेरि दलाल हरु नाककाे डारि हाेईन उफ्रि उफ्रि घुमि घुमि लाता हानेर ढाड भाच्नु ।', 'भ्रष्टाचारी फुलमाला स्वागत गरेकाे भऐ चर्चाक अाउने थिऐन थारूकाे छाेराे सिधा जाने काे राम्रो भाे मेयर जिउ भ्रष्टाचारी भाटे कर्बाही गर्नुपर्नेछ धन्यवाद मेयरजिउ ।', 'लोपार्नु पर्नी नेक्ची रैछ मेयर साब ।', 'पत्रकार सुन्दा लाग्छ मेयर जग्गा बेचेर पत्रकार नाक भाचे ।', 'भ्रष्टाचारी नाक डाडी भाच्न मन तेही उडी उडी ।', 'अति पछी मार्न मर्न पछी पर्दैन मान्छे नाक भाच्नु पर ।', 'अति पछी मार्न मर्न पछी पर्दैन मान्छे नाक भाच्नु पर ।', 'मेरय सायब ठिक यस्ता पित पत्रकार खातेलाइ नाक डाढी भाच्ने हैन गोलि हानु मेयर साएब ।', 'मेरय सायब ठिक यस्ता पित पत्रकार खातेलाइ नाक डाढी भाच्ने हैन गोलि हानु मेयर साएब ।', 'पित पत्रकारिता नाक हड्डी भाचिदिने ।', 'अत्ति भ्रष्टाचारि नाक हड्डी मात्रै होइन मार्दिनु ।', 'अत्ति भ्रष्टाचारि नाक हड्डी मात्रै होइन मार्दिनु ।', 'भस्ट्र्चार प्रमाणित जहा भेटिन्छ कालोमोसो दलेर टिन ठोक्दै बजार घुमाए कानुन करोड खाए लाख लिएर उन्मुक्ती पाउछन् कानुन ।', 'मेयर काे सहि जज् भनेपनि भ्रस्टचारि पिटेरै तह लगाउनुपर्छ साले हरु मेयर साहब जिन्दावाद ।', 'मेयर अध्ययनलाइ सलाम शैली अलिकति परीवर्तन परो भष्टचारी लोप्पा होइन गोली ठोक्नु ।', 'जबर्जस्ती माफी माफी यस् पानी नाक डाटि बाच्नु की', 'पत्रकार नजिक सिधै नाक डाडि भाचिदिन्थे ।', 'पत्रकार सुन्दा माचिस पत्रकार भ्रष्टाचारि हरु सङ्ग चिया पानी खाए बुडेसकाल कुटाइ खालास ।', 'उत्तर कोरिया किमजोङ्ग अराजक रोड लगेर गोलि हान्छ ।', 'भ्रष्ट अराजक हान्नै ।', 'छाला उतारेर लौ झुन्डे झै झुन्डाउनु ।', 'नकुटे खुट्टा भाँचियो शरीर भरि निल डाम ।', 'नकुटे ज्ञनेन्द्र खुट्टा अौला फुट्यो', 'उस् ढाड निलडाम भयो', 'खाते पुलिस भ्रष्टचार समर्थन रहेछ भ्रष्टाचार उठे देश भकति ज्ञानेन्द्र फसाएर मार्ना खोजी रहे खाते भेटीयो मारी दिनु ।', 'बर्दिवाला गुन्डा मुर्दाबाद ज्ञनेन्द्र साही जिलाइ यातना दिने गुन्डा प्रहरिहरुलाइ बर्खास्त कारबाहिगर ज्ञनेन्द्र साहि लगाय झुठा मुद्धा खारेज गर ।', 'प्रहरी एदि ग्यानेन्द्र साही लाइ यातना दिय होइन कस् गर्यो प्रहरी निकाय लाइ छान बिन निकाय नेपाल चोर मै चोरे कहिले भन्ला ।', 'यस्ता पुसिल्लाइ भाला हानु साला कुकुर हरु तेसरी पिते अझ भन्छ पुलिस गल्ती भा भनेर ।', 'प्रहरी नकुटे अाफै त्यस्तो अबस्था भयो ज्ञानेन्द्र शाहि ।', 'नेपाल प्रहरी लुटेरा सून तस्करी सुन्तली धामि बलात्कार सोझासझा जनता मार्छ अङ्गभङ्ग पार्छ यतना गाजा तस्करी आफै निर्मला पन्त हत्यारा लुकाउछ भन्नू भयो', 'डिआई जि झुटो बोल्दै छँस ज्ञानेन्द्र शाई तिमि हरु मिलेर कुटे ।', 'डिपार्टमेंट बचाउन गलत बयान जनता सुरक्षा दिन मरूनजेल कुट्ने पुलिस काम ।', 'ग्यानेन्द्र शाही लाइ कुटपिट गर्यो जवाफ दे ।', 'प्रहरी हिरासत लिइसके मान्छे नागरिक शान्ति आन्दोलन व्याक्तिलाइ त्यसरी मरणासन्न कुट्न कुन कानुन कति नम्बर दफा प्रहरी प्रवक्ता जि', 'रेशम चौधरी भाला रोपे कारण यहि रहेछ ।', 'जन्ताकाे सुरश्रा एउटा महिला बिच बटाे खलासि बाटा कुटिनछिन अनि काहा सुरश्रा ।', 'छोराछोरी पिटे पो गल्ती भन्नु', 'प्रहरी यातना कालो बुट जुत्ता मुटु किड्नी', 'छाती हान्ने काम', 'ईन्स्पेक्टर भाई छात्ती भरि बुट हाने आहि आँखा झल्झलि', 'यातना ज्ञानेन्द्र शाही शरीर हेरुम ।', 'भ्रष्टाचारी घुस्खोरी नेपाल प्रहरी भाला मत्तितेल लगाएर टिकापुर जीउँदै आगो लगाउनुपर्छ जनता हरु ।', 'हिरासत यातना हैन प्रहरी भ्रष्टाचार प्रहरी आखा फुटे खुट्टा औला फुटने कुटपिट गरे यस्ता प्रहरी फासी दिनु ।', 'हिरासत यातना हैन प्रहरी भ्रष्टाचार प्रहरी आखा फुटे खुट्टा औला फुटने कुटपिट गरे यस्ता प्रहरी फासी दिनु ।', 'शेरधन साँच्चि कै यौन हिंसा गरे त्यस छाला तारेर भित्ता टांग्नु ।', 'शेरधन साँच्चि कै यौन हिंसा गरे त्यस छाला तारेर भित्ता टांग्नु ।', 'बिहे खोजे रहेछ सुद्दी नगर्ने मिडिया यौन हिंग्सा बेला चाहि मिलिहाल्छ की भनेर चुप बसे रहेछ ।', 'भालु आइमाई चाहिने बेला मज्जा थाप्ने बलात्कार ।', 'कम्युनिस्ट जता हिंसा बलात्कार हत्या', 'सम्पुर्ण नेपालि हरु गुठी बिधेयक बिरोध गरिनुपर्छ ।', 'बन्जाडे मुला अलिक ठुलो नेता हरुलाइ लेउनु हौ ।', 'गूठी जज्गा घर मान्छे पैसा बिदा गरिदेउ गग्जा दिने हैन ।', 'गूठी जज्गा घर मान्छे पैसा बिदा गरिदेउ गग्जा दिने हैन ।', 'काठमाडौँ गुठि संचालन प्राय किसन हरु गरिराखे भूजनु पर्यो स्वोर्गद्वारी समस्या उतै समाधान काठमाडौँ कोठा होइन ।', 'भ्रष्ट चोर दलाली हरु मठ मन्दिर गुठी ब्याक्तीगत नाम गरिए सरकार ठोस कदम चालोस ।', 'हाम्रा मठ मन्दिर गुम्बा धर्म सस्कृति धाेस्त पारेर ईनि हाेलिविन हाेचिविन काे मुत खाने हरु ख्रिस्चियन चर्च बनाउन खाेजेकाे नपालि जनता मिलेर देस निकाला ।', 'समस्या समाधान भ्रष्ट राज्य सत्ता सदा अन्त्य हौ ।', 'गुठि हाेईन जमिन राजकरण अावस्कता ।', 'यातना दिन आउदैन मलाइ बोलाइयोस ।', 'नेपाली ठुलाे जात सानाे जात बनाउने मान्ने धर्म सस्कृति हरु बहिस्कार', 'राज्य आफैं अन्तरास्ट्रिय क्रिश्चियन एजेन्ट बनेर होलिवाइन सम्मेलन कोरिएन क्रिश्चियन बिश्वबिद्धालय क्रिश्चियन धर्म फैलाउन सहयोग गरेबापत भनेर दिय पदवी थाप्छ सयौं क्रिश्चियन धर्मपरिवर्तन लगानी संस्था दर्ता दिन्छ यहि सरकार नेपाल परंरागत धर्म संस्कृति रितिरिवाज जोगाउँछ भन्नू एउ टा बेकुफी मात्रै सम्पुर्ण सनातन धर्मावलम्बी सडक आउनुपर्छ ।', 'ठुला ठुला उद्योग निर्माण गर ।', 'उठ नेवार दाजुभाइ दिदीबहिनी सस्कृती बचाउन उठ दलाल सरकार काठमाडौं नेवार समुदाय सस्कृती मेट्ने कुचेस्टा गरिस ।', 'डा सुरेन्द्र केसी ज्यु ल्याऊनुपने ।', 'कांग्रेस कम्युनिष्ट नाम यि लुटेरा हरु जतिसक्दो छिटो लखेटनु पर्यो ।', 'देश सक्नु लाग्यो पाकिस्तान इमरान नेता खाँचो ।', 'शुरूवात अनुहार नहेरी सहि नतिजा राष्ट्र पक्ष चाडो आउनु पर्यो ।', 'केशब बडालभन्ने जन्तु च्यानल कहिल्यै नबोलाउनुहोस कहिल्यै साचो बोल्दैन मन्त्री अर्याल भु माफिया कै पक्ष छिन यस्ता मन्त्री', 'जल जमीन जंगल पूर्णरुपम राष्ट्रीयकारण गरौ भू माफिया सदाकालागी अन्त्या गरौ ।', 'जल जमीन जंगल पूर्णरुपम राष्ट्रीयकारण गरौ भू माफिया सदाकालागी अन्त्या गरौ ।', 'तिनै पाती चोर इनी हरू जन्ता मिलेर जेल हाल्न ।', 'लिनुस बिष्णु पाैडेल सच्चा ।', 'जेल हाल्नु ।', 'पूरा जग्गा फिर्ता लिनु', 'चोर छन यिनी हरु कड़ा कड़ा कर्बाही होस ।', 'यस्ता गैरजिम्मेदार चोर टीवी नेपाली जनता नदेखाऊन अनूरोथ ।', 'सोमे माचिस कार्यक्रम बोलाउनु हुदैन ।', 'पन्चायत यता नेता हरु सम्पत्ति सुदृढीकरण हुनुपर्छ ।', 'भ्रष्टाचार विरुद्ध नेताहरुलाइ खरो प्रश्न जनतालाइ सुसूचित गर्नुहोला ।', 'देश बिदेश रहे आम नेपाली दाजुभाइ दिदिबहिनी हरु मिलेर आफु आफु सचेत भएर नेकपा काङ्ग्रेस लगायत संसदवादी दल हरु उत्तानो चित बनाउन सक्नुपर्छ ।', 'अनुहार देख्न परोस ।', 'हुनुपर्छ देश चोर भ्रष्ट घुसखोरी दलाल हरु ल्याउनु ।', 'सोम खाते दलाल जहा भेट्यो तेही कालो मोसो दलेर जुत्ता माला लगाएर सहर घुमाउनु यस्ता दलाल ल्याएर जनता यस्ता नरपशु अनुहार नदेखाउनु होला ।', 'सोम प्रसाद पाण्डे १ नम्बर दलाल यस्ता मिडिया नबोलाउनु कार्यक्रम विषय आर्को तिरा मोडिन्छ ।', 'बिचार राम्रो लाग्यो सुरन्द्र भण्डारी ज्यु अघि बढनु जनता अबस्य मिल्नेछ ।', 'हरू गोली ठोक्नु अनि बल्ल देस मुहार फेर्छ झोले कुकुर कार्यकर्ता सिस्नु पानी लायर लखेटनुपर्छ ।', 'भ्रस्टाचारी कारवाही गर काग्रेस होकि कम्निस्ट नेता होकि कार्यकर्ता वा कोहि ।', 'बिदेश दाजुभाइ दिदिबहिनी हरु समेट्नु अनि देश बेचिसकेउ अजिङ्गर हरु ।', 'सुरेन्द्र भन्दारि सहि भन्नू भो साला रारिका बान चोर नेता हरुलाइ तुधीखेल लगेर गोलि थोग्नुपर्छ ।', 'पुरनो नेता पार्टी हरु जनता खारिज जरुरी ।', 'भ्रष्ट गोरु हरुला नौडाडा समुन्द्र पारी नकटाई जनता बिकल्प जागौ जागौ बेलै जागौ ।', 'दिन आउन नदिन सम्पत्ति सुदि करन आयोग निस्पक्ष जनता माने मानिस नियुक्ति गरिदिन पहल अनुरोध गर्दछु ।', 'नेपाल कुनैपनी पोल्तिकल पाति खारेज नया नागरिक पार्ती खोल्नुपर्यो बिदेस रहे नेपालि हरु भोत दिन मिल्ने नियम गरौनुपर्यो तेस्पोछी जनता चाहान्छ्न भनेरत ।', 'नेपाल कुनैपनी पोल्तिकल पाति खारेज नया नागरिक पार्ती खोल्नुपर्यो बिदेस रहे नेपालि हरु भोत दिन मिल्ने नियम गरौनुपर्यो तेस्पोछी जनता चाहान्छ्न भनेरत ।', 'सोम भतुवा लाइ मिडिया लाउनु कान्तिपुर ।', 'भ्रष्टचारी टुंन्डिखेल ल्याएर झुन्ड्याएर गोलि ठोक्ने कानुन सम्सोधन ।', 'रबिन्द्र मिश्र ज्यू जनता सभ्य बौद्धिक भषा बुझ्न छोडे लाग्छ ।', 'हास्यव्यङ्ग्य चुट्किला उखानटुक् हरु सिक्नु पर्यो ।', 'मत पत्र नो भोट ब्यावस्था हुनु ।', 'हामी बदलिनु जरुरी ।', 'आउनुस मिलेर हातेमालो गरौँ ।', 'विरानो विदेश बस्ने रहर परिवर्तन खातिर आउदो चुनाव परिवर्तन बाहक रोजौं ।', 'ह्जुर साहास आइडिया बढ्दै जाओस ।', 'एकदमै सहि रबिन्द्र सर हजुर अगाडि जाँदै गर्नुस हाम्रो सपोर्ट हजुर ।', 'देश सुशासन समृद्धि यस्तै अलगधार राजनीति समर्थन गर्नै ।', 'अन्तरबार्ता हेर सुरेन्द्र कमरेड ।', 'रबि लामिछाने लिएर अाउन साझा पाटि ।', 'पट्क हामी साझा पार्टी दिनु ।', 'दुरि बलियो लामो तय ।', 'राम्रो काम जानुहाेला समर्थन रबिन्द्र सर ।', 'एकचोटी दिएर हेरौ साझा पार्टि अनि नगरे खण्ड भनौ पार्टी चेन्ज गरौ अबिस्वास गरौ ।', 'अव आउलो मंगशिर १४ चुनाव रविन्द्र मिश्र कास्की देख्न पाइयोस् ।', 'नेपाल् इम्रान खान रबिन्द्र मिस्र मै चिनौ ।', 'आशा किरण तपाईं राम्रो काम जानु होला ।', 'साझा पार्टी अाउ चाँडै नेपाली हरु माझ ।', 'चाडैं फेरि बोलाउनु होला ।', 'रविन्द्र मिश्रकाे हरु हाेअाैँ ।', 'आम नेपाली दाजुभाइ दिदीबहिनी आम बुबा साझा पार्टी सदस्य बनी देस बिकास अगाडि बडाउनु ।', 'सालिन ब्याक्ती रबिन्द्र सर सिर्जनात्मक सोचाइ लागन आग्रह ।', 'राम्रो काम राम्रो बिचार हामी बुद्धिमान जनाता कदर ।', 'पाटिलाइ सहयोग भोट ।', 'पाटी बिदेश रहे सम्पुर्ण नेपाली भोट हाल्न पाउनु अनि पछाडि सम्पुर्ण उच्च तह रहे ब्यक्ति हरु सम्पत्ति छानबिन यश सिद्धांत ठिक ।', 'यिनि दलाल हरू गर्दा नेपाल लोड सेडिङ् यिनि हरू ठिक पार्नु कुलमान जि ।', 'कुलमान जी अगाडि बढ्नुहोला ।', 'लाएन कात्छौ भबिस्य भनेर हास्ने चोर चोरी मुद्दा हाल्नु कुल्मान सर हामी हजुर छौ ।', 'कुलमान सर लाइ उज्यालो नेपाल धन्यबाद भनेर सुरु गरम पत्रकार दाजु ।', 'कुलमान सर बेज्जत नगर्नुहोस् पत्रकार ज्यु ।', 'कानुन थाहा पाइन भन्न मिल्दैन गैरकानुन बिधुत कट्नुस कुलमान सर ।', 'यस्ता कार्यक्रम सुरेन्द्र केसि बोलाउनु पत्रकार जिउ यस्ता दलाल थग हरुलाइ ठिक पर्नु ।', 'सभ्य नागरिक सिकौ ।', 'कुल मान सर सहयोग गरौ ।', 'सर्प मरोस् लाठी नभाँचियोस् तेसरी कदम चालियोस् ।', 'उद्योग होस सर्बसाधारण बराबर चार्ज लगाउनु कुलमान सर बिजुलि बिल नतिर्ने लाइन काटिनु तब बल्ल देस आगाडि बढ्ने ।', 'कुलमान सर तपाईं भ्रष्ट टसमस भयो देश दुख पाउने पछी नहट्नुस हिजो काखी च्याप्ने त्यस्ता कोहि छ्न प्रम नहोस् नाङ्गो पार्नुस ।', 'कुलमान सर तपाईं भ्रष्ट टसमस भयो देश दुख पाउने पछी नहट्नुस हिजो काखी च्याप्ने त्यस्ता कोहि छ्न प्रम नहोस् नाङ्गो पार्नुस ।', 'कुन देस सङ्हियता काम रिसि जि बुज्नु पर्यो आचार्य जि सहि ।', 'यस्ता जनता जागृत गराइ रहनु होला पछी मिडिया आउनु भयो ।', 'बिचार राख्दिनुस तन्र जनता दुख पाए ।', 'भिमार्जन ज्यु हजुर सहि छन राष्ट्र राष्ट्र बासी सहि मार्ग दिनुस है देश गुम्नु हुँदै हामी छौ ।', 'भिम अर्जुन जी तपाईं यक राजा भेट्नुस ।', 'यि दुइटा ल्यएर खार्नु पर् ।', 'नेपाल राज तन्त्र जरुरत ।', 'राजा आऊनू विकल्प ।', 'धमला हावा डाः भिमार्जुन सर सहि याे संविधान फाल्नु ।', 'रिसि १ टा प्रश्न गर खरो बा की अरुलाइ बोल्न देउ ।', 'अनपढ हौ गेस्ट बौद्धिक हुन्छन हेक् रहोस ।', 'पाखण्डी पत्रकार अल्लि सभ्य भएर अथिति सम्मान गर यार ।', 'भिमार्जुन सर धमला दाजु अन्तरबार्ता दिनु गलत ।', 'संघिय व्यवस्था हालत टिक्दैन हाम्रो देश थेग्न सक्दैन', 'बोल्न देउ अतिथी ।', 'हामी ३ करोड नेपाली अखण्ड येक ढिक् नेपाल हुनु पर्यो ।', 'नेता बुझ्नु होस ।', 'धमला बोल्न देउ बौद्धिक डा आचार्य प्वाक प्वाक नबोल ।', 'धमला बोल्न देउ बौद्धिक डा आचार्य प्वाक प्वाक नबोल ।', 'भिमार्जुन ज्यु अभिव्यक्ति सान्दर्भिक हिजो भयो थाहा भएन अव हामी वुझेर देश वचाउन वनाउन लाग्नु जरुरी ।', 'डा साब सहि मुलुक सङ्घियता चल्दैन बिकल्प खोज्नै चोर छाडा तत्र त्याग्नै ।', 'डा साब सहि मुलुक सङ्घियता चल्दैन बिकल्प खोज्नै चोर छाडा तत्र त्याग्नै ।', 'विचार उच्च राख्नु होला सर ।', 'धिमे बाजा बजाएर राजावादी हरु खेद्नुपर्छ आदिवासी नेवार जगाएर सामन्तवाद मेट्नुपर्छ प्रतिगामी तत्व हरु ४ भञ्ज्याङ कटाउनुपर्छ राजतन्त्र चाहने हरु साउदी अरब पठाउनुपर्छ रगत आर्जे गणतन्त्र जुगजुग चल्नुपर्छ सडकछाप मण्डले हरु कालोमोसो दल्नुपर्छ ।', 'संघीयता देस तुक्रेने हैन चोर हरु लुतेर सक्ने भयो देस तेसै संघीयता खारेज जरुरी नेपाल ।', 'लुटेरा हरु कुनैपनी लूटन दिनु हुदैन भयो नेपाल् हिन्दु रास्ट्र घोषणा धार्मिक संरक्षक राज सस्था सहित कार्यकार्य प्रधानमन्त्री व्यवस्था हुनु विकल्प ।', 'अरिंगाल पाल्ने काम संघीयता खारेज गरौँ ।', 'डा साब १०० सहमत हुँदै संघियता खारेज गरोउ पुर्ब राजा पुनर्स्थापना गरोउ टन्टै साफ ।', 'खारेज ।', 'भिमार्जुन सर विश्वकाे इतिहास हेर्नुस् रे छेउ धमाला जि चाकरीवाद पत्रकारीता नगर्नुहोस् पढ्न जरुरी ।', 'भिमार्जुन सर विश्वकाे इतिहास हेर्नुस् रे छेउ धमाला जि चाकरीवाद पत्रकारीता नगर्नुहोस् पढ्न जरुरी ।', 'एकाग्रता सोच बिकास अन्तर्वाता दिनुहोस ।', 'सोध्ने तरिका कडा छन कार्यक्रम राम्रै बोलेर हुदैन काम देखाउनुस', 'सिक्नुस रबि लामिछाने सङ् ।', 'ऋषि जि० कार्यक्रम लामो भयो मिनेट बनाए अझ प्रभावकारी हुन्थियो', 'तारिफ अाले जि अाफ्नाे देश भ्रष्टाचारि पाखा लगाउनुस अाजिवन राजनीति बन्देज लगाउनुस ।', 'तारिफ अाले जि अाफ्नाे देश भ्रष्टाचारि पाखा लगाउनुस अाजिवन राजनीति बन्देज लगाउनुस ।', 'ऋषि बाबू अलिक बिस्तारै बोल्न सकिन्न हामी बहिरो ।', 'पान्दे लाइ बोल्न दे धमला ।', 'बिस्तारै बोल्नु हवस् हौ बरिस्ठ जिउ हरु कति बेसि पेसर ओप', 'जोसु कै भएनी भ्रस्टचारी चै छोड्नु हुन्न है ।', 'बम दिदी बहिनी नार् टेस्ट गराउनु सब ओकल्छन साचो', 'साबितृ सुवेदी कार्बाही हुबु कालो मोसो दलेर नेपाल घुमाउनु दलर बिक्यो ।', 'धमाला सर जाना एक्लै एक्लै राखेर सोद पुछ गरे हुन्थ्यो ।', 'हावा स्टाटस राख्नु भएन धमला जी ।', 'अहिले सर्कार केहीकाम गर्देन भ्रष्टाचार ठिकं भाछ राजा ल्याउँने भ्रष्टाचार जेल हाल्नु ।', 'देश राजसंस्था ल्याउनै राजा ठाउ हिमानी शाहा हुनुपर्छ उस् उन् छोरा बनाउनु ।', 'देश राजसंस्था ल्याउनै राजा ठाउ हिमानी शाहा हुनुपर्छ उस् उन् छोरा बनाउनु ।', 'देश राजसंस्था ल्याउनै राजा ठाउ हिमानी शाहा हुनुपर्छ उस् उन् छोरा बनाउनु ।', 'राजा अाउनु परछ जशरि भयपनि ।', 'हैन प्रत्येक घर बाट जना निस्किनै ।', 'साला कुकुर प्रचण्डे खाते तेरो खरानी दिन आइसक्यो नभुक छोएर देखा राजालाइ तेरो चाहिँ बकबास बन्द गर ।', 'गणतन्त्र होइन छाडा तन्त्र भय जनता राजा आउनु ।', 'प्रचण्डे दुवाई रहे २१ अर्ब सरकार जफत भुकम्प पिडीत हरू बाढी डुबान पिडीत हरू पुनर्स्थापन लागी खर्चिनु ।', 'तपाईं भन्न सिक्नुहोस पत्रकार ज्यु राजा उहाँ ल्याङ्गफ्याङ्गे लफङ्गो मन्त्री हैन ।', 'देश विकास हुनुपर्छ कुशल कार्यशैली राजा आउनु हिन्दु राष्ट्र सहित संघीयता पक्ष मिलेर देश बिकास प्राथमिकता दिनुपर्छ ।', 'देश विकास हुनुपर्छ कुशल कार्यशैली राजा आउनु हिन्दु राष्ट्र सहित संघीयता पक्ष मिलेर देश बिकास प्राथमिकता दिनुपर्छ ।', 'देश विकास हुनुपर्छ कुशल कार्यशैली राजा आउनु हिन्दु राष्ट्र सहित संघीयता पक्ष मिलेर देश बिकास प्राथमिकता दिनुपर्छ ।', 'मिडिया खुलेरै राजा समाचार सम्प्रेषण गर्नुपर्यो', 'नेपाली देश राजा कमि महशुस भये हुना राजा आउनै ।', 'पुश्पकमल दाहाल ज्यु कमेन्ट हरु हेर्नुस लाखौ जनता हजार जनता प्रणाली पक्ष्य छैनन ।', 'अनि एउटा स्वतन्त्र व्यक्ति राष्ट्र प्रमुख बनाउनु ।', 'राजा आएर वुद्धिजीवी वर्ग लिएर वढ्नुपर्छ ।', 'सहि सदुपयोग ।', 'संका जनमतसंग्रह ।', 'चोर नेता हरू जेल कोचेर हरु पैसा देश विकास ।', 'राजा आउ देश बचाउ प्रचन्ड् चोर डाँ देश बाटा भगाऊ ।', 'चोती राजा अवसर दिनुपर्छ राज्य संचालन ।', 'हेर भुलेर जङ्गल नबस पुलिस आर्मी नमार तिमिहरुलाइ मिल्दैन जन्ता ।', 'भुलेर नगर्नु निमुखा जन्ता असर पर्ने काम ।', 'बिप्लप सङ मिल्न जाउ यिन जेल हाल बेतुक बोल्दै नहिन ।', 'पनी सडक आएर भ्रष्टाचार हिंसा हत्या अराजकता बिरोध पर्ने ।', 'नारायण सर हजुर मान्छे नेपाल नेपाली अभियान आउनुपर्यो ।', 'संघीयता धर्म निरपेक्ष खारेजी हुनु देस बचाउने राज सस्था फर्काउनु अति आबस्यक ।', 'हाे प्र भएर काम देखाउनु पर्याे नारायण मान ज्यू ।', 'तसर्थ चरित्र दाग लाग्ने काम हुँदैन ।', 'नारायण मान ज्यु नमस्कार तताउनै जनता लाइ ।', 'तेरी सुड्डो अन्तरवार्ता दिन आलोचना मात्रै हुदैन विकल्प समाधान उपाय खोइ दिन सके अन्तरवार्ता तार्किक निचोड दिन सक्ने हुनुपर्छ ।', 'ब्याबस्था हाम्रो नराम्रो पोल खोलिन लाग्यो भनेर राजा आउनु पर्ने धर्म निरपेक्ष खारेज हुनु पर्ने ।', 'ब्याबस्था हाम्रो नराम्रो पोल खोलिन लाग्यो भनेर राजा आउनु पर्ने धर्म निरपेक्ष खारेज हुनु पर्ने ।', 'तपाइँ हरु पायो तेहि हेडिङ नराख्नुस', 'खेती नगरौं', 'आजभोलि जिबन उस्तै रहनु होल ।', 'जसरी नबद्लिनु होला ।', 'रबि दाजी बन्नु है पत्रकार हरु ।', 'समचार बनाउदा हेडलाईन बिगारेर बडाउने काम नगर्नु होला ।', 'डिस लाइक लाइ देश निकाला ।', 'जात धर्म असर नपर्ने तरिका एउ टा एडेन्डा बनाउनुस अनि त्यस्तो एउ टा नया पार्टी निर्माण गर्नुस जनता हजुर भोट दिनेछन हामि प्रधानमन्त्री हेर्ने ठूलो सपना जय नेपाल जय रबि सर धन्यवाद मदन क्यानडा नेपाल युनिट ।', 'जात धर्म असर नपर्ने तरिका एउ टा एडेन्डा बनाउनुस अनि त्यस्तो एउ टा नया पार्टी निर्माण गर्नुस जनता हजुर भोट दिनेछन हामि प्रधानमन्त्री हेर्ने ठूलो सपना जय नेपाल जय रबि सर धन्यवाद मदन क्यानडा नेपाल युनिट ।', 'मन पर्दैन राजनीति नगर्नु रबि दाई चुनाव भोट उभिनु है बरू अलि छिटो ।', 'राजनिति आउनु होस ७ साल फहरिए घर तारे झणडा झिक्छु तपाईं पार्टी झणडा फहराउछु ।', 'अँ युवराज भाइ याे जिवनकाे भाेगाई हाे निरास नबन्नु रबि भाई हेरेर अगाडि बड्नुहाेस हिन्तावाेध मान्छे कहिलै अगाडि बढाउदैन उल्टै सडाउछ गलाउछ मात्रै ।', 'अँ युवराज भाइ याे जिवनकाे भाेगाई हाे निरास नबन्नु रबि भाई हेरेर अगाडि बड्नुहाेस हिन्तावाेध मान्छे कहिलै अगाडि बढाउदैन उल्टै सडाउछ गलाउछ मात्रै ।', 'रबि दाई हेरे मुस्कुराउनु अगाडि ।', 'समर्थन हरु जती आन्दोलन ग छन सम्पुर्ण रिहाई माग ।', 'देश चलाउनु ।', 'राज गद्दी पहिर्याउन अबेर नगरौं ।', 'रबि दाई पहिला किशोर श्रेस्ठ कुकुर नङाउनु पर्यो ।', 'तिनीहरुसङ सचेत रहनु हाेला मेराे हजुरलाइ जानकारी हाे मलाइ शिकाउने भनेर दु ख नमान्नुहाेला ।', 'हाम्रो रबि दादा लाइ प्रधानमन्त्री बनाउन हैइ साथि हरु ।', 'रवि लामिछाने रमेश प्रसाईं अपिल त्रिपाठी सहितकाे जनता मान्य पार्टी खाेल्नुपरयाे ।', 'बधाई अस्मिता नानि बोलाउनु राम्रो प्रेसमिट ।', 'देश समृध्दि बनाउने रबि हात चाहाना चाडै प्रधानमन्त्री भएर २०४६ साल देखी भ्रष्ट नेता देखी कर्मचारी जेल हाल्नु ।', 'रबि सर जनता प्रधानमन्त्री बनौनु', 'रवि जि अध्भुत क्षमता दक्षता स सम्म्मान अझ बोल्नै शैली वा', 'लाग्छ जन्ता चायो जन्ता भावना बुजेर एउ टा सच्चा देश प्रधान मन्त्री हुनै रबि सर हजुर ३करोडौ जन्ता समर्थक ।', 'पत्रकार भएसी अबस्था सत्यतथ्य देखाउन सक्नु ।', 'तपाईं अाउनु पर्याे राजनिती ।', 'जय रबि जय नयाॅ नेपाल हुनेछ रबि दाजु हामि करोड जन्ता हरु प्रधानमन्त्रि बनाऊनपछ रबि दाजु दिदि बैनि दाजु भैई बिदेशि भुमु पसिना पोखाऊन पनेछैन आसछ जय रबि दाजु ।', 'रबी जी चितवन लाखौ जनता हरू भेंटी सम्बोधन गरनुस ।', 'रबि जी प्रधान मंत्री हुनै ।', 'अादर्श नागरिककाे प्रतिमुर्ति बाेलि बिचार कर्म रहनु जनताकाे हमेशा रहि रहने ।', 'अनि जनता चै सम्बोधन भएन रबि सर जनता सम्बोधन सहित घाइते बन्दी समेत भेट्नु होला ।', 'हाम्रो झण्डा कहिले नझुकोस रबि जी ।', 'प्रचण्ड भित्ते राष्ट्रपती बनाए रवि हल्ला प्रधानमन्त्री बनाउनु हुंदैन ।', 'रवि ठाउँ बाट योगदान ठाउं अबश्य पुर् याउँछ अहिले रवि जवरजस्ती राजनिति तान्नु हुँदैन ।', 'रबि दाई आउदो चुनाव पाठि खोल्लुस तपाईं ०० जित्नु तपाईं देस प्रधानमन्त्री बनाउने चाहाना ।', 'रबि सर राजनीति लागेर चुनाव उठनु होस हजुर जिताउने काम हामी युवा अनि हेरौ कस रोक्छ प्रधानमन्त्री बन्ना ।', 'हजुर प्रत्रकार हैन देश मन्त्री बन्नु ।', 'ईन्डिया दलाल धमला कार्बाही गर ।', 'सदै यस्तै रामा्े कामगर्नु है रिसिजि ।', 'रबि दाइलाइ जसरीनि रिहाइ ।', 'जहि सत्य जित जय रबि प्रष्ट सोधपुछ गरिदिनु होल ।', 'काम गर्नुस निर्णय नसुनाउनुस', 'जनता मेघा अान्दोलन रवि लामिछाने दाई पापि हरू खोर बाट निकालौ यहि ।', 'ऋषि धमला पार्टी गत स्वार्थी पत्रकारिता छोड्दिय ।', 'चितवन प्रशासन होटल कङ्गारु मालिक समातेर अनुसन्धान गर १ झट् करेन्ट लगाएर हेर दूध दूध पानी पानि छुट्टिन्छ ओकल्नेछ ।', 'रबि सर समर्थन जय रबि सर रबि सर रिहा हुनुपर्छ ।', 'बोल्न सिक धमला ।', 'डॉ साहेब लेभल मानछे सग बसेर अनरवाता दिनुहोला सुझाब मातर ।', 'ऋषि धमल घाटि टाई देख्दा टाइ अर्थ केलाग्छ भनेर सोदनु पर्यो पत्रकार ज्यु ।', 'पत्रकार पत्रकारिता नेपाली समाज रुपान्तरण येस् इमान्दारीता चाहिन्छ ।', 'जनता गएर सर्भे गर्नेहो रिसि पत्रकार पर्छन सक्षम नागरिक सङ सर्बे ।', 'पत्रकारी पेशा बाट बर्खास्त ।', 'बह्स फैदा ऋषि जि रिजलट खोइ ।', 'साथी रिशी नहेरौ अहिले प्रधानमन्त्री झोले ।', 'प्रधानमन्त्री चही यक्सन लिने खाल् हुनुपर्ने नेपाल', 'पत्रकार हरु साेध्ने तरिका अलिक साेध्नु पर्याे', 'बिचलित हरु आत्मा चोट परे रहेछ ईटहरी मियर कानुन प्रती तिनि हरु कार्बही बधाई मियर सर ।', 'मेयर ज्यु पत्रकार नाक डारि हैन त्यस जता भाबी लेख्ने हात काट्नु सलाम हजुर देश धमिरा हरू नस्ट आब जन फेसला ऐक दम जरूरी', 'भ्रष्टाचार बिरोध ।', 'कुरै नबुजि मेयर बिरूद्द नबोलौ साथि हरू रवि लामिछाने ठिक मेयर पोनि १०१ ठिक हामि गाउ भाशा यस्तै कसैलाइ आपत्ति भय अदालत जादा ।', 'कुरै नबुजि मेयर बिरूद्द नबोलौ साथि हरू रवि लामिछाने ठिक मेयर पोनि १०१ ठिक हामि गाउ भाशा यस्तै कसैलाइ आपत्ति भय अदालत जादा ।', 'द्वारिकालाल चौधरी मेयर साब ढकमगाउनु हुदैन हामी छौ तपाईं अलिकति हतोत्साहित हुनु हुदैन हाम्रो सुझाब ।', 'द्वारिकालाल चौधरी मेयर साब ढकमगाउनु हुदैन हामी छौ तपाईं अलिकति हतोत्साहित हुनु हुदैन हाम्रो सुझाब ।', 'पित पत्रकारिता सफाई स्वंयम राम्रा पत्रकार हरू ।', 'रबि सर फ्यान अहिले मेयर चौधरी नेता हाम्रो देश हुनु ।', 'मेयर द्वारिका लाल चौधरी ज्यू जीबनी भाबी पुस्ता पढ्न पाउनु जती पोस्ट लाइक गरूमत ।', 'झोले पार्टिगत पत्रुकार भ्रष्टाचारि चाहि कार्बाहि हुनुपर्छ ।', 'भ्रष्टाचार अन्त्य मेयरजी हरु यता हाजिर गरमत ।', 'मेयर सयेब काठमाडौं खाचो काठमाडौं सम्हाल्नु आउनु पार् ।', 'भ्रष्टचारी घुसखोरी कानुन दायरा लिएर राम धुलाई गर्दा कसो होला मेयर ज्यु ।', 'निडर हुनुस् सलाम तपाईं राम्रो सोच भय नेता पाउदैन ।', 'कत्ती बिचलित नहुनु है ।', 'कालो कोट लाउने भाइ सहि भन्नुभाछ बुझ्नुपर्छ ।', 'ल अबत वाक्क भयो देश काचुली फेर्नु पर्यो रबि जी लाइ प्रधान मन्त्रि बनाएर देश विकास ।', 'रबि जिन्दबात भोलि दिन फेरि दायाँ बायाँ नराम्रो जात भात फरक नआवस है रबि सर आज जति तपाइ सपोट गरे फेरि नराम्रो भो हामी येस्तै ब्रो ज्ये रबि सर ।', 'रबि सर नेपाल सरकार सुरक्षा दिनु पर्यो ।', 'देस खोजे जन्ता रोजे रबि देखाउनुहोस देसलाइ छबि ।', 'सत्ये देस प्रधानमन्त्री रबि लामिछाने गुनु ई बुढा यमराज अंश देस ।', 'रवि सर चुनाव लडनु हामी मिलेर रवि सर प्रधान मन्त्री बनाउनु छौ ।', 'रवि सर चुनाव लडनु हामी मिलेर रवि सर प्रधान मन्त्री बनाउनु छौ ।', 'पञ्चेबाजा राष्ट्रिय धुन बजाइदिनु भय भय कति राम्रो हुनि ।', 'बधाई रवि सर झन अड़ीग अनी ज़िम्मेवार भएर कार्यक्रम आगड़ी बड़ाऊनु होला ।', 'बधाई दाइ खुशी लागियो आयोजक टिम युबा छान्नु ।', 'युवा देश चलाउनु नेपाल युवाकाे शात्तिकाे खाचो अगाडि बढाउनुपर्छ नेपाल ।', 'सोच्ने कुरो होइन सिदै प्रधानमन्त्री जानुपर्छ रोजाई हजुर प्रधानमन्त्री हुनु ।', 'सिधाकुरा कार्यक्रम हैन रवि दाजु देश चलाउनु हजुर ।', 'भाई सहि देश युवानेता चलाउनु ।', 'देश युवा हरू हाँक्नु पर्दछ ।', 'जय रवि दाइ देश बिकास नेपाली जनता दिनुस है ।', 'अहिले खर्च बोट बिरुवा लगा सम्रक्षण गरौ', 'चीन बाट सेक्ने ओलि ज्यु ।', 'सुरक्षा नेपाली चेली दिनु है', 'सत्य समाचार हेर्ने हाे युट्युव मिडिया हेर्नू ।', 'पाहुना स्वागत भब्य रुप गरौ जय नेपाल ।', 'है केपि बा ।', 'दिन होईन सधैं नेपाल एस्तै हूनूपर्छ ।', 'बासि बाटो छेउ फुल नचोरनु ला ।', 'सफाई निरनतरता दिन हामी भेडो फोरि नेपाली १ परछ ।', 'पाउना राम्रो स्वागत गरनु होला ।', 'नेपाल प्रगती गरोस ।', 'काँग्रेस परजिवी ठिक पार्नु ।', 'अर्का सपोर्ट बिना राष्ट्र अमन चयन प्राप्त सक्तैन त्यसकारण पालो बाट सपोर्ट लिने पालो सपोर्ट बानी विकास यसैमै कल्याण जय होस् ।', 'गगन थापा ज्यु नमस्कार देश जनता रगत तातिए मुटु थर्किए शाहि काे अाक्रमण गर्दा जनता मन चर्किए त्यसैले जनतालाइ सान्त्वना दिदै आबाज ऊठाऊनुहोस् ।', 'कानुन कडा', 'देश बनोस कानुन चै कडा', 'जहि जनता आवाज बोल्ने कोसिस गर्नुहोला धन्यवाद', 'गगन जि पहिला काङ्ग्रेस सुधारेर देखाउनुस अनि भाषण गफ दिन अाउछ', 'फलाम ताते बेला साइज ल्याउने काम गर्नुस ।', 'विवेक प्रयोग गर भाइ ।', 'नेता ज्यु हजुर बोली बिचार बेबाहार होस् ।', 'गगन थापा नेपाली जनता आशा भरोसा नेता सडक आउनु पर्यो नेपाली काङ्ग्रेस भ्रष्टाचारी दलाल सरकार लाइ ढाल्नु ।', 'गगन थापा नेपाली जनता आशा भरोसा नेता सडक आउनु पर्यो नेपाली काङ्ग्रेस भ्रष्टाचारी दलाल सरकार लाइ ढाल्नु ।', 'काङ्ग्रेस भस्ट्चार चोर भनेर कम्युनिस्ट बलत्कार हत्यारा भनेर यस्ता कुकुर हरु भोट दिएर हुदैन हामि सचेत भै सके छौ हुनु चोर हरु पत्यसाप ।', 'युवा पाटी खोलेर आगामी दिन देश चलाउन रबि दाइ ज्ञानेद्र दाइ अपिल दाइ लेलिन दाइ जस्ता भोट दिने ।', 'मावबादी मनै पर्दैन गगन गरे ठिक सरकार ढाल्नु ।', 'गगन सर तातिनु पर्यो ।', 'मिल्यर ग्यानेन्द्र साही ।', 'घर गयर बाख्रा हेर बिचार गर यता नबोल्दा ।', 'गगन थापा पहिला जय नेपाल तपाईं एउ टा पर्दाे युवा नेता हाे अाशा काे दियाे हाे त्यसैले मेराे शुजाभ भ्रष्टाचार बेथिति खुलेर बाेल्नुस जाे सुकै हाेस त्यस शेरे भएनि कारबाइकाे माग गर्नुस तब अाउने पहिलाे पाटि काग्रेश ।', 'गगन थापा पहिला जय नेपाल तपाईं एउ टा पर्दाे युवा नेता हाे अाशा काे दियाे हाे त्यसैले मेराे शुजाभ भ्रष्टाचार बेथिति खुलेर बाेल्नुस जाे सुकै हाेस त्यस शेरे भएनि कारबाइकाे माग गर्नुस तब अाउने पहिलाे पाटि काग्रेश ।', 'कम्युनिस्ट हरू मुक्त्त नेपाल बनाउन पर्याे ।', 'राम्रो काम समर्थन नराम्रो कामलाइ घोर बिरोध पर्यो ।', 'सलाम गगन थापा ज्यु यसरि राम्रो काम जानुस ।', 'संयमित आबश्यक ।', 'ज्ञानेन्द्र साहि समर्थन देश ब्यापी आन्दोलन ।', 'नेपाल नेता गगन दाई मात्रै सब चोर संकालग्छ मसग बहस सुजाब दिन्छु ।', 'मन पर्ने मलाइ नया साथी बन्दिनु भनेर आग्रह ।', 'महारानी जि मजाक हुदैन थ्यो कम्जोरी ।', 'भएनी भन्नू रास्ट्रपति गलत ।', 'शेर बहादुर बाजे सन्यासी हुनु राजनीति बाट', 'हेल्लो महारानी जी करोड हेलिकप्टर किन्नु कान उपचार गराउनुहोस् ।', 'अपाङ्ग ता उडाउनु आपमान रास्ट्रपति पद् हेक् हुनुपर्छ ।', 'आमा भयपछी छोरा छोरी बोल्न देख्न सुन्न नसक्ने भयपनी मन बुझ्नु ।', 'रास्ट्रपति मजाग गरे सुहाउँदैन सानसद हत ।', 'राष्ट्रपती राष्ट्र प्रमुख राष्ट्रप्रमुख लोकतन्त्र बोली बुझिन भन्न पाइन्छ अवस्यपनी हासी हासी खिल्लि उडाउन मिल्दैन लिएर ।', 'पार्टीगत व्यवहार राष्ट्रपति देखाउन भएन ।', 'उहाँ हल रुप बोली बुझिने ब्यबस्थापन मिलाउन संयोजक हरु आग्रह ।', 'विषय सरकार वा रास्ट्रपति विरुद्ध अफवाह फैलाउने ढंग समाचार नबनाउन वाला हरु सचेत गराउन चहान्छु ।', 'नगरे हाे राष्टपति मान्छे बराबर हेर्नू ।', 'रमेश प्रसाईं काठमान्डौ आइ सके दिल निसानी मगर रमेश प्रसाईं टेबुल राख्नुस है पत्रकार साथि हरु रमेश दिल भुटे हेर्ने मन ।', 'दिल निसानि जि तपाईं यस्ता भाषन ठोकेर जनता हरु कति भ्रम पार्नु होटेल साहु छोटेर निर्दोष रवि दाई फसाउने चाल गरे छन होटेल साहु अनुसन्धान पर्यो ।', 'पत्रकार ज्यु २ ४ बर्ष अध्यापन अाय राम्रो हुन्थ्यो ।', 'चिक्ने पत्रकार विहारी परेछ की कसो मुजी नेपाल प्रशन गनुनी नेपाल देश ईन्डीया स्टेट होर सुरेन्द्र केसीसग प्रशन गनु यार अच्म आझै बषेॅ पडेर आऊ पत्रकार भाई ।', 'सर कमसेकम श्रद्धान्जली दिनोस ।', 'पत्रकार ज्यु प्रस्न अघि अलिक गरेँ राम्रो हुनेछ ।', 'प्रश्न शैलि मिलाउन नसक्दा गालि कति पाईन्छ भनेर हेर्न याे भिडियाेकाे कमेन्ट पत्रकार गालि बर्षेकाे हेर्नुहाेला ।', 'खाते पत्रकार प्रशन कस्तो लामो चि साले थुक खाते तेरो बुद्धि अलिक सिकेर बोल्नुपर्छ ।', 'तेरो अलिक डा सुरेन्द्र सङ कुरो बेला ।', 'केसि जिल्ल परे बरै कहा प्रस्न कहाँ लगेर सोद्छ पत्रकार अलि प्रस्न सोधपुछ सिक्न पर्यो ।', 'पत्रारिता अन्तर्वार्ता सम्बन्ध ज्ञान हासील गर ।', 'बर्ष अध्यन आउदा राम्रो ।', 'नेपाल प्रश्न गर', 'रबिन्द्रा भ्रष्टाचार कान्ड पहिला पर्दा फास पर्नी ।', 'रबिन्द्र दाई राजनीतिज्ञ हरु मारे महसुस भय जनता कडाई छानबिन होस ।', 'सरकार कस्तो मौसम प्लेन उडाउनु बुझेर प्लेन उडाउने इजाजत दिनु पर्ने यस्ता नियम बनाउनु पर्यो ।', 'हुनत माइने राख्दैन मानबता चाहिँ भुल्नु हुदैन ।', '।', 'घट्ना पियोर घटे सोएम सभामुख गल्ती महसुस गरे पुन्य गौतम समर्थन नगर ।', 'सगर सर पुन्य झापड लगाइदिनु पर्ने हावा ताल बोल्छ यार पुन्य ।', 'पुन्य जि अन्तरबार्ता नदिय तपाईं घिन लाग्दो अर्थहिन ।', 'तपाईं कुवा दुबेर मरे ।', 'बलात्कारि खोर कोच्नु जस् ।', 'पाटी बचाउन आरोप नलगाउ धन्यवाद ।', 'बौलाहा अत्तो पत्तो चिच्याउनु सत्य तथ्य पक्ष उभिनु राम्रो ।', 'पुन्य जि हजुर गलत हुनुहुन्छ है केस नबोल्नुस ।', 'तिहाइ काे सरकार भनेर कम्निस्ट नालायक सरकार फुर्ति नलगाय ।', 'साला कुकुर पुन्णु लाइ लात हानेर आउट कुकुर बलतकारि यइ ।', 'रबि सर हजुर हिम्मत नहार्नुहोस तपाइ हिम्मत हारे हामी गरिब जनता बेसाहारा हुन्छौ ।', 'कसम खायर भन्दै आय हामी युवा राजनिती होइन रबि सपोर्ट लाग्नु मन परे लाइक गरौ है ।', 'रवि सर केसलाइ कडाइसङग फलो अनुरोध गर्दछु ।', 'बलात्कारी धोति फांसी दिएर बलात्कारि हरु फांसि सजाय कानुन बनाउन पर्यो', 'सुरुवात यहि धोति बाट ।', 'बिध्या देबि भण्डारी रास्ट्रपति पद बाट तुरुन्त हटाइयोस मोजमस्ती रास्ट्रपति काम जनतालाइ रिन भार मात्रै ।', 'उहा काे हाैसला काे लागी समर्थन गराै ।', 'हजुर हुनेछौं सदा निडर रहनुहोला देश उच्च तह हेर्न चाहान्छु ।', 'सत्यलाइ जितेर जस् बाटो काट्छ तेस् हामी खुट्टा काट्छौ तपाईं सत्य बाटो लम्किरहनु होला रबि सर समर्थन ।', 'बिप्लप दाई लालिगुरास शहकारि जना उडाइदौ तिम्रो भलो ।', 'कार्यक्रम हेर्दै कमेन्ट पढ्डै कमेन्ट जति एता लाइक गरम अनि साथि बनाउनु ल ।', 'विदेश बाट हेरने हुनु साथी हरु चेनल जोडीनु होला साथी हरु ।', 'रबि दाई माया जति यता उहाँ कार्य संमान स्वरुप लाईक है साथी हरु ।', 'नेपाल सरकार रबि सर सुरक्षा दिनु ।', 'रबि ठेगान लाउछु मिनेट मै सिध्याउन सक्छु प्रेश काउन्सिल अध्यक्ष किशोर श्रेष्ठ सरकार गम्भीर ध्यानाकर्षण होस', 'रास्ट्र कै गहना माथी यत्रो अन्याय हैट लालिगुरास कडा कारबाही माग गरौ साथी हरू ।', 'रवी फसाउन किशोर श्रेष्ठ अझ फसाउने योजना बनाउँदै होला सावधान रवी सर ।', 'कार्यक्रम सीमा सारै छोटो भयो हजुर अलि लामो बनाउनु पर्यो ।', 'रबि सर मिल्छ भिमार्जुन अाचार्य ल्याउनुस ।', 'रवि सर भाइरस दुश्मन बाट सावधान रहनुहोस् ।', 'ओराली लागे हणिन चाल भो बाचुन्जेल मरे कै हाल भो छल गर् माया छल गर् माया गाना अति मन राम कृष्ण ढकाल दाजु पीडित न्याय दिलाई दिनु होला है रबि दाजु ।', 'जय रबि जय नेपाली जनता रबि दाई फेन जति होला ।', 'बिप्लप नेता कर्याकर्ता हरु काता गय यस्ता सहकारी संचालक लगेर झुन्डायर कर्बाही होला अनि नेपाली जनता बिप्लब दिन्छ ।', 'माननीय कमेन्टर हरु यता हाजिर उता हाजिर भनेर बकवास बैचारिक कमेन्ट समर्थन योग्य धारण राख्नुहोला ।', 'साला यता हाजिर उता हाजिर रिस उठ्छ कुरै छोड राम्रो गर ।', 'रामकृष्ण ढकाल लाइ नभयर सहयोग सब हामी नेपाली ।', 'सत्य आउनु पर् बोम्जन कार्बाही हुनु पर् ।', 'रवि सर हजुर छिटो छिटो पुग्नु होला राम बहादुर बम्जन आश्रम ।', 'राम बहादुर बोम्जन कार्वाही हुनु ।', 'सिधाकुराजनतासङ्ग टिम रामबादुर बम्जन् रहेछ तेस्सो बास्तबिकता रहेछ पत्त्ता लगाएर बहिरा लियाउनु परो ।', 'धर्म नाम बलात्कार चाडै अनुसन्धान कडा कडा कारबाही होस ।', 'मान्छे कहिल्यै भगवान सक्दैन आफै आफै भगवान भनि स्वार्थ पुरा दुनियाँ उल्टो बनाउछ छिटो छोटो कारवाही हुनुपर्छ ।', 'राम बहादुर बोम्जान माथी छिटोभन्दा छिटो छानबिन सुरु गरियोस सरकार', 'गुरु हु भन्दै दुनियाँ छोरी चेली योन दुव्र्यवहार छानबिन कार्बाही गरीयोस ।', 'नेता देश नबिगार अती भो गरिब छोरा चोरी नमार कुर्सी लागी ।', 'बम्जन् बचाउन लागी पछी पर्ने छानबीन जेल हाल्नुपर्छ ।', 'आज फेरि रबि सर सिधाकुरा देख्न पाउँदा खुसि नाच्ने हरु एता हाजिर गरौ हामि रबि सर सुरक्षा दिनु है साथी राम्रो काम टिक्न दिदैनन हाम्रो देश पाखे नेता हजुर जय देश जय रबि सर ।', 'दलाल हरु हेर रबि कति रबि पछी पर्छौ टाईम आझै राम्रो काम लाग हरु दीन सकियो जनता जागी सके रबि फर्की सके ।', 'बहुला कुकुर हरु बाँधेर मारिन्छ बहुला नेता हरु यसै की की कसो मेयर ज्यू ।', 'शुभकामना निरन्तर पाइला नपरी अगाडि बर्दै जानू होल न्याय पछे ।', 'रवि दादा कर प्रकरण काे याे चलखेलकाे उजागार देश जनताकाे भलाई गरिदिनुहु तपाईसामु विनम्र अनुराेध गर्दछु ।', 'रबि सर चोटि पुडासैनी श्रीमती दुख घडी गयर भेटी सदासायता देखाइ दिनु भो भनी हजुर अझ माहानता थपियला ।', 'लौ सर ढिला भैसक्यो छिट्टै प्रधानमन्त्री लड्नु पर्यो बनाउने जिम् हाम्रो सहमत छौ ।', 'देसै भरि एफ एम बात पर्सार्न बातावतावरण मिलाउनु पर्यो ।', 'रेड्कोटे पागल रहेछ युबा भन्छ खाली नेगेटिभ मात्रै भन्छ बिना तथ्य बिना आधर बोल्दोरहेछ बिना रेकर्ड यस्ता पागललाइ नबोलाए हुन्थो खाति जि मैले ठिक मै मात्रै जान्ने हु भन्दोरहेछ ।', 'यस्ता युवा हरु राजनिति आउनुपर्छ ।', 'दुबै जना फेरि ल्याउनु पर्यो ।', 'यस्ता नेकपा कार्यकर्ता गर्दा पार्टी गनाऊ यस्ता अहीलेनै टीपेर फालाै ।', 'वाला नेता रे छि छि छि छि लाज लाग्नु पर्ने एउटा प्रश्न उत्तर दिन ३ सोध्दा मोडछ खाते नेता कहिले नबोलाउनु होला', 'हामी चाहे नेता खाल हैन', 'कुटनैतिक मर्यादा बिचार गर्नुपर्थ्याे ।', 'पैसा मुख कालोहुन्छ भन्छन लोभिपापी पैसा दिन्न छोडनुपर्छ कृश्चियन सिर्चियन सिधिन्छ ।', 'राजीनामा देउ रबि देउ ।', 'राजीनामा देउ रबि देउ ।', 'सुशील ज्यु खरो पना सारै राम्रो सुशिल जी साचै खरो भैदिनुस है नेता भ्र्ष्ट छन कोहि राष्ट्र प्रेमी छन भ्र्ष्ट हरु झ्या हार्नुस है', 'ऋषि धमला राम्रो सङ्ग सिक पत्रकार कस्तो हुनु पत्रकार विपक्ष सत्ता रहे कोहि खबरदारी सक्ने', 'गु खा देशी कुकुर ।', 'सुशील जि जनता घाँटी निमोठ्ने घाँढो संघीयता घाम सुकाइदिनु पर्यो ।', 'याे नेता हरू चाेर यस्ता चाेर नेता हरू देश निकला गरनुपरछ संविधान नमाने पाटि ने क पा हाे ।', 'गएर केपि काे पिके काे मुत खा ।', 'सक्नै गणतन्त्र काम ।', 'यस्तै खरो दरो प्रश्न गर्नुस सुशील सर तपाईं निडर पत्रकार देखिनु ।', 'शुसिल जी सुर्य पाठक लाइ लोप्पा खुवाउन सक्ने ब्यक्ती बोलाउन पर्ने ।', 'सक्किनै ।', 'गणतन्त्र लोकतन्त्र भ्रष्टाचार बलत्कार मान्छे मार्ने रबि फसाउने ग्यनेन्द्र साही मान्छे खुट्टा भाच्ने येइहो येस्तो गणतन्त्र लोकतन्त्र तिमि हरु गोजि राख जनता चाहादैन ।', 'प्रत्रका हाेस सुशील पाण्डे जस्ताे हाेस ऋिसि जि सिक्नुहास ।', 'सुर्य राज सर सरकार कमिकमजोरी टिका टिप्पदी आलोचना सरकार होशियारी गराउने राजाबादी देख्नु सरकार कामकारबाही सुधार ल्याउने सोच्नीकि', 'जन भावना सडक देखिए सरकार बितिस्ना राजाबादी नजर हेर्नु आखा चस्मापो बद्ल्नु पर्नी होकि', 'ज्ञानेन्द्र शाही ल्याउन आग्रह गर्दछु ।', 'स्वर्गीय श्री मार्क्स श्री लेलिन जन्मभूमि हिउँ पर्दा नेपाल कालो काम्लो ओढ्ने लालबुझकट हरु सित होशियार', 'सुर्य पाठक तह लगाउन डाक्टर प्रेम सिंह बस्नेत ज्यु बोलाए हुन्थ्यो ।', 'पर्श्न राजनीति नेता सोध्नु ।', 'हजुर गणतन्त्र सपोर्ट परेन ।', 'सिके राउत जेगर्दानी हुनि राजा बोल्न नहुनी दम छभने राजा राख्ने की नराख्ने जनमत सङ्ग्रह गर ।', 'अात्तिएकाे नगेन्द्र शाही नेशनल जी प्रष्ट अाफ्नाे धारणा राख्नुहाेस ।', 'श्रि ५ ज्ञानेन्द्र शाह का्े जय जय राजतन्त्र लयाऊनु नेपाली जन्ता जय हाेस पशुपतिनाथ ।', 'रमेस खरेल बाट सिक पुलिस ।', 'डि इ जि साप अनुसन्धान दानबहादुर मल्ल अनुसन्धान ।', 'मजा आएन दुवै जना भाव कमसेकम पक्ष विपक्षलाइ बोला हुनु ।', 'सुशील सरकाे बाेल्ने अनि प्रश्न साेध्ने शैली लाजवाफ क्या घुमाएर मिलाएर गर्नुहुन्छ याे एउ टा कला अनि तरिका हाे तेस्तै तेस्तै काे पसिना अाउछ तेसै मन सुशील सर नछाेडनु हाेला यस्ता काचुली गाेवन हरुलाइ यस्तै डसिराख्नु ल ।', 'खरो रुप बद्दै जानू ।', 'राजिना बिकल्प सरकार बर्खास्ती ।', 'राम्रो कार्यक्रम ल्याउनु भयो एउ टा पत्रकार पिडा पत्रकार बहस चलाउनु जरुरी पक्राउ सैलि खुलेरै बिरोध गर्नुहोस ।', 'पुलिस पहिला ठिक अहिले ठिक बोलाउनु हुदैन', 'पत्रकार हुनू ।', 'पहिला यसै छानबिन गरिनु ।', 'इज़्ज़त बिश्वराज पोखरेल राजिनाम दिनुहोस ।', 'मै आज रमेश खरेल सम्जिय है यदी आज रमेश खरेल रबि लामिछाने नय पाउने कसो साथी हरु नालयक सरकार राजीनामा भयो ।', 'सर सोध्नुन रबि कुन हिसाब लगए ।', 'मुला खुब भन्नलाइ दलाल तलाइ किरा परोस खाना नपाउने ।', 'पत्रकार ज्यु हत्यारा पद बढाइदिन्छु भनेर काम लेखपढनै नभए हुदारैछन भनेर सोद्नुस ।', 'सरकार हिम्मत रवि दाइ फसायर देखा अनि थाहा देश यसकाे मूल्य ठुलाे चेतना भय ।', 'चितवन् घुस्याहा मल्ल कारबाही गर ।', 'धन्यवाद सुशील सर चितवन जानू पर्यो ।', 'सत्य तथ्य हजुर सिङ्गो अपरेटिङ हुनु पर्यो ।', 'सुशील सर दिनै कंग्रेस कम्युष्ट येसरि ल्येर बहस गरानु होला सुन्न मजा अाउदो रहेछ चोर चोर पोल खोला खोल्ल हामी बिदेशि युवा सुनेर टाएम पास गरछै ।', 'नेताहरो जेल नया बनौनु ।', 'आज कार्यक्रम अति मजा कुराबुजियना जना यकैचोटी बोल्न दिनुभयन ।', 'अहिले सभामुख य औटा बोल्द साउन्ड ओफ गर्नुपर्यो ।', 'भ्रष्टाचर मुद्दा नेता हरु कार्यक्रम गर्द हात हतियार लिए अर्द सैनिक बल तैनात पर्ला ।', 'अानन्द पाेख्रेल जि ठुला ठुला भरष्टचार काे सम्रक्षेण राजनिति दह बाट सिधै भयाेनि चपायर बाेल्नु ।', 'विप्लव ज्यु पहिलोपल्ट विस्वराज कार्यवाई गर्नुपरेयाे ।', 'भरत दाहाल यास डि मुनीम बहस हुनु ।', 'सर्लाही प्रहरी झुटो बचेरा रिपोटिङ्ग गरे सुचना सत्य तथ्य छान बिन गरेरा कामकारबाही हुनु ।', 'हत्यार बोकेर खुल्ला हिड्ने मान्छे हरुलाइ गोलि ठोक्ने अनि कानुनु दैर ल्याउनु ।', 'बमवाला पद लोलुप हत्यारा आतंककारी हरु हतियार समर्पण शान्तिपूर्वक वार्ता आउनु होइन यिन चाक बम लगाएर पड्काउनु ।', 'प्रहरी अथवा सुरक्षा कर्मि गल्ती तेस्लाइ कार्बाइ बर्खास्त तब सुरक्षा ब्यबस्थापन राम्रो प्रहरी गरे गल्तिलाइ ढाकछोप गर्नुपर्ने हुदैन नेपाल प्रहरी सङ्गठन नराम्रो पक्ष ।', 'सिस्तमै ठिक छैनन् बदल्न्नु लाग्छ', 'पुलिस हासिहासी बोले ए सजाए हुनुपर्छ लुकाएर पुग्छ हामी रगत खोली बगाउन तयार हामी छ्म ।', 'पार्टी झोले पत्रकार यसलाइ स्पष्टीकरण दिई रहन आवश्यक द्वारिका जि ।', 'हरू प्रश्न साेध्नु हरू बिधि सम्मत जानु उत्तर नअाए राजेन्द्र जि ।', 'भ्रष्टाचारी फुलमाला स्वागत गरेकाे भऐ चर्चाक अाउने थिऐन थारूकाे छाेराे सिधा जाने काे राम्रो भाे मेयर जिउ भ्रष्टाचारी भाटे कर्बाही गर्नुपर्नेछ धन्यवाद मेयरजिउ ।', 'नाक होइन भ्रष्टाचारि खुट्टा भाच्नुहोस मेयर साब ।', 'यहि कारण जस् भ्रष्टाचार विरुद्ध अभियान उस नेपाल जनता दिनछ्न दिनु ।', 'हामी सच्चा नेपाली हैौ मेयर दिनु पछ जय नेपाल ।', 'हामी सच्चा नेपाली हैौ मेयर दिनु पछ जय नेपाल ।', 'जनता साधारण मेयर प्रधानमन्त्री हुनु मुलुक खाचो ।', 'प्रत्रकार माेहदय बस्तम चाैधरि जति काे ईमान्दार मान्छे अर्काे मान्छे खाेजेर ईन्टरभिउ लिनु अनि काे ईन्टरभियु काे ईमान्दारिता काे खाेज्नु कुन क्षेत्र खाेज्नु राजेन्द जि ।', 'मिनेट सुन्दिनोस मेयर जि सब राम कहानी थाहा पाउनु हुन्छ् ।', 'जबर्जस्ति माफी माग माफी माग रे घन्टा माफी माग्ने माग्नु पर्दैन ।', 'मेयर साफ सहि बिचार राम्रो नबिराउनु नदराउनु सच्चा जनता हजुर छ्न ।', 'माफी मक्नु परदैन मिडिया गएर फटा पत्रकार अपमान गरे बए त्योइ फाटा सपोट मिडिया ईन्टरबियु लिन्छ मिडिया बन्दा फरक प्रस्न साकिन मेयर मिडिया जानू कम गर्नुहोस किन् की यस्ता पत्रकार गुमाइ फिराई फसाउनु खोच्छ ।', 'तेसै मेयर होइन हुनुपर्ने ।', 'मेयर साहिब बाकि ठिके प्रस्तुत हुनुहुने सहिली चाहि फेरनु होला नेपाल ९० संत पत्रकार जासुशि नेपाल चैवर नेता छेवरा दलाल छन जस्ते हुदाण ग्नेन्द्र साह मुदा झैलेपत्रकार कणला चोर ।', 'पत्रकार अाफ्ना कमजोरी लाइ कमजोरि भन्नै ।', 'दाजु तपाईं इजत कमाउन मन सपोट होला ।', 'राजेन्द्र जी मेयर आक्रमण नऊत्रनु होला की भ्रष्ट्रचार कर्तुत प्रती नेपाली मन द्वारीका ज्वाला मुख ताक्ने प्रबृती मौन द्वारीका हिरो सम्मान गरौ', 'कारवाही ।', 'जस्ता तेस्तै ढिढालाइ निस्तै भ्रष्टाचारी छोड्नु हुदैन मेयर साब हामी तपाईं छौ ।', 'मेयर अध्ययनलाइ सलाम शैली अलिकति परीवर्तन परो भष्टचारी लोप्पा होइन गोली ठोक्नु ।', 'हैन माफीमाग्न कति सारो ढिपि गरे यार भ्रष्टाचार विरुद्ध आगामी दिन कार्यक्रम त्यता तर्फ फोकस', 'अधि बढ्नु ।', 'देश मेयर पद बस्नु सम्पूर्ण पधाधिकारी ज्यू हरु भष्टाचार बन्द गर्नुहोस् ।', 'पत्रकार मित्र मेयर साब ठिक जेनि सुद्नु आवसेक हामि बुजे छौ ।', 'सुर्खेत मुख्यमत्री ल्याउनु परो सर ।', 'सुशील पाण्डे सर कर्णाली मन्त्री महेन्द्रबहादुर शाहीलाइ अन्तरवार्ता बोलाइ केरकार ।', 'पहिला डिआईजी साब अस्पताल लगेर ज्ञानेन्द्र शाही निल डाम देखाएर अन्तर्बार्ता लिनु अनि थहा हुन्थ्यो ।', 'पोख्रेल सुर्खेत बोलायर ज्ञानेन्द्र सर पत्रकार सम्मेलन कुत पित गरे होकि होइन बुज्दा अनि सुर्खेत प्रहरी सहि होकि गुन्दा था भै हाल्छ ।', 'हिरासत सिसि क्यामरा खोइ देखाउने पर्यो सुशील जि ।', 'सुशील पाण्डे सर प्रश्न खरो तेसै होला एकदमै मन सधैं हजुर सपोट छौ हामी राम्रो काम जानु होला ।', 'स्टाफ बोल्ने तरिका सिकाउनुहोस प्रहरी हाकिम ज्यु ।', 'अनुसन्धान क्राइम पेट्रोल हेरेर सिक्दा नेपाल प्रहरी ।', 'अगाडि बडै जानुहोस हाम्रो फुल सपोट भस्टचारि दायरा ल्याउनु पर्यो ।', 'जनता कत्ती सुरक्षा ।', 'सुशील सर आईन्धा पुलिस डिपार्टमेन्ट मान्छिलाइ ड्रेस निम्तो गर्दिनु होला किना इनि हरु ड्रेस् मुल्लेनै थाहा छैना एति गाली गर्ना मन पुलिस जन्तु हरु साधे छैना ।', 'पत्रकार अलिक रस्साकशी प्रस्न गरेन ।', 'दुर्घटना प्रत्यक्ष्य दर्शी हरु सुन्न पाए हुन्थ्यो ।', 'देश दु खद मर्दा तेत्रो हेलिकप्टर नोक्सानी गरेरै मर्यो', 'मौसम हेरेर उडान गरौ हजुर जीवन भनेकाे फेरि फेरि अौदैन रास्टपटि अापत पराेस राजा हेरेर उडान गरौ ।', 'हाम्रो देश नेपाल मन्त्री नेता पाउर एसतै जिमिबार केपि ओली प्रधानमन्त्री लेनु ।', 'कसैइ थाहा हुदैन कैले हतार होला काम छुटोस सरकार बीग्रे पुरानो सामग्री युज ।', 'सत्य तथ्य पत्ता लगायेर गल्ती गरे पाइये कसैलाइ कार्बाही हुनुपर्छ ।', 'दुबैजनाई एकै राखेर कुराकानी गराउनुपर्याे ।', 'आइमाई गल्ती भन्नुभन्दा हजार सोच्नुहोला ।', 'हाम्रो नेपाल गुलाम नगरी बाँच्न सक्ने अबस्था मिलेर परिस्थिति चाई अन्त्य ।', 'दुबै जना सङ्गै राखेर अन्तरबार्ता लिनु पर्यो ।', 'सत्य तथ्य ल्याउनु पर्यो ।', 'पत्रकार साथी चोटि जना राखेर सोधी दिन्नु पर्यो खास ।', 'कुलमान रबिदाजु महजाेडि जस्ता महान ब्यक्ति भय नेपाल बाटो राम्रो बनाउनुपर्या हजुर ।', '३न प्रदेस ल्याउनु बिजुली गाडी ।', 'कुलमान घिसिङ जिन्दाबाद सिङ्गो देश नेतृत्व परो घिसिङ आस्याङ्ग नाई देश मुहार फेर्छ ।', 'राम्रोकाम बाटो पो बनाउनु पर्योत बिदेशतीर यस्तै गाडी बाटोपनी कति राम्रोहुन्छ नेपाल बाटो हरू बनाउनु पहिला ।', 'बाटो बनाउनु जरुरी देश बाटो घाटो पार्किङ ब्यबस्थापन दमै दयनिय अवस्था ।', 'चिज बिजुली प्रयोग कुलमान घिसिङ सर सहयोग गरौँ ।', 'अाफ्नाे प्रगतीकाे बखान गरे भई गयाे ।', 'सस्तो हुनुपर्यो ।', 'दीर्घकालीन सेवा हुनु पर्यो आज चल्ने भोली बन्द हुनुभएन है चिकन ।', 'चालक सहचालक अलि योग्य सभ्य पढेलेखे राख्नुहोला ।', 'गाडी राम्रो रोड आलु दुइचार दिन झमक नहोस गाउँ शहर रोड मजबुत बनाउन आवश्यक नेता जि भ्रष्टाचार दलाल ठेकेदार कार्वाही हुनुपर्छ ।', 'गाडी राम्रो रोड आलु दुइचार दिन झमक नहोस गाउँ शहर रोड मजबुत बनाउन आवश्यक नेता जि भ्रष्टाचार दलाल ठेकेदार कार्वाही हुनुपर्छ ।', 'कम से कम वायु प्रदूषण कम ।', 'बस हरु थप्दै लानु ।', 'गाडीत सडक स्तरउन्नती गर्न्नु ।']\n"
          ]
        }
      ]
    },
    {
      "cell_type": "code",
      "source": [
        "print(cleaned_text)"
      ],
      "metadata": {
        "colab": {
          "base_uri": "https://localhost:8080/"
        },
        "id": "19YOQ6X7UVG1",
        "outputId": "a92d4b42-9e6f-437c-c1ec-f2707717562d"
      },
      "execution_count": null,
      "outputs": [
        {
          "output_type": "stream",
          "name": "stdout",
          "text": [
            "['मुजि बानियाँ कस्तो खाते गर्दैछ कुलमान नभए आज नेपाल उज्यालो हुन्थ्यो अझ कुलमान कमजोरी देखाउछ यिनी शोषक ।', 'ठुलो सरकार उल्लु बनाए बाँकी पैसा खान्छन अहिले सरकार तुरुन्त धाल्नु ।', 'पुलिस पहिला ठिक अहिले ठिक बोलाउनु हुदैन', 'यिनी चोर हरु जनता अन्धकार रखेर धुनु सुधारने कुकुर हरु कुलमन सार गरे ठिक काम ।', 'सहि पि अस्तित्व हरास हुदैछ', 'हाे प्र भएर काम देखाउनु पर्याे नारायण मान ज्यू ।', 'नेता सम्पति छान बिन जेल हाल्नी भनी जेल प्याक ।', 'याे सुर्य पाठाक अाफु देउता सम्झेकाे ।', 'थुक्क कुकुर नालाएक हरु ।', 'पार्टी उ पार्टी हैन सब चोर भ्रष्ट देश बनाउने कम्युनिस्ट काङ्ग्रेस ।', 'साबितृ अनुहार देख्दा बोली सुन्दा अनुहार भरि थुक्न मन लाग्छ जाठी बिदेस जाने केटा हरु बलात्कारी रबि सपोटर सुने ।', 'कानुन गुन्डा नाइके तरफ जादै तेसै हत्य हिन्सा हुदै पुलिस भनेनी जनताला जरो आउदै झुट सहारा लि दै छ्न इनि जन सेवक ।', 'पुलिस चै झुठो लाग्यो है अनि पुलिस लापरवाही हुँदै आ तेस्तै होकि लग्छ बा की चाल खेल होला राजनिती होला है अनुसन्धान निस्किन्छ चाल खेल होस राजनीति होस सत्ते तथ्थे हुनु तेति ।', 'पार्टी झोले चै हैन ।', 'थुक् एमाले गोठालो यस्ता मुला जड्या दलाली डलरे गोठाला बोल्ने तरिका तेरो यस्ता मुलालाइ नेता चाहिँ कस् बनायो ठिक ठिक बेठिक बेठिल भन्न नसक्ने कुपुत्र हरु किना गर्छौ राजनिती बोरु इशाइ धोती धोयर बस्न यार ।', 'लुट लुट साला हरू बाउ सम्पती नेपाल लुट याद राख चोर भ्रष्टाचारि हरु परित्राणाय साधुनाम बिनासचाय च दुसकृताम ।', 'बेला राजा नाम सम्पती सरकार नाम ल्याउनु भन्न लाज पचे नालायेक सरकार ।', 'चोर हरु पुरै बत्ती लिने अनि अहिले आयर बत्ती बिल दिन्नौ भन्छ चोर हरु चोरी मुद्दा हाल्नु ।', 'गूठी हस्तक्षेप गरिरहे छन ।', 'राजा तँ भस्त्रचार तँ गरेकोे ।', 'रबि दाजु सलाम ।', 'बिश्वासिलो नेपाल प्रहरी काम आफै बदनाम हुदैछ नेपाली जनता बिश्वास ठाउँ', 'कस्ताे चित्न नबुजेकाे गधा हरूकाे पत्रकार् एस्ताे भन्दापनि लाजपचाएर बाेल्छन थुइक्क गधा हाे ।', 'चोर नेता हरू तर्क गरे होइन भ्रष्ट रुए यिनि हरु शब्द सहि बोले ।', 'नाचे हौ तेस्तो फरिया उचालेर देखाइ देउ नेपाली भनेर जाठी ।', 'फरक बिचार भएता नेपाली राजनिति अत्यन्तै श्रद्धावान आदर्श व्यक्तित्व ।', 'मेहर सर मन्त्री होस् भन्न चाहने हरू यता हाजिर हौ', 'अबचै नेपाल प्रधानमंत्री सातोजानेभो हैं रबी जि भबिसै चै गरेरै देखाउनु परने हुनछ है रबि जि ।', 'नेकपा मुला पशुपति सेलाउन लगे तेरि टोक्ने हरु पढाइ घमण्ड बुद्धि चाक मुनि रहेछ मुला', 'इतिहास बिरसेर नेताकाे चाकरी बाेलने साहि तिमराे ५ साल हाे ।', 'बिचरा चीन राश्ट्रपती नेपाल यतिकओ राम्रो रहेछ भनेर भ्रम पर्यो होला ।', 'अगाडि बडै जानुहोस हाम्रो फुल सपोट भस्टचारि दायरा ल्याउनु पर्यो ।', 'राम्रो सोच आज देश निक्कै माथी हुन्थ्यो किसान छोरा कोदालो खनेर खान्छु सोच ।', 'सलाम द्वारिकालाल चौधरी मेयर ज्यु हजुर ठाउ मेयर खाचो शतप्रतिशत सहि हुनु मेयर ज्यु ।', 'डिस लाइक १०३ जना दलाल भ्रष्टाचारि घुस्याहा हरु ।', 'हजुर हरु प्रती हार्दिक नमन अनि दिपक दाइ मुस्कान कति राम्रो हौ ।', 'लालिगुरास सस्था सुरेन्द्र श्याम प्रदेशी चोर डाका रछ साले छोडनु हुन्न दलाल चोर ।', '।', 'केशब बडालभन्ने जन्तु च्यानल कहिल्यै नबोलाउनुहोस कहिल्यै साचो बोल्दैन मन्त्री अर्याल भु माफिया कै पक्ष छिन यस्ता मन्त्री', 'अहिले सताधारी हरु जति सबैलाइ पद्च्युत नगरी देश बाट भ्रष्टाचार कहिले उन्मुलन हुन्न ।', 'झुट स्थानीय जानी बुझी मारे स्थानीय हरु भनाई ।', 'हुनत हामि हजुर राष्ट्रपती भन्न घिन लाग्नथाल्यो हजुर होइन हजुर बानी व्यवहार बोल्ने शैली हजुर गरे सम्पुर्ण काम् धिक्कार लागेर आउच ।', 'ज्योति वानियाँ कुलमन हेर अनि तालु हेर अनि तिनि हरु सुनेर रगत उम्लन्छ यार तिर्दैनै रे सर्ब साधारन जनता लाइन काटेर मज्जा ऊध्योग सन्चालन नाफा लिन आज आएर तिर्दैनै खाए फाल्न नजान्ने मुला चोर दलाल ठग ।', 'मृतात् हार्दिक श्रद्धासुमन सम्पूर्ण परिवारजन हार्दिक समवेदना प्रकट गर्दछु परिवारजन धैर्यधारण शक्ति मिलोस् ।', 'याे जालि हरु फटाहाहरुकाे यस्तै हाे', 'हौ आईमाई कस् कति पैसा इज्जत लिलामी गर्दैछ', 'पत्रकार प्रस्न सोद्ने शैली सारै मन पर्यो ठिक', 'पठक भटेर आ जनता नेता झन्डे झोले ।', 'आखा अगाडि झुट बोल क्या पुलिस हरू भाला जलाउँछन् बल्ल बुजिन्दै ।', '२ साही लगियो २ चै चोर ।', 'पेल्छ केटो मज्जा लाग्छ', 'रत्नपार्क ब्यपार हैसियत भनेर अाफ्नाे पदकाे मर्यादा थाहा तलाइ बाधेर घासहाल्नु पर्ने ।', 'सलाम कुल्मान सर हजुर् पछी २ करोड ९० लाख जनता ईनी हरु असुल ।', 'जति फतफताय हुन्या वाला ।', 'कस्तो गर्छौ पत्रकार', 'राजा अाउ देस बचाउ ।', 'पार्टी झोले पत्रकार यसलाइ स्पष्टीकरण दिई रहन आवश्यक द्वारिका जि ।', 'मगन्ते हरू नक्कली स्वागत ।', 'साला चोर हरु गधा हरु नालायक हरु खोर जाग्नु गरिब जनता कर तिरे पैसा ।', 'रबि सर हजुर भरि श्रिपशुपति नाथ रक्षा गरून् ।', 'जीव राम जी एस्तो गम्बिर समस्या गम्भीर छलफल हुदा हासेर प्रस्तुत', 'मन्त्री ठुलाे नेता बिस्नु पौडेल भुमाफिया दलाल बिचरा मन्त्री पद होईन राजनीतिक जिवन समाप्त होला अनि कार्वाहि ।', 'गगन थापा देश जनता आशा गरे प्रतिभावान नेता यीन बोले ।', 'दशैँ तिहार आस पास सि पुलिस नियत छर्लङ हून्छ ।', 'नेपाली हरू आत्याचार हरू ।', 'निखिल नेपाली नः दिराे बिचार माहान ।', 'सरकार गल्ती सुधार गल्ती गरे बोधनै गर्दैन अनि कसरि जनचाहना ।', 'भो मेयर साहव ठिक भो ।', 'राजतन्त्र आज आवश्यकता जय नेपाल हाम्रो राज हाम्रो देस प्राण प्यारो ।', 'निकै राम्रो काम भयो रबि सर हजुर देश भगवान ।', 'भातामारा दाका हरु कुलमान सर मात्रै असल इमानदार ब्यक्ति हुनुहुन्छ उहाँ ।', 'कार्यक्रम पछी दासै आ लाग्छ ।', 'मुन बिर्यपान धर्म बेचे गुठि बिधेक ल्याएर भ मठ मन्दिर अनि देशै बेचेर खान्छन् मुन सन्तान हरु ।', '।', 'कहाँ बाट काह', 'हैन ईन्टर्भिउ लिने मान्छे मोदि जुवाई खलक होकि प्रस्न सोधाई स्पस्टिकरण हैट ।', 'लुट्न लाइसन्स पाए नेता लाखाै लाख जनता मारेर कमाए धनी भएर त्यहि धन रुवाइँ रहेछ ।', 'प्रबक्ता हल्का गलत तरिका भनाई राख्दैछ ।', 'गगन थापा पहिला जय नेपाल तपाईं एउ टा पर्दाे युवा नेता हाे अाशा काे दियाे हाे त्यसैले मेराे शुजाभ भ्रष्टाचार बेथिति खुलेर बाेल्नुस जाे सुकै हाेस त्यस शेरे भएनि कारबाइकाे माग गर्नुस तब अाउने पहिलाे पाटि काग्रेश ।', 'रबि दाइ लाइ देखदा गर्व छाती फुल्छ ।', 'बिस्नु पौडेल हनुमान ।', 'जहि झुट बोल्छ ज्ञानेन्द्र साही हिरासत कुटपिट यत्ना दियो झोले होलि वाइन ।', 'नेकपा नेता सुन्दा ओलि भतुवा झोले रहेछ ।', 'प्रचण्ड भ्रष्टाचार दिन हरु नजिक आउदै गान्दै बस हामी छिटै तेरो घर आएर मर्दिने जनता देश जनता ताकत हेर्दै जानु हामी प्रचण्ड सजिलो मर्ने हजर मान्छे मरे हामी अन्तर्राष्ट्रिय अदालत मुद्दा हल्ने ।', 'लास्ट सोम पान्डे गधा बोले सुन्नैमन थीयन झन तेही खाते बोल्यो ।', 'प्रस्न सोद्ने गोरु ।', 'फिङ्गर पिङ् सिस्टम हाम्रो देश नेपाल फिङ्गर पिङ् सिस्टम हुन्थ्यो ति नाथे हरू अहिले जेल् सदिनेथिय ।', 'प्रवक्ता बोलि सहि बोलि तुक ।', 'डिस लाइक हान्ने हरु माफीया दलाल भ्रस्टाचारी लुटेरा हरु ।', 'नेपाल सहकारी नाम बैकँक नाम खाली गरीव दुखी जन्ता लुटने काम कहिले होला नेपाल ।', 'जन्ता लगि राम्रो भय कुल्मान घिसिङ सर जय होस तपाईं ।', 'याे सावित्री काे अनुहार भुत जस्तैः ।', 'खाते साला हु भन्छ साला खाते साले तेरो चुतिया साला झोले कृस्रन पैसा खायर पढे होलास कुकुर ।', 'चोर हरु गल्ती स्विकार्नु कहाँ कहाँ दोस लगाउदै जाने स्साला भ्रष्ट हरुलाइ लाजै ।', 'पुणय महा झोले भिजिलान्ते हरामी ।', 'कुरो सहि गरो है ।', 'राम्रो काम जारी राख्नुहोस् ।', 'गल्ती धाकछोप खोजी ।', 'यस्ता पत्रकार हटाउनु सि गफडि पत्रकार भारत पुच्छर घुसघुसे ऋषि ।', 'साला दिलनिसानी मगर चुपलाग साला खाते सब भस्ट्चार घुस खोर दालाल हरु काम रबि सर फसाउन ।', 'राताे काेट लगाउने भाईकाे सहिछ ।', 'अपराधीक डाँ नेता हरू सत्ता अनि पुलिसप्रशासन तिनै अपराधी नेता गुलाम बनेर गुन्डागर्दी अपराध संलग्न देश बिद्रोह निश्चित ।', 'लाएन कात्छौ भबिस्य भनेर हास्ने चोर चोरी मुद्दा हाल्नु कुल्मान सर हामी हजुर छौ ।', 'धन्येबाद एभिन्वुज कार्येक्रम सन्चालक ज्यु छान्बिन प्रक्र्ये भिडियो प्रसारण मिडिया नखोजि रबिलामिछाने लाइ हिरासत लाने वाआअ एस्लाइ प्रहरी कालो कर्तुत अथबा भर्स्त हरु दबाब कारण कस्तो न्याए', 'अहिले भैरहे पार्टी हरु मध्य राम्रो पार्टी नेता हरु मध्य राम्रो नेता बिचार शैलि आचरण कारण रबिन्द्र मिश्र सम्पुर्णरुप सहयोग रहनेछ ।', 'डा केसी काम खाली आलोचना मात्रा सिन्का भाच्दैन ।', 'कुरो बुझ्दै जादा राम बहादुर बम्जन आश्रम ठुलै राजनितिक संरक्षण', 'डिसलाइक १२ जाना रबि ज्यु हिरासत मन पर्ने थिएछ खाते हरु ईन्डिया बाट कति खुशी रबि ज्यु आउनु ।', 'प्रश्न साेधेकाे मन परेन ।', 'राष्ट्र सपुत रबि लामिछाने सपोर्ट हरू यता हाजिर ।', 'सिधा जनता सग हेर्दा अलिकति गलत नियत लागे थियोे याे कार्यक्रम हेरेर भयाे हजुर राम्रो विचार वक्ता हुनुहुदाे रैछ ।', 'आलु मुला', 'उध्योग लुट्नुसम् लुटे रहेछ ।', 'हाम्रो देश नेपाल ।', 'डकैती सहकारी चाडो कारवाही होस रामकृष्ण ढकाल चाडो न्याय चाहियो ।', 'छबि धमिल्याउने क्षेतिपुर्ती ब्यहोर्नु ।', 'याे डिस लाईक हरु हात किरा परेर झरि जा वस ।', 'सरकारी संयन्त्र प्रबक्ता हरु काम कै झुट बोल्ने ।', 'पत्रकार भन्दिन पत्रकार नेपाली जनता भ्रम क छर्ने काम गरे ।', 'राम्रो बिचार मेयर साब ।', 'नेकपा छिटै पतान भको हेर्न चाहने हरू यत हाजीर हौ ।', 'रवी दाई डेङ्गो कडा रहेछौ नेपाली रगत रगत सङ्क्रमित भएर बसे छौ ।', 'राणि वान हरु ढाड भाँच्चिने कर लादे ।', 'निखिल दाइ एक्दमै पोजेटिभ भयो सलुट दाइ ।', 'हाम्रो आवाज बनेर फेरि रबि सर कार्यक्रम देख्न याउदा ज्यादै खुशी ।', 'भष्टचारि कर्मचारी पित झाेले पत्रकारकाे नाक हैन ढाडकाे हट्डि भाच्न ।', 'भा खोइत किशोर करिश्मा जवाफ कडा रे हावा मिडिया हरु छन ।', 'सुशील जि तपाईं प्रस्न पूर्वाग्रहि भयो ।', 'बालुवाटार काे जग्गा हडपेकाे गुठि त्यसै छाेड्छन बाहुन हरु याे एउ टा सडयन्त्र हाे ।', 'रातो कोट जिन्दावाद निलो कोट मुर्दावाद ।', 'रवि लामेछाने फ्यान यता हाजिर हुम ।', 'गोकुले चुतिया खतरनाक राउन्ड किक हानेर नाँक डाँडी भाँचिदिनुपर्छ ।', 'सोम काम यस्लाइ पार्टी बाट हटाउनु ।', 'स्तर अशिष्ट असहिष्णु अहम मैनत्त मान्छे नेता भन्नुपर्दा नेकपा नेताकार्यकर्ता दुख लाग्छ लाग्दैन होला', 'विद्यादेवी बुद्धि अनुहार देश प्रतिनिधित्व योग्य होइनन् ।', 'कुल्मान घिसिङ सर गर्नत खोज्नुहुन्छ एउ टा भंडुवा निस्कन्छ ।', 'रबि सर नेपाल प्रधानमन्त्री बनाउनै हरु हुनुहुन्छ ।', 'सारो पाटि गरो अरिङ्गाल बन्नु पर्ने पाठक जि ।', 'नारायण मान बिजुक्छेजी बेला बेला ।', 'जनता नाम बेचेर कतिदिन खन्छ्न अरिगाल् हरु ।', 'मेयर सयेब काठमाडौं खाचो काठमाडौं सम्हाल्नु आउनु पार् ।', 'साला दिलनिसानी मगर चुपलाग साला खाते सब भस्ट्चार घुस खोर दालाल हरु काम रबि सर फसाउन ।', 'यस्तै पारा त्यों दिन आउन बेर लाग्दैन छोरी देखी जुवाई घर देखी ससुराली हेर्ने जनता हालत कहिले बुझे छौ भ्रष्टाचारी हों आफु सुख सहेल बसेर ।', 'आज राक्षस बाहुन हरु प्रचन्डे बोकोहराम उखाने जस्ता राज योगि नरहरिनाथ भबिस्यबाणी ठ्याक् कै मिले ।', 'कस्ताे दरिलाे प्रशन साेध्नुहुन्छ दाजु नमस्कार ।', 'काङ्रेस चोर उधोग नदि नाला सक्यो कम्निस्ट डाका ज्यान मारा कर उठायो भन्सार उठायो खायो येहि रछ बिकास ।', 'नहोस नेता तिन झोलेझाम्टे धनी', 'शिर झुकाउछौ तपाइ झुक्न दिन्छौ सल्युट ।', 'उठ नेवार दाजुभाइ दिदीबहिनी सस्कृती बचाउन उठ दलाल सरकार काठमाडौं नेवार समुदाय सस्कृती मेट्ने कुचेस्टा गरिस ।', 'दिल निशानी साच्चै पागल रहेछ ।', 'साह्रै मातिन थाले हरु ।', 'गरिमामय पद ख्याल नगरी बोल्ने व्यति देश रास्ट्रपति लाज लाग्छ ।', 'स्वर्गीय श्री मार्क्स श्री लेलिन जन्मभूमि हिउँ पर्दा नेपाल कालो काम्लो ओढ्ने लालबुझकट हरु सित होशियार', 'सलाम मेयर जि जेगर्नु भा सहि भा ।', 'नेपाल संघियता खारेज ।', 'नमस्कार भिमार्जुन सर निडर भयर बोल्नुस छौ हामी ।', 'वा वा होनित समर्थन बधाई', 'प्रधानमन्त्री रबि सर नेइ हुनुपर्छ योनेई जनता माग ।', 'कोइराला साहस्लाइ', 'नेपाली जहि राम्रो ।', 'यस्ता अविवेकी पत्रकार सङ्ग अन्तर्वार्ता दिनु ।', 'सेरे प्रचण्ड ओलि इ जना नाङ्गै बनायर सिमा कटाउनु ।', 'माननीय कमेन्टर हरु यता हाजिर उता हाजिर भनेर बकवास बैचारिक कमेन्ट समर्थन योग्य धारण राख्नुहोला ।', 'सचि रबि दाइ माहान हुनु ।', 'जाठा पुग्ने गौतम कति सारो बाइस भएर गरे छ्या कस्तो लाज मर्दो सिदै एस्तो गिन्लादो गरे ।', 'रवि सर बिन्ती एकदिन प्रेम सन्जेल सरलाइ ल्याउनु पर्यो उहा बाट दलाल पर्दाफास हुनेछ ।', 'कहाँ गयो रात दिन करायर हिड्ने पद्खोर सुरेन्द्र सि', 'खेम गुल्ले भन्डारी ठिस मुकुन्दे एन्ड दिल ठिसानी मगर ।', 'सागर जि गुड दनक दिनु भयो गौतमे झोले सहि जबाफ दिनु हजुर ।', 'प्रधानमन्त्री मात्रै हावा क्मेडी रास्ट्रपति गरिमामय पद् हावा बोल्ने सैलिइ अनि नेपाल् भुत्रो बन्छ ।', 'जनमत संग्रह गरना सकने तेस हिकमत भनेर सोद्नु नेपाल स्याल हरु रजाइँ नेपाल राजा आउनु परछ जन्ता सोच्नु ।', 'चोर नेता हरू तर्क गरे होइन भ्रष्ट रुए यिनि हरु शब्द सहि बोले ।', 'मेयर साब सहि छन ।', 'सावित्री सिकायर लगेकाे रहेछ ।', 'नेकपा लाउरे कहाँ कहाँ लगेर बिसयान्तर ।', 'सुशासन रहित भ्रष्ट ब्यक्ति हरु सत्ता रहे स्थिरता झनै खतरनाक ।', 'पार्टी झोले कुलंगार ढुपौरे राजा लाखौं गुणा देश जनता प्रतिबद्ध माया उनी माटो ।', 'सुशील सर आईन्धा पुलिस डिपार्टमेन्ट मान्छिलाइ ड्रेस निम्तो गर्दिनु होला किना इनि हरु ड्रेस् मुल्लेनै थाहा छैना एति गाली गर्ना मन पुलिस जन्तु हरु साधे छैना ।', 'लाग्छ जन्ता चायो जन्ता भावना बुजेर एउ टा सच्चा देश प्रधान मन्त्री हुनै रबि सर हजुर ३करोडौ जन्ता समर्थक ।', 'एकपटक सुर्य पाठक अरिङ्गाल भिडनु मन ।', 'अनि डाक्टर सुरेन्द्र केसि बोल्ने मात्रै मैदान निस्केर काम डराउछ ।', 'फेरि टीकापुर घट्ना दोहोर्याउन पर्यो सुन चोर हरु ।', 'भ्रष्ट गोरु हरुला नौडाडा समुन्द्र पारी नकटाई जनता बिकल्प जागौ जागौ बेलै जागौ ।', 'दलाल नेता सरकार आफै मोहि बनी हदपिने दाउ ।', 'सब केपि सिकाएछ यत्रो बर्ष बुझने अहिले नबुझ्ने चाइ कुन चाहिँ राम्री होउ छि छि ।', 'नेपालि इज्जत फाक्यो कुकुर कुकुर्नी हरु पाहुनालाइ राम्रो सङ स्वागत गरेन कम्सेकम २ हात जोदि नमस्ते ।', 'भ्रष्टाचारी हामी जनताकाे रस चुसेर बस्ने ।', 'रातो कोट लाउने दम जाएज ।', 'धन्यबाद निमेस जी समसामायीक बिषय जनता जानकारी गराउनु ।', 'दिपक दाई फिलिम राजा हैन साचि कै राजा बोलिछ ।', 'पत्रकार कुरो तत्बिज अलिक भयन है भाइ बुझेर प्रस्न गरौ है ।', 'कुलमान भएर अन्तरवार्ता हेरे', 'जति बहस गरेपनि राजा जनता फा होइनन् जङ्गल कन्दमुल खाने जंगली हरु फा ।', 'रामकृष्ण ढकाल ठग्ने फाँसी कम ढकाल राष्ट्र गहना रामकृष्ण ढकाल न्याय मिलोस् छिट्टै ।', 'रबि दाजु फ्यान हुनु यता हाजिर गरम ।', 'खाली पुरानो थोत्रा अनुहार ल्याएर हेर्नै नहुने बनाए दहाल् ।', 'रामहरि जतिसुकै फुर्ति गरे नेपाली कंग्रेस भ्रष्ट ।', 'थुक्क ककुरनि सावित्री तेरो कुन चाहिँ कार्यक्रम नेपाली जन्ता दिन्छन १ लाख २ लाख जन्ता जम्मा सक्छु भन्छेस ४ जना मान्छे जम्मा देखा हेरम खातिनी सावित्री ।', 'होइन हाम्रो देश युवराज कोइरालाज्यू जस्ता सपूत रहेछन् धन्य भएँ आज उहाँ सुनेर ।', 'जस पिडित नेपाली न्याय निसाफ दिइ रहे छन युग पुरुष रबि ।', 'छायाँ सेन्टर जस्ता जाेगाउने प्रपञ्च हाे याे कति ठुलाे बिटाे मिल्याे सचिव ज्यू', 'सुरेन्द्र मान्छे दहिचिउरे ।', 'सवै सपोट समर्थन गरौ हार्दिक नमन अहिले रबि सर यक्दमै जरुरी रबि लामिछाने जिन्दाबाद ।', 'उफ्फ हेर हेर सभामुख धाकछोप बर्ष निकाल्दै कस्तो पिचास', '', 'काङ्ग्रेस भस्ट्चार चोर भनेर कम्युनिस्ट बलत्कार हत्यारा भनेर यस्ता कुकुर हरु भोट दिएर हुदैन हामि सचेत भै सके छौ हुनु चोर हरु पत्यसाप ।', 'पत्रकार चाई बाट हौ येस्तो तातो छारो अलि अभ्यास पत्रकारिता आईज ।', 'डाका हरु उद्योग बन्द गरे भो बिदेशी कमपनि धमाधम भित्रीन्छ लुटमारा ।', 'जसरी नेता धनाड्य बन्दै त्यसरी कृषक मजदुर हरु कृषि उत्पादन उचित मुल्य नतोकिनु उचित पारिश्रमिक अनियन्त्रित अनुचित मुल्यबृद्दी झन गरिव बनिरहे छन ।', 'पुण्य गौतम जड्या कस कस लाग्छ ।', 'नेपाली हरु दुख बुझ्ने गरिव दुखि आँसु पुच्छिने कै रवि दाइ ।', 'सलाम गगन थापा ज्यु यसरि राम्रो काम जानुस ।', 'जन्मिदा जन्मियौ मर्दा तेसै जाने मान्छे हरु मर्नै नपर्ने अनि मर्दा खेरी सम्पत्ति लाने छ्या लाली गुराँस सहकारी कारबाही हुनु लाली गुराँस सहकारी संस्था खारेज हुनु ।', 'अधिकारी पशु की मान्छे बालुवाटार जग्गा बेची खायौं अझ गुठी हरु छोड्छौ हरु दलाल थुक्क नलायक पशु ।', 'सोमत नभा नी राष्ट्रपति ।', 'देस धमिरा किरा हरु देस खोक्रो पारे ।', 'देश जनता केहि मतलब गरे देखिए ।', 'नगेन्द्र शाही बोले दिमाख तातियो ।', 'मुजि बानियाँ कस्तो खाते गर्दैछ कुलमान नभए आज नेपाल उज्यालो हुन्थ्यो अझ कुलमान कमजोरी देखाउछ यिनी शोषक ।', 'मुर्दार पत्रकार कहलिय कुन्नी', 'गद्दार सर्कार आँखा सक्यो ।', 'कार्यक्रम आउनी सानो ठुलो नेता हरु भ्रष्टाचारि काराबाही सुनिन्छ ।', 'सल्युट यु सर ।', 'भ्रष्टाचार बिरोधि अभियन्ता ज्ञानेन्द्र शाहि माथी राज्य द्वारा बर्बर दमन लोकतन्त्र कम्मर मुनि भुत्ला देखायो ।', 'कस्ताे चित्न नबुजेकाे गधा हरूकाे पत्रकार् एस्ताे भन्दापनि लाजपचाएर बाेल्छन थुइक्क गधा हाे ।', 'देश बेच्न उग्र रुप लागे दलाल देश डुबाय ।', 'धोती प्राध्यापक प्रेसर हाइ भएर यस्ता मुख मै सु अनि लेडिस पेन्टी पेन्टी घाँटी झुन्डएर काठमाडौं रिङ रोड घुमाउनु पर्ने ।', 'लोकतन्त्र नेता नागरिक अभियन्ता हप्काउने हैन ।', 'डा भिमार्जुन बिचार सहमत ।', 'धमला बोलाए गेस्ट सुन्न नसक्ने कस्ता पत्रकार ।', 'देश प्रेमी जनता हिरो ।', 'बिच चोर रय क्स ।', 'बाहुन च्याउ खाए पो स्वाद गुठि नभए बाहुन लाइ गुठि कर्म मर्म थाहा अनपढ बाहुन लाइ निल्दिन्छ ।', 'गगन जि सहि पक्ष गनु पने काम कडाइ गरिए सरकार गरे नराम्रा काम बुलन्द रुप अावज उठाउनु परो हामी तपाईं ।', 'रामकृष्ण ढकाल ठग्ने फाँसी कम ढकाल राष्ट्र गहना रामकृष्ण ढकाल न्याय मिलोस् छिट्टै ।', 'सुशील भाइ खरो प्रस्न सामना गारो तेसै भग्छ्न नालाएक भ्रष्टाचार हरु ।', 'आज बल्ल बल्ल मन शान्ति छायो ।', 'हर्नेभरी बलात्कारि चोर डाँका सन्तान ।', 'हामी नेपाली जन्ता बुज्न थाले भोट अब्स्य साझा हाल्ने छौ ।', 'अहिले ब्यबस्था राजसस्था उत्तम', 'नेपाल प्रहरी कहिले साचो बोल्दैनन ।', 'देश राजा आवश्यकता ।', 'नेपाल संविधान कस् भन्यो बोल्न पाइदैन देसै टुक्र् याउने खुला बोल्दा गर्यौ ।', 'पहिला मोज गारने आहिल हिसा ।', 'सुधार्नु भएछ आज ऋषि धमाला बानी ।', 'भीमाअर्जुन सर सुन्न नपाए थीयो राम्रो सोच ।', 'बधाई दाइ खुशी लागियो आयोजक टिम युबा छान्नु ।', 'रास्ट्रपति बनाउनुस अनि हेर्नुस् यस्ता लिखे रास्ट्रपति भएर ।', 'पुण्य ठुलो झोले होला ।', 'राजेश हमाल दाइ कता जानू भएछ', 'सुशील सर उहाँ कार्यक्रम नहेरी निद्रा लाग्दैन लागिरहनुस हजुर सहि हुनुहुन्छ ।', 'तिर्दैन भन्छत चोर उसै ठूलो श्वोर खाय हग्न पर्छकि पर्दैन कोइसन उतर देउ पैल चोर हरु ।', 'नियाम कानुन साहारा लेर हरुला ।', 'वा वा होनित समर्थन बधाई', 'शेरबहादुर कुर्सी नपाए रीस बिद्धाया देबि भन्डारी पद घमन्ड एही भयो ।', 'पुन्य नरपशु घटना डाईबट ।', 'रबि फसाउने काम पमि रबि ।', 'इ जागिर आयकालाइ समर्थन गरिन्न बिबेकशिलसाझा लाइ गरिन्छ ।', 'प्रतीक्षा फल मिठो भन्छन विश्वास तोडन मृत्यु हुनु प्रछ ।', 'झोले पाठक ओली प्रचण्ड तलुवा चाटेर झुट ।', 'मिस्र जि फेन है ।', 'डुङ्गडुङ गनाए चोरहरुलाइ बर्ष प्रधानमन्त्री हुन्छु प्रधानमन्त्री हरु कर्मचारी हरु भष्टचारि लाइ टुडिखेल राखेर कन्चठ गोलि ठोक्छु ।', 'अपरिपक्व पत्रकार च्याउ सरी चले अनलाईन मेडिया जनमानस भ्रम फैलाउने माध्यम महशुस हुँदैछु ।', 'राजा आउनु पर् भ्रष्टचारी ठुलो खोर बनाएर भित्र्याउनु पर् खाते हरु ।', 'शबै थुलाे माछा अाेलि हाे भ्रष्टाचार राेखछु चाेर उस्काे बाउ शेरे क्राबाई ग्रनुकाे स्ता राेखन पुगे मिली खाउ भाले भ्रष्ट हरू ।', 'पाहुना हरु बाट केहि सिक है गोबर गणेश नेता हरु चीन तिब्रता समाउन सक्छौ', 'येस्तै उच्च आत्मबिस् वस सदै देख्न पाइयोस ।', 'पुन्या भाइ कुकुर नभुक कम्निस्ट् नाम् क थाहा नभए कम्निस्ट छौ हरू ।', 'राष्ट्रपती गरिमामय पद रहेर पद जिम्मेवेरी मर्यादा नबुझेपछी ।', 'जवाफ नरम सम्मानित छन ।', 'कुकुर फाँसी दीनु रबी सर अल द वेस्ट ।', 'मिडिया हेर्दा जनता समर्थन मेयर साब ९९ देख्छु ।', 'सुरज बस्नेत कायर तर्क निडर भएर राख्न नसक्ने ब्यक्ति लिनु पर्यो', 'रबि सर लगायत जना स सम्मान भोलि रिहाई हुनुहुनेछ ।', 'सङ्घियता गणतन्त्र देश खाेक्राे पार्याे ।', 'अधिवक्ता बालकृष्ण नेउपाने शहर अन्तर्वार्ता प्रतिशत सुशील पाण्डे पत्रकार धेरैधेरै सलुट ।', 'जत्ती सरकार मन म्रजी ग्रछ उत्ती मौलाउने बिप्लब ।', 'प्रतिपक्ष बसेर भएन माननीय जि ।', 'जीवित मध्य उहाँ इमान्दार हक्कि जिब्रो नचपाइ प्रष्ट निस्वार्थभाव दृष्टिकोण राख्ने नेता नारायणमान बिजुक्छे मात्रै ।', 'रवि सर बोले कति राम्रो सँग मिठास शब्द बिरोधि हरु जवाफ दिदा छाती ठुलो भयो अति खुशी गौरव लाग्यो रवि सर जिन्दावाद ।', 'बम्जन गलत जति हात ऊठाऔ ।', 'रवी फसाउन किशोर श्रेष्ठ अझ फसाउने योजना बनाउँदै होला सावधान रवी सर ।', 'ज्योति वानियाँ कुलमन हेर अनि तालु हेर अनि तिनि हरु सुनेर रगत उम्लन्छ यार तिर्दैनै रे सर्ब साधारन जनता लाइन काटेर मज्जा ऊध्योग सन्चालन नाफा लिन आज आएर तिर्दैनै खाए फाल्न नजान्ने मुला चोर दलाल ठग ।', 'याे बिश्वराज पाेखरेल भ्रष्ट पार्टी कै दलाल हाे सब झुट बाेल्दै प्रहरी याे जना बध्ध तरिका गरिए एनकाउन्टर हाे प्रस्ट यस्ता प्रहरी हुनु नहुनु बेस नेपाल प्रहरी मुर्दावाद ।', 'एउ टा प्रहरी प्रबकता घरि घरि झुट बोल्नु ठिक हुदैन घटना प्रहरी गलत ।', 'सिदै नकारात्मक सन्देश पुगिरहे ।', 'सुर्य पाठक डाक्टर प्रेम सर ठिक पार्नुपर्छ सुशील जी चलाए कार्यक्रम हेरियो पाठक अनुहार हेर्दा आगो बलेर आउँछ ।', 'होइन देश भ्रस्टाचारी पाता कस्ने आयोग बिक्यो', 'थुक्क राज्य देश चलाउन सक्दैनौ जोगी बनेर हिड कुकुर हरु ।', 'एउ टा धोको रबि लामिछाने प्रधानमन्त्री हेर्न पाउ रबि सर जिन्दावाद', 'राम्रो योजाना हरु छन रबिन्द्र मिश्र सङ्ग रहेछन मनपर्यो ।', 'याे चाेर मानवअधिकार बादी चाेर कालाे कांग्रेस भतुवा भनछ मुजि तालु ।', 'मुन मुत खाको चोर हरु गूठी सकेनन् ।', 'मुजी आईमाई फटाई रहिछे', 'डा केसी काम खाली आलोचना मात्रा सिन्का भाच्दैन ।', 'ठेट्ना हरु तर्क चर्को बोलेर जित्ने पक्ष छ्न् ।', 'खरदार सुब्बा समात्ने भ्रष्ट नेता हरु संरक्षण त्यस्तो पार्टी कार्यकर्ता भर्ति अक्तियार खारिज ।', 'उता धोती हरु जलि रा होला चिनियाँ रास्ट्रपति आउँदा ।', 'अडिक रहनु होला थाक्ने सुबिधा तपाईं जनता १ दिन अबस्य बुझ्ने छन दिनेछन ।', 'रबि दाइ हाइ हाइ प्रचण्ड केपि सेरे बाइ बाइ आउनु रबि दाइ राज्निति आउनु नेपाली जनता माग ।', 'याे बिश्वराज पाेखरेल भ्रष्ट पार्टी कै दलाल हाे सब झुट बाेल्दै प्रहरी याे जना बध्ध तरिका गरिए एनकाउन्टर हाे प्रस्ट यस्ता प्रहरी हुनु नहुनु बेस नेपाल प्रहरी मुर्दावाद ।', 'झोले पुन्ने गौतम लाइ राम धुलाई ।', 'भारत झड तेरि ताेरि ।', 'लम्पट स्वार्थी भ्रष्ट नेता ।', 'प्रस्न कडा गर्नुस पूर्वाग्रही लाग्यो ।', 'रबि जिन्दबात भोलि दिन फेरि दायाँ बायाँ नराम्रो जात भात फरक नआवस है रबि सर आज जति तपाइ सपोट गरे फेरि नराम्रो भो हामी येस्तै ब्रो ज्ये रबि सर ।', 'अस्ती मुनकाे वृयपान नेपालीकाे हीत भन्दै अरिङ्गाल हरू अहिले गुठीपनि त्यही भन्दैछन कृश्यन भतुवा हरू ।', 'नेता ठाउँ भएर काम सजिलो', 'सलुट सुरेन्द्र केसी सर ।', 'निलो कोट लगाउने फटाहा नभए फटाहा रहेछ यस्ता लाइ अन्तर्वार्ता बोलाउनु गल्ति नेकपा राजनीति शास्त्र पढे बेकार अन्त मत रातो कोट लगाउने लाइ ।', 'पुण्य झोले मुदाबाद केपी प्रचण्डे झोले कुकरा ।', 'मुजि गणतन्त्र नेपाल लागी अभीसाप नेता उनी हरु पेट भर्न लागी उनी हरु झोले कार्यकर्ता साथसाथै रीसी धमला कुरै नगरौ ऊ पनी पर्चन्डे पुछर पत्रकार बाहाना ।', 'साले खाते सोम पान्डे थु ।', 'थुक्क पोखरेल माहाभ्रष्ट कुतर्क ।', 'सावित्री सामाजिक बहिष्कार गुमनाम गरौ धर्ति की बोझ ।', 'जना माहा पुरुष ठिक मन्त्री ज्यु प्रष्ट बुज्न सकिन्छ पद पाटी बचाउदै छिन ।', 'प्रचनडे गरे देखेकाे हामी काम याे हाेकि उसकाे अाफनता जागिर खुवाउने मात्रै याे दिन गय ।', 'जनता दमदार कार्यक्रम भ्रष्ट हरु साइड लाग ।', 'हामी नेपाली चीन बाट सिक्नु ।', 'जागिर खुस्किने सवाल ढाकछोप बोल्छ्न दलाल पुलिस हरु थाम्दैनन नेपाली जनता होस पुर्याएस ।', 'खाते नाक भाच्नेगरि हान्न जन्ता हेर्न चाहान्छन ।', 'प्रस्न सोध्ने चाइ भेडे रैछ ।', 'वा राम्रो बोली पत्रकार मित्र ज्यु छड्के सलाम हजुर धन्यवाद ।', 'सारै राम्रो लाग्यो सर हजुर प्रभाबित ।', 'पोख्रेल आफै सरकार आशीर्वाद बाट प्रवक्ता यिनी जनता वफादार हुनै सक्दैनन् ।', 'याे पाठक जन्तु कुन दुनियाँ ।', 'चोर सहकारी संस्था रहेछ पीडित सहकारी संस्था स्टाफ लगायत सम्पूर्ण कारबाही होस् ।', 'जनता जागिसके बुझ पार्टी झोले ।', 'आज ठुला ठुला मान्छे गुमाउनु पर्ने थियन ।', 'सुशिल सर तपाइ सैली सारै मन होइन पाठक बोलि ।', 'ज्योति वानियाँ कुलमन हेर अनि तालु हेर अनि तिनि हरु सुनेर रगत उम्लन्छ यार तिर्दैनै रे सर्ब साधारन जनता लाइन काटेर मज्जा ऊध्योग सन्चालन नाफा लिन आज आएर तिर्दैनै खाए फाल्न नजान्ने मुला चोर दलाल ठग ।', 'कहिले नरिसाइकन अन्तर्वार्ता लिन सक्ने उत्ते जना धैर्यता बढी सालीन व्यक्तित्त्व आदरणीय भूषण दाहाल प्रष्ट वक्ता रवीन्द्र मिश्र संवाद निकै प्रभाव पार् ।', 'सक्यो सक्यो पापि हरु जुन्सु कै कुना बाट लुछी लुछी भ्रस्टाचार गरे ।', 'यीनी हरु जस्ता नकचरा हरु सरकार बर्ष टिक्यो देशै स्वाहा पार्छन बेचेर बिदेश भासिन्छन यीनी हरु ।', 'एक्दम खुसी भो मन सलाम ।', 'हाे सहि कुराे ड साब ।', 'मेअर घमण्डि रैछ देस नियम कानुन मानु ।', 'सावित्री सुबेदिलाइ बम दिदी बैनि कति पैसा किने होलान ।', 'बाघ सिंह बन्न बाध्य बनाउने भ्रस्टाचार नेता झोले कार्यकर्ता धन्यवाद ॥', 'बिजुलि बालेर पैसा तिर्दिन देश धमिरा दलाल हरु मोसो दलेर पाता कसेर देश निकाला ।', 'भ्रष्टाचारि हरु मर्नै पर्ने लिएर जान्छन् अनि मन खिन्न', 'भ्रस्टाचारी कारवाही गर काग्रेस होकि कम्निस्ट नेता होकि कार्यकर्ता वा कोहि ।', 'राजेश्वरी दाइ बिचार उत्कृष्ट पुण्य गौतम सरकारलाइ बोक्न जरुरी ।', 'चोर अनि जनता माहाचोर साला दिमाग नभा जनता यहि हाल ।', 'बाघ सिंह बन्न बाध्य बनाउने भ्रस्टाचार नेता झोले कार्यकर्ता धन्यवाद ॥', 'मुजि काम सम् बानना पुग्यो साला नेता हरू झो रैछ साले हावलदर जति छ्मता नभए ।', 'हे भगवान देश चोर नेता हरु सङ्ग बचाउ ।', '२ साही लगियो २ चै चोर ।', 'थुइक सब सब भ्रष्ट नेता हरु ।', 'काठमाण्डू खलटो मैं चलाऊनू परने भोसोडी वाला हरू ।', 'खाउ चुतिया नेपालि रगत खाएर जु मोटाअो', 'माओ भुक्ने हुन्न काम छैन्न ।', 'बाकिनै यहि गुठी अरुत खतम भै सके नदिनाला कलकारखाना धर्म सस्कृती गै सक्यो बा की आस लाग्दो नेपाली सेना गुठी ।', 'याे हाे देश जनता मागेकाे नेताकाे लाइन ।', 'मानवअधिकार वाद नाम कंलक भनौदी कालो मोसो दलेर सडक नघुमाइ नहुने भयो थुक्क कुकुर्नी जता डलर पायो उतै सरल्क तै न्याय यहि ।', 'तिमि हरु नेपाल आमा कुपुत्र सन्तान हौ लुट लुटेरा हरु ।', 'चोर नेता गरे माफ दिने भ्रष्टाचार नेता जुनसुकै जनता सडक तानेर ल्ययेर आगो लाउनु', 'पुने गोताम पार्टी झोले कुकुर ।', 'राताे काेट लगाउने सर राम्रो गरनु भयाे निलाे काेट गाेबर गरेयाे निलाे काेटे छि छि छि ।', 'यस्था भ्रष्ट नेता हरुलाइ सिधै इन्काउन्टर पाइन्छ नाइ ।', 'झोले डा सुरेन्द्र केसी सॅग राखेर गर्या ।', 'सेरे बोली दैब लगे त्यों उहि', 'सब भु माफिया चाल नेपाल सरकार तिनै भु माफिया गोटि बन्दैछ ।', 'पि डि घुम्टो ओडेर राष्ट्रियता नभए मान्छे काम ।', 'द्वारिकालाल चौधरी मेयर साब ढकमगाउनु हुदैन हामी छौ तपाईं अलिकति हतोत्साहित हुनु हुदैन हाम्रो सुझाब ।', 'असली हिरो कै रबि हुन्न जति हाजिर गरुत हजुर ।', 'भन्दै तेर्साउने ऋषि धमला कार्यक्रम अतिथि जाने हरु सोच्नु पर्ने बेला धमला बात संचालित ।', 'मेयर ज्यु पत्रकार नाक डारि हैन त्यस जता भाबी लेख्ने हात काट्नु सलाम हजुर देश धमिरा हरू नस्ट आब जन फेसला ऐक दम जरूरी', 'न्यूज कायॅक्रम डिसलाइक गनेॅ झोले हरू ठमेल अहिले प्याक हान्दै होला ।', 'भिडियो हेरहोई रबि अन्धभक्ता भेडा पार्टि झोले महा भेढा हरु हामि रबि खुबि सलाम ठोक्छु ।', 'रवीन्द्र मिश्र सर सोज विचार नेता हाम्रो देश अहिले एस्तो अवस्था हुन्न ।', 'हजुर हरु आत्नुस असम्भब ।', 'आँट भा जनप्रतिनिधि सलाम तपाईं पक्ष करोड जनता ।', 'रातो कोट लाउने सुपर ।', 'राजकुमारी रेणु दाहाल राजकुमार पारस ।', 'जब्बर पाईन्छ राजेन्द्र जी', 'मुजि बाग्मति बगाईदिदा राम्रो पी ओली झोले सुनेर रगत उम्लेर ।', 'डा सुरेन्द्र बिस्लेसन लाग्य ।', 'प्रधानमंत्री तपै ३ करोड़ नेपाली जनता ।', 'राताे काेट लगाउने सर राम्रो गरनु भयाे निलाे काेट गाेबर गरेयाे निलाे काेटे छि छि छि ।', 'छि छि फता ऋाषि ।', 'रिसि धमला डाका कस्तो हल्का तर्क मुला दलाल केपि अोलि प्रचण्ड चम्चा मात्रै होइन भारत गुलाम ।', 'सोम् पान्डे औकात् एउटा भ्रस्टाचारि मतियार् बाहेक् केहि छैन् ।', 'पुन्य गौतम घमण साले कस्तो साले कुकुर कुकुर सहि तरिका भुक्छ यार ।', 'सुसिल पान्डे रबि हिरो प्रहरी प्रबक्ता अक बक्क पार्नु भय बधाइ ।', 'थोडी झुसे लुटेरा भ्रष्टाचारी नस्लबादी झुसे हरु होर', 'आज मजा कार्यक्रम नसकिन्जेल हेरिरहन मन लाग्यो ।', 'चेली जिन्दगी दिनुभए हजुर देश भगवान ।', 'गल्लि भुक्ने कुकुर हरू हिजोआज कता गएछन रबि दाईकाे माहानता हेरेर सिक भाडा टट्टू हरू ।', 'शुशिल जि धन्यवाद राम्रो प्रश्न सोध्नु ।', 'हामी गगन थापा जि भासण कति सुन्यौं कति एउ टा नेपाली बुझुन हहि विशेष गरिकन एउ टा खुट्टा तान्ने पाती जाति धर्म अनावश्यक बिसय बस्तु उथाएर नेपाली नेपाली बिच लदाउने खेल हुदैछ', 'निर्दोष शालिकराम मारेर निडर सहासिक जनता हिरो रबि लामिछाने फसाउने षड्यन्त्र हुदैछ सत्य तथ्य अाउनु शालिकराम रबि न्याय पाउनै वास्तविक हत्यारा पत्ता लगाउनै ।', 'रास्ट्रपति बन्न लायक सपूत ।', 'पत्रकार ठिक लागेन ठिक भयो मेयर जि यस्तै देश राम्रो ।', 'रबि हैन उस बाउ फरक पर्दैन राम्रो काम मेयर साब हाम्रो समर्थन ।', 'जन्मिदा जन्मियौ मर्दा तेसै जाने मान्छे हरु मर्नै नपर्ने अनि मर्दा खेरी सम्पत्ति लाने छ्या लाली गुराँस सहकारी कारबाही हुनु लाली गुराँस सहकारी संस्था खारेज हुनु ।', 'बुदो दोषी नेता हरू दोषी दोशी भेडा जन्ता ।', 'पल हाम्रो महत्त्व पुर्ण ।', 'थुक् एमाले गोठालो यस्ता मुला जड्या दलाली डलरे गोठाला बोल्ने तरिका तेरो यस्ता मुलालाइ नेता चाहिँ कस् बनायो ठिक ठिक बेठिक बेठिल भन्न नसक्ने कुपुत्र हरु किना गर्छौ राजनिती बोरु इशाइ धोती धोयर बस्न यार ।', 'नेपाल पत्रकार कम पुत्रकारी छन सलाम मियर ज्युलाइ जय नेपाल ।', 'राफेल भ्रष्टाचार कोपि गरेछ हवाइड वडो थाहा ।', 'देस लुटे पाप', 'दुइ जना हेर्दै भिलेन ।', 'नेपाल प्रहरी दोसिलाइ सम्मरज्ञक गरिएकाो शुशिल सर शहि पस्न गरिरहनु छ् ।', 'चिंत्त बुझ्दो जवाफ पटक् कै आयन रबि फसाउन प्रहरी समेत लागी परे ।', 'पुन्य गौतमे राम्रो झोले पो रेछ गाठे ।', 'उता धोती हरु जलि रा होला चिनियाँ रास्ट्रपति आउँदा ।', 'सुशील पान्डे एउ टा शाहासिक पत्रकार ।', 'थुक्क ककुरनि सावित्री तेरो कुन चाहिँ कार्यक्रम नेपाली जन्ता दिन्छन १ लाख २ लाख जन्ता जम्मा सक्छु भन्छेस ४ जना मान्छे जम्मा देखा हेरम खातिनी सावित्री ।', 'खाते हरु कार्बाही जरुरी ।', 'छि छि थुक्क रास्ट्रपति औकात अलिकती सरम लाज देश खोक्क्रो बनायो मुजि बाहुन बाहुनी हरु ।', 'भ्रस्ट नेता दलाल पत्रकारहरूकाे घेरा पर्नुभएजस्ताेछ ।', 'कमेन्ट गर्दा समातेर देलान् की डर ।', 'ई ठग हरु छोड्नु हुँदैन ।', 'यही चोज बिचार लाइ गरे हउ हामी बिस्वास अनी हउ कती सादा जिबन अनी उच्च बिचार हाम्रो रबी दाई सिकउ सिकउ ।', 'द्वारिकालाल जनप्रतिनिधी हरु एउ टा हैन देश हजारौ जन्मिनु अनि देश सम्बृदी बाटो अघि बढ्न मेयर साप सलाम', 'पार्टी भतुवा देश इतिहास बिर्सेर कुरो गर्दैछ राजा देश बनाय भय कहा बाट लोकतन्त्र गणतन्त्र ल्याथ्यो देश खोक्रो बनाइ सके यस्तै गद्दार नेता हरू गर्दा राजा फालेर आफु राम्रो काम सक्नुपर्छ अनि पो सुहाउछ ।', 'सभ्य सुस्कृत पारदर्शी राजनितिक ब्यबस्था नेपाल आज आवश्यकता ।', 'हेरेर राजा ठिक छन ।', 'नेपाल नेपालि आज खुसि दिन ।', 'यस्ता झारपाते हरु सगँ राखि लिएर ।', 'खाते साला हु भन्छ साला खाते साले तेरो चुतिया साला झोले कृस्रन पैसा खायर पढे होलास कुकुर ।', 'जाबो एउ टा जवाफ दिन नसक्ने चोर साले', 'काठ्माडो न्यावार जाति लाइ हरुलाइ लगार्ने नियात ।', 'भ्रष्ट दलाली अनि माफिया राष्ट्रघाती नेता हरु दिन ।', 'लुट्तन्त्र बिरोध लुटतन्त्र अटाउन्नन ।', 'रविसर रिहाइ गरियोस ।', 'खत्रा बहस च्यानल सत्य तथ्य तुरुन्त आउनु पर्यो जन्ता जान्न चाह्न्न्छ ।', 'सुशील पान्डे सहि निडर निर्भीक पत्रकार सलुट ।', 'रबिन्द्र सर आवाज जोस दम आश रबिन्द्र सर ।', 'उनि निर्दोष १०० ढुक्क ।', 'हामी जनजाती आदिबासी क्षेत्री बाहुन हरु मुख राम राम हात छुरा हुदैन सफा मन कुल मान घिसिंङ्ग द्ववरीक चौधरी प्रमणित गरे ।', 'बिजुली चलाउने बेला चलायो पैसा तिर्ने बेला रु ने उद्योग मालिक हरु लखेटे राम्रो उद्योग औ ।', 'राष्ट्रघात अपराध लुट बिनाश अद्योगती केहि नदिए अपराधीक गुन्डाराज गणतन्त्र ब्रेन डेथ भइसके ।', 'पुणय महा झोले भिजिलान्ते हरामी ।', 'रास्ट्र कै गहना माथी यत्रो अन्याय हैट लालिगुरास कडा कारबाही माग गरौ साथी हरू ।', 'पत्रुकार रगत उम् कुन दिन पोखिन्छ सारै उग्ररूप उत्तेजित ।', 'भ्रष्टाचारी घुस्खोरी नेपाल प्रहरी भाला मत्तितेल लगाएर टिकापुर जीउँदै आगो लगाउनुपर्छ जनता हरु ।', 'बम दिदि बैनि मुर्दावाद', 'रभि लामिछाने दाइ पत्रकारीता जगत कै हिराे हरू हात यता ठडाम', 'रबि दाइ बास्तबमै रियल होरो हुनुन्छ देश दुख पर्दा अन्याय पर्दा भगवान हैन रबि दाइलाइ सम्झिन्छन नेपालि हरु ।', 'उपस्थित विद्वान हरु कस कस गुठी', 'जात धर्म असर नपर्ने तरिका एउ टा एडेन्डा बनाउनुस अनि त्यस्तो एउ टा नया पार्टी निर्माण गर्नुस जनता हजुर भोट दिनेछन हामि प्रधानमन्त्री हेर्ने ठूलो सपना जय नेपाल जय रबि सर धन्यवाद मदन क्यानडा नेपाल युनिट ।', 'झोले हरु काम बिथा विभिन्न गर्छन यार बिथा पारो तातिने ।', 'जाठो पुलिस प्रसासन गतिलो सब मिलिमतो काम चलाउछन भतुवा हरु ।', 'कुलमान घिसिङ जिन्दाबाद सिङ्गो देश नेतृत्व परो घिसिङ आस्याङ्ग नाई देश मुहार फेर्छ ।', 'प्रत्रकार ज्यु प्रश्न सोधे भयेन अध्यन गरनु प्ररो डा सर तपाईं जस्ता वैदिक देश कदर सम्मान भयेन दु ख द ।', 'चोर भ्रस्ट नेता हरू मिडिया आएर बाँदर बथान कराए कराइ रहन्छ ।', 'वाक्य पिछ्छे पढाईकाे धाक लाउछ झाेले ।', 'सवै सपोट समर्थन गरौ हार्दिक नमन अहिले रबि सर यक्दमै जरुरी रबि लामिछाने जिन्दाबाद ।', 'सुरेन्द्र मान्छे चमचे अगाडि दलाल हासो मन परेन ।', 'राबिलामिछाने नियात राम्रो मान्छु ।', 'नेपाल हिरो रवी लामीछाने', 'सहि कुरो मेयर जु छोडनु हुदैन भ्रष्ट दलाल झोले हरु खान नपाएर आरोप काम प्रतिक गर्व सलाम ज्ञानेन्द्र साही सुरेन्द्र सर बालकृष्ण आम जन्ता दिनेछो ।', 'आज नेपाल राम्रो मान्छे नाम अनि सुची कुलमान गनिनु ।', 'नेकपा भतुवा भुकीरा ।', 'गधा नेता हरु जति दुध नुहाएर गाई बन्न खोजे यिनि हरु कर्यसैली नियत प्रष्ट सङ जनता बुझिसके आगामी चुनाव देखाइ दिनेछन् यिनि हरु औकात ।', 'सय सत्तरि प्रसेन्ट जन्ता रबि ढुकढुकि ।', 'सुशील जि ठिक है प्रश्न गराई ।', 'कार्यक्रम हेर्न पाउदा दशै लाग्छ रवि सर ।', 'सरकार हिम्मत रवि दाइ फसायर देखा अनि थाहा देश यसकाे मूल्य ठुलाे चेतना भय ।', 'केपी झोले रहेछ ।', 'ज्ञानेन्द् सरकार पुर्खा हरू आर्जे देश राजा भयर तँ नरेन्द्र कुत्ता राजा तो तँ काहा नाड०गो कुकुर होस तेरो काल आईपुग्यो साला कुत्ता तँ पट मुर्ख खोईरो लागे कुकुर पाँखें तेरो काल पख', 'पशुपति पोल्ने ठाउँ रे भर्स्तचारि मृत् युडाँडा हजु तेसै अजीवन कैद गरे हजुर बाँकी मुजी सरकार भरस्तचारी रहेछ कस् हल्ने जैल सरकार १ जन नरहने खरेज देश् बाट लखेते समपती जाम गरे ।', 'देश आबश्यकता तपाईं कति राम्रो बिचार असल पत्रकार दाई सलाम ।', 'यस्ता गैरजिम्मेदार चोर टीवी नेपाली जनता नदेखाऊन अनूरोथ ।', 'भणडारि लई कालोमोसो लगाएर भगउनु तर्क चै नदीने खालि राम्रो ।', 'मेयर की मरे स्याल ।', 'प्रदिप यादव एकदमै सहि ।', 'वा रबि सर तपाईं हामी सबैकाे मन मष्तिक बस्नु भयाे बधाई तपाईं ।', 'रबि सर माथी भरोसा बिस्वास गरे छन मंत्री भय पछी देश जन्ता लागी ।', 'पुलिस सग भय मोबाइल भिडियो कसरि प्रत्रकार सग पुग्छ तेहि रबि मन नपराउने मान्छे सग सब रबि सरलाइ फसाउने खेल ।', 'बाबुराम पत्रकार पि एच डि धम्की पो ल्गाउछन ।', 'सबैभन्दा दोषी नेपाली जनता तेस्तो खाते नेता हरू जिताउने काम गर्छन्', 'रामकृष्ण सर मान्छे तेस्तो हावा सस्था समाज काम ।', 'नेपाल प्रहरी कति लाचार अनि भ्रष्ट त्याे राम्ररी बुझिए बिषय हाे स्पष्टीकरण दिनुपर्दैन सब प्रहरी नेता चाकरी भतुवा ।', 'रातो कोर्ट लाउने सहि गरे ।', 'बिचरा युबराज कति माया लाग्दो युबराज रबि सहकर्मी उस्लाइ वास्ता नगरे होला मलाइ युबराज पो माया लाग्यो ।', 'चाडै पधान् मत्रि देखन् पाँउ यहि मेराे अाशिर्बाद हजुर रबि सर ।', 'महिला पन्छे बाजा सहित रबि दाइ स्यागत ।', 'नेपाल कल कर्खाना नदि नाला बेची सके मठ मन्दीर बेची खाने नियत ।', 'ठिक मेयर साहब पत्रकार महोदय कहा देख्नु भयो गरीब जनता सुनवाइ ।', 'हैत्त बाहुनि एउटा सोझो राई छोरो खत्तम बनाउने खेल ।', 'धन्येबाद एभिन्वुज कार्येक्रम सन्चालक ज्यु छान्बिन प्रक्र्ये भिडियो प्रसारण मिडिया नखोजि रबिलामिछाने लाइ हिरासत लाने वाआअ एस्लाइ प्रहरी कालो कर्तुत अथबा भर्स्त हरु दबाब कारण कस्तो न्याए', 'केवल हरू पैसा पद माया ।', 'हजुर पाईला अगाडि बढिरहुन् रवि सर', 'सागर सर देखिएकाे राष्ट्रभक्ति सलाम ।', 'रवि दाई पृथ्वी सतह तिन करोड नेपाली किशोर श्रेष्ठ इसा श्रेष्ठ जस्ता हरु बुझ्ने ठोक्नु ।', 'होनि तरिका गरे हुँदैन ।', 'सवै भष्ट कानून बनायेर फासि दिनु ।', 'याे झुट बाेल्छ ज्ञानेन्द्र शाहि काे झुट बालेकाे ।', 'रबि लामीछाने जस्ताे पत्रकार पाउनु नेपाल नेपालीहरूकाे गर्व काे बिषय हाे ।', 'मान्त्री गाली बिनाबाउ केटाकेटी हरु नकरात्मक कमेन्ट अफैँ थुक्ने काम गरे ।', 'सरासर झुठो बोली ।', 'रामकृष्ण ढकाल सर ठगन भियाए सर्वसाधारण कति ठगे होला संस्था माथी छानबिन कडा कडा कार्वाही होस ।', 'रबि सर पछाडी लाग्ने झोले पत्रकार हरु खोजीखोजी कार्बाही ।', 'खाते साला हु भन्छ साला खाते साले तेरो चुतिया साला झोले कृस्रन पैसा खायर पढे होलास कुकुर ।', 'सत्ताधारी कथित कम्युनिष्ट चोर लुटेरा खाते हरु रति लाज लाग्दो रहेनछ ।', '', 'पुन्य झोले लाइ कान जाली फुट ने हान्नु पर्ने ।', 'साला नाके बाहुन गूठी बिदयेक पारित भु माफिया सग अरबौ रुपियाँ लुतेर खाने दाउ ।', 'कमिसन खोरी हरु बाटो खोजी रहे लाटा बुजे लाजमर्दो तर्क नगर चोर हरु ।', 'पाखन्डी भन्डारी क्रिश्चियन दलाल ओलि मुत पिएर होलि वाइन सोझो गर्दैछ नेपाल परम्परा सस्कार सस्कृती मास्ने नियत ।', 'ओलीनै चोर बकि नगरम भो ।', 'राजा हुदा देश बिचियो सरकारि जग्गा बिचियो खाते पार्टी नेता अाए सब बेच्न थाले ।', 'चाेरै चाेर लुट्न सके लुट कान्छा लुट्न सके लुट देश पाईदैन नेपालमै हाे छुट ।', 'आरोप प्रत्यारोप पर्दैन पार्टी नेता हरू चोरै चोर छन ।', 'हाम्रो देश दलाल भर्स्त हरु राज भयो देश कहिले बिकास नहुने भयो नालायक चोर हरु ।', 'शक्तिशाली आयोग तिनै सरकारी जग्गा हड़पने चोर हरु होलान हैन', 'अपराधी डाँका हरु स्वर्ग सपना देखाएर राजा फाले रहेछ्न कम्मर मुनि भुत्ला देखिने प्रष्ट भयो ।', 'चोर ल्याए सामान किन्नेलाइ सामान जफ्त सहित थप सजायं कानूनी व्यवस्था ।', 'काङ्ग्रेस कम्युनिस्ट नेता हरु चोर फटाहा', 'हान्छु गोली आयेर चोरहरुलाइ याद गर ।', 'केश्ब चोर रिस उठछ ।', 'ओई माकुरि ति तिम्रा शक्तिशाली आयोग हरु कै झोल हली भतुवा राख्छौ सुरेन्द्र केसि पाईलट बिजय लामा अर्जुन सुबेदि हरु जस्ता राख्छौ तिम्रो आयोग तिम्रो भतुवा हरु मात्रै राख्छौ ति आयोग घाम मुतेर सुकाईदीए ।', 'हजुर कार्यक्रम राम्रो पावर बेला सरकारी जमीन देश बेचीसके चोर नेता हरू ।', 'चोर जना जेल हाल्दिनु ।', 'तिनै पाती चोर इनी हरू जन्ता मिलेर जेल हाल्न ।', 'चोरी माल सस्तो खरिद गर्नुपनि अपराध ठहरिन्छ त्यसैलै नेता फटाहा चोर ।', 'राजनीतिक पार्टी हरु चोर हरु ।', 'चोर छन यिनी हरु कड़ा कड़ा कर्बाही होस ।', 'यसभन्दा भाते हरु अालोपालो सत्ता थियौ पाजी हरु ।', 'सोमे माचिस कार्यक्रम बोलाउनु हुदैन ।', 'राणि वान हरु ढाड भाँच्चिने कर लादे ।', 'जरा गाडे होइन मुला रुख बनिस ल्याङ्ग गरे यार बिस्व् नम्बर भर्स्टाचार मुलुक बित्तिकै थाहा पाउन त् ।', 'सोम खाते दलाल जहा भेट्यो तेही कालो मोसो दलेर जुत्ता माला लगाएर सहर घुमाउनु यस्ता दलाल ल्याएर जनता यस्ता नरपशु अनुहार नदेखाउनु होला ।', 'यीनी हरु जस्ता नकचरा हरु सरकार बर्ष टिक्यो देशै स्वाहा पार्छन बेचेर बिदेश भासिन्छन यीनी हरु ।', 'सुरेन्द्र भन्दारि सहि भन्नू भो साला रारिका बान चोर नेता हरुलाइ तुधीखेल लगेर गोलि थोग्नुपर्छ ।', 'थुक्क सोम खाते फेरि जस अनुहार नहेरौ त्यस ल्याएछ खाली सरकार बचाउ ।', 'लास्ट सोम पान्डे गधा बोले सुन्नैमन थीयन झन तेही खाते बोल्यो ।', 'लुट लुट साला हरू बाउ सम्पती नेपाल लुट याद राख चोर भ्रष्टाचारि हरु परित्राणाय साधुनाम बिनासचाय च दुसकृताम ।', 'साले खाते सोम पान्डे थु ।', 'चोर हरु गल्ती स्विकार्नु कहाँ कहाँ दोस लगाउदै जाने स्साला भ्रष्ट हरुलाइ लाजै ।', 'ज्योति वानिया साले दहिचिउरे कुत्ता भ्रष्ट फताहा हरु देश सक्ने भयो ।', 'जाँठा डाका हरु बंग्याई सिधैं भन्नु हौं लुट्छ हामी लुट्नु पाउ तिर्दैनौ नौटंकी धत्', 'खाते मुजि हरु बिजुली चलाउने नाफा कमाउने अनि पैसा चहिँ नतिर्ने', 'जाँठा हरु बम हानिन्छ ।', 'यिनी चोर हरु जनता अन्धकार रखेर धुनु सुधारने कुकुर हरु कुलमन सार गरे ठिक काम ।', 'साला कुत्ता थग हरुलाइ छोद नु हुदैन एउटा गरिब जनता सय रुपया नतिर्दा लाइन कात्ने अर्बौं रुपिया नतिर्ने साला कुत्ता हरु यस्ता कुत्ता हरुलाइ नछोद्नु कुल मान सर ।', 'साला कुत्ता थग हरुलाइ छोद नु हुदैन एउटा गरिब जनता सय रुपया नतिर्दा लाइन कात्ने अर्बौं रुपिया नतिर्ने साला कुत्ता हरु यस्ता कुत्ता हरुलाइ नछोद्नु कुल मान सर ।', 'साला कुत्ता थग हरुलाइ छोद नु हुदैन एउटा गरिब जनता सय रुपया नतिर्दा लाइन कात्ने अर्बौं रुपिया नतिर्ने साला कुत्ता हरु यस्ता कुत्ता हरुलाइ नछोद्नु कुल मान सर ।', 'मुजि बानियाँ कस्तो खाते गर्दैछ कुलमान नभए आज नेपाल उज्यालो हुन्थ्यो अझ कुलमान कमजोरी देखाउछ यिनी शोषक ।', 'मुजि बक्बास नगरी राजस्वा तिर्ने कुल मान घिसिङ्ग जि अफ्ठेरो पार्ने काम बन्दा गर बिधुत छोर दलाली ब्यपारी ।', 'लाईन होईना बिल नतिर्ने उद्योगी घाटि काटनु प्रछ साले खाते हरु ।', 'खाते अन्तर्वार्ता दिन आउने हरु एकपटक आफु चिन्ने कोसिस', 'चाहियेन गणतन्त्र सङगियाता ८०० डाका हरु लुटेर सकिसके जनता करेइ कर आफु हरु करोड् गाडी सयेल ।', 'ए राडी बान धमाला पैले तेरी छा स्वासनी सि गणतन्त्र ।', 'मुजि गणतन्त्र नेपाल लागी अभीसाप नेता उनी हरु पेट भर्न लागी उनी हरु झोले कार्यकर्ता साथसाथै रीसी धमला कुरै नगरौ ऊ पनी पर्चन्डे पुछर पत्रकार बाहाना ।', 'वढि हुडार हरु सिंह आहार खोसेर रजाइँ गर्दैछन् ।', 'याे मुजि धमलाकाे अनुहार हेर्न मन लाग्दैन ।', 'ल मूजि धमला जनता जान्न चाहन्छन् तै प्रचंडे देउवा ओली दलाली कति कमाईस्', 'हिजडा नेता अर्का बोकाइदिए भारी बोके नेपाल प्रयोगशाला बनाए ।', 'प्रचण्डे फ्या हड्डी खाने कुकुर ।', 'लुटेरा हरु कुनैपनी लूटन दिनु हुदैन भयो नेपाल् हिन्दु रास्ट्र घोषणा धार्मिक संरक्षक राज सस्था सहित कार्यकार्य प्रधानमन्त्री व्यवस्था हुनु विकल्प ।', 'साले कुत्ता हरु कती लुट छौ देशलाइ ।', 'भारत कुकुर हरु जन्ता मिलेर फाँसी देनु देश लुटने चोर हरु ।', 'कुन कुन मुजी खाते हरु छन हात उठाउ ओलि दाहल देउबा हरु सोझो हरु', 'चिक्ने हरु ला', 'बिच बस्ने कुकुर त्यही काङ्ग्रेस दलाल साले बचाउ मात्रै बोल्ने साला कुत्ता ।', 'बिच बस्ने कुकुर त्यही काङ्ग्रेस दलाल साले बचाउ मात्रै बोल्ने साला कुत्ता ।', 'नेता चोर यार थोरै खान्छ कोहि खान्छन् फरक त्यही चोर दलाल हरु साला देस भिखारी पन बनाय छि छि दलाल हरु देस छोड साला दलाल हरु ।', 'नेता चोर यार थोरै खान्छ कोहि खान्छन् फरक त्यही चोर दलाल हरु साला देस भिखारी पन बनाय छि छि दलाल हरु देस छोड साला दलाल हरु ।', 'चोर अनि जनता माहाचोर साला दिमाग नभा जनता यहि हाल ।', 'हिन्दी चलचित्र नायक एउटा वाक्य याद उपर से निचे तक सब चोर है साले ।', 'थुक्क नालायक भ्रष्टाचरि नेता राडि छोरा केपि प्रचण्ड देउवा दलाल चिक्ने ।', 'थुक्क नालायक भ्रष्टाचरि नेता राडि छोरा केपि प्रचण्ड देउवा दलाल चिक्ने ।', 'तामाङ छोरो हिजो सत्य बोल्दा देश भरि भरौटे नेता चुतिया मिडिया हरु मिलेर रुवाउदै राजिना दिन लगायो', 'तेरिमा माचिक्ने रन्डि बान ।', 'बेइमानी गधा रबिन्द्र अधिकारी निर्देशन पालक दास ।', 'पशुपति पोल्ने ठाउँ रे भर्स्तचारि मृत् युडाँडा हजु तेसै अजीवन कैद गरे हजुर बाँकी मुजी सरकार भरस्तचारी रहेछ कस् हल्ने जैल सरकार १ जन नरहने खरेज देश् बाट लखेते समपती जाम गरे ।', 'या्े रन्डि काे अनुहार देख्नु', 'रन्डी सावित्री तेस्त गर पनो छक्का ।', 'रन्डी सावित्री तेस्त गर पनो छक्का ।', 'साला साबित्रा सुवेदी रन्डी कालो मोसो लगाएर परिक्रमा गराए हेर्न यकदम मन ।', 'साला साबित्रा सुवेदी रन्डी कालो मोसो लगाएर परिक्रमा गराए हेर्न यकदम मन ।', 'साबित्री सुबेदी पैसा बिक्नी कुकुरनी', 'साबित्र सुबेदी चुतिया यस् कार्वाहि गर ।', 'राणी सावित्री रन्डि ।', 'राणी सावित्री रन्डि ।', 'रन्डी भालु छ्क्का सावित्री पैसा बिग ने निर्मला न्याय पितिकोत प्रदशन नाम छक्का शरीर देखायो अहिले बम दिदी बहिनी पैसा दिय होला अनि उनि हरु पक्ष बोल्दै कुकुरनि ।', 'रन्डी भालु छ्क्का सावित्री पैसा बिग ने निर्मला न्याय पितिकोत प्रदशन नाम छक्का शरीर देखायो अहिले बम दिदी बहिनी पैसा दिय होला अनि उनि हरु पक्ष बोल्दै कुकुरनि ।', 'जाठो सावित्री जन्तु खादि नेपाली बलात्कारी एहि हैना साथि हरु तेस् बाजे खोराङ खोराङ ।', 'जाठो सावित्री जन्तु खादि नेपाली बलात्कारी एहि हैना साथि हरु तेस् बाजे खोराङ खोराङ ।', 'साबित्रे भालुनी लै बम दिदी बहिनि भालुनी पैशा किनेछ भालु हरु बोली सुन्दा दिदी बैनी गरे ।', 'सावित्री रन्डि मिले रैछ था भयो ।', 'थुक्क ककुरनि सावित्री तेरो कुन चाहिँ कार्यक्रम नेपाली जन्ता दिन्छन १ लाख २ लाख जन्ता जम्मा सक्छु भन्छेस ४ जना मान्छे जम्मा देखा हेरम खातिनी सावित्री ।', 'भालुनी सावित्री कुकुरनी मिले रहेछ आजा प्रक्षया थाहा भयो निर्माल बहिनी बलत्कार लगाउने यनि भलु हरु रहेछ पहिला जाती आन्दोलान गरे यनि हरु नाटक रहेछ आजा बल थाहा भयो ।', 'भालुनी सावित्री कुकुरनी मिले रहेछ आजा प्रक्षया थाहा भयो निर्माल बहिनी बलत्कार लगाउने यनि भलु हरु रहेछ पहिला जाती आन्दोलान गरे यनि हरु नाटक रहेछ आजा बल थाहा भयो ।', 'भालुनी सावित्री कुकुरनी मिले रहेछ आजा प्रक्षया थाहा भयो निर्माल बहिनी बलत्कार लगाउने यनि भलु हरु रहेछ पहिला जाती आन्दोलान गरे यनि हरु नाटक रहेछ आजा बल थाहा भयो ।', 'ये कार्यक्रम हेरौ छक्का आकि रहेछ तेसै हेर्न मन लगेन यार ।', 'सावित्री कुकुरनी ल्याए धमला सर एस गाला साला फुट्ने हान्न सक्नु भएन ।', 'थुक्क पैसा बिकने सावित्री हीजडा ।', 'थुक्क रन्दी हरु हेर लाज पचाउन रोए नाटक गरे ।', 'बम दिदी बहिनी ब्यस्या बिस्ट छोरा मेयर भतिज ओछ्यान ।', 'साबीत्रा हिजडा पछी नलाग बैनी तिम्रै बेईजत हुनेछ ।', 'साइकल ४बजे भेटियो लास चै कहिले भेटियो हा साला कुकुर्नी हरु ।', 'सावित्री छक्क अनुहार थुक्क आज लोदर लाग्ने भो ।', 'हिजडा रनडि पैसा खाएर घुम्ने थाले ।', 'सावित्री छक्का बोलाए ।', 'ए धमला गुना जसतो कपाल भा हिजडा लया ।', 'पहिला सबित्री छक्का लाइ लात लाएर देश निकाल गर ।', 'नेपाल राजा नेपाली हाेईन् साला हाेलिवान् काे दलालि बडि नबाेल ।', 'भुस्याहा कुकुर बरबराउने गरे प्रचण्ड ।', 'साला कुकुर प्रचण्डे खाते तेरो खरानी दिन आइसक्यो नभुक छोएर देखा राजालाइ तेरो चाहिँ बकबास बन्द गर ।', 'साला कुकुर प्रचण्डे खाते तेरो खरानी दिन आइसक्यो नभुक छोएर देखा राजालाइ तेरो चाहिँ बकबास बन्द गर ।', 'आतंककारी राजा भुक्न सुरु गर् दलाल साला तहि बना देश', 'रंडि छोरो रॉ दलाल ।', 'माचिक्ने प्रचण्ड मार्नु ।', 'प्रचण्ड रेबिच लागे कुकुर होस ।', 'हेर चोर नेता आतिए राजा आउला डर छोरी बुहारी आशे पासे जागिर जाने भो ।', 'देश पानी खान नपाए जनता मरदैछन् याे परमाणु बम बनाउने संविधान बिधेक पास गरिस साला झनडु नेता हरु अमिरिका नेपाल बाट समपति लुटेर लानछ अनि नेपाल अफरिका बनाउछ अनि नेपाली जनता भात हाेईन् गाेलि खानु ।', 'गोकुले चुतिया खतरनाक राउन्ड किक हानेर नाँक डाँडी भाँचिदिनुपर्छ ।', 'पश्चि हरु दलाल प्रचनडे चोर ।', 'डाका हरु भन्दात राजानै ठिकछ ।', 'साले कुकुर प्रचण्ड भासण गर्दा अलि कति लाज लाग्दैन हुनु बेस्यालय मालिक लाज ।', 'साले कुकुर प्रचण्ड भासण गर्दा अलि कति लाज लाग्दैन हुनु बेस्यालय मालिक लाज ।', 'राजा हटेर जन्ता फाएदा भयो जन्ता झन बल्त्कार चोरि बडे चोर कस्तो ३८ कुईन्टल चोरि प्रचन्ड केपि अोलि जना जन्ता अघाए रराज अतिए गनतन्त्र अाए नअातिनु नेपाल गारो हुनथियो ।', 'अनि हत्यारा ज्ञाने चोर जेल कोच्नु ।', 'ओय साला पुर्बा अतनकारी परचनडा तँ चोर भनिस हाम्रो देश महाराजधिराजलाइ ।', 'ओय साला पुर्बा अतनकारी परचनडा तँ चोर भनिस हाम्रो देश महाराजधिराजलाइ ।', 'राजा आउ देश बचाउ प्रचन्ड् चोर डाँ देश बाटा भगाऊ ।', 'नेपकौ केपि कुकुरलाइ गौलि हानुपरछ कुकुर डाकालाइ ।', 'नेपकौ केपि कुकुरलाइ गौलि हानुपरछ कुकुर डाकालाइ ।', 'नेता बलत्कारी घुसखोरी मारेउ तिमि हरु नेपाली जन्ता ।', 'शबै चाेर नेता परचनद महाचाेर जनता मारने शमपति बैक लुटने देश टुकराउने शमुद्व डुबेर मारउ ।', 'बिप्लव नेता हरु मकेभन्चाहानछु देश सोजासाज जन्ता केहि नहोस भ्रष्चारि दलाल भुसिया कुकुर हरु ठिक पार्न गोलि ठोक्नु परे ठोक्नुहोस तेस् राम्रो सपोट रहनेछ ।', 'दिक्क लाग्छ कस्तो कुकुर हरू नेता हरू भएकाे देश जन्मिएछ थुईक्क ।', 'साला भ्रष्ट कुपत्रुकार किशोर रबि पत्रकार हैन होला ।', 'राडि बान हरु ।', 'रबि पुलिस समातो रबि हत्यारा भन्दै खुब चम्कियो एउ टा नरपिसाच किसोर श्रेष्ठ जन्तु भिडियाे मिडिया फैलाउने तेईहो भन्छन करोड जनता संखा गरे छन जन्तु माथी बुदासैनि हत्यारा तेइहो भनेर तेस समातियेन', 'डिसलाइक १२ जाना रबि ज्यु हिरासत मन पर्ने थिएछ खाते हरु', 'मुला चितवन आन्दोलन विभिन्न भयो लाज है अहिले रबि दाई निस्कने बेला चै अनुवार देखाइराछ हुत्तिहारा ।', 'डिसलाइक १२ जाना रबि ज्यु हिरासत मन पर्ने थिएछ खाते हरु ईन्डिया बाट कति खुशी रबि ज्यु आउनु ।', 'रबिदाई भयो साले नेपाल चोर नेत ओलि सिधाईदिने नया सम्बिब्धान लिउने नेपाल नेता हरु चोर ।', 'रबिदाई भयो साले नेपाल चोर नेत ओलि सिधाईदिने नया सम्बिब्धान लिउने नेपाल नेता हरु चोर ।', 'खाते युटुबे हरु युटुबेनै की न्युज भिन्दैर शीर्षक भिन्दै राख्छौ भुउज बराउन खाते मुलाहो सहिर सत्तेकुरा प्रसारण तिमि हरु जनता सरसम्मान गाली गर्दैनन धन्यवाद ।', 'खाते युटुबे हरु युटुबेनै की न्युज भिन्दैर शीर्षक भिन्दै राख्छौ भुउज बराउन खाते मुलाहो सहिर सत्तेकुरा प्रसारण तिमि हरु जनता सरसम्मान गाली गर्दैनन धन्यवाद ।', 'कन्डम फुटेर जन्मे दिल निशानि रबि बिरोध ।', 'रिसि धमला डाका कस्तो हल्का तर्क मुला दलाल केपि अोलि प्रचण्ड चम्चा मात्रै होइन भारत गुलाम ।', 'धमाला साला पसु पाति झोले ।', 'ॠषि धमला पागल हाे हावाकाे सब थहा कस दिएकाे पत्रकारकाे नक्कली लैसन ।', 'हिजो आ युटुबे प्रश्न सोधाइ हेर मुजि ।', 'ऋषि धमाला चाहिँ भ्रष्ट दलाल चोर नेता हरु चम्चे ।', 'ऋषि धमला १०० भारत दलाल ।', 'ऋषि कुकुर खै ।', 'हावा हावा गफ बस्छन् मुजि हरु ।', 'ऋषि धमला पार्टी जुठो खाने भतुवा कुकुर हाे थुक्क चाेर ।', 'ऋषि धमला पार्टी जुठो खाने भतुवा कुकुर हाे थुक्क चाेर ।', 'जनतालाइ विभाजन चोर नेता हरू ।', 'मेयर त्यही भन्दिदा चै अपराधी', 'आफु गरे चमत्कार गरे बलात्कार', 'आफु गरे चमत्कार गरे बलात्कार चौथो लिंगि हरु', 'खाते पत्रकार नाक डाँडि होईन हात खुट्टा भाँचिदिनु साले कुकुर ।', 'खाते पत्रकार नाक डाँडि होईन हात खुट्टा भाँचिदिनु साले कुकुर ।', 'हुनत मपनी क्षेत्री धिकार मुजि बाहुन बादी मिडिया बाहुन हरु ।', 'साला नालायक तँलाइ भेट्यो तेरै माइक थुतेर तेरो मुख फुट्ने बजाउछु साले बोल्ने शैलि थोप्पो नरहेछ गधा ।', 'साला नालायक तँलाइ भेट्यो तेरै माइक थुतेर तेरो मुख फुट्ने बजाउछु साले बोल्ने शैलि थोप्पो नरहेछ गधा ।', 'यिनै राडिकाछोरा हरु गर्दा देश बिकास नसके ।', 'समाज भार्न्ति फैलाउने गलत समाचार देखाउने सहि मान्छे गलत गलत सहि पार्ने यिनै माच्चिक्नि हरु ।', 'चुप साला चाटुकार पत्रुझार ।', 'मेयर साब सहि यस्तै नेता हरू जरुरत नेपाल सलाम द्ववारिका सर नाक हैन ढाडनै भाचनु घुसखोरि जग्गा माफिया भरौटे पत्रुकारनै इ कुकुरहारु छोडनु हुदैन ।', 'गल्लि भुक्ने कुकुर हरू हिजोआज कता गएछन रबि दाईकाे माहानता हेरेर सिक भाडा टट्टू हरू ।', 'गद्दार सर्कार आँखा सक्यो ।', 'नेपालि इज्जत फाक्यो कुकुर कुकुर्नी हरु पाहुनालाइ राम्रो सङ स्वागत गरेन कम्सेकम २ हात जोदि नमस्ते ।', 'लाज पचे नकचरा नेता हरु गरुम सकिम दुनियाँ कहाँ कहाँ पुगिसके स्याल नेता हरु दुनु सोझ्याउन होईन देश सोझ्याउन लाग ।', 'हरु घर आफ्ना बा आमालाइ इन्कार अलछिना हरु ।', 'दिन काठमाडौ शहर झिलिमिली बनाएर सधैं भरी बनाउन साला चोर भ्रष्टाचार लुटेरा नेता ।', 'साला भिकारी हरु तिम्रा बाउ ठूलो होला ।', 'आखिर देश जनता बेइमान कुकुर हरु केहिपनि होइनन् ।', 'काङ्ग्रेस झन चोर दलाल हि गर्दैन ।', 'गगन थापा रणडी छोरा माचिक्ने चोर कुकुर अझ पढ्नै नसक्ने लेख कमेन्ट बन्द भन्द भो मान्यवर', 'काङ्ग्रेस भस्ट्चार चोर भनेर कम्युनिस्ट बलत्कार हत्यारा भनेर यस्ता कुकुर हरु भोट दिएर हुदैन हामि सचेत भै सके छौ हुनु चोर हरु पत्यसाप ।', 'तेस्ता मुजि हरु प्रतिपक्षी रे', 'गगन गर्जियो योपनि हिजु दिन तेस्तैहो साले कुकुर ।', 'रा रास्ट्रपति लाइ कस् बोले बुझ्छ ।', 'जस्ता नारी देश राष्ट्रपति भन्न लाज आफैलाइ श्रीमान हत्या जाठी थुलो लाज ।', 'केपि चोर लागेर श्रीमान मार्ने छि छि तिम्रो दिन ।', 'उस्ता मुजि देश राष्ट्र पथि थुक्क साला ।', 'उस्ता मुजि देश राष्ट्र पथि थुक्क साला ।', 'बिध्यादेबि साले रण्डि छोरी पोईमारा पसुपति तेरो छिटै अन्त्य गरून् इज्जत आउदैन रैच ।', 'शेरे बोल्छनै तेस्तै पत नपाउदा मुर्छा परेछ साला चोर हुनत बिध्या भन्दारि हाई हाई भन्न खोजे होइन है साथी ।', 'याे मदनेकि स्वास्नी हाे केपिकि रखेल', 'थुक्क रण्डी बोल्नु बोल्नु हुदैन थाहाँ ।', 'साला दिलनिसानी मगर चुपलाग साला खाते सब भस्ट्चार घुस खोर दालाल हरु काम रबि सर फसाउन ।', 'साला दिलनिसानी मगर चुपलाग साला खाते सब भस्ट्चार घुस खोर दालाल हरु काम रबि सर फसाउन ।', 'सुँगुर माथी गयर गु खान पाउछु भन्नू साला सुँगुर दिल साचो बोल्नु यौतै ।', 'साले कुकुर पत्रकार चुतिया तो इन्डिया चिन्ता लाग्यो जानू उतै मुन्टिनु कुकुर ।', 'साले कुकुर पत्रकार चुतिया तो इन्डिया चिन्ता लाग्यो जानू उतै मुन्टिनु कुकुर ।', 'साले कुकुर पत्रकार चुतिया तो इन्डिया चिन्ता लाग्यो जानू उतै मुन्टिनु कुकुर ।', 'सहि विश्लेषण केशी डा साब मिडिया कै नेपाल चुतिया छ्न एउटा सहि लेख्दैनन ।', 'खाते पत्रकार चही गु खा साल तेरो पत्रकार आउदैन ।', 'खाते पत्रकार चही गु खा साल तेरो पत्रकार आउदैन ।', 'चिक्ने पत्रकार विहारी परेछ की कसो मुजी नेपाल प्रशन गनुनी नेपाल देश ईन्डीया स्टेट होर सुरेन्द्र केसीसग प्रशन गनु यार अच्म आझै बषेॅ पडेर आऊ पत्रकार भाई ।', 'चिक्ने पत्रकार विहारी परेछ की कसो मुजी नेपाल प्रशन गनुनी नेपाल देश ईन्डीया स्टेट होर सुरेन्द्र केसीसग प्रशन गनु यार अच्म आझै बषेॅ पडेर आऊ पत्रकार भाई ।', 'चिक्ने पत्रकार विहारी परेछ की कसो मुजी नेपाल प्रशन गनुनी नेपाल देश ईन्डीया स्टेट होर सुरेन्द्र केसीसग प्रशन गनु यार अच्म आझै बषेॅ पडेर आऊ पत्रकार भाई ।', 'खाते पत्रकार प्रशन कस्तो लामो चि साले थुक खाते तेरो बुद्धि अलिक सिकेर बोल्नुपर्छ ।', 'खाते पत्रकार प्रशन कस्तो लामो चि साले थुक खाते तेरो बुद्धि अलिक सिकेर बोल्नुपर्छ ।', 'चोर पत्रकार पत्रकार भयो कुल्ली भरिए हैसियत नभए पत्रकार सुरेन्द्र केसी अन्तरबार्ता दिन पुगेयो', 'राडि बान पाखे पत्रकार तै सोद्नी प्रसन एस्तै पाखन्डि ।', 'राडि बान पाखे पत्रकार तै सोद्नी प्रसन एस्तै पाखन्डि ।', 'मुख थप्पड हान्न पर्नी पत्रकार रैछ खाते ।', 'कुकुर पत्रकार चुतिया बोल्ने शैली सोध्ने प्रश्न्न दाम गालत यस्ता पत्रकार हुनु भान्दा नहुनु बेस साले चोर पत्रकार ।', 'कुकुर पत्रकार चुतिया बोल्ने शैली सोध्ने प्रश्न्न दाम गालत यस्ता पत्रकार हुनु भान्दा नहुनु बेस साले चोर पत्रकार ।', 'कुकुर पत्रकार चुतिया बोल्ने शैली सोध्ने प्रश्न्न दाम गालत यस्ता पत्रकार हुनु भान्दा नहुनु बेस साले चोर पत्रकार ।', 'मुजि पुन्य आफै लेखचर दिन्छ लामो केपि प्रचण्ड सरकार बिपल्ब खोजिखोजी दिन्छ दन्क ।', 'मुजि पुन्य आफै लेखचर दिन्छ लामो केपि प्रचण्ड सरकार बिपल्ब खोजिखोजी दिन्छ दन्क ।', 'पुन्य गौतम ओलि पाल्तु कुकुर', 'यू पुन्य आफ्ना आमा दिदीबहिनी श्रीमति पैसा बेच्छ होलीयन मुत्र पिएर मति भ्रष्ट ।', 'यू पुन्य आफ्ना आमा दिदीबहिनी श्रीमति पैसा बेच्छ होलीयन मुत्र पिएर मति भ्रष्ट ।', 'अपराधि प्रचन्डे झोले फुर्ति नगरे पुन्य गौतम कुकुर ।', 'ई पुन्ने गौतम भन्नेब्यक्ती जिब्रो नकाटेको होला बाउला कुकुर भुकने सहिकुरा कहिलै सत्यकुरा भोल्दैन ।', 'पुन्य गौतम हिजोआज बौलाए रहेछ बोल्नु हुँदैन थाहा ।', 'बाैला गाैतम जेमन लाछ तेहि बाेलछस ।', 'मुजि पुन्य गौतम साला अन्ध भक्त ।', 'मुजि पुन्य गौतम साला अन्ध भक्त ।', 'पुन्य बाैला तलाइ लावलागदैन जेपनि बाेन ।', 'हान सागर जि साला दशै बस्नी हान्नु पर्यो कुकुर बदि भुक्दै ।', 'हान सागर जि साला दशै बस्नी हान्नु पर्यो कुकुर बदि भुक्दै ।', 'पुन्य गौतम ग्यानेन्द्र साहि घटना नेकपा आरोप लागे भय रण्डि बान तेरो पुलिस समाउदैन ।', 'पुन्य कुकुरलाइ गुउ खुवाउन अनि यस् सहि बोल्छ ।', 'पुण्य गौतम सरकार नोकर नभए नेकपा अवश्य बफादार कुक्कुर ।', 'देस जन्ता सेवा भन्न लाज लाग्दैन रन्डि छोरा पुन्री गौतम ।', 'साला पून्य कहिले मर्छ होला कुकूर भूके भूक्छ ।', 'बाबुराम पीएडी ऊसतै चोर पुन्य पातकी डाका ।', 'बाबुराम पीएडी ऊसतै चोर पुन्य पातकी डाका ।', 'कुकुर छाऊरो गलत भन्दैछ कुकुर बेरोजगार झोले नेपाली भलो चाहन्न है कुरो सत्यता ।', 'कुकुर छाऊरो गलत भन्दैछ कुकुर बेरोजगार झोले नेपाली भलो चाहन्न है कुरो सत्यता ।', 'पन्ने मुजिलाइ ब्रेनवास गर्नकोलागि राडिकाछोरा खटाए ।', 'पन्ने मुजिलाइ ब्रेनवास गर्नकोलागि राडिकाछोरा खटाए ।', 'चिक्नेलाइ कन्डो अागो लाऊोन ।', 'साला कुकुर पुन्णु लाइ लात हानेर आउट कुकुर बलतकारि यइ ।', 'साला कुकुर पुन्णु लाइ लात हानेर आउट कुकुर बलतकारि यइ ।', 'मुजि बोलेर जित्न सक्दैन अनि दुनियाँ दिन्छ साले खाते ।', 'मुजि बोलेर जित्न सक्दैन अनि दुनियाँ दिन्छ साले खाते ।', 'चिक्ने रन्डि छोरो मास्टर टुडिखेल जिउदै चिरि चिरि नुन खुर्सानि दल्लनु खुकुरि घाटि रेटनु पर्ने धन्यवाद रवि दाई अघि बढनुस् ।', 'धाेती सले चाेर खाते नेपाल अएर नेपाली चेलीबेटी फासी गनुपछ बलात्कार ।', 'साले इन्डियन मार्नु बस्न तयार जेल मार खाते ।', 'क्यामेरा एकछी बन्द रगत छात्ने हान्नु पर्ने साले कुकुर रिस आज उठे ।', 'साला धोति लाइ करेन्ट लगाएर जुत्ता माला कालो मोसो दलेर भारत लखेट्नुपर्छ ।', 'भगवान कसम मलाइ साला धोती नरपिचास मुख हेर्दा भिडियो हेर्दा मै भेटे मै आफै काटेर साला हजार टुत्रा पारिदियर जन्म कैद बस्दाम झै भैसक्यौ ।', 'भगवान कसम मलाइ साला धोती नरपिचास मुख हेर्दा भिडियो हेर्दा मै भेटे मै आफै काटेर साला हजार टुत्रा पारिदियर जन्म कैद बस्दाम झै भैसक्यौ ।', 'पुलिस बन्यो ओकील बन्यो हरू भारतीय दलाल साला कुकुर हरू ।', 'लालिगुरास सस्था सुरेन्द्र श्याम प्रदेशी चोर डाका रछ साले छोडनु हुन्न दलाल चोर ।', 'थुक्क राज्य देश चलाउन सक्दैनौ जोगी बनेर हिड कुकुर हरु ।', 'साला यता हाजिर उता हाजिर रिस उठ्छ कुरै छोड राम्रो गर ।', 'घुसखोर ददाल भ्रस्ट मुर्दाबाद ।', 'आनुहार हेर्दा दलाल भ्रष्टाचारी गुण्डा ।', 'तेरै गुरु राम्राे हाे ढाेङ्गि ढाेङ्गि काहा बाट अायाे याे लिटल बुघ पाखन्डि साला ।', 'धर्म सम्मान चोर हरु तह लगाउनु हाजिर हुनु ।', 'राजा बाट जनता तिमि जनता बाट नेता भ हौ भोलि फेरि फर्किनु पर्ला याद राख चोर नेता भ्रष्टाचार कर्मचारी ।', 'चिक्ने गुरु खै कता गुरु जाठा हरु कुन दुनियाँ माधरचोत हरु जाठो गुरु थोपडा हेर्न पाउनु पर्यो ।', 'चिक्ने गुरु खै कता गुरु जाठा हरु कुन दुनियाँ माधरचोत हरु जाठो गुरु थोपडा हेर्न पाउनु पर्यो ।', 'चिक्ने गुरु खै कता गुरु जाठा हरु कुन दुनियाँ माधरचोत हरु जाठो गुरु थोपडा हेर्न पाउनु पर्यो ।', 'चिक्ने गुरु खै कता गुरु जाठा हरु कुन दुनियाँ माधरचोत हरु जाठो गुरु थोपडा हेर्न पाउनु पर्यो ।', 'राम बा बम्जन मुजि घन्टा गुरु ।', 'मुजि गुरु रे भिखारि ।', 'बलात्कारी बाउ छोरो कता गयो मुजि रबि दाजु हिरासत हुदा खुब लाख माग्यो भनेर आरोप लगाईरा रण्डि छोरो ।', 'बलात्कारी बाउ छोरो कता गयो मुजि रबि दाजु हिरासत हुदा खुब लाख माग्यो भनेर आरोप लगाईरा रण्डि छोरो ।', 'बलात्कारी बाउ छोरो कता गयो मुजि रबि दाजु हिरासत हुदा खुब लाख माग्यो भनेर आरोप लगाईरा रण्डि छोरो ।', 'डिसलाईक हरु गधा हरु नेता गोठाला हरु आजै मर साले हरु राम्रो खबर डिसलाईक गर्छन् चोर हरु ।', 'डिसलाईक हरु गधा हरु नेता गोठाला हरु आजै मर साले हरु राम्रो खबर डिसलाईक गर्छन् चोर हरु ।', 'जना भ्रष्टचारी सन्तान हरू हात किरा परिसकेछ हान्न ।', 'थुईक्क एमाले गोठालो यस्ता मुला जड्या दलाली पुण्य गौतम खाली बिदेसि गुनगान बढाइचढाइ मात्रै ।', 'मलाइ रातो कोट लगाउने मित्र साह्रै मन पर्यो झोले जुठेभात खाने खाते सुन्दा चै साच्चै पारो तातेर हौ ।', 'नेकपा मुला पशुपति सेलाउन लगे तेरि टोक्ने हरु पढाइ घमण्ड बुद्धि चाक मुनि रहेछ मुला', 'ओली चम्चा घोकन्ते विद्यावाला खाते सोध्छ जेहोश ओली उखान टुक् सब रटेछ यस्तै गुं घोकन्ते पढेर गतिलो पढ्ने नेपाल इज्जत भा', 'नेता भनाउदो कस चेलो लार भायौ गाजा खाएर बो लिरहे ला परशन एउ टा उतर अर कै पो दिनछ बा कै रनडि चेलो ।', 'ओए मुजि पुन्य गौतम खाली बिदेसि गुनगान बढाइचढाइ मात्रै गर्छस', 'वाला नेता रे छि छि छि छि लाज लाग्नु पर्ने एउटा प्रश्न उत्तर दिन ३ सोध्दा मोडछ खाते नेता कहिले नबोलाउनु होला', 'नेकपा मुला पशुपति सेलाउन लगे तेरि टोक्ने हरु पढाइ घमण्ड बुद्धि रहेछ मुला', 'काम गरे तेरो सरकार साला पुर्ती लाउछस ।', 'रण्डी मदर मुन सुक्रकिट मिसाए होलि वाइन खाए होला ढाकछोप बोल्छ ।', 'कस्तो पत्रु मान्छे नालायक धिक्कार होसा तेरो जीवन', 'मुजि पाठक जापान मासु बोग्दा बोग्दा खुबै ठूलो ठूलो भुग्छ साले कुत्त ।', 'मुजि पाठक जापान मासु बोग्दा बोग्दा खुबै ठूलो ठूलो भुग्छ साले कुत्त ।', 'रन्डी छोरो अरिंगाल पाठक लै पाटे मुडेर खुला मंच उल्टो पारेर झुन डाउ ।', 'इ माचिक्ने नेता हरुलाइ थेगान नलगाउने ।', 'कस्तो कमिनीस्ट माचिक्ने झुट कती बोले जाठा हरू कमिनीस्ट नेता भनादा ।', 'साला खाते नेता हरू चुप लाक नेपाल नेपाली जनता राजा लेयाउने हाे जय राजा जय नेपाल राजा नेपाल बनायाकाे हाे नेपाल राजा हाेईन् राजा अाउ नेपाल बचाउ ।', 'राजा एकीकरण बनाए देश छाती फुल्काएर नेपाली हु भन्न पाए अझ ठुलो स्वर साला आतंककारी ।', 'मुजि नगेन्द्र साही तेरो पार्टी योगदान मुजि देशद्रही जंगली तेरो केपि प्रचण्ड बना देश तेरो बाउ बिर्ता ।', 'मुजि नगेन्द्र साही तेरो पार्टी योगदान मुजि देशद्रही जंगली तेरो केपि प्रचण्ड बना देश तेरो बाउ बिर्ता ।', 'भन्दे एउ टा राजा फाल्ने मुर्कट्टा हरु आज हज्जारौं ब्वाँसा मिलेर गिद्ध सिनो लुछे जसरी लुटेर देश सखाप पार्र्यो ।', 'मुजि नेकपा गुखा नेता बोली हेर्दै चोर लाग्यो ।', 'खाते नेतागिरि हरु जति कार्यक्रम राखेर समेलन गराउ त्यस बम बिस्फोट गराएर ध्वस्त पार्न मै बम बिस्फोट गराएर ज्यान दिन ससक्छु ता की मेरा सन्तति नेपाली हु भनेर गर्व सकुन ।', 'माचिक्ने प्रचन्द लाइ सिदै गोलि हान्छु रादि छोरा हरु देश दोर्ही जनता पशिना चुसिरा छस मुजि प्रत्र कार ।', 'रन्डि बाहान नगेन्द्र चम्चा साला ।', 'रन्डि बाहान नगेन्द्र चम्चा साला ।', 'साला राज तन्र्त नेपालि जन्तालाइ लुटन पाइ न्न जन्ता बुइ चढेर नेपालि जन्ता राज पाइन्न इसाइ डलरे हरु लाइ थाहा थ तेसै राजतन्तर बिरोध गर्छन साला धर्म बेचुवा देश बेचुवा पाय चेलिबेटि बेच्छन् साले इसाइ डलरे हरु ।', 'साला राज तन्र्त नेपालि जन्तालाइ लुटन पाइ न्न जन्ता बुइ चढेर नेपालि जन्ता राज पाइन्न इसाइ डलरे हरु लाइ थाहा थ तेसै राजतन्तर बिरोध गर्छन साला धर्म बेचुवा देश बेचुवा पाय चेलिबेटि बेच्छन् साले इसाइ डलरे हरु ।', 'साला राज तन्र्त नेपालि जन्तालाइ लुटन पाइ न्न जन्ता बुइ चढेर नेपालि जन्ता राज पाइन्न इसाइ डलरे हरु लाइ थाहा थ तेसै राजतन्तर बिरोध गर्छन साला धर्म बेचुवा देश बेचुवा पाय चेलिबेटि बेच्छन् साले इसाइ डलरे हरु ।', 'मुजि केपि चम्चा लाइ गोलि खाना मन लायो', 'भोलि राडि चढे गाडि भोलि आउने गोरु नचढ्ने होला', 'भोलि राडि चढे गाडि भोलि आउने गोरु नचढ्ने होला', 'या्े गणतन्त्र का्े मुजि गधा मुर्दाबाद राजतन्त्र जिन्दाबाद राजतन्त्र जिन्दावाद जय हा्ेस पशुपतिनाथ ।', 'ज्ञानेन्द् सरकार पुर्खा हरू आर्जे देश राजा भयर तँ नरेन्द्र कुत्ता राजा तो तँ काहा नाड०गो कुकुर होस तेरो काल आईपुग्यो साला कुत्ता तँ पट मुर्ख खोईरो लागे कुकुर पाँखें तेरो काल पख', 'मुजि नगेन्द्र गणतन्त्र झोले अनि चाकरी ।', 'नेपाल प्रहरी भएर सहि जवाफ नदिने भिडियो लिग भयो प्रहरी मुचुल्का उठा मोबाइल चोर बिश्वराज मल्ल बचाउदै है नेपाल प्रहरी बिश्वास है यहि कुकुर बच्चा हरु मिलेर रबि फसाउदै ।', 'यस्ता दोधार माधर्चोत ल्याए थुक्क हरु जुनि नालायक ।', 'याे सुरज मिले खाते हाे पदमुखि प्रहरी मुखि साला भाते घुमाउछ ।', 'याे सुरज मिले खाते हाे पदमुखि प्रहरी मुखि साला भाते घुमाउछ ।', 'प्रहरी गफ दिदै साला ।', 'खाते मुजि सरकार नेपाल पुलिस बचाउ गर्दैछ ।', 'जस्ता खाते अहिले कति छानबिन निस्पक्ष गरियो यउटा भन्न सक्छस हामी त्तकाल भन्दैनौ नभने भिडियो ईडिट तथाकथित पत्रकार चै दिईन्छ भनिनस ।', 'मुजि काम सम् बानना पुग्यो साला नेता हरू झो रैछ साले हावलदर जति छ्मता नभए ।', 'मुजि काम सम् बानना पुग्यो साला नेता हरू झो रैछ साले हावलदर जति छ्मता नभए ।', 'मुजि काम सम् बानना पुग्यो साला नेता हरू झो रैछ साले हावलदर जति छ्मता नभए ।', 'याे पाेखरेल खाते चाेर बर्दिकाे नाम कलङ्क हाे थुक्क किरा पराेस ।', 'याे पाेखरेल खाते चाेर बर्दिकाे नाम कलङ्क हाे थुक्क किरा पराेस ।', 'प्रस्न उतर दिन नसक्ने कुकुर पोखरेल नाक उ लगाइस ।', 'नेपाली पुलिस चोर खाते हरु कुकुर ईज्जत् होला खाते पुलिस नेता दलाल हरु ।', 'बोल्नै मिल्दै भ ने आय रन्डी छोरो पुलिस सोदे बोल्नै मिल्दै यार अनि लाडो आय मुजि ।', 'बोल्नै मिल्दै भ ने आय रन्डी छोरो पुलिस सोदे बोल्नै मिल्दै यार अनि लाडो आय मुजि ।', 'बोल्नै मिल्दै भ ने आय रन्डी छोरो पुलिस सोदे बोल्नै मिल्दै यार अनि लाडो आय मुजि ।', 'जाबो एउ टा जवाफ दिन नसक्ने चोर साले', 'कुकुर किसोर शेरेस्ठ कम्युनिस्ट खोल ओडेर कम्युनिस्ट बेजत गर्यो यस्लाइ बास कप्ट्यारो हानेर फकलक् कै बनाउन ।', 'खाते भारत गर्छस भारतिय दलाल ।', 'हाँ हाँ साले चोर भष्ट् हरू बिनालगानि उधोग संन्चालन देश ख्रोक्रो पारेउ सब युवा बिदेश पलायन बाध्यबनायेउ खाँअो खाँअो कति सजिलो गफ गरन ।', 'तेरि डाकाहाे खाअाे खाअाे अपराधि हाे ।', 'राजनीति आम्दानी पेसा बनाए छौ होइन चोर हरु ।', 'लाजै लाग्यो थैट मुला खाते हरु कुन मर्यादा काहा काहा बोल्दैछु थुइक्क जाठा हरु ।', 'लाजै लाग्यो थैट मुला खाते हरु कुन मर्यादा काहा काहा बोल्दैछु थुइक्क जाठा हरु ।', 'मुजि पत्रकार रिसी धमला रहेछ आफु बोल्छ बक्ता हरु लाइ बोल्न देन भोडगधा ।', 'मुजि पत्रकार रिसी धमला रहेछ आफु बोल्छ बक्ता हरु लाइ बोल्न देन भोडगधा ।', 'कसरि पत्रकार भयो भोडगधा ।', 'कुकुर बिरला झगड़ा चोर हरू बोलन लाज पनी ।', 'यिनी चिक्ने हरु जन्म कैद मान्छे ।', 'मात्रै साला दलाल हरु ।', 'यस्ता गद्दार नेता हरु गलत्याएर फाल्नुपर्छ आम जनता मिलेर यस्ता नेता हुन्छन् कुकुर खान नपाए लुछाचुडी ।', 'यस्ता प्रश्न नसोध्नु पो कुकुर जस्ता अलिकति नेता बुद्धि नैतिकता', 'थुई चोर उस् ठूलो सोर भष्र्टचारै भष्र्टचार लाज लाग्दै चोर हरु ठुला ठुला डा ।', 'नेता हरु चाेर पानिमाथिकाे वबानाे बन्न खाेच्छन डम्ना हरु ।', 'नेता हरु चाेर पानिमाथिकाे वबानाे बन्न खाेच्छन डम्ना हरु ।', 'मिलेर खाउ भाले चाेर हरु ।', 'थुक्क चुतिया हरु लाज सरम दुबै जना चुतिया भ्रष्टाचार नाइके हौ ।', 'थुक्क चुतिया हरु लाज सरम दुबै जना चुतिया भ्रष्टाचार नाइके हौ ।', 'नेता चोर भर्ट जनता खुन चुसने अनि ठुला ठुला ।', 'चोर भ्रस्ट नेता हरू मिडिया आएर बाँदर बथान कराए कराइ रहन्छ ।', 'चोर हरु लाजै नलाग्ने गर्छन् ।', 'हे भ्रष्ट चोर हरु लाज लाग्दैन', 'लाज सरम पचे चोर दलाल हरु ।', 'रन्डि भ्रस्ट छोरा हरु कति लुट्छौ', 'भ्रष्टाचार चुर्लुम्मै डुबे देश नेपाल थुईक्क चोर दलाल हरु ।', 'कस्ताे चित्न नबुजेकाे गधा हरूकाे पत्रकार् एस्ताे भन्दापनि लाजपचाएर बाेल्छन थुइक्क गधा हाे ।', 'याे चाेर मानवअधिकार बादी चाेर कालाे कांग्रेस भतुवा भनछ मुजि तालु ।', 'बिस्वराज पोख्रेल कुकुर लाइ कस् बनायो डि आइ जि गोलि लागेर मिर्तु होइन पहिला हातखुट्टा भाचिदिएर गोलि हानी हत्या गरे छर्लङ्ग साला नक्कली भिदन्त बनाउछ खाते ।', 'बिस्वराज पोख्रेल कुकुर लाइ कस् बनायो डि आइ जि गोलि लागेर मिर्तु होइन पहिला हातखुट्टा भाचिदिएर गोलि हानी हत्या गरे छर्लङ्ग साला नक्कली भिदन्त बनाउछ खाते ।', 'पुलिस हाकिम साला ।', 'घटना घटे ५ ठाउ हात भाचने भिडन्त रडिकाे छाेरा भाेलि पुलिस जागिर खाने हाेस रामाे गर रनडिकाे छाराण ।', 'घटना घटे ५ ठाउ हात भाचने भिडन्त रडिकाे छाेरा भाेलि पुलिस जागिर खाने हाेस रामाे गर रनडिकाे छाराण ।', 'माचिक्ने रन्दि छोरा राम बहादुर बादल साले खाते रन्दि छोरा बिस्वराज पोखरेल मार्नु छाडा रन्दि छोरा हरु ।', 'माचिक्ने रन्दि छोरा राम बहादुर बादल साले खाते रन्दि छोरा बिस्वराज पोखरेल मार्नु छाडा रन्दि छोरा हरु ।', 'माचिक्ने रन्दि छोरा राम बहादुर बादल साले खाते रन्दि छोरा बिस्वराज पोखरेल मार्नु छाडा रन्दि छोरा हरु ।', 'साला पोखरेल नेपाल पोलीस बननालायक छैना सालाखाते नेता हरू चमचा झोल ।', 'राडिकाे छोरा मुख देख्दा रिस उठेर आउँछ सुशील सर हजुर बधाई एकचोटि पागल ज्ञानेन्द्र शाही सङ्गै बनाएर अन्तर्वार्ता गराउनु पर्यो अनि भन्छ गर्दा आज समग्र प्रहरी सस्था बदनाम भयो ।', 'मुजि पोखरेल लठौरा नम्बर झुते साले हरामि खुद ज्ञानेन्द्र शाही जिउदै हुनु यातना दिएर खुट्टा भाचेर हैन प्रहरी बाट यातना भा भन्दै बोल्ने झुटे मुजि पोखरेल शिक्षा कमि ।', 'मुजि पोखरेल लठौरा नम्बर झुते साले हरामि खुद ज्ञानेन्द्र शाही जिउदै हुनु यातना दिएर खुट्टा भाचेर हैन प्रहरी बाट यातना भा भन्दै बोल्ने झुटे मुजि पोखरेल शिक्षा कमि ।', 'मुजि पोखरेल लठौरा नम्बर झुते साले हरामि खुद ज्ञानेन्द्र शाही जिउदै हुनु यातना दिएर खुट्टा भाचेर हैन प्रहरी बाट यातना भा भन्दै बोल्ने झुटे मुजि पोखरेल शिक्षा कमि ।', 'केहो केहो काहाॅ बाट प्रात भयो भन्न लाज लाग्दैन चोर प्ररबक्ताता पापी ।', 'गधा झुट बोल्यो इन्काउटर नाम मान्छे मार्न पाईन्छ मुठभेड मान्छे हात ठाउ भाचिन्छ ।', 'पुलिस जहिलेनि झुट बोल्छ साला ज्ञानेन्द्र साहि हिरा सत कुट्छ कुटे छईन भन्छ साला चोर पुलिस ।', 'पुलिस जहिलेनि झुट बोल्छ साला ज्ञानेन्द्र साहि हिरा सत कुट्छ कुटे छईन भन्छ साला चोर पुलिस ।', 'खाते अधिवक्ता दिनेश त्रिपाठी अावज सुन्न मन पर्दैन ।', 'खाते रन्डि छोरा कस्तो मानव अधिकार बादी', 'बर्दी लगा चोर पुलिस थुक्क तेरो बुदि', 'ओय साला पोखरेल तं साला कति झूठबोलना सकेहोला ।', 'गोलि हान्यो तिर्थ लाइ प्रहरी चोर होश प्रबक्ता ।', 'पोख्रेल खाते बिषय झुठो बोले अहिलेत सरासर गलत बोल्दैक्स ।', 'कुकुर पत्रकार साला जबर्जस्ती माफ माग्न लगाउने तँ कुकुर', 'साला सब मेयर साब कै परेछ पत्रकार अन्तर बर्ता देखाउदै नत सोधेनन् एउटा भ्रष्टचारि पर्दाफ़ाश गर्दा एति सासती एति जवाफ दिनुपर्ने मेयर साब थूईक नेपाल पिते पात्रुकार कुपात्रुकारिता ।', 'मेरय सायब ठिक यस्ता पित पत्रकार खातेलाइ नाक डाढी भाच्ने हैन गोलि हानु मेयर साएब ।', 'मेयर साहिब बाकि ठिके प्रस्तुत हुनुहुने सहिली चाहि फेरनु होला नेपाल ९० संत पत्रकार जासुशि नेपाल चैवर नेता छेवरा दलाल छन जस्ते हुदाण ग्नेन्द्र साह मुदा झैलेपत्रकार कणला चोर ।', 'राणि छोरा हरु जाबो गल्त समाचार सम्प्रेषण प्रकासित पुत्रकार सम्मान पर्ने', 'पत्रकार सुन्दा माचिस पत्रकार भ्रष्टाचारि हरु सङ्ग चिया पानी खाए बुडेसकाल कुटाइ खालास ।', 'पत्रकार नाम तलुवा साले अङ्ग्रेजी बुझ्छ नाइ पत्रकार ।', 'समस्या भनेर नबुझ्ने गोरु मुजि डण्ठे आई जिपि पद पायो हँ ।', 'ए रन्डी छोरा नेपाली प्रहरी हिमत हामी जस्ता सच्चाँ नेपाली दे बर्दि सक्छस् ।', 'फेरि टीकापुर घट्ना दोहोर्याउन पर्यो सुन चोर हरु ।', 'नेपाल प्रहरी नेपाल ठुलो चोर अनि बलातकारि छन ।', 'साला डिआइजी जागिर खुस्किनु पर्ने रहेछ ।', 'यस्ता पुसिल्लाइ भाला हानु साला कुकुर हरु तेसरी पिते अझ भन्छ पुलिस गल्ती भा भनेर ।', 'नेपाल प्रहरी चोर दलाल भ्रष्ट बलत्कारी समर्थन पुलीस ।', 'की ग्यानेन्द्र साही घतना उथाय थुला मिडिया भनाउदा हरु झोले कुकुर पत्रकार हरु कता मरे ।', 'चोर प्रहरी भस्टचारी प्रहरी घुस्याहा प्रहरी गुन्डागर्दी प्रहरी बलात्कारि प्रहरी ।', 'चोर प्रहरी भस्टचारी प्रहरी घुस्याहा प्रहरी गुन्डागर्दी प्रहरी बलात्कारि प्रहरी ।', 'साला प्रहरी घुसिया ।', 'घटना पुर्ण रुप षडयन्त्र योजना बद्द तरिका भये किनकि सबिन्द्र मिश्र वइड बढी केस नाम खुलाउछ भनेर मुक्य केपिवली सेरे चोर सङ्लन्ता घटना घाटये', 'माैसम बिग्रएकाे पठाईयाे गफ साला भाते ।', 'ठुक् भालुनी रहेछ जनता सेवा ।', 'भाइरल रहर रन्डी कुन पार्टी झोले उक्साए दुओ सय खाएर छि ।', 'भालु आइमाई चाहिने बेला मज्जा थाप्ने बलात्कार ।', 'बौलाएर भालु बरबराएर नांगै हिडीछे पार्टी निस्कासन गर्यो अहिले बौलाऊदै हिडीछे बेश्या लय की आईमाई', 'बौलाएर भालु बरबराएर नांगै हिडीछे पार्टी निस्कासन गर्यो अहिले बौलाऊदै हिडीछे बेश्या लय की आईमाई', 'रन्डी भालु सत्यता ।', 'माव बादी चिक्यो होला तेहा चि हिंसा भएन ।', 'आईमाई पागलखाना लानु पर्न्ने भो तेति बेला चिलाएर मोज गरिस अहिले गरेयो गरेयो हा हा ।', 'अरू जान्दैनो हामी जनता यस्ता खाल कंलड़कित आईमाई हरू समाज बाट बहिष्कार गरौ ।', 'यस्ता मुजी आइमाइ बरू एउटा अड्डा खोलेर बस ।', 'राडी रन्डी बौलायो आफु राम्रो भ ४ चोती हैन १ चोती गर्नै दिन्न थ्यो ।', 'थैत मुजि चिकाउने बेला मजा चिकायो अहिले आएर मिलेन होला अनि दोस लाउदै ।', 'थैत मुजि चिकाउने बेला मजा चिकायो अहिले आएर मिलेन होला अनि दोस लाउदै ।', 'अनुहार सनुहार भालु मुहार', 'उत्तानो भएर थाप्ने अहिले हिँसा ।', 'राडिलाइ ७२साल भुकम्प लगेनौ भगवान् ।', 'मुजी आईमाई फटाई रहिछे', 'साली भालु अनुहार हेरे छस ।', 'अनुहार हेर्दा ठमेल भालू आइमै ।', 'नाक काटीदिनु नेवार हरु जती खेर धर्म सँग यार देश रितोपार्छ ।', 'गान्धी भारत हिन्दु हुदा नाथुराम गोद्से गन्धी गोलि हानी मरे ।', 'नेपाली गहना हिन्दु नेपाल नेपाली सस्कर्ती बिरोधि हरु गोलि हान्न नेपाल नथुराम जन्म आबस्यक ।', 'त्यस देश हत्या हिंसा लुट बलात्कार हाहाकार कोलाहल हुनेछ ।', 'ए मुजि नेवार हरुहो मुजि बाहुन नेता हरु काटेर मारन हौ मुजि ।', 'बाहुन हु बाहुन क्षेत्री नाम कलङ्क हरुलाइ चरम यातना दिएर मारिदिए ।', 'त्याे चाेर हरू कट्टा हन्दा राम्राे ।', 'ति आयोग समिति यात घुस खान्छन यात अर दिन समतिनै भग ई नेता टुडेखेल लगेर गोलि हानु परछ ।', 'हान्छु गोली आयेर चोरहरुलाइ याद गर ।', 'टुड़ीखेल लखेटी लखेटी जुत्ता पिट्नु पर्ने मान्छे केशब बडाल गाउँ टोल समाज घरबार बिगार्ने फटाह आइमाई पद्मा अर्याल ।', 'सोम प्रसाद पाण्डे चाहीं गर्धन भाचीने हान्नु पर्ने सर्बहारा बर्ग नेतृत्व हरू खरब पती भैसके अझ तेस्तो भंछन भंदा हास्यास्पद होला', 'कारयलये धुस मागे चाक आगो लगाइन्छ ।', 'लुट्न लाइसन्स पाए नेता लाखाै लाख जनता मारेर कमाए धनी भएर त्यहि धन रुवाइँ रहेछ ।', 'सरकार अदालत प्रहरी सेना अखितियार सरकार निकाय हरु घुन मुशा देश खोकरो बनायर खाईसकयो जनता शिह बनेर यि मुशा हरु दुला खोदी खोदी मारछन ।', 'सवै भष्ट कानून बनायेर फासि दिनु ।', 'हरू गोली ठोक्नु अनि बल्ल देस मुहार फेर्छ झोले कुकुर कार्यकर्ता सिस्नु पानी लायर लखेटनुपर्छ ।', 'भ्रष्टचारी टुंन्डिखेल ल्याएर झुन्ड्याएर गोलि ठोक्ने कानुन सम्सोधन ।', 'प्रचण्डलाईत १००० टन ढुङगा सङग बाधेर बिच समुन्द्र खसाउदा मात्रै सहिद दोन्दपिडित सिङगो नेपाल् सान्ति पाउछ ।', 'कुलमान देश होनहार महान मानब मनोबल घटाउने सवै कुकुर हरू जसरी घाँटी च्यापेर पैसा उठाउनु भ्रस्टाचार पल्के कुकुर हरू ।', 'तालु खुइले चम्किदै टाउको सिधै गोली हान्नु पर्ने थियोे ।', 'विद्युत महशुल नतिर्ने बिजुली लाइन काट्ने होईन घाटी कातेर फ्याँक्नु यस्ता देश धमिरा हरु बाच्ने अधिकार ।', 'उधोगी बिल तिर्दैनन सिधै बम हान्दा ।', 'जाँठा हरु बम हानिन्छ ।', 'बिधुत महसुल नतिर्ने कारखाना हरु बम खसालिदेउ बिप्लप दाजु ।', 'कुल मान जि तापाई चिन्त नगर्नु जस् जस् बिजुली बिल तिर्दैन मान्छे कुता हरु मरि दिन्छु ।', 'सर्प मरोस् लाठी नभाँचियोस् तेसरी कदम चालियोस् ।', 'सेवा सुबिधा लिएर देश कर तिर्न मरे धिकार मुला हरु चाक बम राखेर उडाउने जस्ता नेपाली धमिरा हरु ।', 'लाईन होईना बिल नतिर्ने उद्योगी घाटि काटनु प्रछ साले खाते हरु ।', 'ऋषि धमलालाइ देख्दा यस् प्रश्न सोधाइ तरिका सुन्दा उडेर गएर यस् नाक डाडी फुटालि दिउ लाग्छ ।', 'दस दुनिया देश बेचुवा हरु ठोक्ने बेला ।', 'धमला हावा प्यार प्यार मुख गुलोकोच दिनुपर्छ ।', 'व्यवस्था फेल झुण्डिएर मर्छ धमला ।', 'भस्टचारि मुजि खुर्सानी नुन हालेर खाद्नु जनता नेपाल सके ।', 'चोर नेता गरे माफ दिने भ्रष्टाचार नेता जुनसुकै जनता सडक तानेर ल्ययेर आगो लाउनु', 'धोबी हान्नुपर्ने गु हरुलाइ ।', 'कुर्सी जन्ता मार्न नेता जात भात धर्म चेन्ज नेता कानुन नेपाल ।', 'भ्रश्ट्चारी हरुलाइ टुंडिखेल ल्याइ झुन्ड्याएर गोलि ठोक्नु ।', 'वाईडवडी खरीद समलग्न भ्रष्टचारी फाँसी दिनु ।', 'जतिसुकै जना मुछिय कडा कडा कार्बाही हुनुपर्छ केपि प्रचण्ड सेर बहादुर जोसु कै नाक डाडी भाच्नु माननीय प्रदीप यादब यक्दम ठिक ।', 'यिन मार्न छिट्टै भगवान श्री कृष्ण जन्म ।', 'पशुपति पोल्ने ठाउँ रे भर्स्तचारि मृत् युडाँडा हजु तेसै अजीवन कैद गरे हजुर बाँकी मुजी सरकार भरस्तचारी रहेछ कस् हल्ने जैल सरकार १ जन नरहने खरेज देश् बाट लखेते समपती जाम गरे ।', 'हिजो बम्म दिदी बैहिनी हुन्न हत्यार भनेर बुरुक बुरुक मिडिया यहि पागल्नी कराए की ।', 'साबीत्री सवेदी मुख् फुट्ने हान्न मन् लाग्यो ।', 'हिजो बम दिदी बहिनिलाइ फसि दिन सावित्री आज दलर बिक्यो ।', 'यिनि हरु निर्मला हत्यारा बम दिदिबहिनी ।', 'जना जिउँदै जलाउनु पर्ने बोली ।', '।', 'बम दिदी बहिनिलाइ खोर लगेर करेन्ट लगाउनु वास्तविक खोल्छन यिनि हरु रुदै नाटक गर्दैछन ।', 'भालुनी सावित्री कुकुरनी मिले रहेछ आजा प्रक्षया थाहा भयो निर्माल बहिनी बलत्कार लगाउने यनि भलु हरु रहेछ पहिला जाती आन्दोलान गरे यनि हरु नाटक रहेछ आजा बल थाहा भयो ।', 'वल्त्कार यि वम दिदी वहिनि गरे', 'वल्तकार हत्या खुलेआम डुलिरहे तिनिहरुलाइ समात', 'ठीकै होला साबित्री युट्युब हेरे कमेन्ट हेरे भनेत झुन्डेर मर्नु पर्ने ।', 'दाेसि हाेईन सावित्री दिनु परछ फासी फासी ।', '२मुखे साबीत्री यदी नजीक ४ झापट हान्थें', 'सावित्री कुकुरनी ल्याए धमला सर एस गाला साला फुट्ने हान्न सक्नु भएन ।', 'साबितृ अनुहार देख्दा बोली सुन्दा अनुहार भरि थुक्न मन लाग्छ जाठी बिदेस जाने केटा हरु बलात्कारी रबि सपोटर सुने ।', 'साबितृ अनुहार देख्दा बोली सुन्दा अनुहार भरि थुक्न मन लाग्छ जाठी बिदेस जाने केटा हरु बलात्कारी रबि सपोटर सुने ।', 'सावित्री सुबिदिलाइ सिदै गोलीहान सरकार ।', 'बम दिदीबहिनी पाता कसेर कोर्ला हाने निर्मला पन्त काण्ड वास्तविकता निस्किन्छ ।', 'पहिला सबित्री छक्का लाइ लात लाएर देश निकाल गर ।', 'हेर पहिला कन्चनपुर गएर बम दिदी बहिनी फासे दे अनि अहिले आएर सावित्री कुकुर्नी मानव अधिकार पागल भन्छ ।', 'ज्यान मार्ने पर्चन्ड अजई मान्छे मार्ने गरछ ।', 'ज्यान मार्ने पर्चन्ड अजई मान्छे मार्ने गरछ ।', 'प्रचण्ड जस्ता विदेशी दलाल आतंकवादी प्रचण्ड नेपाली जनता पत्याउँदैन ।', 'छबिलाल आत्महत्या जेल पाप धुरि बाट कराउछ महाशय याद राखेस हत्यारा ।', 'आतंककारी राजा भुक्न सुरु गर् दलाल साला तहि बना देश', 'प्रचन्डे हत्यारो झुण्डयानु ।', 'प्रचण्ड बिप्लप पार्टि छिटो मारे हुन्थ्यो ।', 'माचिक्ने प्रचण्ड मार्नु ।', 'सबैभन्दा पहिला प्रचण्ड सिध्याउनु जरुरी ।', 'कुकुर हरु सम्पति छानबिन भष्टाचार कुकुर हरु रगासाला झुनडाउनु ।', 'देश जोगाउने राजा अति आबसेक्त्ता नेपाल खुइलायो हत्यारा वर्ष ।', 'गोकुले चुतिया खतरनाक राउन्ड किक हानेर नाँक डाँडी भाँचिदिनुपर्छ ।', 'गोकुले चुतिया खतरनाक राउन्ड किक हानेर नाँक डाँडी भाँचिदिनुपर्छ ।', 'राजा हटेर जन्ता फाएदा भयो जन्ता झन बल्त्कार चोरि बडे चोर कस्तो ३८ कुईन्टल चोरि प्रचन्ड केपि अोलि जना जन्ता अघाए रराज अतिए गनतन्त्र अाए नअातिनु नेपाल गारो हुनथियो ।', 'जेल कोचेर पात्ता फर्काउनु ।', 'अनि हत्यारा ज्ञाने चोर जेल कोच्नु ।', 'नेपकौ केपि कुकुरलाइ गौलि हानुपरछ कुकुर डाकालाइ ।', 'नेता बलत्कारी घुसखोरी मारेउ तिमि हरु नेपाली जन्ता ।', 'ठूलो ठूलो नेता मन्त्री हरू मार्नु परछ ।', 'बिप्लव नेता हरु मकेभन्चाहानछु देश सोजासाज जन्ता केहि नहोस भ्रष्चारि दलाल भुसिया कुकुर हरु ठिक पार्न गोलि ठोक्नु परे ठोक्नुहोस तेस् राम्रो सपोट रहनेछ ।', 'हरू कती मार्ने बिचार किराती ज्यु ।', 'दुष्ट भ्रस्टचारी हरु फाँसी हुनु ।', 'रबिदाई भयो साले नेपाल चोर नेत ओलि सिधाईदिने नया सम्बिब्धान लिउने नेपाल नेता हरु चोर ।', 'चितवन प्रशासन होटल कङ्गारु मालिक समातेर अनुसन्धान गर १ झट् करेन्ट लगाएर हेर दूध दूध पानी पानि छुट्टिन्छ ओकल्नेछ ।', 'रिसि नाक डाडी भाच्नु करोड छुट्टीयार भ्रष्टाचारि ।', 'खाते नाक भाच्नेगरि हान्न जन्ता हेर्न चाहान्छन ।', 'ऋषि धमला नाक डाडि भाच्नै पर्ने कस्तो किच्चक रछ म्या हरामी ।', 'पुत्रकार हरु एकजुट द्वारिका चौधरी भ्रष्ट च्युइक लेख लेख्दैन पत्रकार हरु यस्ता पत्रकार हरु नाक डाडि नभाचेर फुलमाला लगाउने', 'निउ खोज्ने जती सब् दिनुपर्छ दनक ।', 'नाक डाडी हैन ढाड भाच्नु ।', 'चाटुकार पत्रुकार जस्ता नालायक हरु नाक डाँडी भाँच्नु ।', 'श्री श्री श्री ३ रबि लामिछाने महाराजअधिराज सरकार बाट चाहिँ राष्ट्रिय टेलिभिजन बाट भ्रष्टाचारि टुंडिखेल राखेर उडेर गुडेर नाक डाँडी भाच्न मन चै लामिछाने हिट', 'इटहरी मेयर भ्रष्टाचारी संरक्षक पक्षपोषक भतुवा पत्रकार हरु लोपारिदिन्छु चै कानुन हात लिए', 'मेयर ज्यु पत्रकार नाक डारि हैन त्यस जता भाबी लेख्ने हात काट्नु सलाम हजुर देश धमिरा हरू नस्ट आब जन फेसला ऐक दम जरूरी', 'मेयर ज्यु पत्रकार नाक डारि हैन त्यस जता भाबी लेख्ने हात काट्नु सलाम हजुर देश धमिरा हरू नस्ट आब जन फेसला ऐक दम जरूरी', 'खाते पत्रकार नाक डाँडि होईन हात खुट्टा भाँचिदिनु साले कुकुर ।', 'खाते पत्रकार नाक डाँडि होईन हात खुट्टा भाँचिदिनु साले कुकुर ।', 'पत्रकार नाक डारी चै भाचनु पर्नी रहेछ ।', 'साला नालायक तँलाइ भेट्यो तेरै माइक थुतेर तेरो मुख फुट्ने बजाउछु साले बोल्ने शैलि थोप्पो नरहेछ गधा ।', 'मुजि झोले पत्रकार हरु गोलि भुट्नु ।', 'भ्रष्टाचारि पत्रकार नाक डाडी होइन जीउँदै जलाउनुपर्छ रबि लामिछाने आरोप लाउनु आलोचना महापाप ।', 'भ्रष्टचारी घुसखोरी कानुन दायरा लिएर राम धुलाई गर्दा कसो होला मेयर ज्यु ।', 'मेयर साब सहि यस्तै नेता हरू जरुरत नेपाल सलाम द्ववारिका सर नाक हैन ढाडनै भाचनु घुसखोरि जग्गा माफिया भरौटे पत्रुकारनै इ कुकुरहारु छोडनु हुदैन ।', 'भ्रष्ट नेता हरु मर्नेछन ।', 'काङ्ग्रेस भस्ट्चार चोर भनेर कम्युनिस्ट बलत्कार हत्यारा भनेर यस्ता कुकुर हरु भोट दिएर हुदैन हामि सचेत भै सके छौ हुनु चोर हरु पत्यसाप ।', 'कांग्रेस भ्रष्ट भयो कम्युनिस्ट हत्यारा राजा ठिक इ ।', 'प्रचन्ड बिगारेको अहिले नेपाल भर्स्ट्चार बलत्कार हत्या केपि खोजे प्रचण्ड मोड लिन्छ चोर हत्यारा प्रचण्ड नेपाली होइन देशी ईन्डियानि तेस् नेपाली पहिचान कहिले देखाउन खोज्दैना ।', 'प्रचन्ड बिगारेको अहिले नेपाल भर्स्ट्चार बलत्कार हत्या केपि खोजे प्रचण्ड मोड लिन्छ चोर हत्यारा प्रचण्ड नेपाली होइन देशी ईन्डियानि तेस् नेपाली पहिचान कहिले देखाउन खोज्दैना ।', 'सबैभन्दा पहिला जय नेपाल गगन दजु आतंककारी हरु दया माया धर्म सस्कार हुदैन ।', 'प्रचण्ड भ्रष्टाचार दिन हरु नजिक आउदै गान्दै बस हामी छिटै तेरो घर आएर मर्दिने जनता देश जनता ताकत हेर्दै जानु हामी प्रचण्ड सजिलो मर्ने हजर मान्छे मरे हामी अन्तर्राष्ट्रिय अदालत मुद्दा हल्ने ।', 'प्रचण्ड भ्रष्टाचार दिन हरु नजिक आउदै गान्दै बस हामी छिटै तेरो घर आएर मर्दिने जनता देश जनता ताकत हेर्दै जानु हामी प्रचण्ड सजिलो मर्ने हजर मान्छे मरे हामी अन्तर्राष्ट्रिय अदालत मुद्दा हल्ने ।', 'बुढा मारेर खाइस अहिले रास्ट्रपति लाज ।', 'सेर बहादुर जिब्रो लागे करेन्ट बिधा भण्डारी जिब्रो लगाइदिये भय हुन्थ्यो', 'स्पस्ट बोल्ने बुढो हत्या हालिस बोली बुझ्झेस ।', 'रास्ट पति यहि बोल्ने सबे थुक यक नारि भयर मत च्यातेर रास्ट पति बना केपि तेहि तै आफनो सिरिमान हत्या गरे ।', 'जस्ता नारी देश राष्ट्रपति भन्न लाज आफैलाइ श्रीमान हत्या जाठी थुलो लाज ।', 'केपि चोर लागेर श्रीमान मार्ने छि छि तिम्रो दिन ।', 'पोइ मारेर ठाउँ पुग्ने इज्जत था', 'मर्ने बेला बैँस हालेर बूढो हत्या गरौर केपि ओलि सँग रमोलिदै राष्टपति भाकि नखर्मौलि ।', 'जस् कुरो बुझिन्थ्यो उसाइ सिद्ध्याइ दियेउ बुझ्ने', 'रबि सर फसाउने षड्यन्त्र पुडासैनी झुट बोल्न लगाईयो बाच्ने आशा झुट बोलिदिए बोलिसकेपछी मारिदिए सत्यतथ्य यहि ।', 'पत्रकार लियर भिर बाट झारिदेउ यार ।', 'भारत दोक्लाम बिषय सँग जोडेर प्रश्न उठाउने वाईडबडी सँग हाँसोलाग्दो प्रश्न पत्रकार कान उखेलेर उठबस गराएर प्रश्न सिकाउन जरुरी ।', 'मुख थप्पड हान्न पर्नी पत्रकार रैछ खाते ।', 'रबिन्द्र दाई राजनीतिज्ञ हरु मारे महसुस भय जनता कडाई छानबिन होस ।', 'पूण्य दूई झापड कस् हान्ला अनी चूप लाग्छ की ।', 'पुन्य गौतम गाला पुट्ने दिनु ।', 'पुण्य मेरूदण्ड फुस्किने ठोक्नुपर्छ है साथि ।', 'महरा रक्षा गर्दा पुण्य गौतम अन्तर्वार्तामै भेटे दनक ।', 'ई पुन्ने गौतम भन्नेब्यक्ती जिब्रो नकाटेको होला बाउला कुकुर भुकने सहिकुरा कहिलै सत्यकुरा भोल्दैन ।', 'पुण्य काे कानकाे जालि फुट्ने हान्नु ।', 'पुन्डे गाला फुट्ने हाने हेर्न मन ।', 'हान सागर जि साला दशै बस्नी हान्नु पर्यो कुकुर बदि भुक्दै ।', 'याे पुण्य चाक अागाे लगाएर लखेट्नु नचाहिने गर्छस् ।', 'साला झोले पुण्य गाला रन्काउनु पर्ने ।', 'पुन्य झोले लाइ कान जाली फुट ने हान्नु पर्ने ।', 'त्यही भएर अस्ति ज्ञानेन्द्र शाही कुटपिट लाए ।', 'बलात्कारि खोर कोच्नु जस् ।', 'गर् मुखा हानौ हामी आग्रा गर्छौ पुन्य गाग्रा ।', 'पुन्य कुकुरलाइ गुउ खुवाउन अनि यस् सहि बोल्छ ।', 'पुण्य गौतम अम्लो ठडाएर नगर तेरो चोर अम्लो काट्छु दिन सत्य बोल्न नशा फुलाउन पर्दैन झुट बोल्नी ठुलो स्वर ।', 'झोले पुन्ने गौतम लाइ राम धुलाई ।', 'चिक्नेलाइ कन्डो अागो लाऊोन ।', 'पुण्य गाैतम भेट्यो तेहि ठोक्नु यता हाजिर गराै ।', 'बलात्कारी धोति फांसी दिएर बलात्कारि हरु फांसि सजाय कानुन बनाउन पर्यो', 'चिक्ने रन्डि छोरो मास्टर टुडिखेल जिउदै चिरि चिरि नुन खुर्सानि दल्लनु खुकुरि घाटि रेटनु पर्ने धन्यवाद रवि दाई अघि बढनुस् ।', 'चिक्ने रन्डि छोरो मास्टर टुडिखेल जिउदै चिरि चिरि नुन खुर्सानि दल्लनु खुकुरि घाटि रेटनु पर्ने धन्यवाद रवि दाई अघि बढनुस् ।', 'धाेती सले चाेर खाते नेपाल अएर नेपाली चेलीबेटी फासी गनुपछ बलात्कार ।', 'धोति दुईचार लात लगाएर बात गर्नुपर्ने दाइ ।', 'साले इन्डियन मार्नु बस्न तयार जेल मार खाते ।', 'साले इन्डियन मार्नु बस्न तयार जेल मार खाते ।', 'क्यामेरा एकछी बन्द रगत छात्ने हान्नु पर्ने साले कुकुर रिस आज उठे ।', 'साला धोति लाइ करेन्ट लगाएर जुत्ता माला कालो मोसो दलेर भारत लखेट्नुपर्छ ।', 'खाते ढोका खोल्ने बिति कै किक हाने दृश्य हेर्न पाए सारै मजा आउथ्यो', 'रबि सर भयो नेपाल आगो लाक्छ ।', 'धोती सामान्य कारवाहि गरियो पुलिसथाना आगो लागनेछ भारतीय राजदूतावास तहसनहस हुनेछ धोती ज़िन्दा जलाईनेछ ।', 'धोती सामान्य कारवाहि गरियो पुलिसथाना आगो लागनेछ भारतीय राजदूतावास तहसनहस हुनेछ धोती ज़िन्दा जलाईनेछ ।', 'भगवान कसम मलाइ साला धोती नरपिचास मुख हेर्दा भिडियो हेर्दा मै भेटे मै आफै काटेर साला हजार टुत्रा पारिदियर जन्म कैद बस्दाम झै भैसक्यौ ।', 'नेपाल नायक रबि लामिछाने भिडियो डिसलाईक कारबाही हुनु अनि टिचर जिउदै जलाउनु ।', 'जना हरु सङ एक्लै मैदान चाहान्छु बलात्कारि हरु दम गर ।', 'कानुन जिम्मा लगाउनु हात खुट्टा भाच्नु पर्ने ।', 'सत्यलाइ जितेर जस् बाटो काट्छ तेस् हामी खुट्टा काट्छौ तपाईं सत्य बाटो लम्किरहनु होला रबि सर समर्थन ।', 'भोलि सहकारी आगो लाग्ने ।', 'लालि गुराँस जस्ताे राष्ट्रिय फुलकाे बिजेत गरेछ सहकारि याे सहकारि अागाे लगाउनु यस्ताे चाेर दलाल सहकारि चाहियकाे ।', 'जनावर बाच्ने अधिकार होइन कुन पागल एस्लाइ जिउदै खाल्डा पुर्नु पर्ने ।', 'किशोर श्रेष्ठ लाइ भेट्नेवितिकै नाक पच्कने दिन इच्छुक हाजिर गर्नुहोस है ।', 'बिप्लप नेता कर्याकर्ता हरु काता गय यस्ता सहकारी संचालक लगेर झुन्डायर कर्बाही होला अनि नेपाली जनता बिप्लब दिन्छ ।', 'येस्ता ढुङी हरु चाक खुर्सनी दल्नी ।', 'खाते पाता फर्काएर चुट्नु सहि सहि ओकल्छ बुद्ध नाम कलंक फैलाउने कुजात ।', 'आश्रम पैसा खाने ठग यस्ता नचाहिय गफ हान्ने देबक ओटा रामधुलाइ हानुपर्छ ।', 'गुरु हु भन्दै दुनियाँ छोरी चेली योन दुव्र्यवहार छानबिन कार्बाही गरीयोस ।', 'गुरु भ्नाउँदा हरु महिला यौन सोसन गर्दछन् ।', 'रबि गरिब दुखी छोरा चोरी देश बचाउने ९९ नेता पुलिस कानुन गरिब छोरा चोरी मार्ने गरिब आमा कोख खाली गराउने कहिले ।', 'बहुला कुकुर हरु बाँधेर मारिन्छ बहुला नेता हरु यसै की की कसो मेयर ज्यू ।', 'डिसलाईक हरु गधा हरु नेता गोठाला हरु आजै मर साले हरु राम्रो खबर डिसलाईक गर्छन् चोर हरु ।', 'निलो कोटे नाङ्गो परेर कोटेश्वर जाम उभिन लगाउन ।', 'केपि काे भाेले भतुबा काे सुन्दा जुत्ता मुख हानु जस्ताे लागछ ।', 'एकपटक सुर्य पाठक अरिङ्गाल भिडनु मन ।', 'रन्डी छोरो अरिंगाल पाठक लै पाटे मुडेर खुला मंच उल्टो पारेर झुन डाउ ।', 'भस्टचार चोर फटा दलाली नेता बलत्कारी ज्यान मारा सुन तस्कारी नम्बरी ई कानुन नलाग्नी सम्बिधान दिवस शुभ कामना ।', 'गणतन्त्र लोकतन्त्र भ्रष्टाचार बलत्कार मान्छे मार्ने रबि फसाउने ग्यनेन्द्र साही मान्छे खुट्टा भाच्ने येइहो येस्तो गणतन्त्र लोकतन्त्र तिमि हरु गोजि राख जनता चाहादैन ।', 'गणतन्त्र लोकतन्त्र भ्रष्टाचार बलत्कार मान्छे मार्ने रबि फसाउने ग्यनेन्द्र साही मान्छे खुट्टा भाच्ने येइहो येस्तो गणतन्त्र लोकतन्त्र तिमि हरु गोजि राख जनता चाहादैन ।', 'पाठक घांस तलुवा चटुवा बडि बिद्वान बन्न पर्दैन ८ पास हरु घन्टा गर्छन दिबेश जि सहि ख़्याल राख दिन सकिए तिमि हरु फेरि रेलिंग भांचे ।', 'क्रिश्चियन हरु झोले सरकार पशुपति लगेर जलाउनु साले पताकि हरु भाबीमन्त्री प्रधानमन्त्री रबि लामिछाने रास्ट्रपति शेष घले उपराष्ट्रपति शुसिला ।', 'जनता चाहे राजा फर्सी फुटाय झै फुटाउने गणतन्त्र ।', 'आज भोलि भयो नाक फुटाएकाे नेता नाक बक्सिङ्ग हान्छु बस्छ ।', 'खाते नेतागिरि हरु जति कार्यक्रम राखेर समेलन गराउ त्यस बम बिस्फोट गराएर ध्वस्त पार्न मै बम बिस्फोट गराएर ज्यान दिन ससक्छु ता की मेरा सन्तति नेपाली हु भनेर गर्व सकुन ।', 'मुजि केपि चम्चा लाइ गोलि खाना मन लायो', 'ए पुलिस टाउके सगँ पुलिस ज्यादती प्रमाण ।', 'पोखरेल हामी पा कुकुर काम नलाग्ने कुकुर रीबिज लागे अरू टोक्यो र्याबिज सर्छ भनेर झुण्डाएर मर्दा फरक पर्दैन ।', 'हिरासत प्रहरि हिर्काउछ बिना कसुर मै भोगेकोछु ।', 'पही माओवादी गोलि खानु पर्ने बचेछ य विप्लव तिमि ठोक्दौन गोलि ।', 'पही माओवादी गोलि खानु पर्ने बचेछ य विप्लव तिमि ठोक्दौन गोलि ।', 'कुकुर किसोर शेरेस्ठ कम्युनिस्ट खोल ओडेर कम्युनिस्ट बेजत गर्यो यस्लाइ बास कप्ट्यारो हानेर फकलक् कै बनाउन ।', 'कुकुर बिरला झगड़ा चोर हरू बोलन लाज पनी ।', 'यस्ता गद्दार नेता हरु गलत्याएर फाल्नुपर्छ आम जनता मिलेर यस्ता नेता हुन्छन् कुकुर खान नपाए लुछाचुडी ।', 'आत्मा घाती बम ठोक्नुपर्छ ।', 'भ्रष्टाचारि हरुलाइ टुंडिखेल ल्याइ झुन्ड्याएर गोलि ठोक्नु ।', 'सब भष्टचारी टुडिखेल ल्येर गोलि ठोक्ने देश भक्ति चाँहिये नेपाल ।', 'यस्था भ्रष्ट नेता हरुलाइ सिधै इन्काउन्टर पाइन्छ नाइ ।', 'हरु चोर चाक बाट गोलि हानी मुख बाट निकाल्नु बेला छिट्टै आउदै होस गर चोर ।', 'बिप्लब काे पाटि पुलिस अाक्रमण गरयाे ।', 'करोड नेपाली जनता तलब नखायर बचे छन ए नेपाल पुलिस आर्मी हरु जनामुत्ति सेना बर्ष तलब खायर लडे थीए सक्छौ बन्दुक बिप्लप हईना सरकार हान हरू महान मान्निछ नेपाल छिट्टै शान्ति आउने ।', 'जस् मान्छे मार्छ उसै प्रतिबेदन सहि आउछ', 'सत्य सेवा सुरक्षणम आज झुट आक्रमण भक्क्षणम गणतन्त्र नेपाल ।', 'नभए ज्ञानेन्द्र शाहि हिरासत कुटे ।', 'जहि झुट बोल्छ ज्ञानेन्द्र साही हिरासत कुटपिट यत्ना दियो झोले होलि वाइन ।', 'मान्छे हत्यार होलेर हिड्नेछ नेपाल पुलिस गोलि ठोक्नु ।', 'हत्यार बोकेर खुल्ला हिड्ने मान्छे हरुलाइ गोलि ठोक्ने अनि कानुनु दैर ल्याउनु ।', 'बिप्लव पनिं हेरेर बसेछः नठोकेर ।', 'गधा झुट बोल्यो इन्काउटर नाम मान्छे मार्न पाईन्छ मुठभेड मान्छे हात ठाउ भाचिन्छ ।', 'बमवाला पद लोलुप हत्यारा आतंककारी हरु हतियार समर्पण शान्तिपूर्वक वार्ता आउनु होइन यिन चाक बम लगाएर पड्काउनु ।', 'बमवाला पद लोलुप हत्यारा आतंककारी हरु हतियार समर्पण शान्तिपूर्वक वार्ता आउनु होइन यिन चाक बम लगाएर पड्काउनु ।', 'पुलिस जहिलेनि झुट बोल्छ साला ज्ञानेन्द्र साहि हिरा सत कुट्छ कुटे छईन भन्छ साला चोर पुलिस ।', 'याे बिश्वराज पाेखरेल भ्रष्ट पार्टी कै दलाल हाे सब झुट बाेल्दै प्रहरी याे जना बध्ध तरिका गरिए एनकाउन्टर हाे प्रस्ट यस्ता प्रहरी हुनु नहुनु बेस नेपाल प्रहरी मुर्दावाद ।', 'अस्ति भर्खर पोखरा गोलि हानी घाईते बनाए जना ब्याक्ती ।', 'झुट स्थानीय जानी बुझी मारे स्थानीय हरु भनाई ।', 'हामी नेपाली हरुलाइ ज्यान मारा नेपाल प्रहरी चाहिदैन जन्तालाइ सुरक्षा दिने प्रहरी ।', 'सर्लाहि प्रहरी हात खुट्टा ठाऊ भाँच्ने गोलि हानि मार्ने अनि भिडन्त मारिए भनी बिज्ञप्ति निकालि प्रहरी चोखो बन्न खोजे ।', 'त्यसैले माओबादी पोलिश मारे रहेछ ड्याम ड्याम बिप्लव सुरु भो पोलिस मार्न ।', 'त्यसैले माओबादी पोलिश मारे रहेछ ड्याम ड्याम बिप्लव सुरु भो पोलिस मार्न ।', 'सामान्य ब्यक्तिलाइ गोलि चल्यो भन्दै पो भन्छ पुलिस् ।', 'वास्तविक लुकायर हत्यारा सपोर्ट ।', 'नेपाल पुलिस देस आतंक फैलाउने सत्रु फुल्माला स्वागत', '३ थाउ हात भचिए गोली हन्यो नेपाली नागरिक विश्वाश तुतेयो पहिला पुलिस पछी जिउ रछा भन्थे अहिले आएर पुलिस् कल् मार्छ भनेर दराउने पर्ने भयो ।', 'हात मात्रै होइन खुट्टा भाच्नु ।', '१०० झुट बोले प्रहरि प्रबक्ता नेपाल प्रहरी ज्यदति लड्ने बेला अाए ।', 'गोलि हान्यो तिर्थ लाइ प्रहरी चोर होश प्रबक्ता ।', 'पुलिस हासिहासी बोले ए सजाए हुनुपर्छ लुकाएर पुग्छ हामी रगत खोली बगाउन तयार हामी छ्म ।', 'पत्रकार अराजकता गर्दा देस मुठभेड जादैछ ।', 'यथार्थ प्रहरी संस्था नमान्ने भोली यहि एभिन्युज कार्लय बम आतंक अनि जोगाउन जान्छ थाहा ।', 'भ्रश्टचारि लाइ उडिउडि हान्न्न हाम् पाइन्छ नाइ', 'गलत् पत्रकार अनी घुस्खोरि हान्नै ।', 'मियर ज्यु नाक होइन पत्रकार् गल्त लेख्ने हात जिब्रो काट्नुपर्छ सलाम ।', 'धन्यबाद मेयर यस्तै हुनु यस्ता घुसखाेरि दलाल हरु नाककाे डारि हाेईन उफ्रि उफ्रि घुमि घुमि लाता हानेर ढाड भाच्नु ।', 'धन्यबाद मेयर यस्तै हुनु यस्ता घुसखाेरि दलाल हरु नाककाे डारि हाेईन उफ्रि उफ्रि घुमि घुमि लाता हानेर ढाड भाच्नु ।', 'भ्रष्टाचारी फुलमाला स्वागत गरेकाे भऐ चर्चाक अाउने थिऐन थारूकाे छाेराे सिधा जाने काे राम्रो भाे मेयर जिउ भ्रष्टाचारी भाटे कर्बाही गर्नुपर्नेछ धन्यवाद मेयरजिउ ।', 'लोपार्नु पर्नी नेक्ची रैछ मेयर साब ।', 'पत्रकार सुन्दा लाग्छ मेयर जग्गा बेचेर पत्रकार नाक भाचे ।', 'भ्रष्टाचारी नाक डाडी भाच्न मन तेही उडी उडी ।', 'अति पछी मार्न मर्न पछी पर्दैन मान्छे नाक भाच्नु पर ।', 'अति पछी मार्न मर्न पछी पर्दैन मान्छे नाक भाच्नु पर ।', 'मेरय सायब ठिक यस्ता पित पत्रकार खातेलाइ नाक डाढी भाच्ने हैन गोलि हानु मेयर साएब ।', 'मेरय सायब ठिक यस्ता पित पत्रकार खातेलाइ नाक डाढी भाच्ने हैन गोलि हानु मेयर साएब ।', 'पित पत्रकारिता नाक हड्डी भाचिदिने ।', 'अत्ति भ्रष्टाचारि नाक हड्डी मात्रै होइन मार्दिनु ।', 'अत्ति भ्रष्टाचारि नाक हड्डी मात्रै होइन मार्दिनु ।', 'भस्ट्र्चार प्रमाणित जहा भेटिन्छ कालोमोसो दलेर टिन ठोक्दै बजार घुमाए कानुन करोड खाए लाख लिएर उन्मुक्ती पाउछन् कानुन ।', 'मेयर काे सहि जज् भनेपनि भ्रस्टचारि पिटेरै तह लगाउनुपर्छ साले हरु मेयर साहब जिन्दावाद ।', 'मेयर अध्ययनलाइ सलाम शैली अलिकति परीवर्तन परो भष्टचारी लोप्पा होइन गोली ठोक्नु ।', 'जबर्जस्ती माफी माफी यस् पानी नाक डाटि बाच्नु की', 'पत्रकार नजिक सिधै नाक डाडि भाचिदिन्थे ।', 'पत्रकार सुन्दा माचिस पत्रकार भ्रष्टाचारि हरु सङ्ग चिया पानी खाए बुडेसकाल कुटाइ खालास ।', 'उत्तर कोरिया किमजोङ्ग अराजक रोड लगेर गोलि हान्छ ।', 'भ्रष्ट अराजक हान्नै ।', 'छाला उतारेर लौ झुन्डे झै झुन्डाउनु ।', 'नकुटे खुट्टा भाँचियो शरीर भरि निल डाम ।', 'नकुटे ज्ञनेन्द्र खुट्टा अौला फुट्यो', 'उस् ढाड निलडाम भयो', 'खाते पुलिस भ्रष्टचार समर्थन रहेछ भ्रष्टाचार उठे देश भकति ज्ञानेन्द्र फसाएर मार्ना खोजी रहे खाते भेटीयो मारी दिनु ।', 'बर्दिवाला गुन्डा मुर्दाबाद ज्ञनेन्द्र साही जिलाइ यातना दिने गुन्डा प्रहरिहरुलाइ बर्खास्त कारबाहिगर ज्ञनेन्द्र साहि लगाय झुठा मुद्धा खारेज गर ।', 'प्रहरी एदि ग्यानेन्द्र साही लाइ यातना दिय होइन कस् गर्यो प्रहरी निकाय लाइ छान बिन निकाय नेपाल चोर मै चोरे कहिले भन्ला ।', 'यस्ता पुसिल्लाइ भाला हानु साला कुकुर हरु तेसरी पिते अझ भन्छ पुलिस गल्ती भा भनेर ।', 'प्रहरी नकुटे अाफै त्यस्तो अबस्था भयो ज्ञानेन्द्र शाहि ।', 'नेपाल प्रहरी लुटेरा सून तस्करी सुन्तली धामि बलात्कार सोझासझा जनता मार्छ अङ्गभङ्ग पार्छ यतना गाजा तस्करी आफै निर्मला पन्त हत्यारा लुकाउछ भन्नू भयो', 'डिआई जि झुटो बोल्दै छँस ज्ञानेन्द्र शाई तिमि हरु मिलेर कुटे ।', 'डिपार्टमेंट बचाउन गलत बयान जनता सुरक्षा दिन मरूनजेल कुट्ने पुलिस काम ।', 'ग्यानेन्द्र शाही लाइ कुटपिट गर्यो जवाफ दे ।', 'प्रहरी हिरासत लिइसके मान्छे नागरिक शान्ति आन्दोलन व्याक्तिलाइ त्यसरी मरणासन्न कुट्न कुन कानुन कति नम्बर दफा प्रहरी प्रवक्ता जि', 'रेशम चौधरी भाला रोपे कारण यहि रहेछ ।', 'जन्ताकाे सुरश्रा एउटा महिला बिच बटाे खलासि बाटा कुटिनछिन अनि काहा सुरश्रा ।', 'छोराछोरी पिटे पो गल्ती भन्नु', 'प्रहरी यातना कालो बुट जुत्ता मुटु किड्नी', 'छाती हान्ने काम', 'ईन्स्पेक्टर भाई छात्ती भरि बुट हाने आहि आँखा झल्झलि', 'यातना ज्ञानेन्द्र शाही शरीर हेरुम ।', 'भ्रष्टाचारी घुस्खोरी नेपाल प्रहरी भाला मत्तितेल लगाएर टिकापुर जीउँदै आगो लगाउनुपर्छ जनता हरु ।', 'हिरासत यातना हैन प्रहरी भ्रष्टाचार प्रहरी आखा फुटे खुट्टा औला फुटने कुटपिट गरे यस्ता प्रहरी फासी दिनु ।', 'हिरासत यातना हैन प्रहरी भ्रष्टाचार प्रहरी आखा फुटे खुट्टा औला फुटने कुटपिट गरे यस्ता प्रहरी फासी दिनु ।', 'शेरधन साँच्चि कै यौन हिंसा गरे त्यस छाला तारेर भित्ता टांग्नु ।', 'शेरधन साँच्चि कै यौन हिंसा गरे त्यस छाला तारेर भित्ता टांग्नु ।', 'बिहे खोजे रहेछ सुद्दी नगर्ने मिडिया यौन हिंग्सा बेला चाहि मिलिहाल्छ की भनेर चुप बसे रहेछ ।', 'भालु आइमाई चाहिने बेला मज्जा थाप्ने बलात्कार ।', 'कम्युनिस्ट जता हिंसा बलात्कार हत्या', 'सम्पुर्ण नेपालि हरु गुठी बिधेयक बिरोध गरिनुपर्छ ।', 'बन्जाडे मुला अलिक ठुलो नेता हरुलाइ लेउनु हौ ।', 'गूठी जज्गा घर मान्छे पैसा बिदा गरिदेउ गग्जा दिने हैन ।', 'गूठी जज्गा घर मान्छे पैसा बिदा गरिदेउ गग्जा दिने हैन ।', 'काठमाडौँ गुठि संचालन प्राय किसन हरु गरिराखे भूजनु पर्यो स्वोर्गद्वारी समस्या उतै समाधान काठमाडौँ कोठा होइन ।', 'भ्रष्ट चोर दलाली हरु मठ मन्दिर गुठी ब्याक्तीगत नाम गरिए सरकार ठोस कदम चालोस ।', 'हाम्रा मठ मन्दिर गुम्बा धर्म सस्कृति धाेस्त पारेर ईनि हाेलिविन हाेचिविन काे मुत खाने हरु ख्रिस्चियन चर्च बनाउन खाेजेकाे नपालि जनता मिलेर देस निकाला ।', 'समस्या समाधान भ्रष्ट राज्य सत्ता सदा अन्त्य हौ ।', 'गुठि हाेईन जमिन राजकरण अावस्कता ।', 'यातना दिन आउदैन मलाइ बोलाइयोस ।', 'नेपाली ठुलाे जात सानाे जात बनाउने मान्ने धर्म सस्कृति हरु बहिस्कार', 'राज्य आफैं अन्तरास्ट्रिय क्रिश्चियन एजेन्ट बनेर होलिवाइन सम्मेलन कोरिएन क्रिश्चियन बिश्वबिद्धालय क्रिश्चियन धर्म फैलाउन सहयोग गरेबापत भनेर दिय पदवी थाप्छ सयौं क्रिश्चियन धर्मपरिवर्तन लगानी संस्था दर्ता दिन्छ यहि सरकार नेपाल परंरागत धर्म संस्कृति रितिरिवाज जोगाउँछ भन्नू एउ टा बेकुफी मात्रै सम्पुर्ण सनातन धर्मावलम्बी सडक आउनुपर्छ ।', 'ठुला ठुला उद्योग निर्माण गर ।', 'उठ नेवार दाजुभाइ दिदीबहिनी सस्कृती बचाउन उठ दलाल सरकार काठमाडौं नेवार समुदाय सस्कृती मेट्ने कुचेस्टा गरिस ।', 'डा सुरेन्द्र केसी ज्यु ल्याऊनुपने ।', 'कांग्रेस कम्युनिष्ट नाम यि लुटेरा हरु जतिसक्दो छिटो लखेटनु पर्यो ।', 'देश सक्नु लाग्यो पाकिस्तान इमरान नेता खाँचो ।', 'शुरूवात अनुहार नहेरी सहि नतिजा राष्ट्र पक्ष चाडो आउनु पर्यो ।', 'केशब बडालभन्ने जन्तु च्यानल कहिल्यै नबोलाउनुहोस कहिल्यै साचो बोल्दैन मन्त्री अर्याल भु माफिया कै पक्ष छिन यस्ता मन्त्री', 'जल जमीन जंगल पूर्णरुपम राष्ट्रीयकारण गरौ भू माफिया सदाकालागी अन्त्या गरौ ।', 'जल जमीन जंगल पूर्णरुपम राष्ट्रीयकारण गरौ भू माफिया सदाकालागी अन्त्या गरौ ।', 'तिनै पाती चोर इनी हरू जन्ता मिलेर जेल हाल्न ।', 'लिनुस बिष्णु पाैडेल सच्चा ।', 'जेल हाल्नु ।', 'पूरा जग्गा फिर्ता लिनु', 'चोर छन यिनी हरु कड़ा कड़ा कर्बाही होस ।', 'यस्ता गैरजिम्मेदार चोर टीवी नेपाली जनता नदेखाऊन अनूरोथ ।', 'सोमे माचिस कार्यक्रम बोलाउनु हुदैन ।', 'पन्चायत यता नेता हरु सम्पत्ति सुदृढीकरण हुनुपर्छ ।', 'भ्रष्टाचार विरुद्ध नेताहरुलाइ खरो प्रश्न जनतालाइ सुसूचित गर्नुहोला ।', 'देश बिदेश रहे आम नेपाली दाजुभाइ दिदिबहिनी हरु मिलेर आफु आफु सचेत भएर नेकपा काङ्ग्रेस लगायत संसदवादी दल हरु उत्तानो चित बनाउन सक्नुपर्छ ।', 'अनुहार देख्न परोस ।', 'हुनुपर्छ देश चोर भ्रष्ट घुसखोरी दलाल हरु ल्याउनु ।', 'सोम खाते दलाल जहा भेट्यो तेही कालो मोसो दलेर जुत्ता माला लगाएर सहर घुमाउनु यस्ता दलाल ल्याएर जनता यस्ता नरपशु अनुहार नदेखाउनु होला ।', 'सोम प्रसाद पाण्डे १ नम्बर दलाल यस्ता मिडिया नबोलाउनु कार्यक्रम विषय आर्को तिरा मोडिन्छ ।', 'बिचार राम्रो लाग्यो सुरन्द्र भण्डारी ज्यु अघि बढनु जनता अबस्य मिल्नेछ ।', 'हरू गोली ठोक्नु अनि बल्ल देस मुहार फेर्छ झोले कुकुर कार्यकर्ता सिस्नु पानी लायर लखेटनुपर्छ ।', 'भ्रस्टाचारी कारवाही गर काग्रेस होकि कम्निस्ट नेता होकि कार्यकर्ता वा कोहि ।', 'बिदेश दाजुभाइ दिदिबहिनी हरु समेट्नु अनि देश बेचिसकेउ अजिङ्गर हरु ।', 'सुरेन्द्र भन्दारि सहि भन्नू भो साला रारिका बान चोर नेता हरुलाइ तुधीखेल लगेर गोलि थोग्नुपर्छ ।', 'पुरनो नेता पार्टी हरु जनता खारिज जरुरी ।', 'भ्रष्ट गोरु हरुला नौडाडा समुन्द्र पारी नकटाई जनता बिकल्प जागौ जागौ बेलै जागौ ।', 'दिन आउन नदिन सम्पत्ति सुदि करन आयोग निस्पक्ष जनता माने मानिस नियुक्ति गरिदिन पहल अनुरोध गर्दछु ।', 'नेपाल कुनैपनी पोल्तिकल पाति खारेज नया नागरिक पार्ती खोल्नुपर्यो बिदेस रहे नेपालि हरु भोत दिन मिल्ने नियम गरौनुपर्यो तेस्पोछी जनता चाहान्छ्न भनेरत ।', 'नेपाल कुनैपनी पोल्तिकल पाति खारेज नया नागरिक पार्ती खोल्नुपर्यो बिदेस रहे नेपालि हरु भोत दिन मिल्ने नियम गरौनुपर्यो तेस्पोछी जनता चाहान्छ्न भनेरत ।', 'सोम भतुवा लाइ मिडिया लाउनु कान्तिपुर ।', 'भ्रष्टचारी टुंन्डिखेल ल्याएर झुन्ड्याएर गोलि ठोक्ने कानुन सम्सोधन ।', 'रबिन्द्र मिश्र ज्यू जनता सभ्य बौद्धिक भषा बुझ्न छोडे लाग्छ ।', 'हास्यव्यङ्ग्य चुट्किला उखानटुक् हरु सिक्नु पर्यो ।', 'मत पत्र नो भोट ब्यावस्था हुनु ।', 'हामी बदलिनु जरुरी ।', 'आउनुस मिलेर हातेमालो गरौँ ।', 'विरानो विदेश बस्ने रहर परिवर्तन खातिर आउदो चुनाव परिवर्तन बाहक रोजौं ।', 'ह्जुर साहास आइडिया बढ्दै जाओस ।', 'एकदमै सहि रबिन्द्र सर हजुर अगाडि जाँदै गर्नुस हाम्रो सपोर्ट हजुर ।', 'देश सुशासन समृद्धि यस्तै अलगधार राजनीति समर्थन गर्नै ।', 'अन्तरबार्ता हेर सुरेन्द्र कमरेड ।', 'रबि लामिछाने लिएर अाउन साझा पाटि ।', 'पट्क हामी साझा पार्टी दिनु ।', 'दुरि बलियो लामो तय ।', 'राम्रो काम जानुहाेला समर्थन रबिन्द्र सर ।', 'एकचोटी दिएर हेरौ साझा पार्टि अनि नगरे खण्ड भनौ पार्टी चेन्ज गरौ अबिस्वास गरौ ।', 'अव आउलो मंगशिर १४ चुनाव रविन्द्र मिश्र कास्की देख्न पाइयोस् ।', 'नेपाल् इम्रान खान रबिन्द्र मिस्र मै चिनौ ।', 'आशा किरण तपाईं राम्रो काम जानु होला ।', 'साझा पार्टी अाउ चाँडै नेपाली हरु माझ ।', 'चाडैं फेरि बोलाउनु होला ।', 'रविन्द्र मिश्रकाे हरु हाेअाैँ ।', 'आम नेपाली दाजुभाइ दिदीबहिनी आम बुबा साझा पार्टी सदस्य बनी देस बिकास अगाडि बडाउनु ।', 'सालिन ब्याक्ती रबिन्द्र सर सिर्जनात्मक सोचाइ लागन आग्रह ।', 'राम्रो काम राम्रो बिचार हामी बुद्धिमान जनाता कदर ।', 'पाटिलाइ सहयोग भोट ।', 'पाटी बिदेश रहे सम्पुर्ण नेपाली भोट हाल्न पाउनु अनि पछाडि सम्पुर्ण उच्च तह रहे ब्यक्ति हरु सम्पत्ति छानबिन यश सिद्धांत ठिक ।', 'यिनि दलाल हरू गर्दा नेपाल लोड सेडिङ् यिनि हरू ठिक पार्नु कुलमान जि ।', 'कुलमान जी अगाडि बढ्नुहोला ।', 'लाएन कात्छौ भबिस्य भनेर हास्ने चोर चोरी मुद्दा हाल्नु कुल्मान सर हामी हजुर छौ ।', 'कुलमान सर लाइ उज्यालो नेपाल धन्यबाद भनेर सुरु गरम पत्रकार दाजु ।', 'कुलमान सर बेज्जत नगर्नुहोस् पत्रकार ज्यु ।', 'कानुन थाहा पाइन भन्न मिल्दैन गैरकानुन बिधुत कट्नुस कुलमान सर ।', 'यस्ता कार्यक्रम सुरेन्द्र केसि बोलाउनु पत्रकार जिउ यस्ता दलाल थग हरुलाइ ठिक पर्नु ।', 'सभ्य नागरिक सिकौ ।', 'कुल मान सर सहयोग गरौ ।', 'सर्प मरोस् लाठी नभाँचियोस् तेसरी कदम चालियोस् ।', 'उद्योग होस सर्बसाधारण बराबर चार्ज लगाउनु कुलमान सर बिजुलि बिल नतिर्ने लाइन काटिनु तब बल्ल देस आगाडि बढ्ने ।', 'कुलमान सर तपाईं भ्रष्ट टसमस भयो देश दुख पाउने पछी नहट्नुस हिजो काखी च्याप्ने त्यस्ता कोहि छ्न प्रम नहोस् नाङ्गो पार्नुस ।', 'कुलमान सर तपाईं भ्रष्ट टसमस भयो देश दुख पाउने पछी नहट्नुस हिजो काखी च्याप्ने त्यस्ता कोहि छ्न प्रम नहोस् नाङ्गो पार्नुस ।', 'कुन देस सङ्हियता काम रिसि जि बुज्नु पर्यो आचार्य जि सहि ।', 'यस्ता जनता जागृत गराइ रहनु होला पछी मिडिया आउनु भयो ।', 'बिचार राख्दिनुस तन्र जनता दुख पाए ।', 'भिमार्जन ज्यु हजुर सहि छन राष्ट्र राष्ट्र बासी सहि मार्ग दिनुस है देश गुम्नु हुँदै हामी छौ ।', 'भिम अर्जुन जी तपाईं यक राजा भेट्नुस ।', 'यि दुइटा ल्यएर खार्नु पर् ।', 'नेपाल राज तन्त्र जरुरत ।', 'राजा आऊनू विकल्प ।', 'धमला हावा डाः भिमार्जुन सर सहि याे संविधान फाल्नु ।', 'रिसि १ टा प्रश्न गर खरो बा की अरुलाइ बोल्न देउ ।', 'अनपढ हौ गेस्ट बौद्धिक हुन्छन हेक् रहोस ।', 'पाखण्डी पत्रकार अल्लि सभ्य भएर अथिति सम्मान गर यार ।', 'भिमार्जुन सर धमला दाजु अन्तरबार्ता दिनु गलत ।', 'संघिय व्यवस्था हालत टिक्दैन हाम्रो देश थेग्न सक्दैन', 'बोल्न देउ अतिथी ।', 'हामी ३ करोड नेपाली अखण्ड येक ढिक् नेपाल हुनु पर्यो ।', 'नेता बुझ्नु होस ।', 'धमला बोल्न देउ बौद्धिक डा आचार्य प्वाक प्वाक नबोल ।', 'धमला बोल्न देउ बौद्धिक डा आचार्य प्वाक प्वाक नबोल ।', 'भिमार्जुन ज्यु अभिव्यक्ति सान्दर्भिक हिजो भयो थाहा भएन अव हामी वुझेर देश वचाउन वनाउन लाग्नु जरुरी ।', 'डा साब सहि मुलुक सङ्घियता चल्दैन बिकल्प खोज्नै चोर छाडा तत्र त्याग्नै ।', 'डा साब सहि मुलुक सङ्घियता चल्दैन बिकल्प खोज्नै चोर छाडा तत्र त्याग्नै ।', 'विचार उच्च राख्नु होला सर ।', 'धिमे बाजा बजाएर राजावादी हरु खेद्नुपर्छ आदिवासी नेवार जगाएर सामन्तवाद मेट्नुपर्छ प्रतिगामी तत्व हरु ४ भञ्ज्याङ कटाउनुपर्छ राजतन्त्र चाहने हरु साउदी अरब पठाउनुपर्छ रगत आर्जे गणतन्त्र जुगजुग चल्नुपर्छ सडकछाप मण्डले हरु कालोमोसो दल्नुपर्छ ।', 'संघीयता देस तुक्रेने हैन चोर हरु लुतेर सक्ने भयो देस तेसै संघीयता खारेज जरुरी नेपाल ।', 'लुटेरा हरु कुनैपनी लूटन दिनु हुदैन भयो नेपाल् हिन्दु रास्ट्र घोषणा धार्मिक संरक्षक राज सस्था सहित कार्यकार्य प्रधानमन्त्री व्यवस्था हुनु विकल्प ।', 'अरिंगाल पाल्ने काम संघीयता खारेज गरौँ ।', 'डा साब १०० सहमत हुँदै संघियता खारेज गरोउ पुर्ब राजा पुनर्स्थापना गरोउ टन्टै साफ ।', 'खारेज ।', 'भिमार्जुन सर विश्वकाे इतिहास हेर्नुस् रे छेउ धमाला जि चाकरीवाद पत्रकारीता नगर्नुहोस् पढ्न जरुरी ।', 'भिमार्जुन सर विश्वकाे इतिहास हेर्नुस् रे छेउ धमाला जि चाकरीवाद पत्रकारीता नगर्नुहोस् पढ्न जरुरी ।', 'एकाग्रता सोच बिकास अन्तर्वाता दिनुहोस ।', 'सोध्ने तरिका कडा छन कार्यक्रम राम्रै बोलेर हुदैन काम देखाउनुस', 'सिक्नुस रबि लामिछाने सङ् ।', 'ऋषि जि० कार्यक्रम लामो भयो मिनेट बनाए अझ प्रभावकारी हुन्थियो', 'तारिफ अाले जि अाफ्नाे देश भ्रष्टाचारि पाखा लगाउनुस अाजिवन राजनीति बन्देज लगाउनुस ।', 'तारिफ अाले जि अाफ्नाे देश भ्रष्टाचारि पाखा लगाउनुस अाजिवन राजनीति बन्देज लगाउनुस ।', 'ऋषि बाबू अलिक बिस्तारै बोल्न सकिन्न हामी बहिरो ।', 'पान्दे लाइ बोल्न दे धमला ।', 'बिस्तारै बोल्नु हवस् हौ बरिस्ठ जिउ हरु कति बेसि पेसर ओप', 'जोसु कै भएनी भ्रस्टचारी चै छोड्नु हुन्न है ।', 'बम दिदी बहिनी नार् टेस्ट गराउनु सब ओकल्छन साचो', 'साबितृ सुवेदी कार्बाही हुबु कालो मोसो दलेर नेपाल घुमाउनु दलर बिक्यो ।', 'धमाला सर जाना एक्लै एक्लै राखेर सोद पुछ गरे हुन्थ्यो ।', 'हावा स्टाटस राख्नु भएन धमला जी ।', 'अहिले सर्कार केहीकाम गर्देन भ्रष्टाचार ठिकं भाछ राजा ल्याउँने भ्रष्टाचार जेल हाल्नु ।', 'देश राजसंस्था ल्याउनै राजा ठाउ हिमानी शाहा हुनुपर्छ उस् उन् छोरा बनाउनु ।', 'देश राजसंस्था ल्याउनै राजा ठाउ हिमानी शाहा हुनुपर्छ उस् उन् छोरा बनाउनु ।', 'देश राजसंस्था ल्याउनै राजा ठाउ हिमानी शाहा हुनुपर्छ उस् उन् छोरा बनाउनु ।', 'राजा अाउनु परछ जशरि भयपनि ।', 'हैन प्रत्येक घर बाट जना निस्किनै ।', 'साला कुकुर प्रचण्डे खाते तेरो खरानी दिन आइसक्यो नभुक छोएर देखा राजालाइ तेरो चाहिँ बकबास बन्द गर ।', 'गणतन्त्र होइन छाडा तन्त्र भय जनता राजा आउनु ।', 'प्रचण्डे दुवाई रहे २१ अर्ब सरकार जफत भुकम्प पिडीत हरू बाढी डुबान पिडीत हरू पुनर्स्थापन लागी खर्चिनु ।', 'तपाईं भन्न सिक्नुहोस पत्रकार ज्यु राजा उहाँ ल्याङ्गफ्याङ्गे लफङ्गो मन्त्री हैन ।', 'देश विकास हुनुपर्छ कुशल कार्यशैली राजा आउनु हिन्दु राष्ट्र सहित संघीयता पक्ष मिलेर देश बिकास प्राथमिकता दिनुपर्छ ।', 'देश विकास हुनुपर्छ कुशल कार्यशैली राजा आउनु हिन्दु राष्ट्र सहित संघीयता पक्ष मिलेर देश बिकास प्राथमिकता दिनुपर्छ ।', 'देश विकास हुनुपर्छ कुशल कार्यशैली राजा आउनु हिन्दु राष्ट्र सहित संघीयता पक्ष मिलेर देश बिकास प्राथमिकता दिनुपर्छ ।', 'मिडिया खुलेरै राजा समाचार सम्प्रेषण गर्नुपर्यो', 'नेपाली देश राजा कमि महशुस भये हुना राजा आउनै ।', 'पुश्पकमल दाहाल ज्यु कमेन्ट हरु हेर्नुस लाखौ जनता हजार जनता प्रणाली पक्ष्य छैनन ।', 'अनि एउटा स्वतन्त्र व्यक्ति राष्ट्र प्रमुख बनाउनु ।', 'राजा आएर वुद्धिजीवी वर्ग लिएर वढ्नुपर्छ ।', 'सहि सदुपयोग ।', 'संका जनमतसंग्रह ।', 'चोर नेता हरू जेल कोचेर हरु पैसा देश विकास ।', 'राजा आउ देश बचाउ प्रचन्ड् चोर डाँ देश बाटा भगाऊ ।', 'चोती राजा अवसर दिनुपर्छ राज्य संचालन ।', 'हेर भुलेर जङ्गल नबस पुलिस आर्मी नमार तिमिहरुलाइ मिल्दैन जन्ता ।', 'भुलेर नगर्नु निमुखा जन्ता असर पर्ने काम ।', 'बिप्लप सङ मिल्न जाउ यिन जेल हाल बेतुक बोल्दै नहिन ।', 'पनी सडक आएर भ्रष्टाचार हिंसा हत्या अराजकता बिरोध पर्ने ।', 'नारायण सर हजुर मान्छे नेपाल नेपाली अभियान आउनुपर्यो ।', 'संघीयता धर्म निरपेक्ष खारेजी हुनु देस बचाउने राज सस्था फर्काउनु अति आबस्यक ।', 'हाे प्र भएर काम देखाउनु पर्याे नारायण मान ज्यू ।', 'तसर्थ चरित्र दाग लाग्ने काम हुँदैन ।', 'नारायण मान ज्यु नमस्कार तताउनै जनता लाइ ।', 'तेरी सुड्डो अन्तरवार्ता दिन आलोचना मात्रै हुदैन विकल्प समाधान उपाय खोइ दिन सके अन्तरवार्ता तार्किक निचोड दिन सक्ने हुनुपर्छ ।', 'ब्याबस्था हाम्रो नराम्रो पोल खोलिन लाग्यो भनेर राजा आउनु पर्ने धर्म निरपेक्ष खारेज हुनु पर्ने ।', 'ब्याबस्था हाम्रो नराम्रो पोल खोलिन लाग्यो भनेर राजा आउनु पर्ने धर्म निरपेक्ष खारेज हुनु पर्ने ।', 'तपाइँ हरु पायो तेहि हेडिङ नराख्नुस', 'खेती नगरौं', 'आजभोलि जिबन उस्तै रहनु होल ।', 'जसरी नबद्लिनु होला ।', 'रबि दाजी बन्नु है पत्रकार हरु ।', 'समचार बनाउदा हेडलाईन बिगारेर बडाउने काम नगर्नु होला ।', 'डिस लाइक लाइ देश निकाला ।', 'जात धर्म असर नपर्ने तरिका एउ टा एडेन्डा बनाउनुस अनि त्यस्तो एउ टा नया पार्टी निर्माण गर्नुस जनता हजुर भोट दिनेछन हामि प्रधानमन्त्री हेर्ने ठूलो सपना जय नेपाल जय रबि सर धन्यवाद मदन क्यानडा नेपाल युनिट ।', 'जात धर्म असर नपर्ने तरिका एउ टा एडेन्डा बनाउनुस अनि त्यस्तो एउ टा नया पार्टी निर्माण गर्नुस जनता हजुर भोट दिनेछन हामि प्रधानमन्त्री हेर्ने ठूलो सपना जय नेपाल जय रबि सर धन्यवाद मदन क्यानडा नेपाल युनिट ।', 'मन पर्दैन राजनीति नगर्नु रबि दाई चुनाव भोट उभिनु है बरू अलि छिटो ।', 'राजनिति आउनु होस ७ साल फहरिए घर तारे झणडा झिक्छु तपाईं पार्टी झणडा फहराउछु ।', 'अँ युवराज भाइ याे जिवनकाे भाेगाई हाे निरास नबन्नु रबि भाई हेरेर अगाडि बड्नुहाेस हिन्तावाेध मान्छे कहिलै अगाडि बढाउदैन उल्टै सडाउछ गलाउछ मात्रै ।', 'अँ युवराज भाइ याे जिवनकाे भाेगाई हाे निरास नबन्नु रबि भाई हेरेर अगाडि बड्नुहाेस हिन्तावाेध मान्छे कहिलै अगाडि बढाउदैन उल्टै सडाउछ गलाउछ मात्रै ।', 'रबि दाई हेरे मुस्कुराउनु अगाडि ।', 'समर्थन हरु जती आन्दोलन ग छन सम्पुर्ण रिहाई माग ।', 'देश चलाउनु ।', 'राज गद्दी पहिर्याउन अबेर नगरौं ।', 'रबि दाई पहिला किशोर श्रेस्ठ कुकुर नङाउनु पर्यो ।', 'तिनीहरुसङ सचेत रहनु हाेला मेराे हजुरलाइ जानकारी हाे मलाइ शिकाउने भनेर दु ख नमान्नुहाेला ।', 'हाम्रो रबि दादा लाइ प्रधानमन्त्री बनाउन हैइ साथि हरु ।', 'रवि लामिछाने रमेश प्रसाईं अपिल त्रिपाठी सहितकाे जनता मान्य पार्टी खाेल्नुपरयाे ।', 'बधाई अस्मिता नानि बोलाउनु राम्रो प्रेसमिट ।', 'देश समृध्दि बनाउने रबि हात चाहाना चाडै प्रधानमन्त्री भएर २०४६ साल देखी भ्रष्ट नेता देखी कर्मचारी जेल हाल्नु ।', 'रबि सर जनता प्रधानमन्त्री बनौनु', 'रवि जि अध्भुत क्षमता दक्षता स सम्म्मान अझ बोल्नै शैली वा', 'लाग्छ जन्ता चायो जन्ता भावना बुजेर एउ टा सच्चा देश प्रधान मन्त्री हुनै रबि सर हजुर ३करोडौ जन्ता समर्थक ।', 'पत्रकार भएसी अबस्था सत्यतथ्य देखाउन सक्नु ।', 'तपाईं अाउनु पर्याे राजनिती ।', 'जय रबि जय नयाॅ नेपाल हुनेछ रबि दाजु हामि करोड जन्ता हरु प्रधानमन्त्रि बनाऊनपछ रबि दाजु दिदि बैनि दाजु भैई बिदेशि भुमु पसिना पोखाऊन पनेछैन आसछ जय रबि दाजु ।', 'रबी जी चितवन लाखौ जनता हरू भेंटी सम्बोधन गरनुस ।', 'रबि जी प्रधान मंत्री हुनै ।', 'अादर्श नागरिककाे प्रतिमुर्ति बाेलि बिचार कर्म रहनु जनताकाे हमेशा रहि रहने ।', 'अनि जनता चै सम्बोधन भएन रबि सर जनता सम्बोधन सहित घाइते बन्दी समेत भेट्नु होला ।', 'हाम्रो झण्डा कहिले नझुकोस रबि जी ।', 'प्रचण्ड भित्ते राष्ट्रपती बनाए रवि हल्ला प्रधानमन्त्री बनाउनु हुंदैन ।', 'रवि ठाउँ बाट योगदान ठाउं अबश्य पुर् याउँछ अहिले रवि जवरजस्ती राजनिति तान्नु हुँदैन ।', 'रबि दाई आउदो चुनाव पाठि खोल्लुस तपाईं ०० जित्नु तपाईं देस प्रधानमन्त्री बनाउने चाहाना ।', 'रबि सर राजनीति लागेर चुनाव उठनु होस हजुर जिताउने काम हामी युवा अनि हेरौ कस रोक्छ प्रधानमन्त्री बन्ना ।', 'हजुर प्रत्रकार हैन देश मन्त्री बन्नु ।', 'ईन्डिया दलाल धमला कार्बाही गर ।', 'सदै यस्तै रामा्े कामगर्नु है रिसिजि ।', 'रबि दाइलाइ जसरीनि रिहाइ ।', 'जहि सत्य जित जय रबि प्रष्ट सोधपुछ गरिदिनु होल ।', 'काम गर्नुस निर्णय नसुनाउनुस', 'जनता मेघा अान्दोलन रवि लामिछाने दाई पापि हरू खोर बाट निकालौ यहि ।', 'ऋषि धमला पार्टी गत स्वार्थी पत्रकारिता छोड्दिय ।', 'चितवन प्रशासन होटल कङ्गारु मालिक समातेर अनुसन्धान गर १ झट् करेन्ट लगाएर हेर दूध दूध पानी पानि छुट्टिन्छ ओकल्नेछ ।', 'रबि सर समर्थन जय रबि सर रबि सर रिहा हुनुपर्छ ।', 'बोल्न सिक धमला ।', 'डॉ साहेब लेभल मानछे सग बसेर अनरवाता दिनुहोला सुझाब मातर ।', 'ऋषि धमल घाटि टाई देख्दा टाइ अर्थ केलाग्छ भनेर सोदनु पर्यो पत्रकार ज्यु ।', 'पत्रकार पत्रकारिता नेपाली समाज रुपान्तरण येस् इमान्दारीता चाहिन्छ ।', 'जनता गएर सर्भे गर्नेहो रिसि पत्रकार पर्छन सक्षम नागरिक सङ सर्बे ।', 'पत्रकारी पेशा बाट बर्खास्त ।', 'बह्स फैदा ऋषि जि रिजलट खोइ ।', 'साथी रिशी नहेरौ अहिले प्रधानमन्त्री झोले ।', 'प्रधानमन्त्री चही यक्सन लिने खाल् हुनुपर्ने नेपाल', 'पत्रकार हरु साेध्ने तरिका अलिक साेध्नु पर्याे', 'बिचलित हरु आत्मा चोट परे रहेछ ईटहरी मियर कानुन प्रती तिनि हरु कार्बही बधाई मियर सर ।', 'मेयर ज्यु पत्रकार नाक डारि हैन त्यस जता भाबी लेख्ने हात काट्नु सलाम हजुर देश धमिरा हरू नस्ट आब जन फेसला ऐक दम जरूरी', 'भ्रष्टाचार बिरोध ।', 'कुरै नबुजि मेयर बिरूद्द नबोलौ साथि हरू रवि लामिछाने ठिक मेयर पोनि १०१ ठिक हामि गाउ भाशा यस्तै कसैलाइ आपत्ति भय अदालत जादा ।', 'कुरै नबुजि मेयर बिरूद्द नबोलौ साथि हरू रवि लामिछाने ठिक मेयर पोनि १०१ ठिक हामि गाउ भाशा यस्तै कसैलाइ आपत्ति भय अदालत जादा ।', 'द्वारिकालाल चौधरी मेयर साब ढकमगाउनु हुदैन हामी छौ तपाईं अलिकति हतोत्साहित हुनु हुदैन हाम्रो सुझाब ।', 'द्वारिकालाल चौधरी मेयर साब ढकमगाउनु हुदैन हामी छौ तपाईं अलिकति हतोत्साहित हुनु हुदैन हाम्रो सुझाब ।', 'पित पत्रकारिता सफाई स्वंयम राम्रा पत्रकार हरू ।', 'रबि सर फ्यान अहिले मेयर चौधरी नेता हाम्रो देश हुनु ।', 'मेयर द्वारिका लाल चौधरी ज्यू जीबनी भाबी पुस्ता पढ्न पाउनु जती पोस्ट लाइक गरूमत ।', 'झोले पार्टिगत पत्रुकार भ्रष्टाचारि चाहि कार्बाहि हुनुपर्छ ।', 'भ्रष्टाचार अन्त्य मेयरजी हरु यता हाजिर गरमत ।', 'मेयर सयेब काठमाडौं खाचो काठमाडौं सम्हाल्नु आउनु पार् ।', 'भ्रष्टचारी घुसखोरी कानुन दायरा लिएर राम धुलाई गर्दा कसो होला मेयर ज्यु ।', 'निडर हुनुस् सलाम तपाईं राम्रो सोच भय नेता पाउदैन ।', 'कत्ती बिचलित नहुनु है ।', 'कालो कोट लाउने भाइ सहि भन्नुभाछ बुझ्नुपर्छ ।', 'ल अबत वाक्क भयो देश काचुली फेर्नु पर्यो रबि जी लाइ प्रधान मन्त्रि बनाएर देश विकास ।', 'रबि जिन्दबात भोलि दिन फेरि दायाँ बायाँ नराम्रो जात भात फरक नआवस है रबि सर आज जति तपाइ सपोट गरे फेरि नराम्रो भो हामी येस्तै ब्रो ज्ये रबि सर ।', 'रबि सर नेपाल सरकार सुरक्षा दिनु पर्यो ।', 'देस खोजे जन्ता रोजे रबि देखाउनुहोस देसलाइ छबि ।', 'सत्ये देस प्रधानमन्त्री रबि लामिछाने गुनु ई बुढा यमराज अंश देस ।', 'रवि सर चुनाव लडनु हामी मिलेर रवि सर प्रधान मन्त्री बनाउनु छौ ।', 'रवि सर चुनाव लडनु हामी मिलेर रवि सर प्रधान मन्त्री बनाउनु छौ ।', 'पञ्चेबाजा राष्ट्रिय धुन बजाइदिनु भय भय कति राम्रो हुनि ।', 'बधाई रवि सर झन अड़ीग अनी ज़िम्मेवार भएर कार्यक्रम आगड़ी बड़ाऊनु होला ।', 'बधाई दाइ खुशी लागियो आयोजक टिम युबा छान्नु ।', 'युवा देश चलाउनु नेपाल युवाकाे शात्तिकाे खाचो अगाडि बढाउनुपर्छ नेपाल ।', 'सोच्ने कुरो होइन सिदै प्रधानमन्त्री जानुपर्छ रोजाई हजुर प्रधानमन्त्री हुनु ।', 'सिधाकुरा कार्यक्रम हैन रवि दाजु देश चलाउनु हजुर ।', 'भाई सहि देश युवानेता चलाउनु ।', 'देश युवा हरू हाँक्नु पर्दछ ।', 'जय रवि दाइ देश बिकास नेपाली जनता दिनुस है ।', 'अहिले खर्च बोट बिरुवा लगा सम्रक्षण गरौ', 'चीन बाट सेक्ने ओलि ज्यु ।', 'सुरक्षा नेपाली चेली दिनु है', 'सत्य समाचार हेर्ने हाे युट्युव मिडिया हेर्नू ।', 'पाहुना स्वागत भब्य रुप गरौ जय नेपाल ।', 'है केपि बा ।', 'दिन होईन सधैं नेपाल एस्तै हूनूपर्छ ।', 'बासि बाटो छेउ फुल नचोरनु ला ।', 'सफाई निरनतरता दिन हामी भेडो फोरि नेपाली १ परछ ।', 'पाउना राम्रो स्वागत गरनु होला ।', 'नेपाल प्रगती गरोस ।', 'काँग्रेस परजिवी ठिक पार्नु ।', 'अर्का सपोर्ट बिना राष्ट्र अमन चयन प्राप्त सक्तैन त्यसकारण पालो बाट सपोर्ट लिने पालो सपोर्ट बानी विकास यसैमै कल्याण जय होस् ।', 'गगन थापा ज्यु नमस्कार देश जनता रगत तातिए मुटु थर्किए शाहि काे अाक्रमण गर्दा जनता मन चर्किए त्यसैले जनतालाइ सान्त्वना दिदै आबाज ऊठाऊनुहोस् ।', 'कानुन कडा', 'देश बनोस कानुन चै कडा', 'जहि जनता आवाज बोल्ने कोसिस गर्नुहोला धन्यवाद', 'गगन जि पहिला काङ्ग्रेस सुधारेर देखाउनुस अनि भाषण गफ दिन अाउछ', 'फलाम ताते बेला साइज ल्याउने काम गर्नुस ।', 'विवेक प्रयोग गर भाइ ।', 'नेता ज्यु हजुर बोली बिचार बेबाहार होस् ।', 'गगन थापा नेपाली जनता आशा भरोसा नेता सडक आउनु पर्यो नेपाली काङ्ग्रेस भ्रष्टाचारी दलाल सरकार लाइ ढाल्नु ।', 'गगन थापा नेपाली जनता आशा भरोसा नेता सडक आउनु पर्यो नेपाली काङ्ग्रेस भ्रष्टाचारी दलाल सरकार लाइ ढाल्नु ।', 'काङ्ग्रेस भस्ट्चार चोर भनेर कम्युनिस्ट बलत्कार हत्यारा भनेर यस्ता कुकुर हरु भोट दिएर हुदैन हामि सचेत भै सके छौ हुनु चोर हरु पत्यसाप ।', 'युवा पाटी खोलेर आगामी दिन देश चलाउन रबि दाइ ज्ञानेद्र दाइ अपिल दाइ लेलिन दाइ जस्ता भोट दिने ।', 'मावबादी मनै पर्दैन गगन गरे ठिक सरकार ढाल्नु ।', 'गगन सर तातिनु पर्यो ।', 'मिल्यर ग्यानेन्द्र साही ।', 'घर गयर बाख्रा हेर बिचार गर यता नबोल्दा ।', 'गगन थापा पहिला जय नेपाल तपाईं एउ टा पर्दाे युवा नेता हाे अाशा काे दियाे हाे त्यसैले मेराे शुजाभ भ्रष्टाचार बेथिति खुलेर बाेल्नुस जाे सुकै हाेस त्यस शेरे भएनि कारबाइकाे माग गर्नुस तब अाउने पहिलाे पाटि काग्रेश ।', 'गगन थापा पहिला जय नेपाल तपाईं एउ टा पर्दाे युवा नेता हाे अाशा काे दियाे हाे त्यसैले मेराे शुजाभ भ्रष्टाचार बेथिति खुलेर बाेल्नुस जाे सुकै हाेस त्यस शेरे भएनि कारबाइकाे माग गर्नुस तब अाउने पहिलाे पाटि काग्रेश ।', 'कम्युनिस्ट हरू मुक्त्त नेपाल बनाउन पर्याे ।', 'राम्रो काम समर्थन नराम्रो कामलाइ घोर बिरोध पर्यो ।', 'सलाम गगन थापा ज्यु यसरि राम्रो काम जानुस ।', 'संयमित आबश्यक ।', 'ज्ञानेन्द्र साहि समर्थन देश ब्यापी आन्दोलन ।', 'नेपाल नेता गगन दाई मात्रै सब चोर संकालग्छ मसग बहस सुजाब दिन्छु ।', 'मन पर्ने मलाइ नया साथी बन्दिनु भनेर आग्रह ।', 'महारानी जि मजाक हुदैन थ्यो कम्जोरी ।', 'भएनी भन्नू रास्ट्रपति गलत ।', 'शेर बहादुर बाजे सन्यासी हुनु राजनीति बाट', 'हेल्लो महारानी जी करोड हेलिकप्टर किन्नु कान उपचार गराउनुहोस् ।', 'अपाङ्ग ता उडाउनु आपमान रास्ट्रपति पद् हेक् हुनुपर्छ ।', 'आमा भयपछी छोरा छोरी बोल्न देख्न सुन्न नसक्ने भयपनी मन बुझ्नु ।', 'रास्ट्रपति मजाग गरे सुहाउँदैन सानसद हत ।', 'राष्ट्रपती राष्ट्र प्रमुख राष्ट्रप्रमुख लोकतन्त्र बोली बुझिन भन्न पाइन्छ अवस्यपनी हासी हासी खिल्लि उडाउन मिल्दैन लिएर ।', 'पार्टीगत व्यवहार राष्ट्रपति देखाउन भएन ।', 'उहाँ हल रुप बोली बुझिने ब्यबस्थापन मिलाउन संयोजक हरु आग्रह ।', 'विषय सरकार वा रास्ट्रपति विरुद्ध अफवाह फैलाउने ढंग समाचार नबनाउन वाला हरु सचेत गराउन चहान्छु ।', 'नगरे हाे राष्टपति मान्छे बराबर हेर्नू ।', 'रमेश प्रसाईं काठमान्डौ आइ सके दिल निसानी मगर रमेश प्रसाईं टेबुल राख्नुस है पत्रकार साथि हरु रमेश दिल भुटे हेर्ने मन ।', 'दिल निसानि जि तपाईं यस्ता भाषन ठोकेर जनता हरु कति भ्रम पार्नु होटेल साहु छोटेर निर्दोष रवि दाई फसाउने चाल गरे छन होटेल साहु अनुसन्धान पर्यो ।', 'पत्रकार ज्यु २ ४ बर्ष अध्यापन अाय राम्रो हुन्थ्यो ।', 'चिक्ने पत्रकार विहारी परेछ की कसो मुजी नेपाल प्रशन गनुनी नेपाल देश ईन्डीया स्टेट होर सुरेन्द्र केसीसग प्रशन गनु यार अच्म आझै बषेॅ पडेर आऊ पत्रकार भाई ।', 'सर कमसेकम श्रद्धान्जली दिनोस ।', 'पत्रकार ज्यु प्रस्न अघि अलिक गरेँ राम्रो हुनेछ ।', 'प्रश्न शैलि मिलाउन नसक्दा गालि कति पाईन्छ भनेर हेर्न याे भिडियाेकाे कमेन्ट पत्रकार गालि बर्षेकाे हेर्नुहाेला ।', 'खाते पत्रकार प्रशन कस्तो लामो चि साले थुक खाते तेरो बुद्धि अलिक सिकेर बोल्नुपर्छ ।', 'तेरो अलिक डा सुरेन्द्र सङ कुरो बेला ।', 'केसि जिल्ल परे बरै कहा प्रस्न कहाँ लगेर सोद्छ पत्रकार अलि प्रस्न सोधपुछ सिक्न पर्यो ।', 'पत्रारिता अन्तर्वार्ता सम्बन्ध ज्ञान हासील गर ।', 'बर्ष अध्यन आउदा राम्रो ।', 'नेपाल प्रश्न गर', 'रबिन्द्रा भ्रष्टाचार कान्ड पहिला पर्दा फास पर्नी ।', 'रबिन्द्र दाई राजनीतिज्ञ हरु मारे महसुस भय जनता कडाई छानबिन होस ।', 'सरकार कस्तो मौसम प्लेन उडाउनु बुझेर प्लेन उडाउने इजाजत दिनु पर्ने यस्ता नियम बनाउनु पर्यो ।', 'हुनत माइने राख्दैन मानबता चाहिँ भुल्नु हुदैन ।', '।', 'घट्ना पियोर घटे सोएम सभामुख गल्ती महसुस गरे पुन्य गौतम समर्थन नगर ।', 'सगर सर पुन्य झापड लगाइदिनु पर्ने हावा ताल बोल्छ यार पुन्य ।', 'पुन्य जि अन्तरबार्ता नदिय तपाईं घिन लाग्दो अर्थहिन ।', 'तपाईं कुवा दुबेर मरे ।', 'बलात्कारि खोर कोच्नु जस् ।', 'पाटी बचाउन आरोप नलगाउ धन्यवाद ।', 'बौलाहा अत्तो पत्तो चिच्याउनु सत्य तथ्य पक्ष उभिनु राम्रो ।', 'पुन्य जि हजुर गलत हुनुहुन्छ है केस नबोल्नुस ।', 'तिहाइ काे सरकार भनेर कम्निस्ट नालायक सरकार फुर्ति नलगाय ।', 'साला कुकुर पुन्णु लाइ लात हानेर आउट कुकुर बलतकारि यइ ।', 'रबि सर हजुर हिम्मत नहार्नुहोस तपाइ हिम्मत हारे हामी गरिब जनता बेसाहारा हुन्छौ ।', 'कसम खायर भन्दै आय हामी युवा राजनिती होइन रबि सपोर्ट लाग्नु मन परे लाइक गरौ है ।', 'रवि सर केसलाइ कडाइसङग फलो अनुरोध गर्दछु ।', 'बलात्कारी धोति फांसी दिएर बलात्कारि हरु फांसि सजाय कानुन बनाउन पर्यो', 'सुरुवात यहि धोति बाट ।', 'बिध्या देबि भण्डारी रास्ट्रपति पद बाट तुरुन्त हटाइयोस मोजमस्ती रास्ट्रपति काम जनतालाइ रिन भार मात्रै ।', 'उहा काे हाैसला काे लागी समर्थन गराै ।', 'हजुर हुनेछौं सदा निडर रहनुहोला देश उच्च तह हेर्न चाहान्छु ।', 'सत्यलाइ जितेर जस् बाटो काट्छ तेस् हामी खुट्टा काट्छौ तपाईं सत्य बाटो लम्किरहनु होला रबि सर समर्थन ।', 'बिप्लप दाई लालिगुरास शहकारि जना उडाइदौ तिम्रो भलो ।', 'कार्यक्रम हेर्दै कमेन्ट पढ्डै कमेन्ट जति एता लाइक गरम अनि साथि बनाउनु ल ।', 'विदेश बाट हेरने हुनु साथी हरु चेनल जोडीनु होला साथी हरु ।', 'रबि दाई माया जति यता उहाँ कार्य संमान स्वरुप लाईक है साथी हरु ।', 'नेपाल सरकार रबि सर सुरक्षा दिनु ।', 'रबि ठेगान लाउछु मिनेट मै सिध्याउन सक्छु प्रेश काउन्सिल अध्यक्ष किशोर श्रेष्ठ सरकार गम्भीर ध्यानाकर्षण होस', 'रास्ट्र कै गहना माथी यत्रो अन्याय हैट लालिगुरास कडा कारबाही माग गरौ साथी हरू ।', 'रवी फसाउन किशोर श्रेष्ठ अझ फसाउने योजना बनाउँदै होला सावधान रवी सर ।', 'कार्यक्रम सीमा सारै छोटो भयो हजुर अलि लामो बनाउनु पर्यो ।', 'रबि सर मिल्छ भिमार्जुन अाचार्य ल्याउनुस ।', 'रवि सर भाइरस दुश्मन बाट सावधान रहनुहोस् ।', 'ओराली लागे हणिन चाल भो बाचुन्जेल मरे कै हाल भो छल गर् माया छल गर् माया गाना अति मन राम कृष्ण ढकाल दाजु पीडित न्याय दिलाई दिनु होला है रबि दाजु ।', 'जय रबि जय नेपाली जनता रबि दाई फेन जति होला ।', 'बिप्लप नेता कर्याकर्ता हरु काता गय यस्ता सहकारी संचालक लगेर झुन्डायर कर्बाही होला अनि नेपाली जनता बिप्लब दिन्छ ।', 'माननीय कमेन्टर हरु यता हाजिर उता हाजिर भनेर बकवास बैचारिक कमेन्ट समर्थन योग्य धारण राख्नुहोला ।', 'साला यता हाजिर उता हाजिर रिस उठ्छ कुरै छोड राम्रो गर ।', 'रामकृष्ण ढकाल लाइ नभयर सहयोग सब हामी नेपाली ।', 'सत्य आउनु पर् बोम्जन कार्बाही हुनु पर् ।', 'रवि सर हजुर छिटो छिटो पुग्नु होला राम बहादुर बम्जन आश्रम ।', 'राम बहादुर बोम्जन कार्वाही हुनु ।', 'सिधाकुराजनतासङ्ग टिम रामबादुर बम्जन् रहेछ तेस्सो बास्तबिकता रहेछ पत्त्ता लगाएर बहिरा लियाउनु परो ।', 'धर्म नाम बलात्कार चाडै अनुसन्धान कडा कडा कारबाही होस ।', 'मान्छे कहिल्यै भगवान सक्दैन आफै आफै भगवान भनि स्वार्थ पुरा दुनियाँ उल्टो बनाउछ छिटो छोटो कारवाही हुनुपर्छ ।', 'राम बहादुर बोम्जान माथी छिटोभन्दा छिटो छानबिन सुरु गरियोस सरकार', 'गुरु हु भन्दै दुनियाँ छोरी चेली योन दुव्र्यवहार छानबिन कार्बाही गरीयोस ।', 'नेता देश नबिगार अती भो गरिब छोरा चोरी नमार कुर्सी लागी ।', 'बम्जन् बचाउन लागी पछी पर्ने छानबीन जेल हाल्नुपर्छ ।', 'आज फेरि रबि सर सिधाकुरा देख्न पाउँदा खुसि नाच्ने हरु एता हाजिर गरौ हामि रबि सर सुरक्षा दिनु है साथी राम्रो काम टिक्न दिदैनन हाम्रो देश पाखे नेता हजुर जय देश जय रबि सर ।', 'दलाल हरु हेर रबि कति रबि पछी पर्छौ टाईम आझै राम्रो काम लाग हरु दीन सकियो जनता जागी सके रबि फर्की सके ।', 'बहुला कुकुर हरु बाँधेर मारिन्छ बहुला नेता हरु यसै की की कसो मेयर ज्यू ।', 'शुभकामना निरन्तर पाइला नपरी अगाडि बर्दै जानू होल न्याय पछे ।', 'रवि दादा कर प्रकरण काे याे चलखेलकाे उजागार देश जनताकाे भलाई गरिदिनुहु तपाईसामु विनम्र अनुराेध गर्दछु ।', 'रबि सर चोटि पुडासैनी श्रीमती दुख घडी गयर भेटी सदासायता देखाइ दिनु भो भनी हजुर अझ माहानता थपियला ।', 'लौ सर ढिला भैसक्यो छिट्टै प्रधानमन्त्री लड्नु पर्यो बनाउने जिम् हाम्रो सहमत छौ ।', 'देसै भरि एफ एम बात पर्सार्न बातावतावरण मिलाउनु पर्यो ।', 'रेड्कोटे पागल रहेछ युबा भन्छ खाली नेगेटिभ मात्रै भन्छ बिना तथ्य बिना आधर बोल्दोरहेछ बिना रेकर्ड यस्ता पागललाइ नबोलाए हुन्थो खाति जि मैले ठिक मै मात्रै जान्ने हु भन्दोरहेछ ।', 'यस्ता युवा हरु राजनिति आउनुपर्छ ।', 'दुबै जना फेरि ल्याउनु पर्यो ।', 'यस्ता नेकपा कार्यकर्ता गर्दा पार्टी गनाऊ यस्ता अहीलेनै टीपेर फालाै ।', 'वाला नेता रे छि छि छि छि लाज लाग्नु पर्ने एउटा प्रश्न उत्तर दिन ३ सोध्दा मोडछ खाते नेता कहिले नबोलाउनु होला', 'हामी चाहे नेता खाल हैन', 'कुटनैतिक मर्यादा बिचार गर्नुपर्थ्याे ।', 'पैसा मुख कालोहुन्छ भन्छन लोभिपापी पैसा दिन्न छोडनुपर्छ कृश्चियन सिर्चियन सिधिन्छ ।', 'राजीनामा देउ रबि देउ ।', 'राजीनामा देउ रबि देउ ।', 'सुशील ज्यु खरो पना सारै राम्रो सुशिल जी साचै खरो भैदिनुस है नेता भ्र्ष्ट छन कोहि राष्ट्र प्रेमी छन भ्र्ष्ट हरु झ्या हार्नुस है', 'ऋषि धमला राम्रो सङ्ग सिक पत्रकार कस्तो हुनु पत्रकार विपक्ष सत्ता रहे कोहि खबरदारी सक्ने', 'गु खा देशी कुकुर ।', 'सुशील जि जनता घाँटी निमोठ्ने घाँढो संघीयता घाम सुकाइदिनु पर्यो ।', 'याे नेता हरू चाेर यस्ता चाेर नेता हरू देश निकला गरनुपरछ संविधान नमाने पाटि ने क पा हाे ।', 'गएर केपि काे पिके काे मुत खा ।', 'सक्नै गणतन्त्र काम ।', 'यस्तै खरो दरो प्रश्न गर्नुस सुशील सर तपाईं निडर पत्रकार देखिनु ।', 'शुसिल जी सुर्य पाठक लाइ लोप्पा खुवाउन सक्ने ब्यक्ती बोलाउन पर्ने ।', 'सक्किनै ।', 'गणतन्त्र लोकतन्त्र भ्रष्टाचार बलत्कार मान्छे मार्ने रबि फसाउने ग्यनेन्द्र साही मान्छे खुट्टा भाच्ने येइहो येस्तो गणतन्त्र लोकतन्त्र तिमि हरु गोजि राख जनता चाहादैन ।', 'प्रत्रका हाेस सुशील पाण्डे जस्ताे हाेस ऋिसि जि सिक्नुहास ।', 'सुर्य राज सर सरकार कमिकमजोरी टिका टिप्पदी आलोचना सरकार होशियारी गराउने राजाबादी देख्नु सरकार कामकारबाही सुधार ल्याउने सोच्नीकि', 'जन भावना सडक देखिए सरकार बितिस्ना राजाबादी नजर हेर्नु आखा चस्मापो बद्ल्नु पर्नी होकि', 'ज्ञानेन्द्र शाही ल्याउन आग्रह गर्दछु ।', 'स्वर्गीय श्री मार्क्स श्री लेलिन जन्मभूमि हिउँ पर्दा नेपाल कालो काम्लो ओढ्ने लालबुझकट हरु सित होशियार', 'सुर्य पाठक तह लगाउन डाक्टर प्रेम सिंह बस्नेत ज्यु बोलाए हुन्थ्यो ।', 'पर्श्न राजनीति नेता सोध्नु ।', 'हजुर गणतन्त्र सपोर्ट परेन ।', 'सिके राउत जेगर्दानी हुनि राजा बोल्न नहुनी दम छभने राजा राख्ने की नराख्ने जनमत सङ्ग्रह गर ।', 'अात्तिएकाे नगेन्द्र शाही नेशनल जी प्रष्ट अाफ्नाे धारणा राख्नुहाेस ।', 'श्रि ५ ज्ञानेन्द्र शाह का्े जय जय राजतन्त्र लयाऊनु नेपाली जन्ता जय हाेस पशुपतिनाथ ।', 'रमेस खरेल बाट सिक पुलिस ।', 'डि इ जि साप अनुसन्धान दानबहादुर मल्ल अनुसन्धान ।', 'मजा आएन दुवै जना भाव कमसेकम पक्ष विपक्षलाइ बोला हुनु ।', 'सुशील सरकाे बाेल्ने अनि प्रश्न साेध्ने शैली लाजवाफ क्या घुमाएर मिलाएर गर्नुहुन्छ याे एउ टा कला अनि तरिका हाे तेस्तै तेस्तै काे पसिना अाउछ तेसै मन सुशील सर नछाेडनु हाेला यस्ता काचुली गाेवन हरुलाइ यस्तै डसिराख्नु ल ।', 'खरो रुप बद्दै जानू ।', 'राजिना बिकल्प सरकार बर्खास्ती ।', 'राम्रो कार्यक्रम ल्याउनु भयो एउ टा पत्रकार पिडा पत्रकार बहस चलाउनु जरुरी पक्राउ सैलि खुलेरै बिरोध गर्नुहोस ।', 'पुलिस पहिला ठिक अहिले ठिक बोलाउनु हुदैन', 'पत्रकार हुनू ।', 'पहिला यसै छानबिन गरिनु ।', 'इज़्ज़त बिश्वराज पोखरेल राजिनाम दिनुहोस ।', 'मै आज रमेश खरेल सम्जिय है यदी आज रमेश खरेल रबि लामिछाने नय पाउने कसो साथी हरु नालयक सरकार राजीनामा भयो ।', 'सर सोध्नुन रबि कुन हिसाब लगए ।', 'मुला खुब भन्नलाइ दलाल तलाइ किरा परोस खाना नपाउने ।', 'पत्रकार ज्यु हत्यारा पद बढाइदिन्छु भनेर काम लेखपढनै नभए हुदारैछन भनेर सोद्नुस ।', 'सरकार हिम्मत रवि दाइ फसायर देखा अनि थाहा देश यसकाे मूल्य ठुलाे चेतना भय ।', 'चितवन् घुस्याहा मल्ल कारबाही गर ।', 'धन्यवाद सुशील सर चितवन जानू पर्यो ।', 'सत्य तथ्य हजुर सिङ्गो अपरेटिङ हुनु पर्यो ।', 'सुशील सर दिनै कंग्रेस कम्युष्ट येसरि ल्येर बहस गरानु होला सुन्न मजा अाउदो रहेछ चोर चोर पोल खोला खोल्ल हामी बिदेशि युवा सुनेर टाएम पास गरछै ।', 'नेताहरो जेल नया बनौनु ।', 'आज कार्यक्रम अति मजा कुराबुजियना जना यकैचोटी बोल्न दिनुभयन ।', 'अहिले सभामुख य औटा बोल्द साउन्ड ओफ गर्नुपर्यो ।', 'भ्रष्टाचर मुद्दा नेता हरु कार्यक्रम गर्द हात हतियार लिए अर्द सैनिक बल तैनात पर्ला ।', 'अानन्द पाेख्रेल जि ठुला ठुला भरष्टचार काे सम्रक्षेण राजनिति दह बाट सिधै भयाेनि चपायर बाेल्नु ।', 'विप्लव ज्यु पहिलोपल्ट विस्वराज कार्यवाई गर्नुपरेयाे ।', 'भरत दाहाल यास डि मुनीम बहस हुनु ।', 'सर्लाही प्रहरी झुटो बचेरा रिपोटिङ्ग गरे सुचना सत्य तथ्य छान बिन गरेरा कामकारबाही हुनु ।', 'हत्यार बोकेर खुल्ला हिड्ने मान्छे हरुलाइ गोलि ठोक्ने अनि कानुनु दैर ल्याउनु ।', 'बमवाला पद लोलुप हत्यारा आतंककारी हरु हतियार समर्पण शान्तिपूर्वक वार्ता आउनु होइन यिन चाक बम लगाएर पड्काउनु ।', 'प्रहरी अथवा सुरक्षा कर्मि गल्ती तेस्लाइ कार्बाइ बर्खास्त तब सुरक्षा ब्यबस्थापन राम्रो प्रहरी गरे गल्तिलाइ ढाकछोप गर्नुपर्ने हुदैन नेपाल प्रहरी सङ्गठन नराम्रो पक्ष ।', 'सिस्तमै ठिक छैनन् बदल्न्नु लाग्छ', 'पुलिस हासिहासी बोले ए सजाए हुनुपर्छ लुकाएर पुग्छ हामी रगत खोली बगाउन तयार हामी छ्म ।', 'पार्टी झोले पत्रकार यसलाइ स्पष्टीकरण दिई रहन आवश्यक द्वारिका जि ।', 'हरू प्रश्न साेध्नु हरू बिधि सम्मत जानु उत्तर नअाए राजेन्द्र जि ।', 'भ्रष्टाचारी फुलमाला स्वागत गरेकाे भऐ चर्चाक अाउने थिऐन थारूकाे छाेराे सिधा जाने काे राम्रो भाे मेयर जिउ भ्रष्टाचारी भाटे कर्बाही गर्नुपर्नेछ धन्यवाद मेयरजिउ ।', 'नाक होइन भ्रष्टाचारि खुट्टा भाच्नुहोस मेयर साब ।', 'यहि कारण जस् भ्रष्टाचार विरुद्ध अभियान उस नेपाल जनता दिनछ्न दिनु ।', 'हामी सच्चा नेपाली हैौ मेयर दिनु पछ जय नेपाल ।', 'हामी सच्चा नेपाली हैौ मेयर दिनु पछ जय नेपाल ।', 'जनता साधारण मेयर प्रधानमन्त्री हुनु मुलुक खाचो ।', 'प्रत्रकार माेहदय बस्तम चाैधरि जति काे ईमान्दार मान्छे अर्काे मान्छे खाेजेर ईन्टरभिउ लिनु अनि काे ईन्टरभियु काे ईमान्दारिता काे खाेज्नु कुन क्षेत्र खाेज्नु राजेन्द जि ।', 'मिनेट सुन्दिनोस मेयर जि सब राम कहानी थाहा पाउनु हुन्छ् ।', 'जबर्जस्ति माफी माग माफी माग रे घन्टा माफी माग्ने माग्नु पर्दैन ।', 'मेयर साफ सहि बिचार राम्रो नबिराउनु नदराउनु सच्चा जनता हजुर छ्न ।', 'माफी मक्नु परदैन मिडिया गएर फटा पत्रकार अपमान गरे बए त्योइ फाटा सपोट मिडिया ईन्टरबियु लिन्छ मिडिया बन्दा फरक प्रस्न साकिन मेयर मिडिया जानू कम गर्नुहोस किन् की यस्ता पत्रकार गुमाइ फिराई फसाउनु खोच्छ ।', 'तेसै मेयर होइन हुनुपर्ने ।', 'मेयर साहिब बाकि ठिके प्रस्तुत हुनुहुने सहिली चाहि फेरनु होला नेपाल ९० संत पत्रकार जासुशि नेपाल चैवर नेता छेवरा दलाल छन जस्ते हुदाण ग्नेन्द्र साह मुदा झैलेपत्रकार कणला चोर ।', 'पत्रकार अाफ्ना कमजोरी लाइ कमजोरि भन्नै ।', 'दाजु तपाईं इजत कमाउन मन सपोट होला ।', 'राजेन्द्र जी मेयर आक्रमण नऊत्रनु होला की भ्रष्ट्रचार कर्तुत प्रती नेपाली मन द्वारीका ज्वाला मुख ताक्ने प्रबृती मौन द्वारीका हिरो सम्मान गरौ', 'कारवाही ।', 'जस्ता तेस्तै ढिढालाइ निस्तै भ्रष्टाचारी छोड्नु हुदैन मेयर साब हामी तपाईं छौ ।', 'मेयर अध्ययनलाइ सलाम शैली अलिकति परीवर्तन परो भष्टचारी लोप्पा होइन गोली ठोक्नु ।', 'हैन माफीमाग्न कति सारो ढिपि गरे यार भ्रष्टाचार विरुद्ध आगामी दिन कार्यक्रम त्यता तर्फ फोकस', 'अधि बढ्नु ।', 'देश मेयर पद बस्नु सम्पूर्ण पधाधिकारी ज्यू हरु भष्टाचार बन्द गर्नुहोस् ।', 'पत्रकार मित्र मेयर साब ठिक जेनि सुद्नु आवसेक हामि बुजे छौ ।', 'सुर्खेत मुख्यमत्री ल्याउनु परो सर ।', 'सुशील पाण्डे सर कर्णाली मन्त्री महेन्द्रबहादुर शाहीलाइ अन्तरवार्ता बोलाइ केरकार ।', 'पहिला डिआईजी साब अस्पताल लगेर ज्ञानेन्द्र शाही निल डाम देखाएर अन्तर्बार्ता लिनु अनि थहा हुन्थ्यो ।', 'पोख्रेल सुर्खेत बोलायर ज्ञानेन्द्र सर पत्रकार सम्मेलन कुत पित गरे होकि होइन बुज्दा अनि सुर्खेत प्रहरी सहि होकि गुन्दा था भै हाल्छ ।', 'हिरासत सिसि क्यामरा खोइ देखाउने पर्यो सुशील जि ।', 'सुशील पाण्डे सर प्रश्न खरो तेसै होला एकदमै मन सधैं हजुर सपोट छौ हामी राम्रो काम जानु होला ।', 'स्टाफ बोल्ने तरिका सिकाउनुहोस प्रहरी हाकिम ज्यु ।', 'अनुसन्धान क्राइम पेट्रोल हेरेर सिक्दा नेपाल प्रहरी ।', 'अगाडि बडै जानुहोस हाम्रो फुल सपोट भस्टचारि दायरा ल्याउनु पर्यो ।', 'जनता कत्ती सुरक्षा ।', 'सुशील सर आईन्धा पुलिस डिपार्टमेन्ट मान्छिलाइ ड्रेस निम्तो गर्दिनु होला किना इनि हरु ड्रेस् मुल्लेनै थाहा छैना एति गाली गर्ना मन पुलिस जन्तु हरु साधे छैना ।', 'पत्रकार अलिक रस्साकशी प्रस्न गरेन ।', 'दुर्घटना प्रत्यक्ष्य दर्शी हरु सुन्न पाए हुन्थ्यो ।', 'देश दु खद मर्दा तेत्रो हेलिकप्टर नोक्सानी गरेरै मर्यो', 'मौसम हेरेर उडान गरौ हजुर जीवन भनेकाे फेरि फेरि अौदैन रास्टपटि अापत पराेस राजा हेरेर उडान गरौ ।', 'हाम्रो देश नेपाल मन्त्री नेता पाउर एसतै जिमिबार केपि ओली प्रधानमन्त्री लेनु ।', 'कसैइ थाहा हुदैन कैले हतार होला काम छुटोस सरकार बीग्रे पुरानो सामग्री युज ।', 'सत्य तथ्य पत्ता लगायेर गल्ती गरे पाइये कसैलाइ कार्बाही हुनुपर्छ ।', 'दुबैजनाई एकै राखेर कुराकानी गराउनुपर्याे ।', 'आइमाई गल्ती भन्नुभन्दा हजार सोच्नुहोला ।', 'हाम्रो नेपाल गुलाम नगरी बाँच्न सक्ने अबस्था मिलेर परिस्थिति चाई अन्त्य ।', 'दुबै जना सङ्गै राखेर अन्तरबार्ता लिनु पर्यो ।', 'सत्य तथ्य ल्याउनु पर्यो ।', 'पत्रकार साथी चोटि जना राखेर सोधी दिन्नु पर्यो खास ।', 'कुलमान रबिदाजु महजाेडि जस्ता महान ब्यक्ति भय नेपाल बाटो राम्रो बनाउनुपर्या हजुर ।', '३न प्रदेस ल्याउनु बिजुली गाडी ।', 'कुलमान घिसिङ जिन्दाबाद सिङ्गो देश नेतृत्व परो घिसिङ आस्याङ्ग नाई देश मुहार फेर्छ ।', 'राम्रोकाम बाटो पो बनाउनु पर्योत बिदेशतीर यस्तै गाडी बाटोपनी कति राम्रोहुन्छ नेपाल बाटो हरू बनाउनु पहिला ।', 'बाटो बनाउनु जरुरी देश बाटो घाटो पार्किङ ब्यबस्थापन दमै दयनिय अवस्था ।', 'चिज बिजुली प्रयोग कुलमान घिसिङ सर सहयोग गरौँ ।', 'अाफ्नाे प्रगतीकाे बखान गरे भई गयाे ।', 'सस्तो हुनुपर्यो ।', 'दीर्घकालीन सेवा हुनु पर्यो आज चल्ने भोली बन्द हुनुभएन है चिकन ।', 'चालक सहचालक अलि योग्य सभ्य पढेलेखे राख्नुहोला ।', 'गाडी राम्रो रोड आलु दुइचार दिन झमक नहोस गाउँ शहर रोड मजबुत बनाउन आवश्यक नेता जि भ्रष्टाचार दलाल ठेकेदार कार्वाही हुनुपर्छ ।', 'गाडी राम्रो रोड आलु दुइचार दिन झमक नहोस गाउँ शहर रोड मजबुत बनाउन आवश्यक नेता जि भ्रष्टाचार दलाल ठेकेदार कार्वाही हुनुपर्छ ।', 'कम से कम वायु प्रदूषण कम ।', 'बस हरु थप्दै लानु ।', 'गाडीत सडक स्तरउन्नती गर्न्नु ।']\n"
          ]
        }
      ]
    },
    {
      "cell_type": "code",
      "source": [
        "data['cleaned_text_w/o_SW'] = cleaned_text\n",
        "data.head()"
      ],
      "metadata": {
        "colab": {
          "base_uri": "https://localhost:8080/",
          "height": 432
        },
        "id": "awo3byJw7G1n",
        "outputId": "7a4a8be1-eeb1-412f-8348-31da2ea36918"
      },
      "execution_count": null,
      "outputs": [
        {
          "output_type": "execute_result",
          "data": {
            "text/plain": [
              "   label catagory                           flags  \\\n",
              "0      1  GENERAL                            शोषक   \n",
              "1      1  GENERAL                      उल्लु बनाए   \n",
              "2      1  GENERAL  न पहिला ठिक थियो न अहिले ठिक छ   \n",
              "3      1  GENERAL                             चोर   \n",
              "4      1  GENERAL                            हरास   \n",
              "\n",
              "                                                                                                                               text  \\\n",
              "0  यो मुजि बानियाँ ले कस्तो खाते कुरा गर्दैछ कुलमान नभए को आज नेपाल उज्यालो हुन्थ्यो अझ कुलमान को कमजोरी देखाउछ यिनी 2 त शोषक हुन ।   \n",
              "1                 सबै भन्दा ठुलो सरकार ले नै सबै लाई उल्लु बनाए को छ बाँकी पैसा त खान्छन नै यो अहिले को सरकार तुरुन्त धाल्नु पर्छ ।   \n",
              "2                                                                 यो पुलिस न पहिला ठिक थियो न अहिले ठिक छ यस्तो लाई बोलाउनु हुदैन ?   \n",
              "3                        यिनी चोर हरु ले जनता लाई अन्धकार मा रखेर आफ्नो धुनु सुधारने कुकुर हरु हुन कुलमन सार ले गरे को ठिक काम हो ।   \n",
              "4                                                                                           सहि कुरा के पि को अस्तित्व हरास हुदैछ !   \n",
              "\n",
              "                                                                                       cleaned_text_w/o_SW  \n",
              "0  मुजि बानियाँ कस्तो खाते गर्दैछ कुलमान नभए आज नेपाल उज्यालो हुन्थ्यो अझ कुलमान कमजोरी देखाउछ यिनी शोषक ।  \n",
              "1                                     ठुलो सरकार उल्लु बनाए बाँकी पैसा खान्छन अहिले सरकार तुरुन्त धाल्नु ।  \n",
              "2                                                                  पुलिस पहिला ठिक अहिले ठिक बोलाउनु हुदैन  \n",
              "3                            यिनी चोर हरु जनता अन्धकार रखेर धुनु सुधारने कुकुर हरु कुलमन सार गरे ठिक काम ।  \n",
              "4                                                                               सहि पि अस्तित्व हरास हुदैछ  "
            ],
            "text/html": [
              "\n",
              "  <div id=\"df-8cc74716-a323-40b0-98c8-6079fc929b36\" class=\"colab-df-container\">\n",
              "    <div>\n",
              "<style scoped>\n",
              "    .dataframe tbody tr th:only-of-type {\n",
              "        vertical-align: middle;\n",
              "    }\n",
              "\n",
              "    .dataframe tbody tr th {\n",
              "        vertical-align: top;\n",
              "    }\n",
              "\n",
              "    .dataframe thead th {\n",
              "        text-align: right;\n",
              "    }\n",
              "</style>\n",
              "<table border=\"1\" class=\"dataframe\">\n",
              "  <thead>\n",
              "    <tr style=\"text-align: right;\">\n",
              "      <th></th>\n",
              "      <th>label</th>\n",
              "      <th>catagory</th>\n",
              "      <th>flags</th>\n",
              "      <th>text</th>\n",
              "      <th>cleaned_text_w/o_SW</th>\n",
              "    </tr>\n",
              "  </thead>\n",
              "  <tbody>\n",
              "    <tr>\n",
              "      <th>0</th>\n",
              "      <td>1</td>\n",
              "      <td>GENERAL</td>\n",
              "      <td>शोषक</td>\n",
              "      <td>यो मुजि बानियाँ ले कस्तो खाते कुरा गर्दैछ कुलमान नभए को आज नेपाल उज्यालो हुन्थ्यो अझ कुलमान को कमजोरी देखाउछ यिनी 2 त शोषक हुन ।</td>\n",
              "      <td>मुजि बानियाँ कस्तो खाते गर्दैछ कुलमान नभए आज नेपाल उज्यालो हुन्थ्यो अझ कुलमान कमजोरी देखाउछ यिनी शोषक ।</td>\n",
              "    </tr>\n",
              "    <tr>\n",
              "      <th>1</th>\n",
              "      <td>1</td>\n",
              "      <td>GENERAL</td>\n",
              "      <td>उल्लु बनाए</td>\n",
              "      <td>सबै भन्दा ठुलो सरकार ले नै सबै लाई उल्लु बनाए को छ बाँकी पैसा त खान्छन नै यो अहिले को सरकार तुरुन्त धाल्नु पर्छ ।</td>\n",
              "      <td>ठुलो सरकार उल्लु बनाए बाँकी पैसा खान्छन अहिले सरकार तुरुन्त धाल्नु ।</td>\n",
              "    </tr>\n",
              "    <tr>\n",
              "      <th>2</th>\n",
              "      <td>1</td>\n",
              "      <td>GENERAL</td>\n",
              "      <td>न पहिला ठिक थियो न अहिले ठिक छ</td>\n",
              "      <td>यो पुलिस न पहिला ठिक थियो न अहिले ठिक छ यस्तो लाई बोलाउनु हुदैन ?</td>\n",
              "      <td>पुलिस पहिला ठिक अहिले ठिक बोलाउनु हुदैन</td>\n",
              "    </tr>\n",
              "    <tr>\n",
              "      <th>3</th>\n",
              "      <td>1</td>\n",
              "      <td>GENERAL</td>\n",
              "      <td>चोर</td>\n",
              "      <td>यिनी चोर हरु ले जनता लाई अन्धकार मा रखेर आफ्नो धुनु सुधारने कुकुर हरु हुन कुलमन सार ले गरे को ठिक काम हो ।</td>\n",
              "      <td>यिनी चोर हरु जनता अन्धकार रखेर धुनु सुधारने कुकुर हरु कुलमन सार गरे ठिक काम ।</td>\n",
              "    </tr>\n",
              "    <tr>\n",
              "      <th>4</th>\n",
              "      <td>1</td>\n",
              "      <td>GENERAL</td>\n",
              "      <td>हरास</td>\n",
              "      <td>सहि कुरा के पि को अस्तित्व हरास हुदैछ !</td>\n",
              "      <td>सहि पि अस्तित्व हरास हुदैछ</td>\n",
              "    </tr>\n",
              "  </tbody>\n",
              "</table>\n",
              "</div>\n",
              "    <div class=\"colab-df-buttons\">\n",
              "\n",
              "  <div class=\"colab-df-container\">\n",
              "    <button class=\"colab-df-convert\" onclick=\"convertToInteractive('df-8cc74716-a323-40b0-98c8-6079fc929b36')\"\n",
              "            title=\"Convert this dataframe to an interactive table.\"\n",
              "            style=\"display:none;\">\n",
              "\n",
              "  <svg xmlns=\"http://www.w3.org/2000/svg\" height=\"24px\" viewBox=\"0 -960 960 960\">\n",
              "    <path d=\"M120-120v-720h720v720H120Zm60-500h600v-160H180v160Zm220 220h160v-160H400v160Zm0 220h160v-160H400v160ZM180-400h160v-160H180v160Zm440 0h160v-160H620v160ZM180-180h160v-160H180v160Zm440 0h160v-160H620v160Z\"/>\n",
              "  </svg>\n",
              "    </button>\n",
              "\n",
              "  <style>\n",
              "    .colab-df-container {\n",
              "      display:flex;\n",
              "      gap: 12px;\n",
              "    }\n",
              "\n",
              "    .colab-df-convert {\n",
              "      background-color: #E8F0FE;\n",
              "      border: none;\n",
              "      border-radius: 50%;\n",
              "      cursor: pointer;\n",
              "      display: none;\n",
              "      fill: #1967D2;\n",
              "      height: 32px;\n",
              "      padding: 0 0 0 0;\n",
              "      width: 32px;\n",
              "    }\n",
              "\n",
              "    .colab-df-convert:hover {\n",
              "      background-color: #E2EBFA;\n",
              "      box-shadow: 0px 1px 2px rgba(60, 64, 67, 0.3), 0px 1px 3px 1px rgba(60, 64, 67, 0.15);\n",
              "      fill: #174EA6;\n",
              "    }\n",
              "\n",
              "    .colab-df-buttons div {\n",
              "      margin-bottom: 4px;\n",
              "    }\n",
              "\n",
              "    [theme=dark] .colab-df-convert {\n",
              "      background-color: #3B4455;\n",
              "      fill: #D2E3FC;\n",
              "    }\n",
              "\n",
              "    [theme=dark] .colab-df-convert:hover {\n",
              "      background-color: #434B5C;\n",
              "      box-shadow: 0px 1px 3px 1px rgba(0, 0, 0, 0.15);\n",
              "      filter: drop-shadow(0px 1px 2px rgba(0, 0, 0, 0.3));\n",
              "      fill: #FFFFFF;\n",
              "    }\n",
              "  </style>\n",
              "\n",
              "    <script>\n",
              "      const buttonEl =\n",
              "        document.querySelector('#df-8cc74716-a323-40b0-98c8-6079fc929b36 button.colab-df-convert');\n",
              "      buttonEl.style.display =\n",
              "        google.colab.kernel.accessAllowed ? 'block' : 'none';\n",
              "\n",
              "      async function convertToInteractive(key) {\n",
              "        const element = document.querySelector('#df-8cc74716-a323-40b0-98c8-6079fc929b36');\n",
              "        const dataTable =\n",
              "          await google.colab.kernel.invokeFunction('convertToInteractive',\n",
              "                                                    [key], {});\n",
              "        if (!dataTable) return;\n",
              "\n",
              "        const docLinkHtml = 'Like what you see? Visit the ' +\n",
              "          '<a target=\"_blank\" href=https://colab.research.google.com/notebooks/data_table.ipynb>data table notebook</a>'\n",
              "          + ' to learn more about interactive tables.';\n",
              "        element.innerHTML = '';\n",
              "        dataTable['output_type'] = 'display_data';\n",
              "        await google.colab.output.renderOutput(dataTable, element);\n",
              "        const docLink = document.createElement('div');\n",
              "        docLink.innerHTML = docLinkHtml;\n",
              "        element.appendChild(docLink);\n",
              "      }\n",
              "    </script>\n",
              "  </div>\n",
              "\n",
              "\n",
              "<div id=\"df-0f25faa4-5c72-4843-8dc6-aa0924247e6a\">\n",
              "  <button class=\"colab-df-quickchart\" onclick=\"quickchart('df-0f25faa4-5c72-4843-8dc6-aa0924247e6a')\"\n",
              "            title=\"Suggest charts\"\n",
              "            style=\"display:none;\">\n",
              "\n",
              "<svg xmlns=\"http://www.w3.org/2000/svg\" height=\"24px\"viewBox=\"0 0 24 24\"\n",
              "     width=\"24px\">\n",
              "    <g>\n",
              "        <path d=\"M19 3H5c-1.1 0-2 .9-2 2v14c0 1.1.9 2 2 2h14c1.1 0 2-.9 2-2V5c0-1.1-.9-2-2-2zM9 17H7v-7h2v7zm4 0h-2V7h2v10zm4 0h-2v-4h2v4z\"/>\n",
              "    </g>\n",
              "</svg>\n",
              "  </button>\n",
              "\n",
              "<style>\n",
              "  .colab-df-quickchart {\n",
              "      --bg-color: #E8F0FE;\n",
              "      --fill-color: #1967D2;\n",
              "      --hover-bg-color: #E2EBFA;\n",
              "      --hover-fill-color: #174EA6;\n",
              "      --disabled-fill-color: #AAA;\n",
              "      --disabled-bg-color: #DDD;\n",
              "  }\n",
              "\n",
              "  [theme=dark] .colab-df-quickchart {\n",
              "      --bg-color: #3B4455;\n",
              "      --fill-color: #D2E3FC;\n",
              "      --hover-bg-color: #434B5C;\n",
              "      --hover-fill-color: #FFFFFF;\n",
              "      --disabled-bg-color: #3B4455;\n",
              "      --disabled-fill-color: #666;\n",
              "  }\n",
              "\n",
              "  .colab-df-quickchart {\n",
              "    background-color: var(--bg-color);\n",
              "    border: none;\n",
              "    border-radius: 50%;\n",
              "    cursor: pointer;\n",
              "    display: none;\n",
              "    fill: var(--fill-color);\n",
              "    height: 32px;\n",
              "    padding: 0;\n",
              "    width: 32px;\n",
              "  }\n",
              "\n",
              "  .colab-df-quickchart:hover {\n",
              "    background-color: var(--hover-bg-color);\n",
              "    box-shadow: 0 1px 2px rgba(60, 64, 67, 0.3), 0 1px 3px 1px rgba(60, 64, 67, 0.15);\n",
              "    fill: var(--button-hover-fill-color);\n",
              "  }\n",
              "\n",
              "  .colab-df-quickchart-complete:disabled,\n",
              "  .colab-df-quickchart-complete:disabled:hover {\n",
              "    background-color: var(--disabled-bg-color);\n",
              "    fill: var(--disabled-fill-color);\n",
              "    box-shadow: none;\n",
              "  }\n",
              "\n",
              "  .colab-df-spinner {\n",
              "    border: 2px solid var(--fill-color);\n",
              "    border-color: transparent;\n",
              "    border-bottom-color: var(--fill-color);\n",
              "    animation:\n",
              "      spin 1s steps(1) infinite;\n",
              "  }\n",
              "\n",
              "  @keyframes spin {\n",
              "    0% {\n",
              "      border-color: transparent;\n",
              "      border-bottom-color: var(--fill-color);\n",
              "      border-left-color: var(--fill-color);\n",
              "    }\n",
              "    20% {\n",
              "      border-color: transparent;\n",
              "      border-left-color: var(--fill-color);\n",
              "      border-top-color: var(--fill-color);\n",
              "    }\n",
              "    30% {\n",
              "      border-color: transparent;\n",
              "      border-left-color: var(--fill-color);\n",
              "      border-top-color: var(--fill-color);\n",
              "      border-right-color: var(--fill-color);\n",
              "    }\n",
              "    40% {\n",
              "      border-color: transparent;\n",
              "      border-right-color: var(--fill-color);\n",
              "      border-top-color: var(--fill-color);\n",
              "    }\n",
              "    60% {\n",
              "      border-color: transparent;\n",
              "      border-right-color: var(--fill-color);\n",
              "    }\n",
              "    80% {\n",
              "      border-color: transparent;\n",
              "      border-right-color: var(--fill-color);\n",
              "      border-bottom-color: var(--fill-color);\n",
              "    }\n",
              "    90% {\n",
              "      border-color: transparent;\n",
              "      border-bottom-color: var(--fill-color);\n",
              "    }\n",
              "  }\n",
              "</style>\n",
              "\n",
              "  <script>\n",
              "    async function quickchart(key) {\n",
              "      const quickchartButtonEl =\n",
              "        document.querySelector('#' + key + ' button');\n",
              "      quickchartButtonEl.disabled = true;  // To prevent multiple clicks.\n",
              "      quickchartButtonEl.classList.add('colab-df-spinner');\n",
              "      try {\n",
              "        const charts = await google.colab.kernel.invokeFunction(\n",
              "            'suggestCharts', [key], {});\n",
              "      } catch (error) {\n",
              "        console.error('Error during call to suggestCharts:', error);\n",
              "      }\n",
              "      quickchartButtonEl.classList.remove('colab-df-spinner');\n",
              "      quickchartButtonEl.classList.add('colab-df-quickchart-complete');\n",
              "    }\n",
              "    (() => {\n",
              "      let quickchartButtonEl =\n",
              "        document.querySelector('#df-0f25faa4-5c72-4843-8dc6-aa0924247e6a button');\n",
              "      quickchartButtonEl.style.display =\n",
              "        google.colab.kernel.accessAllowed ? 'block' : 'none';\n",
              "    })();\n",
              "  </script>\n",
              "</div>\n",
              "\n",
              "    </div>\n",
              "  </div>\n"
            ],
            "application/vnd.google.colaboratory.intrinsic+json": {
              "type": "dataframe",
              "variable_name": "data",
              "summary": "{\n  \"name\": \"data\",\n  \"rows\": 1700,\n  \"fields\": [\n    {\n      \"column\": \"label\",\n      \"properties\": {\n        \"dtype\": \"number\",\n        \"std\": 0,\n        \"min\": 0,\n        \"max\": 1,\n        \"num_unique_values\": 2,\n        \"samples\": [\n          0,\n          1\n        ],\n        \"semantic_type\": \"\",\n        \"description\": \"\"\n      }\n    },\n    {\n      \"column\": \"catagory\",\n      \"properties\": {\n        \"dtype\": \"category\",\n        \"num_unique_values\": 4,\n        \"samples\": [\n          \"PROFANITY\",\n          \"FEEDBACK\"\n        ],\n        \"semantic_type\": \"\",\n        \"description\": \"\"\n      }\n    },\n    {\n      \"column\": \"flags\",\n      \"properties\": {\n        \"dtype\": \"string\",\n        \"num_unique_values\": 1342,\n        \"samples\": [\n          \"\\u091d\\u0941\\u0923\\u094d\\u0921\\u093e\\u090f\\u0930 \\u092e\\u0930\\u094d\\u0926\\u093e\",\n          \"\\u0938\\u093e\\u0932\\u093e \\u0927\\u094b\\u0924\\u093f\"\n        ],\n        \"semantic_type\": \"\",\n        \"description\": \"\"\n      }\n    },\n    {\n      \"column\": \"text\",\n      \"properties\": {\n        \"dtype\": \"string\",\n        \"num_unique_values\": 1409,\n        \"samples\": [\n          \"\\u0905\\u0938\\u0932\\u0940 \\u0939\\u093f\\u0930\\u094b \\u092d\\u0928\\u0947 \\u0915\\u0948 \\u0930\\u092c\\u093f \\u0939\\u0941\\u0928\\u094d\\u0928 \\u092d\\u0928\\u094d\\u0928\\u0947 \\u091c\\u0924\\u093f \\u0939\\u093e\\u091c\\u093f\\u0930 \\u0917\\u0930\\u0941\\u0924 \\u0939\\u091c\\u0941\\u0930 \\u0964\",\n          \"\\u091c\\u0938\\u094d \\u0915\\u094b \\u0915\\u0941\\u0930\\u094b \\u0938\\u094d\\u092a\\u0937\\u094d\\u091f \\u092c\\u0941\\u091d\\u093f\\u0928\\u094d\\u0925\\u094d\\u092f\\u094b \\u0909\\u0938\\u093e\\u0907 \\u0932\\u093e\\u0908 \\u0938\\u093f\\u0926\\u094d\\u0927\\u094d\\u092f\\u093e\\u0907 \\u0926\\u093f\\u092f\\u0947\\u0909 \\u0905\\u092c \\u0915\\u0947 \\u092c\\u0941\\u091d\\u094d\\u0928\\u0947 ?\"\n        ],\n        \"semantic_type\": \"\",\n        \"description\": \"\"\n      }\n    },\n    {\n      \"column\": \"cleaned_text_w/o_SW\",\n      \"properties\": {\n        \"dtype\": \"string\",\n        \"num_unique_values\": 1405,\n        \"samples\": [\n          \"\\u092d\\u093f\\u092e\\u093e\\u0930\\u094d\\u091c\\u0941\\u0928 \\u0938\\u0930 \\u0935\\u093f\\u0936\\u094d\\u0935\\u0915\\u093e\\u0947 \\u0907\\u0924\\u093f\\u0939\\u093e\\u0938 \\u0939\\u0947\\u0930\\u094d\\u0928\\u0941\\u0938\\u094d \\u0930\\u0947 \\u091b\\u0947\\u0909 \\u0927\\u092e\\u093e\\u0932\\u093e \\u091c\\u093f \\u091a\\u093e\\u0915\\u0930\\u0940\\u0935\\u093e\\u0926 \\u092a\\u0924\\u094d\\u0930\\u0915\\u093e\\u0930\\u0940\\u0924\\u093e \\u0928\\u0917\\u0930\\u094d\\u0928\\u0941\\u0939\\u094b\\u0938\\u094d \\u092a\\u0922\\u094d\\u0928 \\u091c\\u0930\\u0941\\u0930\\u0940 \\u0964\",\n          \"\\u091a\\u094b\\u0930\\u0940 \\u092e\\u093e\\u0932 \\u0938\\u0938\\u094d\\u0924\\u094b \\u0916\\u0930\\u093f\\u0926 \\u0917\\u0930\\u094d\\u0928\\u0941\\u092a\\u0928\\u093f \\u0905\\u092a\\u0930\\u093e\\u0927 \\u0920\\u0939\\u0930\\u093f\\u0928\\u094d\\u091b \\u0924\\u094d\\u092f\\u0938\\u0948\\u0932\\u0948 \\u0928\\u0947\\u0924\\u093e \\u092b\\u091f\\u093e\\u0939\\u093e \\u091a\\u094b\\u0930 \\u0964\"\n        ],\n        \"semantic_type\": \"\",\n        \"description\": \"\"\n      }\n    }\n  ]\n}"
            }
          },
          "metadata": {},
          "execution_count": 54
        }
      ]
    },
    {
      "cell_type": "code",
      "source": [
        "cleaned_text[:5]"
      ],
      "metadata": {
        "colab": {
          "base_uri": "https://localhost:8080/"
        },
        "id": "zmXYSxpyUro-",
        "outputId": "4e73b506-4b4b-4f32-c91d-35fd0037e79c"
      },
      "execution_count": null,
      "outputs": [
        {
          "output_type": "execute_result",
          "data": {
            "text/plain": [
              "['मुजि बानियाँ कस्तो खाते गर्दैछ कुलमान नभए आज नेपाल उज्यालो हुन्थ्यो अझ कुलमान कमजोरी देखाउछ यिनी शोषक ।',\n",
              " 'ठुलो सरकार उल्लु बनाए बाँकी पैसा खान्छन अहिले सरकार तुरुन्त धाल्नु ।',\n",
              " 'पुलिस पहिला ठिक अहिले ठिक बोलाउनु हुदैन',\n",
              " 'यिनी चोर हरु जनता अन्धकार रखेर धुनु सुधारने कुकुर हरु कुलमन सार गरे ठिक काम ।',\n",
              " 'सहि पि अस्तित्व हरास हुदैछ']"
            ]
          },
          "metadata": {},
          "execution_count": 55
        }
      ]
    },
    {
      "cell_type": "code",
      "source": [
        "# Write a code to collect all the words from all the text into a single list\n",
        "all_words = []\n",
        "for t in data['text']:\n",
        "    all_words.extend(t.split())\n",
        "\n",
        "print(all_words[:50])\n",
        "len(set(all_words)) # this is the number of unique words in the list"
      ],
      "metadata": {
        "colab": {
          "base_uri": "https://localhost:8080/"
        },
        "id": "w96eAl0sU3GJ",
        "outputId": "315867fe-db82-4ca2-80d1-b6df813d1ebb"
      },
      "execution_count": null,
      "outputs": [
        {
          "output_type": "stream",
          "name": "stdout",
          "text": [
            "['यो', 'मुजि', 'बानियाँ', 'ले', 'कस्तो', 'खाते', 'कुरा', 'गर्दैछ', 'कुलमान', 'नभए', 'को', 'आज', 'नेपाल', 'उज्यालो', 'हुन्थ्यो', 'अझ', 'कुलमान', 'को', 'कमजोरी', 'देखाउछ', 'यिनी', '2', 'त', 'शोषक', 'हुन', '।', 'सबै', 'भन्दा', 'ठुलो', 'सरकार', 'ले', 'नै', 'सबै', 'लाई', 'उल्लु', 'बनाए', 'को', 'छ', 'बाँकी', 'पैसा', 'त', 'खान्छन', 'नै', 'यो', 'अहिले', 'को', 'सरकार', 'तुरुन्त', 'धाल्नु', 'पर्छ']\n"
          ]
        },
        {
          "output_type": "execute_result",
          "data": {
            "text/plain": [
              "6031"
            ]
          },
          "metadata": {},
          "execution_count": 56
        }
      ]
    },
    {
      "cell_type": "code",
      "source": [
        "import matplotlib.pyplot as plt\n",
        "from collections import Counter"
      ],
      "metadata": {
        "id": "3_fYMaKVVIv3"
      },
      "execution_count": null,
      "outputs": []
    },
    {
      "cell_type": "code",
      "source": [
        "# Frequency Distribution\n",
        "freq_dist = nltk.FreqDist(all_words)\n",
        "\n",
        "plt.figure(figsize=(12,5))\n",
        "plt.title('Top 25 most common words')\n",
        "plt.xticks(fontsize=15)\n",
        "\n",
        "freq_dist.plot(25, cumulative=False)\n",
        "\n",
        "plt.show()"
      ],
      "metadata": {
        "colab": {
          "base_uri": "https://localhost:8080/",
          "height": 409
        },
        "id": "oXktG2nbVRkb",
        "outputId": "c3ad828c-90b4-4578-8ee9-736d3df50396"
      },
      "execution_count": null,
      "outputs": [
        {
          "output_type": "display_data",
          "data": {
            "text/plain": [
              "<Figure size 1200x500 with 1 Axes>"
            ],
            "image/png": "[encoded data removed]"
          },
          "metadata": {}
        }
      ]
    },
    {
      "cell_type": "code",
      "source": [
        "# Write the code for plotting the cleaned text\n",
        "all_words = []\n",
        "for t in data['cleaned_text_w/o_SW']:\n",
        "    all_words.extend(t.split())\n",
        "\n",
        "print(all_words[:50])"
      ],
      "metadata": {
        "colab": {
          "base_uri": "https://localhost:8080/"
        },
        "id": "77IRpDN0VW3w",
        "outputId": "e0e2cc3b-17da-4e2e-814e-afbd0f9351de"
      },
      "execution_count": null,
      "outputs": [
        {
          "output_type": "stream",
          "name": "stdout",
          "text": [
            "['मुजि', 'बानियाँ', 'कस्तो', 'खाते', 'गर्दैछ', 'कुलमान', 'नभए', 'आज', 'नेपाल', 'उज्यालो', 'हुन्थ्यो', 'अझ', 'कुलमान', 'कमजोरी', 'देखाउछ', 'यिनी', 'शोषक', '।', 'ठुलो', 'सरकार', 'उल्लु', 'बनाए', 'बाँकी', 'पैसा', 'खान्छन', 'अहिले', 'सरकार', 'तुरुन्त', 'धाल्नु', '।', 'पुलिस', 'पहिला', 'ठिक', 'अहिले', 'ठिक', 'बोलाउनु', 'हुदैन', 'यिनी', 'चोर', 'हरु', 'जनता', 'अन्धकार', 'रखेर', 'धुनु', 'सुधारने', 'कुकुर', 'हरु', 'कुलमन', 'सार', 'गरे']\n"
          ]
        }
      ]
    },
    {
      "cell_type": "code",
      "source": [
        "len(set(all_words)) # this is the number of unique words in the list"
      ],
      "metadata": {
        "colab": {
          "base_uri": "https://localhost:8080/"
        },
        "id": "_K2v7oVFVhgL",
        "outputId": "0e4cd9a1-45c1-45fd-e4e5-7a177b3a65cf"
      },
      "execution_count": null,
      "outputs": [
        {
          "output_type": "execute_result",
          "data": {
            "text/plain": [
              "5561"
            ]
          },
          "metadata": {},
          "execution_count": 63
        }
      ]
    },
    {
      "cell_type": "code",
      "source": [
        "# Frequency Distribution\n",
        "freq_dist = nltk.FreqDist(all_words)\n",
        "\n",
        "plt.figure(figsize=(12,5))\n",
        "plt.title('Top 25 most common words')\n",
        "plt.xticks(fontsize=15)\n",
        "\n",
        "freq_dist.plot(25, cumulative=False)\n",
        "\n",
        "plt.show()"
      ],
      "metadata": {
        "colab": {
          "base_uri": "https://localhost:8080/",
          "height": 409
        },
        "id": "BSIpRzFoVkca",
        "outputId": "aa6ee374-704a-4fb1-b9ce-89e26e0f97ea"
      },
      "execution_count": null,
      "outputs": [
        {
          "output_type": "display_data",
          "data": {
            "text/plain": [
              "<Figure size 1200x500 with 1 Axes>"
            ],
            "image/png": "[encoded data removed]"
          },
          "metadata": {}
        }
      ]
    },
    {
      "cell_type": "code",
      "source": [
        "data.head()"
      ],
      "metadata": {
        "colab": {
          "base_uri": "https://localhost:8080/",
          "height": 432
        },
        "id": "6OEuEr0qHiT1",
        "outputId": "f3782d59-76f2-4b5c-86e0-29f4288eb53c"
      },
      "execution_count": null,
      "outputs": [
        {
          "output_type": "execute_result",
          "data": {
            "text/plain": [
              "   label catagory                           flags  \\\n",
              "0      1  GENERAL                            शोषक   \n",
              "1      1  GENERAL                      उल्लु बनाए   \n",
              "2      1  GENERAL  न पहिला ठिक थियो न अहिले ठिक छ   \n",
              "3      1  GENERAL                             चोर   \n",
              "4      1  GENERAL                            हरास   \n",
              "\n",
              "                                                                                                                               text  \\\n",
              "0  यो मुजि बानियाँ ले कस्तो खाते कुरा गर्दैछ कुलमान नभए को आज नेपाल उज्यालो हुन्थ्यो अझ कुलमान को कमजोरी देखाउछ यिनी 2 त शोषक हुन ।   \n",
              "1                 सबै भन्दा ठुलो सरकार ले नै सबै लाई उल्लु बनाए को छ बाँकी पैसा त खान्छन नै यो अहिले को सरकार तुरुन्त धाल्नु पर्छ ।   \n",
              "2                                                                 यो पुलिस न पहिला ठिक थियो न अहिले ठिक छ यस्तो लाई बोलाउनु हुदैन ?   \n",
              "3                        यिनी चोर हरु ले जनता लाई अन्धकार मा रखेर आफ्नो धुनु सुधारने कुकुर हरु हुन कुलमन सार ले गरे को ठिक काम हो ।   \n",
              "4                                                                                           सहि कुरा के पि को अस्तित्व हरास हुदैछ !   \n",
              "\n",
              "                                                                                       cleaned_text_w/o_SW  \n",
              "0  मुजि बानियाँ कस्तो खाते गर्दैछ कुलमान नभए आज नेपाल उज्यालो हुन्थ्यो अझ कुलमान कमजोरी देखाउछ यिनी शोषक ।  \n",
              "1                                     ठुलो सरकार उल्लु बनाए बाँकी पैसा खान्छन अहिले सरकार तुरुन्त धाल्नु ।  \n",
              "2                                                                  पुलिस पहिला ठिक अहिले ठिक बोलाउनु हुदैन  \n",
              "3                            यिनी चोर हरु जनता अन्धकार रखेर धुनु सुधारने कुकुर हरु कुलमन सार गरे ठिक काम ।  \n",
              "4                                                                               सहि पि अस्तित्व हरास हुदैछ  "
            ],
            "text/html": [
              "\n",
              "  <div id=\"df-d9d0e876-f8f7-427a-87bf-d81f58e71165\" class=\"colab-df-container\">\n",
              "    <div>\n",
              "<style scoped>\n",
              "    .dataframe tbody tr th:only-of-type {\n",
              "        vertical-align: middle;\n",
              "    }\n",
              "\n",
              "    .dataframe tbody tr th {\n",
              "        vertical-align: top;\n",
              "    }\n",
              "\n",
              "    .dataframe thead th {\n",
              "        text-align: right;\n",
              "    }\n",
              "</style>\n",
              "<table border=\"1\" class=\"dataframe\">\n",
              "  <thead>\n",
              "    <tr style=\"text-align: right;\">\n",
              "      <th></th>\n",
              "      <th>label</th>\n",
              "      <th>catagory</th>\n",
              "      <th>flags</th>\n",
              "      <th>text</th>\n",
              "      <th>cleaned_text_w/o_SW</th>\n",
              "    </tr>\n",
              "  </thead>\n",
              "  <tbody>\n",
              "    <tr>\n",
              "      <th>0</th>\n",
              "      <td>1</td>\n",
              "      <td>GENERAL</td>\n",
              "      <td>शोषक</td>\n",
              "      <td>यो मुजि बानियाँ ले कस्तो खाते कुरा गर्दैछ कुलमान नभए को आज नेपाल उज्यालो हुन्थ्यो अझ कुलमान को कमजोरी देखाउछ यिनी 2 त शोषक हुन ।</td>\n",
              "      <td>मुजि बानियाँ कस्तो खाते गर्दैछ कुलमान नभए आज नेपाल उज्यालो हुन्थ्यो अझ कुलमान कमजोरी देखाउछ यिनी शोषक ।</td>\n",
              "    </tr>\n",
              "    <tr>\n",
              "      <th>1</th>\n",
              "      <td>1</td>\n",
              "      <td>GENERAL</td>\n",
              "      <td>उल्लु बनाए</td>\n",
              "      <td>सबै भन्दा ठुलो सरकार ले नै सबै लाई उल्लु बनाए को छ बाँकी पैसा त खान्छन नै यो अहिले को सरकार तुरुन्त धाल्नु पर्छ ।</td>\n",
              "      <td>ठुलो सरकार उल्लु बनाए बाँकी पैसा खान्छन अहिले सरकार तुरुन्त धाल्नु ।</td>\n",
              "    </tr>\n",
              "    <tr>\n",
              "      <th>2</th>\n",
              "      <td>1</td>\n",
              "      <td>GENERAL</td>\n",
              "      <td>न पहिला ठिक थियो न अहिले ठिक छ</td>\n",
              "      <td>यो पुलिस न पहिला ठिक थियो न अहिले ठिक छ यस्तो लाई बोलाउनु हुदैन ?</td>\n",
              "      <td>पुलिस पहिला ठिक अहिले ठिक बोलाउनु हुदैन</td>\n",
              "    </tr>\n",
              "    <tr>\n",
              "      <th>3</th>\n",
              "      <td>1</td>\n",
              "      <td>GENERAL</td>\n",
              "      <td>चोर</td>\n",
              "      <td>यिनी चोर हरु ले जनता लाई अन्धकार मा रखेर आफ्नो धुनु सुधारने कुकुर हरु हुन कुलमन सार ले गरे को ठिक काम हो ।</td>\n",
              "      <td>यिनी चोर हरु जनता अन्धकार रखेर धुनु सुधारने कुकुर हरु कुलमन सार गरे ठिक काम ।</td>\n",
              "    </tr>\n",
              "    <tr>\n",
              "      <th>4</th>\n",
              "      <td>1</td>\n",
              "      <td>GENERAL</td>\n",
              "      <td>हरास</td>\n",
              "      <td>सहि कुरा के पि को अस्तित्व हरास हुदैछ !</td>\n",
              "      <td>सहि पि अस्तित्व हरास हुदैछ</td>\n",
              "    </tr>\n",
              "  </tbody>\n",
              "</table>\n",
              "</div>\n",
              "    <div class=\"colab-df-buttons\">\n",
              "\n",
              "  <div class=\"colab-df-container\">\n",
              "    <button class=\"colab-df-convert\" onclick=\"convertToInteractive('df-d9d0e876-f8f7-427a-87bf-d81f58e71165')\"\n",
              "            title=\"Convert this dataframe to an interactive table.\"\n",
              "            style=\"display:none;\">\n",
              "\n",
              "  <svg xmlns=\"http://www.w3.org/2000/svg\" height=\"24px\" viewBox=\"0 -960 960 960\">\n",
              "    <path d=\"M120-120v-720h720v720H120Zm60-500h600v-160H180v160Zm220 220h160v-160H400v160Zm0 220h160v-160H400v160ZM180-400h160v-160H180v160Zm440 0h160v-160H620v160ZM180-180h160v-160H180v160Zm440 0h160v-160H620v160Z\"/>\n",
              "  </svg>\n",
              "    </button>\n",
              "\n",
              "  <style>\n",
              "    .colab-df-container {\n",
              "      display:flex;\n",
              "      gap: 12px;\n",
              "    }\n",
              "\n",
              "    .colab-df-convert {\n",
              "      background-color: #E8F0FE;\n",
              "      border: none;\n",
              "      border-radius: 50%;\n",
              "      cursor: pointer;\n",
              "      display: none;\n",
              "      fill: #1967D2;\n",
              "      height: 32px;\n",
              "      padding: 0 0 0 0;\n",
              "      width: 32px;\n",
              "    }\n",
              "\n",
              "    .colab-df-convert:hover {\n",
              "      background-color: #E2EBFA;\n",
              "      box-shadow: 0px 1px 2px rgba(60, 64, 67, 0.3), 0px 1px 3px 1px rgba(60, 64, 67, 0.15);\n",
              "      fill: #174EA6;\n",
              "    }\n",
              "\n",
              "    .colab-df-buttons div {\n",
              "      margin-bottom: 4px;\n",
              "    }\n",
              "\n",
              "    [theme=dark] .colab-df-convert {\n",
              "      background-color: #3B4455;\n",
              "      fill: #D2E3FC;\n",
              "    }\n",
              "\n",
              "    [theme=dark] .colab-df-convert:hover {\n",
              "      background-color: #434B5C;\n",
              "      box-shadow: 0px 1px 3px 1px rgba(0, 0, 0, 0.15);\n",
              "      filter: drop-shadow(0px 1px 2px rgba(0, 0, 0, 0.3));\n",
              "      fill: #FFFFFF;\n",
              "    }\n",
              "  </style>\n",
              "\n",
              "    <script>\n",
              "      const buttonEl =\n",
              "        document.querySelector('#df-d9d0e876-f8f7-427a-87bf-d81f58e71165 button.colab-df-convert');\n",
              "      buttonEl.style.display =\n",
              "        google.colab.kernel.accessAllowed ? 'block' : 'none';\n",
              "\n",
              "      async function convertToInteractive(key) {\n",
              "        const element = document.querySelector('#df-d9d0e876-f8f7-427a-87bf-d81f58e71165');\n",
              "        const dataTable =\n",
              "          await google.colab.kernel.invokeFunction('convertToInteractive',\n",
              "                                                    [key], {});\n",
              "        if (!dataTable) return;\n",
              "\n",
              "        const docLinkHtml = 'Like what you see? Visit the ' +\n",
              "          '<a target=\"_blank\" href=https://colab.research.google.com/notebooks/data_table.ipynb>data table notebook</a>'\n",
              "          + ' to learn more about interactive tables.';\n",
              "        element.innerHTML = '';\n",
              "        dataTable['output_type'] = 'display_data';\n",
              "        await google.colab.output.renderOutput(dataTable, element);\n",
              "        const docLink = document.createElement('div');\n",
              "        docLink.innerHTML = docLinkHtml;\n",
              "        element.appendChild(docLink);\n",
              "      }\n",
              "    </script>\n",
              "  </div>\n",
              "\n",
              "\n",
              "<div id=\"df-049936b6-1849-4844-b4d1-b59dc15b3090\">\n",
              "  <button class=\"colab-df-quickchart\" onclick=\"quickchart('df-049936b6-1849-4844-b4d1-b59dc15b3090')\"\n",
              "            title=\"Suggest charts\"\n",
              "            style=\"display:none;\">\n",
              "\n",
              "<svg xmlns=\"http://www.w3.org/2000/svg\" height=\"24px\"viewBox=\"0 0 24 24\"\n",
              "     width=\"24px\">\n",
              "    <g>\n",
              "        <path d=\"M19 3H5c-1.1 0-2 .9-2 2v14c0 1.1.9 2 2 2h14c1.1 0 2-.9 2-2V5c0-1.1-.9-2-2-2zM9 17H7v-7h2v7zm4 0h-2V7h2v10zm4 0h-2v-4h2v4z\"/>\n",
              "    </g>\n",
              "</svg>\n",
              "  </button>\n",
              "\n",
              "<style>\n",
              "  .colab-df-quickchart {\n",
              "      --bg-color: #E8F0FE;\n",
              "      --fill-color: #1967D2;\n",
              "      --hover-bg-color: #E2EBFA;\n",
              "      --hover-fill-color: #174EA6;\n",
              "      --disabled-fill-color: #AAA;\n",
              "      --disabled-bg-color: #DDD;\n",
              "  }\n",
              "\n",
              "  [theme=dark] .colab-df-quickchart {\n",
              "      --bg-color: #3B4455;\n",
              "      --fill-color: #D2E3FC;\n",
              "      --hover-bg-color: #434B5C;\n",
              "      --hover-fill-color: #FFFFFF;\n",
              "      --disabled-bg-color: #3B4455;\n",
              "      --disabled-fill-color: #666;\n",
              "  }\n",
              "\n",
              "  .colab-df-quickchart {\n",
              "    background-color: var(--bg-color);\n",
              "    border: none;\n",
              "    border-radius: 50%;\n",
              "    cursor: pointer;\n",
              "    display: none;\n",
              "    fill: var(--fill-color);\n",
              "    height: 32px;\n",
              "    padding: 0;\n",
              "    width: 32px;\n",
              "  }\n",
              "\n",
              "  .colab-df-quickchart:hover {\n",
              "    background-color: var(--hover-bg-color);\n",
              "    box-shadow: 0 1px 2px rgba(60, 64, 67, 0.3), 0 1px 3px 1px rgba(60, 64, 67, 0.15);\n",
              "    fill: var(--button-hover-fill-color);\n",
              "  }\n",
              "\n",
              "  .colab-df-quickchart-complete:disabled,\n",
              "  .colab-df-quickchart-complete:disabled:hover {\n",
              "    background-color: var(--disabled-bg-color);\n",
              "    fill: var(--disabled-fill-color);\n",
              "    box-shadow: none;\n",
              "  }\n",
              "\n",
              "  .colab-df-spinner {\n",
              "    border: 2px solid var(--fill-color);\n",
              "    border-color: transparent;\n",
              "    border-bottom-color: var(--fill-color);\n",
              "    animation:\n",
              "      spin 1s steps(1) infinite;\n",
              "  }\n",
              "\n",
              "  @keyframes spin {\n",
              "    0% {\n",
              "      border-color: transparent;\n",
              "      border-bottom-color: var(--fill-color);\n",
              "      border-left-color: var(--fill-color);\n",
              "    }\n",
              "    20% {\n",
              "      border-color: transparent;\n",
              "      border-left-color: var(--fill-color);\n",
              "      border-top-color: var(--fill-color);\n",
              "    }\n",
              "    30% {\n",
              "      border-color: transparent;\n",
              "      border-left-color: var(--fill-color);\n",
              "      border-top-color: var(--fill-color);\n",
              "      border-right-color: var(--fill-color);\n",
              "    }\n",
              "    40% {\n",
              "      border-color: transparent;\n",
              "      border-right-color: var(--fill-color);\n",
              "      border-top-color: var(--fill-color);\n",
              "    }\n",
              "    60% {\n",
              "      border-color: transparent;\n",
              "      border-right-color: var(--fill-color);\n",
              "    }\n",
              "    80% {\n",
              "      border-color: transparent;\n",
              "      border-right-color: var(--fill-color);\n",
              "      border-bottom-color: var(--fill-color);\n",
              "    }\n",
              "    90% {\n",
              "      border-color: transparent;\n",
              "      border-bottom-color: var(--fill-color);\n",
              "    }\n",
              "  }\n",
              "</style>\n",
              "\n",
              "  <script>\n",
              "    async function quickchart(key) {\n",
              "      const quickchartButtonEl =\n",
              "        document.querySelector('#' + key + ' button');\n",
              "      quickchartButtonEl.disabled = true;  // To prevent multiple clicks.\n",
              "      quickchartButtonEl.classList.add('colab-df-spinner');\n",
              "      try {\n",
              "        const charts = await google.colab.kernel.invokeFunction(\n",
              "            'suggestCharts', [key], {});\n",
              "      } catch (error) {\n",
              "        console.error('Error during call to suggestCharts:', error);\n",
              "      }\n",
              "      quickchartButtonEl.classList.remove('colab-df-spinner');\n",
              "      quickchartButtonEl.classList.add('colab-df-quickchart-complete');\n",
              "    }\n",
              "    (() => {\n",
              "      let quickchartButtonEl =\n",
              "        document.querySelector('#df-049936b6-1849-4844-b4d1-b59dc15b3090 button');\n",
              "      quickchartButtonEl.style.display =\n",
              "        google.colab.kernel.accessAllowed ? 'block' : 'none';\n",
              "    })();\n",
              "  </script>\n",
              "</div>\n",
              "\n",
              "    </div>\n",
              "  </div>\n"
            ],
            "application/vnd.google.colaboratory.intrinsic+json": {
              "type": "dataframe",
              "variable_name": "data",
              "summary": "{\n  \"name\": \"data\",\n  \"rows\": 1700,\n  \"fields\": [\n    {\n      \"column\": \"label\",\n      \"properties\": {\n        \"dtype\": \"number\",\n        \"std\": 0,\n        \"min\": 0,\n        \"max\": 1,\n        \"num_unique_values\": 2,\n        \"samples\": [\n          0,\n          1\n        ],\n        \"semantic_type\": \"\",\n        \"description\": \"\"\n      }\n    },\n    {\n      \"column\": \"catagory\",\n      \"properties\": {\n        \"dtype\": \"category\",\n        \"num_unique_values\": 4,\n        \"samples\": [\n          \"PROFANITY\",\n          \"FEEDBACK\"\n        ],\n        \"semantic_type\": \"\",\n        \"description\": \"\"\n      }\n    },\n    {\n      \"column\": \"flags\",\n      \"properties\": {\n        \"dtype\": \"string\",\n        \"num_unique_values\": 1342,\n        \"samples\": [\n          \"\\u091d\\u0941\\u0923\\u094d\\u0921\\u093e\\u090f\\u0930 \\u092e\\u0930\\u094d\\u0926\\u093e\",\n          \"\\u0938\\u093e\\u0932\\u093e \\u0927\\u094b\\u0924\\u093f\"\n        ],\n        \"semantic_type\": \"\",\n        \"description\": \"\"\n      }\n    },\n    {\n      \"column\": \"text\",\n      \"properties\": {\n        \"dtype\": \"string\",\n        \"num_unique_values\": 1409,\n        \"samples\": [\n          \"\\u0905\\u0938\\u0932\\u0940 \\u0939\\u093f\\u0930\\u094b \\u092d\\u0928\\u0947 \\u0915\\u0948 \\u0930\\u092c\\u093f \\u0939\\u0941\\u0928\\u094d\\u0928 \\u092d\\u0928\\u094d\\u0928\\u0947 \\u091c\\u0924\\u093f \\u0939\\u093e\\u091c\\u093f\\u0930 \\u0917\\u0930\\u0941\\u0924 \\u0939\\u091c\\u0941\\u0930 \\u0964\",\n          \"\\u091c\\u0938\\u094d \\u0915\\u094b \\u0915\\u0941\\u0930\\u094b \\u0938\\u094d\\u092a\\u0937\\u094d\\u091f \\u092c\\u0941\\u091d\\u093f\\u0928\\u094d\\u0925\\u094d\\u092f\\u094b \\u0909\\u0938\\u093e\\u0907 \\u0932\\u093e\\u0908 \\u0938\\u093f\\u0926\\u094d\\u0927\\u094d\\u092f\\u093e\\u0907 \\u0926\\u093f\\u092f\\u0947\\u0909 \\u0905\\u092c \\u0915\\u0947 \\u092c\\u0941\\u091d\\u094d\\u0928\\u0947 ?\"\n        ],\n        \"semantic_type\": \"\",\n        \"description\": \"\"\n      }\n    },\n    {\n      \"column\": \"cleaned_text_w/o_SW\",\n      \"properties\": {\n        \"dtype\": \"string\",\n        \"num_unique_values\": 1405,\n        \"samples\": [\n          \"\\u092d\\u093f\\u092e\\u093e\\u0930\\u094d\\u091c\\u0941\\u0928 \\u0938\\u0930 \\u0935\\u093f\\u0936\\u094d\\u0935\\u0915\\u093e\\u0947 \\u0907\\u0924\\u093f\\u0939\\u093e\\u0938 \\u0939\\u0947\\u0930\\u094d\\u0928\\u0941\\u0938\\u094d \\u0930\\u0947 \\u091b\\u0947\\u0909 \\u0927\\u092e\\u093e\\u0932\\u093e \\u091c\\u093f \\u091a\\u093e\\u0915\\u0930\\u0940\\u0935\\u093e\\u0926 \\u092a\\u0924\\u094d\\u0930\\u0915\\u093e\\u0930\\u0940\\u0924\\u093e \\u0928\\u0917\\u0930\\u094d\\u0928\\u0941\\u0939\\u094b\\u0938\\u094d \\u092a\\u0922\\u094d\\u0928 \\u091c\\u0930\\u0941\\u0930\\u0940 \\u0964\",\n          \"\\u091a\\u094b\\u0930\\u0940 \\u092e\\u093e\\u0932 \\u0938\\u0938\\u094d\\u0924\\u094b \\u0916\\u0930\\u093f\\u0926 \\u0917\\u0930\\u094d\\u0928\\u0941\\u092a\\u0928\\u093f \\u0905\\u092a\\u0930\\u093e\\u0927 \\u0920\\u0939\\u0930\\u093f\\u0928\\u094d\\u091b \\u0924\\u094d\\u092f\\u0938\\u0948\\u0932\\u0948 \\u0928\\u0947\\u0924\\u093e \\u092b\\u091f\\u093e\\u0939\\u093e \\u091a\\u094b\\u0930 \\u0964\"\n        ],\n        \"semantic_type\": \"\",\n        \"description\": \"\"\n      }\n    }\n  ]\n}"
            }
          },
          "metadata": {},
          "execution_count": 68
        }
      ]
    },
    {
      "cell_type": "code",
      "source": [
        "data.shape"
      ],
      "metadata": {
        "colab": {
          "base_uri": "https://localhost:8080/"
        },
        "id": "5sVDZOU5Ho4c",
        "outputId": "55000976-0f96-49d2-c2af-263313dc0247"
      },
      "execution_count": null,
      "outputs": [
        {
          "output_type": "execute_result",
          "data": {
            "text/plain": [
              "(1700, 5)"
            ]
          },
          "metadata": {},
          "execution_count": 69
        }
      ]
    },
    {
      "cell_type": "code",
      "source": [
        "from sklearn.feature_extraction.text import CountVectorizer\n",
        "\n",
        "CV = CountVectorizer()\n",
        "CV_features = CV.fit_transform(data['cleaned_text_w/o_SW'])"
      ],
      "metadata": {
        "id": "kXjHcZu5HwRy"
      },
      "execution_count": null,
      "outputs": []
    },
    {
      "cell_type": "code",
      "source": [
        "CV_features.shape"
      ],
      "metadata": {
        "colab": {
          "base_uri": "https://localhost:8080/"
        },
        "id": "z-NRcjAaX-aa",
        "outputId": "95f9f3f4-d24a-47e8-82de-a97329dd32e0"
      },
      "execution_count": null,
      "outputs": [
        {
          "output_type": "execute_result",
          "data": {
            "text/plain": [
              "(1700, 1030)"
            ]
          },
          "metadata": {},
          "execution_count": 71
        }
      ]
    },
    {
      "cell_type": "code",
      "source": [
        "CV_features[0]"
      ],
      "metadata": {
        "colab": {
          "base_uri": "https://localhost:8080/"
        },
        "id": "ENxiRNVtYCP4",
        "outputId": "b4e141b2-a023-4896-dfd7-081871a58d3f"
      },
      "execution_count": null,
      "outputs": [
        {
          "output_type": "execute_result",
          "data": {
            "text/plain": [
              "<1x1030 sparse matrix of type '<class 'numpy.int64'>'\n",
              "\twith 10 stored elements in Compressed Sparse Row format>"
            ]
          },
          "metadata": {},
          "execution_count": 72
        }
      ]
    },
    {
      "cell_type": "code",
      "source": [
        "type(CV_features[0])"
      ],
      "metadata": {
        "colab": {
          "base_uri": "https://localhost:8080/",
          "height": 187
        },
        "id": "ThOSd5iSYGNy",
        "outputId": "c17bd5fb-a620-4d0a-b074-c9a6e13f8352"
      },
      "execution_count": null,
      "outputs": [
        {
          "output_type": "execute_result",
          "data": {
            "text/plain": [
              "scipy.sparse._csr.csr_matrix"
            ],
            "text/html": [
              "<div style=\"max-width:800px; border: 1px solid var(--colab-border-color);\"><style>\n",
              "      pre.function-repr-contents {\n",
              "        overflow-x: auto;\n",
              "        padding: 8px 12px;\n",
              "        max-height: 500px;\n",
              "      }\n",
              "\n",
              "      pre.function-repr-contents.function-repr-contents-collapsed {\n",
              "        cursor: pointer;\n",
              "        max-height: 100px;\n",
              "      }\n",
              "    </style>\n",
              "    <pre style=\"white-space: initial; background:\n",
              "         var(--colab-secondary-surface-color); padding: 8px 12px;\n",
              "         border-bottom: 1px solid var(--colab-border-color);\"><b>scipy.sparse._csr.csr_matrix</b><br/>def __init__(arg1, shape=None, dtype=None, copy=False)</pre><pre class=\"function-repr-contents function-repr-contents-collapsed\" style=\"\"><a class=\"filepath\" style=\"display:none\" href=\"#\">/usr/local/lib/python3.10/dist-packages/scipy/sparse/_csr.py</a>Compressed Sparse Row matrix\n",
              "\n",
              "This can be instantiated in several ways:\n",
              "    csr_array(D)\n",
              "        with a dense matrix or rank-2 ndarray D\n",
              "\n",
              "    csr_array(S)\n",
              "        with another sparse matrix S (equivalent to S.tocsr())\n",
              "\n",
              "    csr_array((M, N), [dtype])\n",
              "        to construct an empty matrix with shape (M, N)\n",
              "        dtype is optional, defaulting to dtype=&#x27;d&#x27;.\n",
              "\n",
              "    csr_array((data, (row_ind, col_ind)), [shape=(M, N)])\n",
              "        where ``data``, ``row_ind`` and ``col_ind`` satisfy the\n",
              "        relationship ``a[row_ind[k], col_ind[k]] = data[k]``.\n",
              "\n",
              "    csr_array((data, indices, indptr), [shape=(M, N)])\n",
              "        is the standard CSR representation where the column indices for\n",
              "        row i are stored in ``indices[indptr[i]:indptr[i+1]]`` and their\n",
              "        corresponding values are stored in ``data[indptr[i]:indptr[i+1]]``.\n",
              "        If the shape parameter is not supplied, the matrix dimensions\n",
              "        are inferred from the index arrays.\n",
              "\n",
              "Attributes\n",
              "----------\n",
              "dtype : dtype\n",
              "    Data type of the matrix\n",
              "shape : 2-tuple\n",
              "    Shape of the matrix\n",
              "ndim : int\n",
              "    Number of dimensions (this is always 2)\n",
              "nnz\n",
              "    Number of stored values, including explicit zeros\n",
              "data\n",
              "    CSR format data array of the matrix\n",
              "indices\n",
              "    CSR format index array of the matrix\n",
              "indptr\n",
              "    CSR format index pointer array of the matrix\n",
              "has_sorted_indices\n",
              "    Whether indices are sorted\n",
              "\n",
              "Notes\n",
              "-----\n",
              "\n",
              "Sparse matrices can be used in arithmetic operations: they support\n",
              "addition, subtraction, multiplication, division, and matrix power.\n",
              "\n",
              "Advantages of the CSR format\n",
              "  - efficient arithmetic operations CSR + CSR, CSR * CSR, etc.\n",
              "  - efficient row slicing\n",
              "  - fast matrix vector products\n",
              "\n",
              "Disadvantages of the CSR format\n",
              "  - slow column slicing operations (consider CSC)\n",
              "  - changes to the sparsity structure are expensive (consider LIL or DOK)\n",
              "\n",
              "Canonical Format\n",
              "    - Within each row, indices are sorted by column.\n",
              "    - There are no duplicate entries.\n",
              "\n",
              "Examples\n",
              "--------\n",
              "\n",
              "&gt;&gt;&gt; import numpy as np\n",
              "&gt;&gt;&gt; from scipy.sparse import csr_array\n",
              "&gt;&gt;&gt; csr_array((3, 4), dtype=np.int8).toarray()\n",
              "array([[0, 0, 0, 0],\n",
              "       [0, 0, 0, 0],\n",
              "       [0, 0, 0, 0]], dtype=int8)\n",
              "\n",
              "&gt;&gt;&gt; row = np.array([0, 0, 1, 2, 2, 2])\n",
              "&gt;&gt;&gt; col = np.array([0, 2, 2, 0, 1, 2])\n",
              "&gt;&gt;&gt; data = np.array([1, 2, 3, 4, 5, 6])\n",
              "&gt;&gt;&gt; csr_array((data, (row, col)), shape=(3, 3)).toarray()\n",
              "array([[1, 0, 2],\n",
              "       [0, 0, 3],\n",
              "       [4, 5, 6]])\n",
              "\n",
              "&gt;&gt;&gt; indptr = np.array([0, 2, 3, 6])\n",
              "&gt;&gt;&gt; indices = np.array([0, 2, 2, 0, 1, 2])\n",
              "&gt;&gt;&gt; data = np.array([1, 2, 3, 4, 5, 6])\n",
              "&gt;&gt;&gt; csr_array((data, indices, indptr), shape=(3, 3)).toarray()\n",
              "array([[1, 0, 2],\n",
              "       [0, 0, 3],\n",
              "       [4, 5, 6]])\n",
              "\n",
              "Duplicate entries are summed together:\n",
              "\n",
              "&gt;&gt;&gt; row = np.array([0, 1, 2, 0])\n",
              "&gt;&gt;&gt; col = np.array([0, 1, 1, 0])\n",
              "&gt;&gt;&gt; data = np.array([1, 2, 4, 8])\n",
              "&gt;&gt;&gt; csr_array((data, (row, col)), shape=(3, 3)).toarray()\n",
              "array([[9, 0, 0],\n",
              "       [0, 2, 0],\n",
              "       [0, 4, 0]])\n",
              "\n",
              "As an example of how to construct a CSR matrix incrementally,\n",
              "the following snippet builds a term-document matrix from texts:\n",
              "\n",
              "&gt;&gt;&gt; docs = [[&quot;hello&quot;, &quot;world&quot;, &quot;hello&quot;], [&quot;goodbye&quot;, &quot;cruel&quot;, &quot;world&quot;]]\n",
              "&gt;&gt;&gt; indptr = [0]\n",
              "&gt;&gt;&gt; indices = []\n",
              "&gt;&gt;&gt; data = []\n",
              "&gt;&gt;&gt; vocabulary = {}\n",
              "&gt;&gt;&gt; for d in docs:\n",
              "...     for term in d:\n",
              "...         index = vocabulary.setdefault(term, len(vocabulary))\n",
              "...         indices.append(index)\n",
              "...         data.append(1)\n",
              "...     indptr.append(len(indices))\n",
              "...\n",
              "&gt;&gt;&gt; csr_array((data, indices, indptr), dtype=int).toarray()\n",
              "array([[2, 1, 0, 0],\n",
              "       [0, 1, 1, 1]])</pre>\n",
              "      <script>\n",
              "      if (google.colab.kernel.accessAllowed && google.colab.files && google.colab.files.view) {\n",
              "        for (const element of document.querySelectorAll('.filepath')) {\n",
              "          element.style.display = 'block'\n",
              "          element.onclick = (event) => {\n",
              "            event.preventDefault();\n",
              "            event.stopPropagation();\n",
              "            google.colab.files.view(element.textContent, 370);\n",
              "          };\n",
              "        }\n",
              "      }\n",
              "      for (const element of document.querySelectorAll('.function-repr-contents')) {\n",
              "        element.onclick = (event) => {\n",
              "          event.preventDefault();\n",
              "          event.stopPropagation();\n",
              "          element.classList.toggle('function-repr-contents-collapsed');\n",
              "        };\n",
              "      }\n",
              "      </script>\n",
              "      </div>"
            ]
          },
          "metadata": {},
          "execution_count": 73
        }
      ]
    },
    {
      "cell_type": "code",
      "source": [
        "CV_features[0].todense()"
      ],
      "metadata": {
        "colab": {
          "base_uri": "https://localhost:8080/"
        },
        "id": "bKZc8nZwZSxG",
        "outputId": "f44423e0-4922-4ef3-90da-0b84c60b534e"
      },
      "execution_count": null,
      "outputs": [
        {
          "output_type": "execute_result",
          "data": {
            "text/plain": [
              "matrix([[0, 0, 0, ..., 0, 0, 0]])"
            ]
          },
          "metadata": {},
          "execution_count": 74
        }
      ]
    },
    {
      "cell_type": "code",
      "source": [
        "df = pd.DataFrame(CV_features.todense() )"
      ],
      "metadata": {
        "id": "DXECt5PEZZU2"
      },
      "execution_count": null,
      "outputs": []
    },
    {
      "cell_type": "code",
      "source": [
        "df"
      ],
      "metadata": {
        "colab": {
          "base_uri": "https://localhost:8080/",
          "height": 444
        },
        "id": "AXtr3CwrZcjq",
        "outputId": "9e045ddf-b5f6-4adf-a2dc-6e5fbd28b096"
      },
      "execution_count": null,
      "outputs": [
        {
          "output_type": "execute_result",
          "data": {
            "text/plain": [
              "      0     1     2     3     4     5     6     7     8     9     ...  1020  \\\n",
              "0        0     0     0     0     0     0     0     0     0     0  ...     0   \n",
              "1        0     0     0     0     0     0     0     0     0     0  ...     0   \n",
              "2        0     0     0     0     0     0     0     0     0     0  ...     0   \n",
              "3        0     0     0     0     0     0     0     0     0     0  ...     0   \n",
              "4        0     0     0     0     0     0     0     0     0     0  ...     0   \n",
              "...    ...   ...   ...   ...   ...   ...   ...   ...   ...   ...  ...   ...   \n",
              "1695     0     0     0     0     0     0     0     0     0     0  ...     0   \n",
              "1696     0     0     0     0     0     0     0     0     0     0  ...     0   \n",
              "1697     0     0     0     0     0     0     0     0     0     0  ...     0   \n",
              "1698     0     0     0     0     0     0     0     0     0     0  ...     0   \n",
              "1699     0     0     0     0     0     0     0     0     0     0  ...     0   \n",
              "\n",
              "      1021  1022  1023  1024  1025  1026  1027  1028  1029  \n",
              "0        0     0     0     0     0     0     0     0     0  \n",
              "1        0     0     0     0     0     0     0     0     0  \n",
              "2        0     0     0     0     0     0     0     0     0  \n",
              "3        0     0     0     0     0     0     0     0     0  \n",
              "4        0     0     0     0     0     0     0     0     0  \n",
              "...    ...   ...   ...   ...   ...   ...   ...   ...   ...  \n",
              "1695     0     0     0     0     0     0     0     0     0  \n",
              "1696     0     0     0     0     0     0     0     0     0  \n",
              "1697     0     0     0     0     0     0     0     0     0  \n",
              "1698     0     0     0     0     0     0     0     0     0  \n",
              "1699     0     0     0     0     0     0     0     0     0  \n",
              "\n",
              "[1700 rows x 1030 columns]"
            ],
            "text/html": [
              "\n",
              "  <div id=\"df-aea47a66-b0f3-4e6f-acda-2a71e297933e\" class=\"colab-df-container\">\n",
              "    <div>\n",
              "<style scoped>\n",
              "    .dataframe tbody tr th:only-of-type {\n",
              "        vertical-align: middle;\n",
              "    }\n",
              "\n",
              "    .dataframe tbody tr th {\n",
              "        vertical-align: top;\n",
              "    }\n",
              "\n",
              "    .dataframe thead th {\n",
              "        text-align: right;\n",
              "    }\n",
              "</style>\n",
              "<table border=\"1\" class=\"dataframe\">\n",
              "  <thead>\n",
              "    <tr style=\"text-align: right;\">\n",
              "      <th></th>\n",
              "      <th>0</th>\n",
              "      <th>1</th>\n",
              "      <th>2</th>\n",
              "      <th>3</th>\n",
              "      <th>4</th>\n",
              "      <th>5</th>\n",
              "      <th>6</th>\n",
              "      <th>7</th>\n",
              "      <th>8</th>\n",
              "      <th>9</th>\n",
              "      <th>...</th>\n",
              "      <th>1020</th>\n",
              "      <th>1021</th>\n",
              "      <th>1022</th>\n",
              "      <th>1023</th>\n",
              "      <th>1024</th>\n",
              "      <th>1025</th>\n",
              "      <th>1026</th>\n",
              "      <th>1027</th>\n",
              "      <th>1028</th>\n",
              "      <th>1029</th>\n",
              "    </tr>\n",
              "  </thead>\n",
              "  <tbody>\n",
              "    <tr>\n",
              "      <th>0</th>\n",
              "      <td>0</td>\n",
              "      <td>0</td>\n",
              "      <td>0</td>\n",
              "      <td>0</td>\n",
              "      <td>0</td>\n",
              "      <td>0</td>\n",
              "      <td>0</td>\n",
              "      <td>0</td>\n",
              "      <td>0</td>\n",
              "      <td>0</td>\n",
              "      <td>...</td>\n",
              "      <td>0</td>\n",
              "      <td>0</td>\n",
              "      <td>0</td>\n",
              "      <td>0</td>\n",
              "      <td>0</td>\n",
              "      <td>0</td>\n",
              "      <td>0</td>\n",
              "      <td>0</td>\n",
              "      <td>0</td>\n",
              "      <td>0</td>\n",
              "    </tr>\n",
              "    <tr>\n",
              "      <th>1</th>\n",
              "      <td>0</td>\n",
              "      <td>0</td>\n",
              "      <td>0</td>\n",
              "      <td>0</td>\n",
              "      <td>0</td>\n",
              "      <td>0</td>\n",
              "      <td>0</td>\n",
              "      <td>0</td>\n",
              "      <td>0</td>\n",
              "      <td>0</td>\n",
              "      <td>...</td>\n",
              "      <td>0</td>\n",
              "      <td>0</td>\n",
              "      <td>0</td>\n",
              "      <td>0</td>\n",
              "      <td>0</td>\n",
              "      <td>0</td>\n",
              "      <td>0</td>\n",
              "      <td>0</td>\n",
              "      <td>0</td>\n",
              "      <td>0</td>\n",
              "    </tr>\n",
              "    <tr>\n",
              "      <th>2</th>\n",
              "      <td>0</td>\n",
              "      <td>0</td>\n",
              "      <td>0</td>\n",
              "      <td>0</td>\n",
              "      <td>0</td>\n",
              "      <td>0</td>\n",
              "      <td>0</td>\n",
              "      <td>0</td>\n",
              "      <td>0</td>\n",
              "      <td>0</td>\n",
              "      <td>...</td>\n",
              "      <td>0</td>\n",
              "      <td>0</td>\n",
              "      <td>0</td>\n",
              "      <td>0</td>\n",
              "      <td>0</td>\n",
              "      <td>0</td>\n",
              "      <td>0</td>\n",
              "      <td>0</td>\n",
              "      <td>0</td>\n",
              "      <td>0</td>\n",
              "    </tr>\n",
              "    <tr>\n",
              "      <th>3</th>\n",
              "      <td>0</td>\n",
              "      <td>0</td>\n",
              "      <td>0</td>\n",
              "      <td>0</td>\n",
              "      <td>0</td>\n",
              "      <td>0</td>\n",
              "      <td>0</td>\n",
              "      <td>0</td>\n",
              "      <td>0</td>\n",
              "      <td>0</td>\n",
              "      <td>...</td>\n",
              "      <td>0</td>\n",
              "      <td>0</td>\n",
              "      <td>0</td>\n",
              "      <td>0</td>\n",
              "      <td>0</td>\n",
              "      <td>0</td>\n",
              "      <td>0</td>\n",
              "      <td>0</td>\n",
              "      <td>0</td>\n",
              "      <td>0</td>\n",
              "    </tr>\n",
              "    <tr>\n",
              "      <th>4</th>\n",
              "      <td>0</td>\n",
              "      <td>0</td>\n",
              "      <td>0</td>\n",
              "      <td>0</td>\n",
              "      <td>0</td>\n",
              "      <td>0</td>\n",
              "      <td>0</td>\n",
              "      <td>0</td>\n",
              "      <td>0</td>\n",
              "      <td>0</td>\n",
              "      <td>...</td>\n",
              "      <td>0</td>\n",
              "      <td>0</td>\n",
              "      <td>0</td>\n",
              "      <td>0</td>\n",
              "      <td>0</td>\n",
              "      <td>0</td>\n",
              "      <td>0</td>\n",
              "      <td>0</td>\n",
              "      <td>0</td>\n",
              "      <td>0</td>\n",
              "    </tr>\n",
              "    <tr>\n",
              "      <th>...</th>\n",
              "      <td>...</td>\n",
              "      <td>...</td>\n",
              "      <td>...</td>\n",
              "      <td>...</td>\n",
              "      <td>...</td>\n",
              "      <td>...</td>\n",
              "      <td>...</td>\n",
              "      <td>...</td>\n",
              "      <td>...</td>\n",
              "      <td>...</td>\n",
              "      <td>...</td>\n",
              "      <td>...</td>\n",
              "      <td>...</td>\n",
              "      <td>...</td>\n",
              "      <td>...</td>\n",
              "      <td>...</td>\n",
              "      <td>...</td>\n",
              "      <td>...</td>\n",
              "      <td>...</td>\n",
              "      <td>...</td>\n",
              "      <td>...</td>\n",
              "    </tr>\n",
              "    <tr>\n",
              "      <th>1695</th>\n",
              "      <td>0</td>\n",
              "      <td>0</td>\n",
              "      <td>0</td>\n",
              "      <td>0</td>\n",
              "      <td>0</td>\n",
              "      <td>0</td>\n",
              "      <td>0</td>\n",
              "      <td>0</td>\n",
              "      <td>0</td>\n",
              "      <td>0</td>\n",
              "      <td>...</td>\n",
              "      <td>0</td>\n",
              "      <td>0</td>\n",
              "      <td>0</td>\n",
              "      <td>0</td>\n",
              "      <td>0</td>\n",
              "      <td>0</td>\n",
              "      <td>0</td>\n",
              "      <td>0</td>\n",
              "      <td>0</td>\n",
              "      <td>0</td>\n",
              "    </tr>\n",
              "    <tr>\n",
              "      <th>1696</th>\n",
              "      <td>0</td>\n",
              "      <td>0</td>\n",
              "      <td>0</td>\n",
              "      <td>0</td>\n",
              "      <td>0</td>\n",
              "      <td>0</td>\n",
              "      <td>0</td>\n",
              "      <td>0</td>\n",
              "      <td>0</td>\n",
              "      <td>0</td>\n",
              "      <td>...</td>\n",
              "      <td>0</td>\n",
              "      <td>0</td>\n",
              "      <td>0</td>\n",
              "      <td>0</td>\n",
              "      <td>0</td>\n",
              "      <td>0</td>\n",
              "      <td>0</td>\n",
              "      <td>0</td>\n",
              "      <td>0</td>\n",
              "      <td>0</td>\n",
              "    </tr>\n",
              "    <tr>\n",
              "      <th>1697</th>\n",
              "      <td>0</td>\n",
              "      <td>0</td>\n",
              "      <td>0</td>\n",
              "      <td>0</td>\n",
              "      <td>0</td>\n",
              "      <td>0</td>\n",
              "      <td>0</td>\n",
              "      <td>0</td>\n",
              "      <td>0</td>\n",
              "      <td>0</td>\n",
              "      <td>...</td>\n",
              "      <td>0</td>\n",
              "      <td>0</td>\n",
              "      <td>0</td>\n",
              "      <td>0</td>\n",
              "      <td>0</td>\n",
              "      <td>0</td>\n",
              "      <td>0</td>\n",
              "      <td>0</td>\n",
              "      <td>0</td>\n",
              "      <td>0</td>\n",
              "    </tr>\n",
              "    <tr>\n",
              "      <th>1698</th>\n",
              "      <td>0</td>\n",
              "      <td>0</td>\n",
              "      <td>0</td>\n",
              "      <td>0</td>\n",
              "      <td>0</td>\n",
              "      <td>0</td>\n",
              "      <td>0</td>\n",
              "      <td>0</td>\n",
              "      <td>0</td>\n",
              "      <td>0</td>\n",
              "      <td>...</td>\n",
              "      <td>0</td>\n",
              "      <td>0</td>\n",
              "      <td>0</td>\n",
              "      <td>0</td>\n",
              "      <td>0</td>\n",
              "      <td>0</td>\n",
              "      <td>0</td>\n",
              "      <td>0</td>\n",
              "      <td>0</td>\n",
              "      <td>0</td>\n",
              "    </tr>\n",
              "    <tr>\n",
              "      <th>1699</th>\n",
              "      <td>0</td>\n",
              "      <td>0</td>\n",
              "      <td>0</td>\n",
              "      <td>0</td>\n",
              "      <td>0</td>\n",
              "      <td>0</td>\n",
              "      <td>0</td>\n",
              "      <td>0</td>\n",
              "      <td>0</td>\n",
              "      <td>0</td>\n",
              "      <td>...</td>\n",
              "      <td>0</td>\n",
              "      <td>0</td>\n",
              "      <td>0</td>\n",
              "      <td>0</td>\n",
              "      <td>0</td>\n",
              "      <td>0</td>\n",
              "      <td>0</td>\n",
              "      <td>0</td>\n",
              "      <td>0</td>\n",
              "      <td>0</td>\n",
              "    </tr>\n",
              "  </tbody>\n",
              "</table>\n",
              "<p>1700 rows × 1030 columns</p>\n",
              "</div>\n",
              "    <div class=\"colab-df-buttons\">\n",
              "\n",
              "  <div class=\"colab-df-container\">\n",
              "    <button class=\"colab-df-convert\" onclick=\"convertToInteractive('df-aea47a66-b0f3-4e6f-acda-2a71e297933e')\"\n",
              "            title=\"Convert this dataframe to an interactive table.\"\n",
              "            style=\"display:none;\">\n",
              "\n",
              "  <svg xmlns=\"http://www.w3.org/2000/svg\" height=\"24px\" viewBox=\"0 -960 960 960\">\n",
              "    <path d=\"M120-120v-720h720v720H120Zm60-500h600v-160H180v160Zm220 220h160v-160H400v160Zm0 220h160v-160H400v160ZM180-400h160v-160H180v160Zm440 0h160v-160H620v160ZM180-180h160v-160H180v160Zm440 0h160v-160H620v160Z\"/>\n",
              "  </svg>\n",
              "    </button>\n",
              "\n",
              "  <style>\n",
              "    .colab-df-container {\n",
              "      display:flex;\n",
              "      gap: 12px;\n",
              "    }\n",
              "\n",
              "    .colab-df-convert {\n",
              "      background-color: #E8F0FE;\n",
              "      border: none;\n",
              "      border-radius: 50%;\n",
              "      cursor: pointer;\n",
              "      display: none;\n",
              "      fill: #1967D2;\n",
              "      height: 32px;\n",
              "      padding: 0 0 0 0;\n",
              "      width: 32px;\n",
              "    }\n",
              "\n",
              "    .colab-df-convert:hover {\n",
              "      background-color: #E2EBFA;\n",
              "      box-shadow: 0px 1px 2px rgba(60, 64, 67, 0.3), 0px 1px 3px 1px rgba(60, 64, 67, 0.15);\n",
              "      fill: #174EA6;\n",
              "    }\n",
              "\n",
              "    .colab-df-buttons div {\n",
              "      margin-bottom: 4px;\n",
              "    }\n",
              "\n",
              "    [theme=dark] .colab-df-convert {\n",
              "      background-color: #3B4455;\n",
              "      fill: #D2E3FC;\n",
              "    }\n",
              "\n",
              "    [theme=dark] .colab-df-convert:hover {\n",
              "      background-color: #434B5C;\n",
              "      box-shadow: 0px 1px 3px 1px rgba(0, 0, 0, 0.15);\n",
              "      filter: drop-shadow(0px 1px 2px rgba(0, 0, 0, 0.3));\n",
              "      fill: #FFFFFF;\n",
              "    }\n",
              "  </style>\n",
              "\n",
              "    <script>\n",
              "      const buttonEl =\n",
              "        document.querySelector('#df-aea47a66-b0f3-4e6f-acda-2a71e297933e button.colab-df-convert');\n",
              "      buttonEl.style.display =\n",
              "        google.colab.kernel.accessAllowed ? 'block' : 'none';\n",
              "\n",
              "      async function convertToInteractive(key) {\n",
              "        const element = document.querySelector('#df-aea47a66-b0f3-4e6f-acda-2a71e297933e');\n",
              "        const dataTable =\n",
              "          await google.colab.kernel.invokeFunction('convertToInteractive',\n",
              "                                                    [key], {});\n",
              "        if (!dataTable) return;\n",
              "\n",
              "        const docLinkHtml = 'Like what you see? Visit the ' +\n",
              "          '<a target=\"_blank\" href=https://colab.research.google.com/notebooks/data_table.ipynb>data table notebook</a>'\n",
              "          + ' to learn more about interactive tables.';\n",
              "        element.innerHTML = '';\n",
              "        dataTable['output_type'] = 'display_data';\n",
              "        await google.colab.output.renderOutput(dataTable, element);\n",
              "        const docLink = document.createElement('div');\n",
              "        docLink.innerHTML = docLinkHtml;\n",
              "        element.appendChild(docLink);\n",
              "      }\n",
              "    </script>\n",
              "  </div>\n",
              "\n",
              "\n",
              "<div id=\"df-7d53eb47-46a4-4c5d-8025-d4a48d68e6bb\">\n",
              "  <button class=\"colab-df-quickchart\" onclick=\"quickchart('df-7d53eb47-46a4-4c5d-8025-d4a48d68e6bb')\"\n",
              "            title=\"Suggest charts\"\n",
              "            style=\"display:none;\">\n",
              "\n",
              "<svg xmlns=\"http://www.w3.org/2000/svg\" height=\"24px\"viewBox=\"0 0 24 24\"\n",
              "     width=\"24px\">\n",
              "    <g>\n",
              "        <path d=\"M19 3H5c-1.1 0-2 .9-2 2v14c0 1.1.9 2 2 2h14c1.1 0 2-.9 2-2V5c0-1.1-.9-2-2-2zM9 17H7v-7h2v7zm4 0h-2V7h2v10zm4 0h-2v-4h2v4z\"/>\n",
              "    </g>\n",
              "</svg>\n",
              "  </button>\n",
              "\n",
              "<style>\n",
              "  .colab-df-quickchart {\n",
              "      --bg-color: #E8F0FE;\n",
              "      --fill-color: #1967D2;\n",
              "      --hover-bg-color: #E2EBFA;\n",
              "      --hover-fill-color: #174EA6;\n",
              "      --disabled-fill-color: #AAA;\n",
              "      --disabled-bg-color: #DDD;\n",
              "  }\n",
              "\n",
              "  [theme=dark] .colab-df-quickchart {\n",
              "      --bg-color: #3B4455;\n",
              "      --fill-color: #D2E3FC;\n",
              "      --hover-bg-color: #434B5C;\n",
              "      --hover-fill-color: #FFFFFF;\n",
              "      --disabled-bg-color: #3B4455;\n",
              "      --disabled-fill-color: #666;\n",
              "  }\n",
              "\n",
              "  .colab-df-quickchart {\n",
              "    background-color: var(--bg-color);\n",
              "    border: none;\n",
              "    border-radius: 50%;\n",
              "    cursor: pointer;\n",
              "    display: none;\n",
              "    fill: var(--fill-color);\n",
              "    height: 32px;\n",
              "    padding: 0;\n",
              "    width: 32px;\n",
              "  }\n",
              "\n",
              "  .colab-df-quickchart:hover {\n",
              "    background-color: var(--hover-bg-color);\n",
              "    box-shadow: 0 1px 2px rgba(60, 64, 67, 0.3), 0 1px 3px 1px rgba(60, 64, 67, 0.15);\n",
              "    fill: var(--button-hover-fill-color);\n",
              "  }\n",
              "\n",
              "  .colab-df-quickchart-complete:disabled,\n",
              "  .colab-df-quickchart-complete:disabled:hover {\n",
              "    background-color: var(--disabled-bg-color);\n",
              "    fill: var(--disabled-fill-color);\n",
              "    box-shadow: none;\n",
              "  }\n",
              "\n",
              "  .colab-df-spinner {\n",
              "    border: 2px solid var(--fill-color);\n",
              "    border-color: transparent;\n",
              "    border-bottom-color: var(--fill-color);\n",
              "    animation:\n",
              "      spin 1s steps(1) infinite;\n",
              "  }\n",
              "\n",
              "  @keyframes spin {\n",
              "    0% {\n",
              "      border-color: transparent;\n",
              "      border-bottom-color: var(--fill-color);\n",
              "      border-left-color: var(--fill-color);\n",
              "    }\n",
              "    20% {\n",
              "      border-color: transparent;\n",
              "      border-left-color: var(--fill-color);\n",
              "      border-top-color: var(--fill-color);\n",
              "    }\n",
              "    30% {\n",
              "      border-color: transparent;\n",
              "      border-left-color: var(--fill-color);\n",
              "      border-top-color: var(--fill-color);\n",
              "      border-right-color: var(--fill-color);\n",
              "    }\n",
              "    40% {\n",
              "      border-color: transparent;\n",
              "      border-right-color: var(--fill-color);\n",
              "      border-top-color: var(--fill-color);\n",
              "    }\n",
              "    60% {\n",
              "      border-color: transparent;\n",
              "      border-right-color: var(--fill-color);\n",
              "    }\n",
              "    80% {\n",
              "      border-color: transparent;\n",
              "      border-right-color: var(--fill-color);\n",
              "      border-bottom-color: var(--fill-color);\n",
              "    }\n",
              "    90% {\n",
              "      border-color: transparent;\n",
              "      border-bottom-color: var(--fill-color);\n",
              "    }\n",
              "  }\n",
              "</style>\n",
              "\n",
              "  <script>\n",
              "    async function quickchart(key) {\n",
              "      const quickchartButtonEl =\n",
              "        document.querySelector('#' + key + ' button');\n",
              "      quickchartButtonEl.disabled = true;  // To prevent multiple clicks.\n",
              "      quickchartButtonEl.classList.add('colab-df-spinner');\n",
              "      try {\n",
              "        const charts = await google.colab.kernel.invokeFunction(\n",
              "            'suggestCharts', [key], {});\n",
              "      } catch (error) {\n",
              "        console.error('Error during call to suggestCharts:', error);\n",
              "      }\n",
              "      quickchartButtonEl.classList.remove('colab-df-spinner');\n",
              "      quickchartButtonEl.classList.add('colab-df-quickchart-complete');\n",
              "    }\n",
              "    (() => {\n",
              "      let quickchartButtonEl =\n",
              "        document.querySelector('#df-7d53eb47-46a4-4c5d-8025-d4a48d68e6bb button');\n",
              "      quickchartButtonEl.style.display =\n",
              "        google.colab.kernel.accessAllowed ? 'block' : 'none';\n",
              "    })();\n",
              "  </script>\n",
              "</div>\n",
              "\n",
              "  <div id=\"id_cbb117cd-92bc-4776-b595-94a95788200c\">\n",
              "    <style>\n",
              "      .colab-df-generate {\n",
              "        background-color: #E8F0FE;\n",
              "        border: none;\n",
              "        border-radius: 50%;\n",
              "        cursor: pointer;\n",
              "        display: none;\n",
              "        fill: #1967D2;\n",
              "        height: 32px;\n",
              "        padding: 0 0 0 0;\n",
              "        width: 32px;\n",
              "      }\n",
              "\n",
              "      .colab-df-generate:hover {\n",
              "        background-color: #E2EBFA;\n",
              "        box-shadow: 0px 1px 2px rgba(60, 64, 67, 0.3), 0px 1px 3px 1px rgba(60, 64, 67, 0.15);\n",
              "        fill: #174EA6;\n",
              "      }\n",
              "\n",
              "      [theme=dark] .colab-df-generate {\n",
              "        background-color: #3B4455;\n",
              "        fill: #D2E3FC;\n",
              "      }\n",
              "\n",
              "      [theme=dark] .colab-df-generate:hover {\n",
              "        background-color: #434B5C;\n",
              "        box-shadow: 0px 1px 3px 1px rgba(0, 0, 0, 0.15);\n",
              "        filter: drop-shadow(0px 1px 2px rgba(0, 0, 0, 0.3));\n",
              "        fill: #FFFFFF;\n",
              "      }\n",
              "    </style>\n",
              "    <button class=\"colab-df-generate\" onclick=\"generateWithVariable('df')\"\n",
              "            title=\"Generate code using this dataframe.\"\n",
              "            style=\"display:none;\">\n",
              "\n",
              "  <svg xmlns=\"http://www.w3.org/2000/svg\" height=\"24px\"viewBox=\"0 0 24 24\"\n",
              "       width=\"24px\">\n",
              "    <path d=\"M7,19H8.4L18.45,9,17,7.55,7,17.6ZM5,21V16.75L18.45,3.32a2,2,0,0,1,2.83,0l1.4,1.43a1.91,1.91,0,0,1,.58,1.4,1.91,1.91,0,0,1-.58,1.4L9.25,21ZM18.45,9,17,7.55Zm-12,3A5.31,5.31,0,0,0,4.9,8.1,5.31,5.31,0,0,0,1,6.5,5.31,5.31,0,0,0,4.9,4.9,5.31,5.31,0,0,0,6.5,1,5.31,5.31,0,0,0,8.1,4.9,5.31,5.31,0,0,0,12,6.5,5.46,5.46,0,0,0,6.5,12Z\"/>\n",
              "  </svg>\n",
              "    </button>\n",
              "    <script>\n",
              "      (() => {\n",
              "      const buttonEl =\n",
              "        document.querySelector('#id_cbb117cd-92bc-4776-b595-94a95788200c button.colab-df-generate');\n",
              "      buttonEl.style.display =\n",
              "        google.colab.kernel.accessAllowed ? 'block' : 'none';\n",
              "\n",
              "      buttonEl.onclick = () => {\n",
              "        google.colab.notebook.generateWithVariable('df');\n",
              "      }\n",
              "      })();\n",
              "    </script>\n",
              "  </div>\n",
              "\n",
              "    </div>\n",
              "  </div>\n"
            ],
            "application/vnd.google.colaboratory.intrinsic+json": {
              "type": "dataframe",
              "variable_name": "df"
            }
          },
          "metadata": {},
          "execution_count": 76
        }
      ]
    },
    {
      "cell_type": "code",
      "source": [
        "df.size/1e6  # these many elements/numbers are presnt in the df"
      ],
      "metadata": {
        "colab": {
          "base_uri": "https://localhost:8080/"
        },
        "id": "mgo1P7CXZgRp",
        "outputId": "e37f8cde-b047-4137-fe68-ab1dbc4ad138"
      },
      "execution_count": null,
      "outputs": [
        {
          "output_type": "execute_result",
          "data": {
            "text/plain": [
              "1.751"
            ]
          },
          "metadata": {},
          "execution_count": 77
        }
      ]
    },
    {
      "cell_type": "code",
      "source": [
        "import numpy as np\n",
        "np.count_nonzero(df)"
      ],
      "metadata": {
        "colab": {
          "base_uri": "https://localhost:8080/"
        },
        "id": "vQD9qtJxZjhZ",
        "outputId": "e6af936b-77cb-400f-f3ed-17e98fb4bdbd"
      },
      "execution_count": null,
      "outputs": [
        {
          "output_type": "execute_result",
          "data": {
            "text/plain": [
              "10169"
            ]
          },
          "metadata": {},
          "execution_count": 78
        }
      ]
    },
    {
      "cell_type": "code",
      "source": [
        "100*np.count_nonzero(df)/df.size # percent of the non-zero elements i nthe df"
      ],
      "metadata": {
        "colab": {
          "base_uri": "https://localhost:8080/"
        },
        "id": "XzFdxgevZmNc",
        "outputId": "454b27a7-48b0-464d-ead0-4fe294b5bec7"
      },
      "execution_count": null,
      "outputs": [
        {
          "output_type": "execute_result",
          "data": {
            "text/plain": [
              "0.5807538549400343"
            ]
          },
          "metadata": {},
          "execution_count": 79
        }
      ]
    },
    {
      "cell_type": "code",
      "source": [
        "print(CV.get_feature_names_out()[:50])  # these the vocab words"
      ],
      "metadata": {
        "colab": {
          "base_uri": "https://localhost:8080/"
        },
        "id": "O92I7m-0Zpb0",
        "outputId": "1eab144d-9e6b-491f-f6e6-0941ebf67445"
      },
      "execution_count": null,
      "outputs": [
        {
          "output_type": "stream",
          "name": "stdout",
          "text": [
            "['अएर' 'अक' 'अख' 'अखण' 'अग' 'अघ' 'अङ' 'अच' 'अज' 'अजई' 'अझ' 'अट' 'अड' 'अत'\n",
            " 'अतनक' 'अथ' 'अथब' 'अथव' 'अद' 'अध' 'अन' 'अनपढ' 'अनरव' 'अनल' 'अप' 'अपम'\n",
            " 'अपर' 'अफ' 'अफर' 'अफव' 'अब' 'अबच' 'अबत' 'अबश' 'अबस' 'अभ' 'अम' 'अमन' 'अर'\n",
            " 'अरब' 'अल' 'अलगध' 'अलछ' 'अव' 'अवश' 'अवस' 'अवसर' 'अश' 'अस' 'असम']\n"
          ]
        }
      ]
    },
    {
      "cell_type": "markdown",
      "source": [],
      "metadata": {
        "id": "n6qQt8b5Z8iv"
      }
    },
    {
      "cell_type": "code",
      "source": [
        "# len(CV.get_feature_names_out())\n",
        "len(CV.get_feature_names_out())"
      ],
      "metadata": {
        "colab": {
          "base_uri": "https://localhost:8080/"
        },
        "id": "ePl7nc9eZs_w",
        "outputId": "177400dc-4a8b-4bf5-ebbb-69dd7493ee0a"
      },
      "execution_count": null,
      "outputs": [
        {
          "output_type": "execute_result",
          "data": {
            "text/plain": [
              "1030"
            ]
          },
          "metadata": {},
          "execution_count": 81
        }
      ]
    },
    {
      "cell_type": "code",
      "source": [
        "CV_features[10].todense()"
      ],
      "metadata": {
        "colab": {
          "base_uri": "https://localhost:8080/"
        },
        "id": "1zYyaZbNZ92j",
        "outputId": "3b85405d-73b6-4cdc-ec7e-d0e4c505d16e"
      },
      "execution_count": null,
      "outputs": [
        {
          "output_type": "execute_result",
          "data": {
            "text/plain": [
              "matrix([[0, 0, 0, ..., 0, 0, 0]])"
            ]
          },
          "metadata": {},
          "execution_count": 82
        }
      ]
    },
    {
      "cell_type": "code",
      "source": [
        "CV.inverse_transform(np.asarray(CV_features[10].todense()))"
      ],
      "metadata": {
        "colab": {
          "base_uri": "https://localhost:8080/"
        },
        "id": "LrPC4PdMaHLy",
        "outputId": "fb53067f-5a3f-4672-81f0-ce595cb96a40"
      },
      "execution_count": null,
      "outputs": [
        {
          "output_type": "execute_result",
          "data": {
            "text/plain": [
              "[array(['अन', 'टर', 'बल', 'भर', 'मन', 'रब', 'सप', 'हर'], dtype='<U6')]"
            ]
          },
          "metadata": {},
          "execution_count": 83
        }
      ]
    },
    {
      "cell_type": "code",
      "source": [
        "from sklearn.model_selection import train_test_split\n",
        "\n",
        "X_train, X_test, y_train, y_test = train_test_split(CV_features, data['label'], test_size=0.25, stratify=data['label'], random_state=42)"
      ],
      "metadata": {
        "id": "5r_SFIkUaJ2B"
      },
      "execution_count": null,
      "outputs": []
    },
    {
      "cell_type": "code",
      "source": [
        "from sklearn.linear_model import LogisticRegression\n",
        "LR = LogisticRegression(solver='liblinear')\n",
        "LR.fit(X_train, y_train)\n",
        "\n",
        "print(LR.score(X_train, y_train))  # train score)\n",
        "print(LR.score(X_test, y_test))   # test score)"
      ],
      "metadata": {
        "colab": {
          "base_uri": "https://localhost:8080/"
        },
        "id": "KMPA799waVp8",
        "outputId": "5d525061-71b8-423a-e854-4b8fe69ccbda"
      },
      "execution_count": null,
      "outputs": [
        {
          "output_type": "stream",
          "name": "stdout",
          "text": [
            "0.8094117647058824\n",
            "0.6635294117647059\n"
          ]
        }
      ]
    },
    {
      "cell_type": "code",
      "source": [
        "## L1-REGULARIZATION\n",
        "LR1 = LogisticRegression(class_weight='balanced', solver='liblinear', penalty='l1', C=0.4)\n",
        "LR1.fit(X_train, y_train)\n",
        "\n",
        "print(LR1.score(X_train, y_train))  # train score)\n",
        "print(LR1.score(X_test, y_test))   # test score)"
      ],
      "metadata": {
        "colab": {
          "base_uri": "https://localhost:8080/"
        },
        "id": "hQKsQa17aeTp",
        "outputId": "f5e80eb0-10f1-4c2e-9120-58c4cdfd9d10"
      },
      "execution_count": null,
      "outputs": [
        {
          "output_type": "stream",
          "name": "stdout",
          "text": [
            "0.6894117647058824\n",
            "0.64\n"
          ]
        }
      ]
    },
    {
      "cell_type": "code",
      "source": [
        "\n",
        "## leT'S Cross-Validate the Logistic Regression Model ?????\n",
        "from sklearn.model_selection import cross_val_score, cross_validate\n",
        "from sklearn.model_selection import StratifiedKFold"
      ],
      "metadata": {
        "id": "Gjw8ULm1aj1C"
      },
      "execution_count": null,
      "outputs": []
    },
    {
      "cell_type": "code",
      "source": [
        "X = CV_features\n",
        "y = data['label']"
      ],
      "metadata": {
        "id": "mhAuPf3-a5vR"
      },
      "execution_count": null,
      "outputs": []
    },
    {
      "cell_type": "code",
      "source": [
        "\n",
        "## crOSS VALIDATE THE LR1 model\n",
        "\n",
        "LR1 = LogisticRegression(class_weight='balanced', solver='liblinear', penalty='l1', C=0.4)\n",
        "kfold = StratifiedKFold(n_splits=5, shuffle=True, random_state=42)\n",
        "results = cross_val_score(LR1, X, y, cv=kfold, scoring='accuracy')\n",
        "print(results)\n",
        "print(np.round((results.mean())*100, 2), np.round((results.std())*100, 2))"
      ],
      "metadata": {
        "colab": {
          "base_uri": "https://localhost:8080/"
        },
        "id": "l2EhU9L_a7uv",
        "outputId": "e549cee9-7d03-4ce5-eb8a-5a32ee4edea4"
      },
      "execution_count": null,
      "outputs": [
        {
          "output_type": "stream",
          "name": "stdout",
          "text": [
            "[0.63529412 0.64411765 0.61764706 0.63529412 0.65      ]\n",
            "63.65 1.09\n"
          ]
        }
      ]
    },
    {
      "cell_type": "code",
      "source": [
        "# Create a pipeline & cross-validate\n",
        "from sklearn.pipeline import make_pipeline, Pipeline\n",
        "from sklearn.model_selection import cross_val_score, StratifiedKFold\n",
        "\n",
        "X = data['cleaned_text_w/o_SW']\n",
        "y = data['label']\n",
        "\n",
        "CV = CountVectorizer(stop_words=nepali_stopwords, min_df=10, max_features=300)\n",
        "LR1 = LogisticRegression(class_weight='balanced', solver='liblinear', penalty='l1', C=0.4)\n",
        "\n",
        "# CV_pipe = Pipeline([('CV', CV) , ('LR', LR1)] )\n",
        "\n",
        "CV_pipe = Pipeline([\n",
        "    ('CV', CountVectorizer(stop_words=list(nepali_stopwords), min_df=10, max_features=300)),\n",
        "    ('LR', LogisticRegression(class_weight='balanced', solver='liblinear', penalty='l1', C=0.4))\n",
        "])\n",
        "\n",
        "# kfold = StratifiedKFold(n_splits=5, shuffle=True, random_state=42)\n",
        "\n",
        "# results = cross_val_score(CV_pipe, X, y, cv=kfold, scoring='accuracy')\n",
        "# print(\"Mean Accuracy:\", np.round((results.mean()) * 100, 2))\n",
        "# print(\"Standard Deviation:\", np.round((results.std()) * 100, 2))\n",
        "\n",
        "results = cross_val_score(CV_pipe, X, y, cv=kfold, scoring='accuracy')\n",
        "print(np.round((results.mean())*100, 2), np.round((results.std())*100, 2))\n",
        "\n",
        "CV_pipe.fit(X,y)\n",
        "len(CV_pipe['CV'].vocabulary_)"
      ],
      "metadata": {
        "colab": {
          "base_uri": "https://localhost:8080/"
        },
        "id": "tju4bR3Ia-tM",
        "outputId": "6080b84d-3b9b-4350-9c5d-3c98dee8cdab"
      },
      "execution_count": null,
      "outputs": [
        {
          "output_type": "stream",
          "name": "stdout",
          "text": [
            "63.0 1.28\n"
          ]
        },
        {
          "output_type": "stream",
          "name": "stderr",
          "text": [
            "/usr/local/lib/python3.10/dist-packages/sklearn/feature_extraction/text.py:409: UserWarning: Your stop_words may be inconsistent with your preprocessing. Tokenizing the stop words generated tokens ['अक', 'अग', 'अझ', 'अन', 'अर', 'आजक', 'आत', 'आद', 'आफ', 'आय', 'ईक', 'उद', 'उनक', 'उनल', 'उह', 'एउट', 'एन', 'कत', 'कम', 'कस', 'कसर', 'कह', 'गत', 'गय', 'गर', 'चम', 'छन', 'जत', 'जबक', 'जस', 'जसक', 'जसब', 'जसम', 'जसल', 'जह', 'तत', 'तथ', 'तदन', 'तप', 'तवम', 'नज', 'नत', 'नभन', 'नय', 'पक', 'पछ', 'पन', 'पय', 'पर', 'पष', 'पह', 'बन', 'बर', 'भएक', 'भय', 'भव', 'मल', 'यत', 'यथ', 'यद', 'यप', 'यसक', 'यसपछ', 'यसब', 'यसर', 'यह', 'रण', 'रत', 'रमश', 'रह', 'लस', 'वर', 'सक', 'सट', 'सध', 'सपछ', 'सब', 'सम', 'सर', 'सह', 'हन', 'हर', 'हरण'] not in stop_words.\n",
            "  warnings.warn(\n",
            "/usr/local/lib/python3.10/dist-packages/sklearn/feature_extraction/text.py:409: UserWarning: Your stop_words may be inconsistent with your preprocessing. Tokenizing the stop words generated tokens ['अक', 'अग', 'अझ', 'अन', 'अर', 'आजक', 'आत', 'आद', 'आफ', 'आय', 'ईक', 'उद', 'उनक', 'उनल', 'उह', 'एउट', 'एन', 'कत', 'कम', 'कस', 'कसर', 'कह', 'गत', 'गय', 'गर', 'चम', 'छन', 'जत', 'जबक', 'जस', 'जसक', 'जसब', 'जसम', 'जसल', 'जह', 'तत', 'तथ', 'तदन', 'तप', 'तवम', 'नज', 'नत', 'नभन', 'नय', 'पक', 'पछ', 'पन', 'पय', 'पर', 'पष', 'पह', 'बन', 'बर', 'भएक', 'भय', 'भव', 'मल', 'यत', 'यथ', 'यद', 'यप', 'यसक', 'यसपछ', 'यसब', 'यसर', 'यह', 'रण', 'रत', 'रमश', 'रह', 'लस', 'वर', 'सक', 'सट', 'सध', 'सपछ', 'सब', 'सम', 'सर', 'सह', 'हन', 'हर', 'हरण'] not in stop_words.\n",
            "  warnings.warn(\n",
            "/usr/local/lib/python3.10/dist-packages/sklearn/feature_extraction/text.py:409: UserWarning: Your stop_words may be inconsistent with your preprocessing. Tokenizing the stop words generated tokens ['अक', 'अग', 'अझ', 'अन', 'अर', 'आजक', 'आत', 'आद', 'आफ', 'आय', 'ईक', 'उद', 'उनक', 'उनल', 'उह', 'एउट', 'एन', 'कत', 'कम', 'कस', 'कसर', 'कह', 'गत', 'गय', 'गर', 'चम', 'छन', 'जत', 'जबक', 'जस', 'जसक', 'जसब', 'जसम', 'जसल', 'जह', 'तत', 'तथ', 'तदन', 'तप', 'तवम', 'नज', 'नत', 'नभन', 'नय', 'पक', 'पछ', 'पन', 'पय', 'पर', 'पष', 'पह', 'बन', 'बर', 'भएक', 'भय', 'भव', 'मल', 'यत', 'यथ', 'यद', 'यप', 'यसक', 'यसपछ', 'यसब', 'यसर', 'यह', 'रण', 'रत', 'रमश', 'रह', 'लस', 'वर', 'सक', 'सट', 'सध', 'सपछ', 'सब', 'सम', 'सर', 'सह', 'हन', 'हर', 'हरण'] not in stop_words.\n",
            "  warnings.warn(\n",
            "/usr/local/lib/python3.10/dist-packages/sklearn/feature_extraction/text.py:409: UserWarning: Your stop_words may be inconsistent with your preprocessing. Tokenizing the stop words generated tokens ['अक', 'अग', 'अझ', 'अन', 'अर', 'आजक', 'आत', 'आद', 'आफ', 'आय', 'ईक', 'उद', 'उनक', 'उनल', 'उह', 'एउट', 'एन', 'कत', 'कम', 'कस', 'कसर', 'कह', 'गत', 'गय', 'गर', 'चम', 'छन', 'जत', 'जबक', 'जस', 'जसक', 'जसब', 'जसम', 'जसल', 'जह', 'तत', 'तथ', 'तदन', 'तप', 'तवम', 'नज', 'नत', 'नभन', 'नय', 'पक', 'पछ', 'पन', 'पय', 'पर', 'पष', 'पह', 'बन', 'बर', 'भएक', 'भय', 'भव', 'मल', 'यत', 'यथ', 'यद', 'यप', 'यसक', 'यसपछ', 'यसब', 'यसर', 'यह', 'रण', 'रत', 'रमश', 'रह', 'लस', 'वर', 'सक', 'सट', 'सध', 'सपछ', 'सब', 'सम', 'सर', 'सह', 'हन', 'हर', 'हरण'] not in stop_words.\n",
            "  warnings.warn(\n",
            "/usr/local/lib/python3.10/dist-packages/sklearn/feature_extraction/text.py:409: UserWarning: Your stop_words may be inconsistent with your preprocessing. Tokenizing the stop words generated tokens ['अक', 'अग', 'अझ', 'अन', 'अर', 'आजक', 'आत', 'आद', 'आफ', 'आय', 'ईक', 'उद', 'उनक', 'उनल', 'उह', 'एउट', 'एन', 'कत', 'कम', 'कस', 'कसर', 'कह', 'गत', 'गय', 'गर', 'चम', 'छन', 'जत', 'जबक', 'जस', 'जसक', 'जसब', 'जसम', 'जसल', 'जह', 'तत', 'तथ', 'तदन', 'तप', 'तवम', 'नज', 'नत', 'नभन', 'नय', 'पक', 'पछ', 'पन', 'पय', 'पर', 'पष', 'पह', 'बन', 'बर', 'भएक', 'भय', 'भव', 'मल', 'यत', 'यथ', 'यद', 'यप', 'यसक', 'यसपछ', 'यसब', 'यसर', 'यह', 'रण', 'रत', 'रमश', 'रह', 'लस', 'वर', 'सक', 'सट', 'सध', 'सपछ', 'सब', 'सम', 'सर', 'सह', 'हन', 'हर', 'हरण'] not in stop_words.\n",
            "  warnings.warn(\n",
            "/usr/local/lib/python3.10/dist-packages/sklearn/feature_extraction/text.py:409: UserWarning: Your stop_words may be inconsistent with your preprocessing. Tokenizing the stop words generated tokens ['अक', 'अग', 'अझ', 'अन', 'अर', 'आजक', 'आत', 'आद', 'आफ', 'आय', 'ईक', 'उद', 'उनक', 'उनल', 'उह', 'एउट', 'एन', 'कत', 'कम', 'कस', 'कसर', 'कह', 'गत', 'गय', 'गर', 'चम', 'छन', 'जत', 'जबक', 'जस', 'जसक', 'जसब', 'जसम', 'जसल', 'जह', 'तत', 'तथ', 'तदन', 'तप', 'तवम', 'नज', 'नत', 'नभन', 'नय', 'पक', 'पछ', 'पन', 'पय', 'पर', 'पष', 'पह', 'बन', 'बर', 'भएक', 'भय', 'भव', 'मल', 'यत', 'यथ', 'यद', 'यप', 'यसक', 'यसपछ', 'यसब', 'यसर', 'यह', 'रण', 'रत', 'रमश', 'रह', 'लस', 'वर', 'सक', 'सट', 'सध', 'सपछ', 'सब', 'सम', 'सर', 'सह', 'हन', 'हर', 'हरण'] not in stop_words.\n",
            "  warnings.warn(\n"
          ]
        },
        {
          "output_type": "execute_result",
          "data": {
            "text/plain": [
              "209"
            ]
          },
          "metadata": {},
          "execution_count": 99
        }
      ]
    },
    {
      "cell_type": "code",
      "source": [
        "import pickle\n",
        "import numpy as np\n",
        "from sklearn.pipeline import Pipeline\n",
        "from sklearn.feature_extraction.text import CountVectorizer\n",
        "from sklearn.linear_model import LogisticRegression\n",
        "from sklearn.model_selection import cross_validate\n",
        "from sklearn.feature_extraction.text import TfidfVectorizer\n",
        "X = data['cleaned_text_w/o_SW']\n",
        "y = data['label']\n",
        "\n",
        "# we want to include only those words in the vocab which have min df of 5,\n",
        "# means select only those words which occur ATLEAST in 5 documents!!\n",
        "# AND SELECT the TOP 1000 FEATURES ONLY to build the model\n",
        "TFIDF = TfidfVectorizer(stop_words=list(nepali_stopwords),  min_df=5, max_features=1000)\n",
        "\n",
        "LR1 = LogisticRegression(class_weight='balanced', solver='liblinear', penalty='l1', C=0.4)\n",
        "CV_pipe = Pipeline([('TFIDF', TFIDF) , ('LR', LR1)] )\n",
        "\n",
        "\n",
        "results = cross_validate(CV_pipe, X, y, cv=kfold, scoring='accuracy', return_train_score=True)\n",
        "\n",
        "# print(results['train_score'])\n",
        "print(np.round((results['train_score'].mean())*100, 2), np.round((results['train_score'].std())*100, 2))\n",
        "\n",
        "# print(results['test_score'])\n",
        "print(np.round((results['test_score'].mean())*100, 2), np.round((results['test_score'].std())*100, 2))\n",
        "\n",
        "TFIDF.fit_transform(X)\n",
        "\n",
        "CV_pipe.fit(X, y)\n",
        "\n",
        "# Save CountVectorizer and trained model using pickle\n",
        "with open('model.pkl', 'wb') as file:\n",
        "    pickle.dump((CV_pipe, CV, LR1), file)\n",
        "len(TFIDF.vocabulary_)  # no. of features AFTER applying the stopwords"
      ],
      "metadata": {
        "colab": {
          "base_uri": "https://localhost:8080/"
        },
        "id": "Sx7SwwPdcMD6",
        "outputId": "8eb65ad0-7f4c-4588-bf14-a31831900f10"
      },
      "execution_count": null,
      "outputs": [
        {
          "output_type": "stream",
          "name": "stderr",
          "text": [
            "/usr/local/lib/python3.10/dist-packages/sklearn/feature_extraction/text.py:409: UserWarning: Your stop_words may be inconsistent with your preprocessing. Tokenizing the stop words generated tokens ['अक', 'अग', 'अझ', 'अन', 'अर', 'आजक', 'आत', 'आद', 'आफ', 'आय', 'ईक', 'उद', 'उनक', 'उनल', 'उह', 'एउट', 'एन', 'कत', 'कम', 'कस', 'कसर', 'कह', 'गत', 'गय', 'गर', 'चम', 'छन', 'जत', 'जबक', 'जस', 'जसक', 'जसब', 'जसम', 'जसल', 'जह', 'तत', 'तथ', 'तदन', 'तप', 'तवम', 'नज', 'नत', 'नभन', 'नय', 'पक', 'पछ', 'पन', 'पय', 'पर', 'पष', 'पह', 'बन', 'बर', 'भएक', 'भय', 'भव', 'मल', 'यत', 'यथ', 'यद', 'यप', 'यसक', 'यसपछ', 'यसब', 'यसर', 'यह', 'रण', 'रत', 'रमश', 'रह', 'लस', 'वर', 'सक', 'सट', 'सध', 'सपछ', 'सब', 'सम', 'सर', 'सह', 'हन', 'हर', 'हरण'] not in stop_words.\n",
            "  warnings.warn(\n",
            "/usr/local/lib/python3.10/dist-packages/sklearn/feature_extraction/text.py:409: UserWarning: Your stop_words may be inconsistent with your preprocessing. Tokenizing the stop words generated tokens ['अक', 'अग', 'अझ', 'अन', 'अर', 'आजक', 'आत', 'आद', 'आफ', 'आय', 'ईक', 'उद', 'उनक', 'उनल', 'उह', 'एउट', 'एन', 'कत', 'कम', 'कस', 'कसर', 'कह', 'गत', 'गय', 'गर', 'चम', 'छन', 'जत', 'जबक', 'जस', 'जसक', 'जसब', 'जसम', 'जसल', 'जह', 'तत', 'तथ', 'तदन', 'तप', 'तवम', 'नज', 'नत', 'नभन', 'नय', 'पक', 'पछ', 'पन', 'पय', 'पर', 'पष', 'पह', 'बन', 'बर', 'भएक', 'भय', 'भव', 'मल', 'यत', 'यथ', 'यद', 'यप', 'यसक', 'यसपछ', 'यसब', 'यसर', 'यह', 'रण', 'रत', 'रमश', 'रह', 'लस', 'वर', 'सक', 'सट', 'सध', 'सपछ', 'सब', 'सम', 'सर', 'सह', 'हन', 'हर', 'हरण'] not in stop_words.\n",
            "  warnings.warn(\n",
            "/usr/local/lib/python3.10/dist-packages/sklearn/feature_extraction/text.py:409: UserWarning: Your stop_words may be inconsistent with your preprocessing. Tokenizing the stop words generated tokens ['अक', 'अग', 'अझ', 'अन', 'अर', 'आजक', 'आत', 'आद', 'आफ', 'आय', 'ईक', 'उद', 'उनक', 'उनल', 'उह', 'एउट', 'एन', 'कत', 'कम', 'कस', 'कसर', 'कह', 'गत', 'गय', 'गर', 'चम', 'छन', 'जत', 'जबक', 'जस', 'जसक', 'जसब', 'जसम', 'जसल', 'जह', 'तत', 'तथ', 'तदन', 'तप', 'तवम', 'नज', 'नत', 'नभन', 'नय', 'पक', 'पछ', 'पन', 'पय', 'पर', 'पष', 'पह', 'बन', 'बर', 'भएक', 'भय', 'भव', 'मल', 'यत', 'यथ', 'यद', 'यप', 'यसक', 'यसपछ', 'यसब', 'यसर', 'यह', 'रण', 'रत', 'रमश', 'रह', 'लस', 'वर', 'सक', 'सट', 'सध', 'सपछ', 'सब', 'सम', 'सर', 'सह', 'हन', 'हर', 'हरण'] not in stop_words.\n",
            "  warnings.warn(\n",
            "/usr/local/lib/python3.10/dist-packages/sklearn/feature_extraction/text.py:409: UserWarning: Your stop_words may be inconsistent with your preprocessing. Tokenizing the stop words generated tokens ['अक', 'अग', 'अझ', 'अन', 'अर', 'आजक', 'आत', 'आद', 'आफ', 'आय', 'ईक', 'उद', 'उनक', 'उनल', 'उह', 'एउट', 'एन', 'कत', 'कम', 'कस', 'कसर', 'कह', 'गत', 'गय', 'गर', 'चम', 'छन', 'जत', 'जबक', 'जस', 'जसक', 'जसब', 'जसम', 'जसल', 'जह', 'तत', 'तथ', 'तदन', 'तप', 'तवम', 'नज', 'नत', 'नभन', 'नय', 'पक', 'पछ', 'पन', 'पय', 'पर', 'पष', 'पह', 'बन', 'बर', 'भएक', 'भय', 'भव', 'मल', 'यत', 'यथ', 'यद', 'यप', 'यसक', 'यसपछ', 'यसब', 'यसर', 'यह', 'रण', 'रत', 'रमश', 'रह', 'लस', 'वर', 'सक', 'सट', 'सध', 'सपछ', 'सब', 'सम', 'सर', 'सह', 'हन', 'हर', 'हरण'] not in stop_words.\n",
            "  warnings.warn(\n"
          ]
        },
        {
          "output_type": "stream",
          "name": "stdout",
          "text": [
            "64.91 3.11\n",
            "61.24 1.93\n"
          ]
        },
        {
          "output_type": "stream",
          "name": "stderr",
          "text": [
            "/usr/local/lib/python3.10/dist-packages/sklearn/feature_extraction/text.py:409: UserWarning: Your stop_words may be inconsistent with your preprocessing. Tokenizing the stop words generated tokens ['अक', 'अग', 'अझ', 'अन', 'अर', 'आजक', 'आत', 'आद', 'आफ', 'आय', 'ईक', 'उद', 'उनक', 'उनल', 'उह', 'एउट', 'एन', 'कत', 'कम', 'कस', 'कसर', 'कह', 'गत', 'गय', 'गर', 'चम', 'छन', 'जत', 'जबक', 'जस', 'जसक', 'जसब', 'जसम', 'जसल', 'जह', 'तत', 'तथ', 'तदन', 'तप', 'तवम', 'नज', 'नत', 'नभन', 'नय', 'पक', 'पछ', 'पन', 'पय', 'पर', 'पष', 'पह', 'बन', 'बर', 'भएक', 'भय', 'भव', 'मल', 'यत', 'यथ', 'यद', 'यप', 'यसक', 'यसपछ', 'यसब', 'यसर', 'यह', 'रण', 'रत', 'रमश', 'रह', 'लस', 'वर', 'सक', 'सट', 'सध', 'सपछ', 'सब', 'सम', 'सर', 'सह', 'हन', 'हर', 'हरण'] not in stop_words.\n",
            "  warnings.warn(\n",
            "/usr/local/lib/python3.10/dist-packages/sklearn/feature_extraction/text.py:409: UserWarning: Your stop_words may be inconsistent with your preprocessing. Tokenizing the stop words generated tokens ['अक', 'अग', 'अझ', 'अन', 'अर', 'आजक', 'आत', 'आद', 'आफ', 'आय', 'ईक', 'उद', 'उनक', 'उनल', 'उह', 'एउट', 'एन', 'कत', 'कम', 'कस', 'कसर', 'कह', 'गत', 'गय', 'गर', 'चम', 'छन', 'जत', 'जबक', 'जस', 'जसक', 'जसब', 'जसम', 'जसल', 'जह', 'तत', 'तथ', 'तदन', 'तप', 'तवम', 'नज', 'नत', 'नभन', 'नय', 'पक', 'पछ', 'पन', 'पय', 'पर', 'पष', 'पह', 'बन', 'बर', 'भएक', 'भय', 'भव', 'मल', 'यत', 'यथ', 'यद', 'यप', 'यसक', 'यसपछ', 'यसब', 'यसर', 'यह', 'रण', 'रत', 'रमश', 'रह', 'लस', 'वर', 'सक', 'सट', 'सध', 'सपछ', 'सब', 'सम', 'सर', 'सह', 'हन', 'हर', 'हरण'] not in stop_words.\n",
            "  warnings.warn(\n"
          ]
        },
        {
          "output_type": "execute_result",
          "data": {
            "text/plain": [
              "339"
            ]
          },
          "metadata": {},
          "execution_count": 121
        }
      ]
    },
    {
      "cell_type": "code",
      "source": [
        "\n",
        "from sklearn.decomposition import TruncatedSVD\n",
        "\n",
        "X = data['cleaned_text_w/o_SW']\n",
        "y = data['label']\n",
        "\n",
        "TFIDF = TfidfVectorizer()  # will originally have 15955 features\n",
        "SVD = TruncatedSVD(n_components=300)  # reduce it to 1000 PCs\n",
        "\n",
        "LR1 = LogisticRegression(class_weight='balanced', solver='liblinear', penalty='l1', C=0.4)\n",
        "CV_pipe = Pipeline([('TFIDF', TFIDF), ('SVD', SVD), ('LR', LR1)] )\n",
        "results = cross_validate(CV_pipe, X, y, cv=kfold, scoring='accuracy', return_train_score=True)\n",
        "\n",
        "# print(results['train_score'])\n",
        "print(np.round((results['train_score'].mean())*100, 2), np.round((results['train_score'].std())*100, 2))\n",
        "\n",
        "# print(results['test_score'])\n",
        "print(np.round((results['test_score'].mean())*100, 2), np.round((results['test_score'].std())*100, 2))\n",
        "\n",
        "TFIDF.fit_transform(X)\n",
        "len(TFIDF.vocabulary_)"
      ],
      "metadata": {
        "colab": {
          "base_uri": "https://localhost:8080/"
        },
        "id": "Hgs0HGj6cZOs",
        "outputId": "921d3de6-4d33-4a79-f9fb-b6343f94f18d"
      },
      "execution_count": null,
      "outputs": [
        {
          "output_type": "stream",
          "name": "stdout",
          "text": [
            "63.25 0.68\n",
            "61.29 0.4\n"
          ]
        },
        {
          "output_type": "execute_result",
          "data": {
            "text/plain": [
              "1030"
            ]
          },
          "metadata": {},
          "execution_count": 101
        }
      ]
    },
    {
      "cell_type": "code",
      "source": [
        "\n",
        "CV_pipe.named_steps"
      ],
      "metadata": {
        "colab": {
          "base_uri": "https://localhost:8080/"
        },
        "id": "vPDMYeVocgO0",
        "outputId": "b41a3317-203a-4952-d074-e96d2171995d"
      },
      "execution_count": null,
      "outputs": [
        {
          "output_type": "execute_result",
          "data": {
            "text/plain": [
              "{'TFIDF': TfidfVectorizer(),\n",
              " 'SVD': TruncatedSVD(n_components=300),\n",
              " 'LR': LogisticRegression(C=0.4, class_weight='balanced', penalty='l1',\n",
              "                    solver='liblinear')}"
            ]
          },
          "metadata": {},
          "execution_count": 102
        }
      ]
    },
    {
      "cell_type": "code",
      "source": [
        "\n",
        "# Unigrams + Bigrams\n",
        "X = data['cleaned_text_w/o_SW']\n",
        "y = data['label']\n",
        "\n",
        "# we want to include only those words in the vocab which have min df of 5,\n",
        "# means select only those words which occur ATLEAST in 5 documents!!\n",
        "# AND SELECT the TOP 1000 FEATURES ONLY to build the model\n",
        "CV = CountVectorizer(stop_words=list(nepali_stopwords),  ngram_range=(1, 2), min_df=5)\n",
        "\n",
        "LR1 = LogisticRegression(class_weight='balanced', solver='liblinear', penalty='l1', C=0.4)\n",
        "CV_pipe = Pipeline([('CV', CV) , ('LR', LR1)] )\n",
        "results = cross_validate(CV_pipe, X, y, cv=kfold, scoring='accuracy', return_train_score=True)\n",
        "\n",
        "# print(results['train_score'])\n",
        "print(np.round((results['train_score'].mean())*100, 2), np.round((results['train_score'].std())*100, 2))\n",
        "\n",
        "# print(results['test_score'])\n",
        "print(np.round((results['test_score'].mean())*100, 2), np.round((results['test_score'].std())*100, 2))\n",
        "\n",
        "CV.fit_transform(X)\n",
        "len(CV.vocabulary_)  # no. of features AFTER applying the stopwords"
      ],
      "metadata": {
        "colab": {
          "base_uri": "https://localhost:8080/"
        },
        "id": "CR3EGur-dFPd",
        "outputId": "9c0ccb18-8854-4440-80d8-5317bf067ef4"
      },
      "execution_count": null,
      "outputs": [
        {
          "output_type": "stream",
          "name": "stderr",
          "text": [
            "/usr/local/lib/python3.10/dist-packages/sklearn/feature_extraction/text.py:409: UserWarning: Your stop_words may be inconsistent with your preprocessing. Tokenizing the stop words generated tokens ['अक', 'अग', 'अझ', 'अन', 'अर', 'आजक', 'आत', 'आद', 'आफ', 'आय', 'ईक', 'उद', 'उनक', 'उनल', 'उह', 'एउट', 'एन', 'कत', 'कम', 'कस', 'कसर', 'कह', 'गत', 'गय', 'गर', 'चम', 'छन', 'जत', 'जबक', 'जस', 'जसक', 'जसब', 'जसम', 'जसल', 'जह', 'तत', 'तथ', 'तदन', 'तप', 'तवम', 'नज', 'नत', 'नभन', 'नय', 'पक', 'पछ', 'पन', 'पय', 'पर', 'पष', 'पह', 'बन', 'बर', 'भएक', 'भय', 'भव', 'मल', 'यत', 'यथ', 'यद', 'यप', 'यसक', 'यसपछ', 'यसब', 'यसर', 'यह', 'रण', 'रत', 'रमश', 'रह', 'लस', 'वर', 'सक', 'सट', 'सध', 'सपछ', 'सब', 'सम', 'सर', 'सह', 'हन', 'हर', 'हरण'] not in stop_words.\n",
            "  warnings.warn(\n",
            "/usr/local/lib/python3.10/dist-packages/sklearn/feature_extraction/text.py:409: UserWarning: Your stop_words may be inconsistent with your preprocessing. Tokenizing the stop words generated tokens ['अक', 'अग', 'अझ', 'अन', 'अर', 'आजक', 'आत', 'आद', 'आफ', 'आय', 'ईक', 'उद', 'उनक', 'उनल', 'उह', 'एउट', 'एन', 'कत', 'कम', 'कस', 'कसर', 'कह', 'गत', 'गय', 'गर', 'चम', 'छन', 'जत', 'जबक', 'जस', 'जसक', 'जसब', 'जसम', 'जसल', 'जह', 'तत', 'तथ', 'तदन', 'तप', 'तवम', 'नज', 'नत', 'नभन', 'नय', 'पक', 'पछ', 'पन', 'पय', 'पर', 'पष', 'पह', 'बन', 'बर', 'भएक', 'भय', 'भव', 'मल', 'यत', 'यथ', 'यद', 'यप', 'यसक', 'यसपछ', 'यसब', 'यसर', 'यह', 'रण', 'रत', 'रमश', 'रह', 'लस', 'वर', 'सक', 'सट', 'सध', 'सपछ', 'सब', 'सम', 'सर', 'सह', 'हन', 'हर', 'हरण'] not in stop_words.\n",
            "  warnings.warn(\n",
            "/usr/local/lib/python3.10/dist-packages/sklearn/feature_extraction/text.py:409: UserWarning: Your stop_words may be inconsistent with your preprocessing. Tokenizing the stop words generated tokens ['अक', 'अग', 'अझ', 'अन', 'अर', 'आजक', 'आत', 'आद', 'आफ', 'आय', 'ईक', 'उद', 'उनक', 'उनल', 'उह', 'एउट', 'एन', 'कत', 'कम', 'कस', 'कसर', 'कह', 'गत', 'गय', 'गर', 'चम', 'छन', 'जत', 'जबक', 'जस', 'जसक', 'जसब', 'जसम', 'जसल', 'जह', 'तत', 'तथ', 'तदन', 'तप', 'तवम', 'नज', 'नत', 'नभन', 'नय', 'पक', 'पछ', 'पन', 'पय', 'पर', 'पष', 'पह', 'बन', 'बर', 'भएक', 'भय', 'भव', 'मल', 'यत', 'यथ', 'यद', 'यप', 'यसक', 'यसपछ', 'यसब', 'यसर', 'यह', 'रण', 'रत', 'रमश', 'रह', 'लस', 'वर', 'सक', 'सट', 'सध', 'सपछ', 'सब', 'सम', 'सर', 'सह', 'हन', 'हर', 'हरण'] not in stop_words.\n",
            "  warnings.warn(\n",
            "/usr/local/lib/python3.10/dist-packages/sklearn/feature_extraction/text.py:409: UserWarning: Your stop_words may be inconsistent with your preprocessing. Tokenizing the stop words generated tokens ['अक', 'अग', 'अझ', 'अन', 'अर', 'आजक', 'आत', 'आद', 'आफ', 'आय', 'ईक', 'उद', 'उनक', 'उनल', 'उह', 'एउट', 'एन', 'कत', 'कम', 'कस', 'कसर', 'कह', 'गत', 'गय', 'गर', 'चम', 'छन', 'जत', 'जबक', 'जस', 'जसक', 'जसब', 'जसम', 'जसल', 'जह', 'तत', 'तथ', 'तदन', 'तप', 'तवम', 'नज', 'नत', 'नभन', 'नय', 'पक', 'पछ', 'पन', 'पय', 'पर', 'पष', 'पह', 'बन', 'बर', 'भएक', 'भय', 'भव', 'मल', 'यत', 'यथ', 'यद', 'यप', 'यसक', 'यसपछ', 'यसब', 'यसर', 'यह', 'रण', 'रत', 'रमश', 'रह', 'लस', 'वर', 'सक', 'सट', 'सध', 'सपछ', 'सब', 'सम', 'सर', 'सह', 'हन', 'हर', 'हरण'] not in stop_words.\n",
            "  warnings.warn(\n",
            "/usr/local/lib/python3.10/dist-packages/sklearn/feature_extraction/text.py:409: UserWarning: Your stop_words may be inconsistent with your preprocessing. Tokenizing the stop words generated tokens ['अक', 'अग', 'अझ', 'अन', 'अर', 'आजक', 'आत', 'आद', 'आफ', 'आय', 'ईक', 'उद', 'उनक', 'उनल', 'उह', 'एउट', 'एन', 'कत', 'कम', 'कस', 'कसर', 'कह', 'गत', 'गय', 'गर', 'चम', 'छन', 'जत', 'जबक', 'जस', 'जसक', 'जसब', 'जसम', 'जसल', 'जह', 'तत', 'तथ', 'तदन', 'तप', 'तवम', 'नज', 'नत', 'नभन', 'नय', 'पक', 'पछ', 'पन', 'पय', 'पर', 'पष', 'पह', 'बन', 'बर', 'भएक', 'भय', 'भव', 'मल', 'यत', 'यथ', 'यद', 'यप', 'यसक', 'यसपछ', 'यसब', 'यसर', 'यह', 'रण', 'रत', 'रमश', 'रह', 'लस', 'वर', 'सक', 'सट', 'सध', 'सपछ', 'सब', 'सम', 'सर', 'सह', 'हन', 'हर', 'हरण'] not in stop_words.\n",
            "  warnings.warn(\n"
          ]
        },
        {
          "output_type": "stream",
          "name": "stdout",
          "text": [
            "69.5 0.89\n",
            "62.94 1.38\n"
          ]
        },
        {
          "output_type": "stream",
          "name": "stderr",
          "text": [
            "/usr/local/lib/python3.10/dist-packages/sklearn/feature_extraction/text.py:409: UserWarning: Your stop_words may be inconsistent with your preprocessing. Tokenizing the stop words generated tokens ['अक', 'अग', 'अझ', 'अन', 'अर', 'आजक', 'आत', 'आद', 'आफ', 'आय', 'ईक', 'उद', 'उनक', 'उनल', 'उह', 'एउट', 'एन', 'कत', 'कम', 'कस', 'कसर', 'कह', 'गत', 'गय', 'गर', 'चम', 'छन', 'जत', 'जबक', 'जस', 'जसक', 'जसब', 'जसम', 'जसल', 'जह', 'तत', 'तथ', 'तदन', 'तप', 'तवम', 'नज', 'नत', 'नभन', 'नय', 'पक', 'पछ', 'पन', 'पय', 'पर', 'पष', 'पह', 'बन', 'बर', 'भएक', 'भय', 'भव', 'मल', 'यत', 'यथ', 'यद', 'यप', 'यसक', 'यसपछ', 'यसब', 'यसर', 'यह', 'रण', 'रत', 'रमश', 'रह', 'लस', 'वर', 'सक', 'सट', 'सध', 'सपछ', 'सब', 'सम', 'सर', 'सह', 'हन', 'हर', 'हरण'] not in stop_words.\n",
            "  warnings.warn(\n"
          ]
        },
        {
          "output_type": "execute_result",
          "data": {
            "text/plain": [
              "518"
            ]
          },
          "metadata": {},
          "execution_count": 103
        }
      ]
    },
    {
      "cell_type": "code",
      "source": [
        "CV_pipe.named_steps"
      ],
      "metadata": {
        "colab": {
          "base_uri": "https://localhost:8080/"
        },
        "id": "jJYhjsRadMdK",
        "outputId": "bacd49fe-83de-4e90-9d9d-0dec86bb5f87"
      },
      "execution_count": null,
      "outputs": [
        {
          "output_type": "execute_result",
          "data": {
            "text/plain": [
              "{'CV': CountVectorizer(min_df=5, ngram_range=(1, 2),\n",
              "                 stop_words=['आफू', 'ती', 'तपाई', 'त्यो', 'गरौं', 'यस', 'पक्का',\n",
              "                             'पर्छ', 'कहिलेकाहीं', 'सबै', 'त', 'नि', 'यति',\n",
              "                             'सायद', 'छौं', 'गरि', 'भएको', 'गर्छु', 'का',\n",
              "                             'पहिल्यै', 'प्रतेक', 'निम्न', 'पहिले', 'चाले', 'नै',\n",
              "                             'जस्तै', 'तत्काल', 'यी', 'चाहन्छु', 'कसरी', ...]),\n",
              " 'LR': LogisticRegression(C=0.4, class_weight='balanced', penalty='l1',\n",
              "                    solver='liblinear')}"
            ]
          },
          "metadata": {},
          "execution_count": 104
        }
      ]
    },
    {
      "cell_type": "code",
      "source": [
        "import joblib\n",
        "joblib.__version__"
      ],
      "metadata": {
        "colab": {
          "base_uri": "https://localhost:8080/",
          "height": 36
        },
        "id": "OBi_c2UzdSJw",
        "outputId": "b47cf4d4-88ba-4694-8778-c4fa6acbd38b"
      },
      "execution_count": null,
      "outputs": [
        {
          "output_type": "execute_result",
          "data": {
            "text/plain": [
              "'1.4.0'"
            ],
            "application/vnd.google.colaboratory.intrinsic+json": {
              "type": "string"
            }
          },
          "metadata": {},
          "execution_count": 79
        }
      ]
    },
    {
      "cell_type": "code",
      "source": [
        "!pip install mglearn\n",
        "import mglearn"
      ],
      "metadata": {
        "colab": {
          "base_uri": "https://localhost:8080/"
        },
        "id": "3kLwQhdXdXk7",
        "outputId": "707b1789-060e-4e46-e4c4-28d76494c6d9"
      },
      "execution_count": null,
      "outputs": [
        {
          "output_type": "stream",
          "name": "stdout",
          "text": [
            "Collecting mglearn\n",
            "  Downloading mglearn-0.2.0-py2.py3-none-any.whl (581 kB)\n",
            "\u001b[?25l     \u001b[90m━━━━━━━━━━━━━━━━━━━━━━━━━━━━━━━━━━━━━━━━\u001b[0m \u001b[32m0.0/581.4 kB\u001b[0m \u001b[31m?\u001b[0m eta \u001b[36m-:--:--\u001b[0m\r\u001b[2K     \u001b[91m━━━━━━━━━━━━━━━\u001b[0m\u001b[90m╺\u001b[0m\u001b[90m━━━━━━━━━━━━━━━━━━━━━━━━\u001b[0m \u001b[32m225.3/581.4 kB\u001b[0m \u001b[31m6.5 MB/s\u001b[0m eta \u001b[36m0:00:01\u001b[0m\r\u001b[2K     \u001b[91m━━━━━━━━━━━━━━━━━━━━━━━━━━━━━━━━━━━━━━━\u001b[0m\u001b[90m╺\u001b[0m \u001b[32m573.4/581.4 kB\u001b[0m \u001b[31m9.8 MB/s\u001b[0m eta \u001b[36m0:00:01\u001b[0m\r\u001b[2K     \u001b[90m━━━━━━━━━━━━━━━━━━━━━━━━━━━━━━━━━━━━━━━━\u001b[0m \u001b[32m581.4/581.4 kB\u001b[0m \u001b[31m7.9 MB/s\u001b[0m eta \u001b[36m0:00:00\u001b[0m\n",
            "\u001b[?25hRequirement already satisfied: numpy in /usr/local/lib/python3.10/dist-packages (from mglearn) (1.25.2)\n",
            "Requirement already satisfied: matplotlib in /usr/local/lib/python3.10/dist-packages (from mglearn) (3.7.1)\n",
            "Requirement already satisfied: scikit-learn in /usr/local/lib/python3.10/dist-packages (from mglearn) (1.2.2)\n",
            "Requirement already satisfied: pandas in /usr/local/lib/python3.10/dist-packages (from mglearn) (2.0.3)\n",
            "Requirement already satisfied: pillow in /usr/local/lib/python3.10/dist-packages (from mglearn) (9.4.0)\n",
            "Requirement already satisfied: cycler in /usr/local/lib/python3.10/dist-packages (from mglearn) (0.12.1)\n",
            "Requirement already satisfied: imageio in /usr/local/lib/python3.10/dist-packages (from mglearn) (2.31.6)\n",
            "Requirement already satisfied: joblib in /usr/local/lib/python3.10/dist-packages (from mglearn) (1.4.0)\n",
            "Requirement already satisfied: contourpy>=1.0.1 in /usr/local/lib/python3.10/dist-packages (from matplotlib->mglearn) (1.2.1)\n",
            "Requirement already satisfied: fonttools>=4.22.0 in /usr/local/lib/python3.10/dist-packages (from matplotlib->mglearn) (4.51.0)\n",
            "Requirement already satisfied: kiwisolver>=1.0.1 in /usr/local/lib/python3.10/dist-packages (from matplotlib->mglearn) (1.4.5)\n",
            "Requirement already satisfied: packaging>=20.0 in /usr/local/lib/python3.10/dist-packages (from matplotlib->mglearn) (24.0)\n",
            "Requirement already satisfied: pyparsing>=2.3.1 in /usr/local/lib/python3.10/dist-packages (from matplotlib->mglearn) (3.1.2)\n",
            "Requirement already satisfied: python-dateutil>=2.7 in /usr/local/lib/python3.10/dist-packages (from matplotlib->mglearn) (2.8.2)\n",
            "Requirement already satisfied: pytz>=2020.1 in /usr/local/lib/python3.10/dist-packages (from pandas->mglearn) (2023.4)\n",
            "Requirement already satisfied: tzdata>=2022.1 in /usr/local/lib/python3.10/dist-packages (from pandas->mglearn) (2024.1)\n",
            "Requirement already satisfied: scipy>=1.3.2 in /usr/local/lib/python3.10/dist-packages (from scikit-learn->mglearn) (1.11.4)\n",
            "Requirement already satisfied: threadpoolctl>=2.0.0 in /usr/local/lib/python3.10/dist-packages (from scikit-learn->mglearn) (3.4.0)\n",
            "Requirement already satisfied: six>=1.5 in /usr/local/lib/python3.10/dist-packages (from python-dateutil>=2.7->matplotlib->mglearn) (1.16.0)\n",
            "Installing collected packages: mglearn\n",
            "Successfully installed mglearn-0.2.0\n"
          ]
        }
      ]
    },
    {
      "cell_type": "code",
      "source": [
        "feature_names = np.array(CV.get_feature_names_out())"
      ],
      "metadata": {
        "id": "D4XPSlfDda14"
      },
      "execution_count": null,
      "outputs": []
    },
    {
      "cell_type": "code",
      "source": [
        "LR1.fit(CV.fit_transform(X), y)\n",
        "coef = LR1.coef_\n",
        "mglearn.tools.visualize_coefficients(coef, feature_names, n_top_features=25)"
      ],
      "metadata": {
        "colab": {
          "base_uri": "https://localhost:8080/",
          "height": 1000
        },
        "id": "0_-dssqldgYI",
        "outputId": "40e54d59-a5bb-43e5-a51c-b69f3a9567fc"
      },
      "execution_count": null,
      "outputs": [
        {
          "output_type": "stream",
          "name": "stderr",
          "text": [
            "/usr/local/lib/python3.10/dist-packages/IPython/core/events.py:89: UserWarning: Glyph 2342 (\\N{DEVANAGARI LETTER DA}) missing from current font.\n",
            "  func(*args, **kwargs)\n",
            "/usr/local/lib/python3.10/dist-packages/IPython/core/events.py:89: UserWarning: Matplotlib currently does not support Devanagari natively.\n",
            "  func(*args, **kwargs)\n",
            "/usr/local/lib/python3.10/dist-packages/IPython/core/events.py:89: UserWarning: Glyph 2354 (\\N{DEVANAGARI LETTER LA}) missing from current font.\n",
            "  func(*args, **kwargs)\n",
            "/usr/local/lib/python3.10/dist-packages/IPython/core/events.py:89: UserWarning: Glyph 2361 (\\N{DEVANAGARI LETTER HA}) missing from current font.\n",
            "  func(*args, **kwargs)\n",
            "/usr/local/lib/python3.10/dist-packages/IPython/core/events.py:89: UserWarning: Glyph 2352 (\\N{DEVANAGARI LETTER RA}) missing from current font.\n",
            "  func(*args, **kwargs)\n",
            "/usr/local/lib/python3.10/dist-packages/IPython/core/events.py:89: UserWarning: Glyph 2348 (\\N{DEVANAGARI LETTER BA}) missing from current font.\n",
            "  func(*args, **kwargs)\n",
            "/usr/local/lib/python3.10/dist-packages/IPython/core/events.py:89: UserWarning: Glyph 2338 (\\N{DEVANAGARI LETTER DDHA}) missing from current font.\n",
            "  func(*args, **kwargs)\n",
            "/usr/local/lib/python3.10/dist-packages/IPython/core/events.py:89: UserWarning: Glyph 2357 (\\N{DEVANAGARI LETTER VA}) missing from current font.\n",
            "  func(*args, **kwargs)\n",
            "/usr/local/lib/python3.10/dist-packages/IPython/core/events.py:89: UserWarning: Glyph 2346 (\\N{DEVANAGARI LETTER PA}) missing from current font.\n",
            "  func(*args, **kwargs)\n",
            "/usr/local/lib/python3.10/dist-packages/IPython/core/events.py:89: UserWarning: Glyph 2344 (\\N{DEVANAGARI LETTER NA}) missing from current font.\n",
            "  func(*args, **kwargs)\n",
            "/usr/local/lib/python3.10/dist-packages/IPython/core/events.py:89: UserWarning: Glyph 2349 (\\N{DEVANAGARI LETTER BHA}) missing from current font.\n",
            "  func(*args, **kwargs)\n",
            "/usr/local/lib/python3.10/dist-packages/IPython/core/events.py:89: UserWarning: Glyph 2319 (\\N{DEVANAGARI LETTER E}) missing from current font.\n",
            "  func(*args, **kwargs)\n",
            "/usr/local/lib/python3.10/dist-packages/IPython/core/events.py:89: UserWarning: Glyph 2360 (\\N{DEVANAGARI LETTER SA}) missing from current font.\n",
            "  func(*args, **kwargs)\n",
            "/usr/local/lib/python3.10/dist-packages/IPython/core/events.py:89: UserWarning: Glyph 2331 (\\N{DEVANAGARI LETTER CHA}) missing from current font.\n",
            "  func(*args, **kwargs)\n",
            "/usr/local/lib/python3.10/dist-packages/IPython/core/events.py:89: UserWarning: Glyph 2313 (\\N{DEVANAGARI LETTER U}) missing from current font.\n",
            "  func(*args, **kwargs)\n",
            "/usr/local/lib/python3.10/dist-packages/IPython/core/events.py:89: UserWarning: Glyph 2337 (\\N{DEVANAGARI LETTER DDA}) missing from current font.\n",
            "  func(*args, **kwargs)\n",
            "/usr/local/lib/python3.10/dist-packages/IPython/core/events.py:89: UserWarning: Glyph 2340 (\\N{DEVANAGARI LETTER TA}) missing from current font.\n",
            "  func(*args, **kwargs)\n",
            "/usr/local/lib/python3.10/dist-packages/IPython/core/events.py:89: UserWarning: Glyph 2358 (\\N{DEVANAGARI LETTER SHA}) missing from current font.\n",
            "  func(*args, **kwargs)\n",
            "/usr/local/lib/python3.10/dist-packages/IPython/core/events.py:89: UserWarning: Glyph 2325 (\\N{DEVANAGARI LETTER KA}) missing from current font.\n",
            "  func(*args, **kwargs)\n",
            "/usr/local/lib/python3.10/dist-packages/IPython/core/events.py:89: UserWarning: Glyph 2350 (\\N{DEVANAGARI LETTER MA}) missing from current font.\n",
            "  func(*args, **kwargs)\n",
            "/usr/local/lib/python3.10/dist-packages/IPython/core/events.py:89: UserWarning: Glyph 2332 (\\N{DEVANAGARI LETTER JA}) missing from current font.\n",
            "  func(*args, **kwargs)\n",
            "/usr/local/lib/python3.10/dist-packages/IPython/core/events.py:89: UserWarning: Glyph 2351 (\\N{DEVANAGARI LETTER YA}) missing from current font.\n",
            "  func(*args, **kwargs)\n",
            "/usr/local/lib/python3.10/dist-packages/IPython/core/events.py:89: UserWarning: Glyph 2327 (\\N{DEVANAGARI LETTER GA}) missing from current font.\n",
            "  func(*args, **kwargs)\n",
            "/usr/local/lib/python3.10/dist-packages/IPython/core/events.py:89: UserWarning: Glyph 2359 (\\N{DEVANAGARI LETTER SSA}) missing from current font.\n",
            "  func(*args, **kwargs)\n",
            "/usr/local/lib/python3.10/dist-packages/IPython/core/events.py:89: UserWarning: Glyph 2310 (\\N{DEVANAGARI LETTER AA}) missing from current font.\n",
            "  func(*args, **kwargs)\n",
            "/usr/local/lib/python3.10/dist-packages/IPython/core/events.py:89: UserWarning: Glyph 2330 (\\N{DEVANAGARI LETTER CA}) missing from current font.\n",
            "  func(*args, **kwargs)\n",
            "/usr/local/lib/python3.10/dist-packages/IPython/core/events.py:89: UserWarning: Glyph 2339 (\\N{DEVANAGARI LETTER NNA}) missing from current font.\n",
            "  func(*args, **kwargs)\n",
            "/usr/local/lib/python3.10/dist-packages/IPython/core/events.py:89: UserWarning: Glyph 2336 (\\N{DEVANAGARI LETTER TTHA}) missing from current font.\n",
            "  func(*args, **kwargs)\n",
            "/usr/local/lib/python3.10/dist-packages/IPython/core/events.py:89: UserWarning: Glyph 2347 (\\N{DEVANAGARI LETTER PHA}) missing from current font.\n",
            "  func(*args, **kwargs)\n",
            "/usr/local/lib/python3.10/dist-packages/IPython/core/pylabtools.py:151: UserWarning: Glyph 2342 (\\N{DEVANAGARI LETTER DA}) missing from current font.\n",
            "  fig.canvas.print_figure(bytes_io, **kw)\n",
            "/usr/local/lib/python3.10/dist-packages/IPython/core/pylabtools.py:151: UserWarning: Matplotlib currently does not support Devanagari natively.\n",
            "  fig.canvas.print_figure(bytes_io, **kw)\n",
            "/usr/local/lib/python3.10/dist-packages/IPython/core/pylabtools.py:151: UserWarning: Glyph 2354 (\\N{DEVANAGARI LETTER LA}) missing from current font.\n",
            "  fig.canvas.print_figure(bytes_io, **kw)\n",
            "/usr/local/lib/python3.10/dist-packages/IPython/core/pylabtools.py:151: UserWarning: Glyph 2361 (\\N{DEVANAGARI LETTER HA}) missing from current font.\n",
            "  fig.canvas.print_figure(bytes_io, **kw)\n",
            "/usr/local/lib/python3.10/dist-packages/IPython/core/pylabtools.py:151: UserWarning: Glyph 2352 (\\N{DEVANAGARI LETTER RA}) missing from current font.\n",
            "  fig.canvas.print_figure(bytes_io, **kw)\n",
            "/usr/local/lib/python3.10/dist-packages/IPython/core/pylabtools.py:151: UserWarning: Glyph 2348 (\\N{DEVANAGARI LETTER BA}) missing from current font.\n",
            "  fig.canvas.print_figure(bytes_io, **kw)\n",
            "/usr/local/lib/python3.10/dist-packages/IPython/core/pylabtools.py:151: UserWarning: Glyph 2338 (\\N{DEVANAGARI LETTER DDHA}) missing from current font.\n",
            "  fig.canvas.print_figure(bytes_io, **kw)\n",
            "/usr/local/lib/python3.10/dist-packages/IPython/core/pylabtools.py:151: UserWarning: Glyph 2357 (\\N{DEVANAGARI LETTER VA}) missing from current font.\n",
            "  fig.canvas.print_figure(bytes_io, **kw)\n",
            "/usr/local/lib/python3.10/dist-packages/IPython/core/pylabtools.py:151: UserWarning: Glyph 2346 (\\N{DEVANAGARI LETTER PA}) missing from current font.\n",
            "  fig.canvas.print_figure(bytes_io, **kw)\n",
            "/usr/local/lib/python3.10/dist-packages/IPython/core/pylabtools.py:151: UserWarning: Glyph 2344 (\\N{DEVANAGARI LETTER NA}) missing from current font.\n",
            "  fig.canvas.print_figure(bytes_io, **kw)\n",
            "/usr/local/lib/python3.10/dist-packages/IPython/core/pylabtools.py:151: UserWarning: Glyph 2349 (\\N{DEVANAGARI LETTER BHA}) missing from current font.\n",
            "  fig.canvas.print_figure(bytes_io, **kw)\n",
            "/usr/local/lib/python3.10/dist-packages/IPython/core/pylabtools.py:151: UserWarning: Glyph 2319 (\\N{DEVANAGARI LETTER E}) missing from current font.\n",
            "  fig.canvas.print_figure(bytes_io, **kw)\n",
            "/usr/local/lib/python3.10/dist-packages/IPython/core/pylabtools.py:151: UserWarning: Glyph 2360 (\\N{DEVANAGARI LETTER SA}) missing from current font.\n",
            "  fig.canvas.print_figure(bytes_io, **kw)\n",
            "/usr/local/lib/python3.10/dist-packages/IPython/core/pylabtools.py:151: UserWarning: Glyph 2331 (\\N{DEVANAGARI LETTER CHA}) missing from current font.\n",
            "  fig.canvas.print_figure(bytes_io, **kw)\n",
            "/usr/local/lib/python3.10/dist-packages/IPython/core/pylabtools.py:151: UserWarning: Glyph 2313 (\\N{DEVANAGARI LETTER U}) missing from current font.\n",
            "  fig.canvas.print_figure(bytes_io, **kw)\n",
            "/usr/local/lib/python3.10/dist-packages/IPython/core/pylabtools.py:151: UserWarning: Glyph 2337 (\\N{DEVANAGARI LETTER DDA}) missing from current font.\n",
            "  fig.canvas.print_figure(bytes_io, **kw)\n",
            "/usr/local/lib/python3.10/dist-packages/IPython/core/pylabtools.py:151: UserWarning: Glyph 2340 (\\N{DEVANAGARI LETTER TA}) missing from current font.\n",
            "  fig.canvas.print_figure(bytes_io, **kw)\n",
            "/usr/local/lib/python3.10/dist-packages/IPython/core/pylabtools.py:151: UserWarning: Glyph 2358 (\\N{DEVANAGARI LETTER SHA}) missing from current font.\n",
            "  fig.canvas.print_figure(bytes_io, **kw)\n",
            "/usr/local/lib/python3.10/dist-packages/IPython/core/pylabtools.py:151: UserWarning: Glyph 2325 (\\N{DEVANAGARI LETTER KA}) missing from current font.\n",
            "  fig.canvas.print_figure(bytes_io, **kw)\n",
            "/usr/local/lib/python3.10/dist-packages/IPython/core/pylabtools.py:151: UserWarning: Glyph 2350 (\\N{DEVANAGARI LETTER MA}) missing from current font.\n",
            "  fig.canvas.print_figure(bytes_io, **kw)\n",
            "/usr/local/lib/python3.10/dist-packages/IPython/core/pylabtools.py:151: UserWarning: Glyph 2332 (\\N{DEVANAGARI LETTER JA}) missing from current font.\n",
            "  fig.canvas.print_figure(bytes_io, **kw)\n",
            "/usr/local/lib/python3.10/dist-packages/IPython/core/pylabtools.py:151: UserWarning: Glyph 2351 (\\N{DEVANAGARI LETTER YA}) missing from current font.\n",
            "  fig.canvas.print_figure(bytes_io, **kw)\n",
            "/usr/local/lib/python3.10/dist-packages/IPython/core/pylabtools.py:151: UserWarning: Glyph 2327 (\\N{DEVANAGARI LETTER GA}) missing from current font.\n",
            "  fig.canvas.print_figure(bytes_io, **kw)\n",
            "/usr/local/lib/python3.10/dist-packages/IPython/core/pylabtools.py:151: UserWarning: Glyph 2359 (\\N{DEVANAGARI LETTER SSA}) missing from current font.\n",
            "  fig.canvas.print_figure(bytes_io, **kw)\n",
            "/usr/local/lib/python3.10/dist-packages/IPython/core/pylabtools.py:151: UserWarning: Glyph 2310 (\\N{DEVANAGARI LETTER AA}) missing from current font.\n",
            "  fig.canvas.print_figure(bytes_io, **kw)\n",
            "/usr/local/lib/python3.10/dist-packages/IPython/core/pylabtools.py:151: UserWarning: Glyph 2330 (\\N{DEVANAGARI LETTER CA}) missing from current font.\n",
            "  fig.canvas.print_figure(bytes_io, **kw)\n",
            "/usr/local/lib/python3.10/dist-packages/IPython/core/pylabtools.py:151: UserWarning: Glyph 2339 (\\N{DEVANAGARI LETTER NNA}) missing from current font.\n",
            "  fig.canvas.print_figure(bytes_io, **kw)\n",
            "/usr/local/lib/python3.10/dist-packages/IPython/core/pylabtools.py:151: UserWarning: Glyph 2336 (\\N{DEVANAGARI LETTER TTHA}) missing from current font.\n",
            "  fig.canvas.print_figure(bytes_io, **kw)\n",
            "/usr/local/lib/python3.10/dist-packages/IPython/core/pylabtools.py:151: UserWarning: Glyph 2347 (\\N{DEVANAGARI LETTER PHA}) missing from current font.\n",
            "  fig.canvas.print_figure(bytes_io, **kw)\n"
          ]
        },
        {
          "output_type": "display_data",
          "data": {
            "text/plain": [
              "<Figure size 1500x500 with 1 Axes>"
            ],
            "image/png": "[encoded data removed]"
          },
          "metadata": {}
        }
      ]
    },
    {
      "cell_type": "code",
      "source": [
        "len(coef.ravel()), len(feature_names)"
      ],
      "metadata": {
        "colab": {
          "base_uri": "https://localhost:8080/"
        },
        "id": "Veq0yKtldkNc",
        "outputId": "4c30ee70-25cb-48c0-ad2b-ae0414a386e2"
      },
      "execution_count": null,
      "outputs": [
        {
          "output_type": "execute_result",
          "data": {
            "text/plain": [
              "(518, 518)"
            ]
          },
          "metadata": {},
          "execution_count": 110
        }
      ]
    },
    {
      "cell_type": "code",
      "source": [
        "# Visualizing only the trigrams\n",
        "# find 2-gram features\n",
        "mask = np.array([len(feature.split(\" \")) for feature in feature_names]) == 2\n",
        "\n",
        "LR1.fit(CV.fit_transform(X), y)\n",
        "coef = LR1.coef_"
      ],
      "metadata": {
        "id": "vUpk4JB3dqSe"
      },
      "execution_count": null,
      "outputs": []
    },
    {
      "cell_type": "code",
      "source": [
        "mglearn.tools.visualize_coefficients(coef.ravel()[mask], feature_names[mask], n_top_features=25)\n"
      ],
      "metadata": {
        "colab": {
          "base_uri": "https://localhost:8080/",
          "height": 1000
        },
        "id": "9TiaC1dbdty0",
        "outputId": "0fb4a6cd-d89d-4ebc-e2cf-d772b963de49"
      },
      "execution_count": null,
      "outputs": [
        {
          "output_type": "stream",
          "name": "stderr",
          "text": [
            "/usr/local/lib/python3.10/dist-packages/IPython/core/events.py:89: UserWarning: Glyph 2342 (\\N{DEVANAGARI LETTER DA}) missing from current font.\n",
            "  func(*args, **kwargs)\n",
            "/usr/local/lib/python3.10/dist-packages/IPython/core/events.py:89: UserWarning: Matplotlib currently does not support Devanagari natively.\n",
            "  func(*args, **kwargs)\n",
            "/usr/local/lib/python3.10/dist-packages/IPython/core/events.py:89: UserWarning: Glyph 2354 (\\N{DEVANAGARI LETTER LA}) missing from current font.\n",
            "  func(*args, **kwargs)\n",
            "/usr/local/lib/python3.10/dist-packages/IPython/core/events.py:89: UserWarning: Glyph 2361 (\\N{DEVANAGARI LETTER HA}) missing from current font.\n",
            "  func(*args, **kwargs)\n",
            "/usr/local/lib/python3.10/dist-packages/IPython/core/events.py:89: UserWarning: Glyph 2352 (\\N{DEVANAGARI LETTER RA}) missing from current font.\n",
            "  func(*args, **kwargs)\n",
            "/usr/local/lib/python3.10/dist-packages/IPython/core/events.py:89: UserWarning: Glyph 2346 (\\N{DEVANAGARI LETTER PA}) missing from current font.\n",
            "  func(*args, **kwargs)\n",
            "/usr/local/lib/python3.10/dist-packages/IPython/core/events.py:89: UserWarning: Glyph 2340 (\\N{DEVANAGARI LETTER TA}) missing from current font.\n",
            "  func(*args, **kwargs)\n",
            "/usr/local/lib/python3.10/dist-packages/IPython/core/events.py:89: UserWarning: Glyph 2325 (\\N{DEVANAGARI LETTER KA}) missing from current font.\n",
            "  func(*args, **kwargs)\n",
            "/usr/local/lib/python3.10/dist-packages/IPython/core/events.py:89: UserWarning: Glyph 2327 (\\N{DEVANAGARI LETTER GA}) missing from current font.\n",
            "  func(*args, **kwargs)\n",
            "/usr/local/lib/python3.10/dist-packages/IPython/core/events.py:89: UserWarning: Glyph 2313 (\\N{DEVANAGARI LETTER U}) missing from current font.\n",
            "  func(*args, **kwargs)\n",
            "/usr/local/lib/python3.10/dist-packages/IPython/core/events.py:89: UserWarning: Glyph 2344 (\\N{DEVANAGARI LETTER NA}) missing from current font.\n",
            "  func(*args, **kwargs)\n",
            "/usr/local/lib/python3.10/dist-packages/IPython/core/events.py:89: UserWarning: Glyph 2351 (\\N{DEVANAGARI LETTER YA}) missing from current font.\n",
            "  func(*args, **kwargs)\n",
            "/usr/local/lib/python3.10/dist-packages/IPython/core/events.py:89: UserWarning: Glyph 2350 (\\N{DEVANAGARI LETTER MA}) missing from current font.\n",
            "  func(*args, **kwargs)\n",
            "/usr/local/lib/python3.10/dist-packages/IPython/core/events.py:89: UserWarning: Glyph 2343 (\\N{DEVANAGARI LETTER DHA}) missing from current font.\n",
            "  func(*args, **kwargs)\n",
            "/usr/local/lib/python3.10/dist-packages/IPython/core/events.py:89: UserWarning: Glyph 2348 (\\N{DEVANAGARI LETTER BA}) missing from current font.\n",
            "  func(*args, **kwargs)\n",
            "/usr/local/lib/python3.10/dist-packages/IPython/core/events.py:89: UserWarning: Glyph 2347 (\\N{DEVANAGARI LETTER PHA}) missing from current font.\n",
            "  func(*args, **kwargs)\n",
            "/usr/local/lib/python3.10/dist-packages/IPython/core/events.py:89: UserWarning: Glyph 2360 (\\N{DEVANAGARI LETTER SA}) missing from current font.\n",
            "  func(*args, **kwargs)\n",
            "/usr/local/lib/python3.10/dist-packages/IPython/core/events.py:89: UserWarning: Glyph 2357 (\\N{DEVANAGARI LETTER VA}) missing from current font.\n",
            "  func(*args, **kwargs)\n",
            "/usr/local/lib/python3.10/dist-packages/IPython/core/events.py:89: UserWarning: Glyph 2311 (\\N{DEVANAGARI LETTER I}) missing from current font.\n",
            "  func(*args, **kwargs)\n",
            "/usr/local/lib/python3.10/dist-packages/IPython/core/events.py:89: UserWarning: Glyph 2312 (\\N{DEVANAGARI LETTER II}) missing from current font.\n",
            "  func(*args, **kwargs)\n",
            "/usr/local/lib/python3.10/dist-packages/IPython/core/events.py:89: UserWarning: Glyph 2335 (\\N{DEVANAGARI LETTER TTA}) missing from current font.\n",
            "  func(*args, **kwargs)\n",
            "/usr/local/lib/python3.10/dist-packages/IPython/core/events.py:89: UserWarning: Glyph 2341 (\\N{DEVANAGARI LETTER THA}) missing from current font.\n",
            "  func(*args, **kwargs)\n",
            "/usr/local/lib/python3.10/dist-packages/IPython/core/events.py:89: UserWarning: Glyph 2332 (\\N{DEVANAGARI LETTER JA}) missing from current font.\n",
            "  func(*args, **kwargs)\n",
            "/usr/local/lib/python3.10/dist-packages/IPython/core/events.py:89: UserWarning: Glyph 2331 (\\N{DEVANAGARI LETTER CHA}) missing from current font.\n",
            "  func(*args, **kwargs)\n",
            "/usr/local/lib/python3.10/dist-packages/IPython/core/events.py:89: UserWarning: Glyph 2359 (\\N{DEVANAGARI LETTER SSA}) missing from current font.\n",
            "  func(*args, **kwargs)\n",
            "/usr/local/lib/python3.10/dist-packages/IPython/core/events.py:89: UserWarning: Glyph 2330 (\\N{DEVANAGARI LETTER CA}) missing from current font.\n",
            "  func(*args, **kwargs)\n",
            "/usr/local/lib/python3.10/dist-packages/IPython/core/events.py:89: UserWarning: Glyph 2358 (\\N{DEVANAGARI LETTER SHA}) missing from current font.\n",
            "  func(*args, **kwargs)\n",
            "/usr/local/lib/python3.10/dist-packages/IPython/core/pylabtools.py:151: UserWarning: Glyph 2342 (\\N{DEVANAGARI LETTER DA}) missing from current font.\n",
            "  fig.canvas.print_figure(bytes_io, **kw)\n",
            "/usr/local/lib/python3.10/dist-packages/IPython/core/pylabtools.py:151: UserWarning: Matplotlib currently does not support Devanagari natively.\n",
            "  fig.canvas.print_figure(bytes_io, **kw)\n",
            "/usr/local/lib/python3.10/dist-packages/IPython/core/pylabtools.py:151: UserWarning: Glyph 2354 (\\N{DEVANAGARI LETTER LA}) missing from current font.\n",
            "  fig.canvas.print_figure(bytes_io, **kw)\n",
            "/usr/local/lib/python3.10/dist-packages/IPython/core/pylabtools.py:151: UserWarning: Glyph 2361 (\\N{DEVANAGARI LETTER HA}) missing from current font.\n",
            "  fig.canvas.print_figure(bytes_io, **kw)\n",
            "/usr/local/lib/python3.10/dist-packages/IPython/core/pylabtools.py:151: UserWarning: Glyph 2352 (\\N{DEVANAGARI LETTER RA}) missing from current font.\n",
            "  fig.canvas.print_figure(bytes_io, **kw)\n",
            "/usr/local/lib/python3.10/dist-packages/IPython/core/pylabtools.py:151: UserWarning: Glyph 2346 (\\N{DEVANAGARI LETTER PA}) missing from current font.\n",
            "  fig.canvas.print_figure(bytes_io, **kw)\n",
            "/usr/local/lib/python3.10/dist-packages/IPython/core/pylabtools.py:151: UserWarning: Glyph 2340 (\\N{DEVANAGARI LETTER TA}) missing from current font.\n",
            "  fig.canvas.print_figure(bytes_io, **kw)\n",
            "/usr/local/lib/python3.10/dist-packages/IPython/core/pylabtools.py:151: UserWarning: Glyph 2325 (\\N{DEVANAGARI LETTER KA}) missing from current font.\n",
            "  fig.canvas.print_figure(bytes_io, **kw)\n",
            "/usr/local/lib/python3.10/dist-packages/IPython/core/pylabtools.py:151: UserWarning: Glyph 2327 (\\N{DEVANAGARI LETTER GA}) missing from current font.\n",
            "  fig.canvas.print_figure(bytes_io, **kw)\n",
            "/usr/local/lib/python3.10/dist-packages/IPython/core/pylabtools.py:151: UserWarning: Glyph 2313 (\\N{DEVANAGARI LETTER U}) missing from current font.\n",
            "  fig.canvas.print_figure(bytes_io, **kw)\n",
            "/usr/local/lib/python3.10/dist-packages/IPython/core/pylabtools.py:151: UserWarning: Glyph 2344 (\\N{DEVANAGARI LETTER NA}) missing from current font.\n",
            "  fig.canvas.print_figure(bytes_io, **kw)\n",
            "/usr/local/lib/python3.10/dist-packages/IPython/core/pylabtools.py:151: UserWarning: Glyph 2351 (\\N{DEVANAGARI LETTER YA}) missing from current font.\n",
            "  fig.canvas.print_figure(bytes_io, **kw)\n",
            "/usr/local/lib/python3.10/dist-packages/IPython/core/pylabtools.py:151: UserWarning: Glyph 2350 (\\N{DEVANAGARI LETTER MA}) missing from current font.\n",
            "  fig.canvas.print_figure(bytes_io, **kw)\n",
            "/usr/local/lib/python3.10/dist-packages/IPython/core/pylabtools.py:151: UserWarning: Glyph 2343 (\\N{DEVANAGARI LETTER DHA}) missing from current font.\n",
            "  fig.canvas.print_figure(bytes_io, **kw)\n",
            "/usr/local/lib/python3.10/dist-packages/IPython/core/pylabtools.py:151: UserWarning: Glyph 2348 (\\N{DEVANAGARI LETTER BA}) missing from current font.\n",
            "  fig.canvas.print_figure(bytes_io, **kw)\n",
            "/usr/local/lib/python3.10/dist-packages/IPython/core/pylabtools.py:151: UserWarning: Glyph 2347 (\\N{DEVANAGARI LETTER PHA}) missing from current font.\n",
            "  fig.canvas.print_figure(bytes_io, **kw)\n",
            "/usr/local/lib/python3.10/dist-packages/IPython/core/pylabtools.py:151: UserWarning: Glyph 2360 (\\N{DEVANAGARI LETTER SA}) missing from current font.\n",
            "  fig.canvas.print_figure(bytes_io, **kw)\n",
            "/usr/local/lib/python3.10/dist-packages/IPython/core/pylabtools.py:151: UserWarning: Glyph 2357 (\\N{DEVANAGARI LETTER VA}) missing from current font.\n",
            "  fig.canvas.print_figure(bytes_io, **kw)\n",
            "/usr/local/lib/python3.10/dist-packages/IPython/core/pylabtools.py:151: UserWarning: Glyph 2311 (\\N{DEVANAGARI LETTER I}) missing from current font.\n",
            "  fig.canvas.print_figure(bytes_io, **kw)\n",
            "/usr/local/lib/python3.10/dist-packages/IPython/core/pylabtools.py:151: UserWarning: Glyph 2312 (\\N{DEVANAGARI LETTER II}) missing from current font.\n",
            "  fig.canvas.print_figure(bytes_io, **kw)\n",
            "/usr/local/lib/python3.10/dist-packages/IPython/core/pylabtools.py:151: UserWarning: Glyph 2335 (\\N{DEVANAGARI LETTER TTA}) missing from current font.\n",
            "  fig.canvas.print_figure(bytes_io, **kw)\n",
            "/usr/local/lib/python3.10/dist-packages/IPython/core/pylabtools.py:151: UserWarning: Glyph 2341 (\\N{DEVANAGARI LETTER THA}) missing from current font.\n",
            "  fig.canvas.print_figure(bytes_io, **kw)\n",
            "/usr/local/lib/python3.10/dist-packages/IPython/core/pylabtools.py:151: UserWarning: Glyph 2332 (\\N{DEVANAGARI LETTER JA}) missing from current font.\n",
            "  fig.canvas.print_figure(bytes_io, **kw)\n",
            "/usr/local/lib/python3.10/dist-packages/IPython/core/pylabtools.py:151: UserWarning: Glyph 2331 (\\N{DEVANAGARI LETTER CHA}) missing from current font.\n",
            "  fig.canvas.print_figure(bytes_io, **kw)\n",
            "/usr/local/lib/python3.10/dist-packages/IPython/core/pylabtools.py:151: UserWarning: Glyph 2359 (\\N{DEVANAGARI LETTER SSA}) missing from current font.\n",
            "  fig.canvas.print_figure(bytes_io, **kw)\n",
            "/usr/local/lib/python3.10/dist-packages/IPython/core/pylabtools.py:151: UserWarning: Glyph 2330 (\\N{DEVANAGARI LETTER CA}) missing from current font.\n",
            "  fig.canvas.print_figure(bytes_io, **kw)\n",
            "/usr/local/lib/python3.10/dist-packages/IPython/core/pylabtools.py:151: UserWarning: Glyph 2358 (\\N{DEVANAGARI LETTER SHA}) missing from current font.\n",
            "  fig.canvas.print_figure(bytes_io, **kw)\n"
          ]
        },
        {
          "output_type": "display_data",
          "data": {
            "text/plain": [
              "<Figure size 1500x500 with 1 Axes>"
            ],
            "image/png": "[encoded data removed]"
          },
          "metadata": {}
        }
      ]
    },
    {
      "cell_type": "code",
      "source": [
        "\n",
        "# Unigrams + Bigrams + Trigrams\n",
        "X = data['cleaned_text_w/o_SW']\n",
        "y = data['label']\n",
        "\n",
        "# we want to include only those words in the vocab which have min df of 5,\n",
        "# means select only those words which occur ATLEAST in 5 documents!!\n",
        "# AND SELECT the TOP 1000 FEATURES ONLY to build the model\n",
        "CV = CountVectorizer(stop_words=list(nepali_stopwords),  ngram_range=(1, 3), min_df=5)\n",
        "\n",
        "LR1 = LogisticRegression(class_weight='balanced', solver='liblinear', penalty='l1', C=0.4)\n",
        "CV_pipe = Pipeline([('CV', CV) , ('LR', LR1)] )\n",
        "results = cross_validate(CV_pipe, X, y, cv=kfold, scoring='accuracy', return_train_score=True)\n",
        "\n",
        "# print(results['train_score'])\n",
        "print(np.round((results['train_score'].mean())*100, 2), np.round((results['train_score'].std())*100, 2))\n",
        "\n",
        "# print(results['test_score'])\n",
        "print(np.round((results['test_score'].mean())*100, 2), np.round((results['test_score'].std())*100, 2))\n",
        "\n",
        "CV.fit_transform(X)\n",
        "len(CV.vocabulary_)  # no. of features AFTER applying the stopwords"
      ],
      "metadata": {
        "colab": {
          "base_uri": "https://localhost:8080/"
        },
        "id": "HRFMVJ-vdyZ3",
        "outputId": "c56bd962-b71c-40a4-ed26-a262a5b73568"
      },
      "execution_count": null,
      "outputs": [
        {
          "output_type": "stream",
          "name": "stderr",
          "text": [
            "/usr/local/lib/python3.10/dist-packages/sklearn/feature_extraction/text.py:409: UserWarning: Your stop_words may be inconsistent with your preprocessing. Tokenizing the stop words generated tokens ['अक', 'अग', 'अझ', 'अन', 'अर', 'आजक', 'आत', 'आद', 'आफ', 'आय', 'ईक', 'उद', 'उनक', 'उनल', 'उह', 'एउट', 'एन', 'कत', 'कम', 'कस', 'कसर', 'कह', 'गत', 'गय', 'गर', 'चम', 'छन', 'जत', 'जबक', 'जस', 'जसक', 'जसब', 'जसम', 'जसल', 'जह', 'तत', 'तथ', 'तदन', 'तप', 'तवम', 'नज', 'नत', 'नभन', 'नय', 'पक', 'पछ', 'पन', 'पय', 'पर', 'पष', 'पह', 'बन', 'बर', 'भएक', 'भय', 'भव', 'मल', 'यत', 'यथ', 'यद', 'यप', 'यसक', 'यसपछ', 'यसब', 'यसर', 'यह', 'रण', 'रत', 'रमश', 'रह', 'लस', 'वर', 'सक', 'सट', 'सध', 'सपछ', 'सब', 'सम', 'सर', 'सह', 'हन', 'हर', 'हरण'] not in stop_words.\n",
            "  warnings.warn(\n",
            "/usr/local/lib/python3.10/dist-packages/sklearn/feature_extraction/text.py:409: UserWarning: Your stop_words may be inconsistent with your preprocessing. Tokenizing the stop words generated tokens ['अक', 'अग', 'अझ', 'अन', 'अर', 'आजक', 'आत', 'आद', 'आफ', 'आय', 'ईक', 'उद', 'उनक', 'उनल', 'उह', 'एउट', 'एन', 'कत', 'कम', 'कस', 'कसर', 'कह', 'गत', 'गय', 'गर', 'चम', 'छन', 'जत', 'जबक', 'जस', 'जसक', 'जसब', 'जसम', 'जसल', 'जह', 'तत', 'तथ', 'तदन', 'तप', 'तवम', 'नज', 'नत', 'नभन', 'नय', 'पक', 'पछ', 'पन', 'पय', 'पर', 'पष', 'पह', 'बन', 'बर', 'भएक', 'भय', 'भव', 'मल', 'यत', 'यथ', 'यद', 'यप', 'यसक', 'यसपछ', 'यसब', 'यसर', 'यह', 'रण', 'रत', 'रमश', 'रह', 'लस', 'वर', 'सक', 'सट', 'सध', 'सपछ', 'सब', 'सम', 'सर', 'सह', 'हन', 'हर', 'हरण'] not in stop_words.\n",
            "  warnings.warn(\n",
            "/usr/local/lib/python3.10/dist-packages/sklearn/feature_extraction/text.py:409: UserWarning: Your stop_words may be inconsistent with your preprocessing. Tokenizing the stop words generated tokens ['अक', 'अग', 'अझ', 'अन', 'अर', 'आजक', 'आत', 'आद', 'आफ', 'आय', 'ईक', 'उद', 'उनक', 'उनल', 'उह', 'एउट', 'एन', 'कत', 'कम', 'कस', 'कसर', 'कह', 'गत', 'गय', 'गर', 'चम', 'छन', 'जत', 'जबक', 'जस', 'जसक', 'जसब', 'जसम', 'जसल', 'जह', 'तत', 'तथ', 'तदन', 'तप', 'तवम', 'नज', 'नत', 'नभन', 'नय', 'पक', 'पछ', 'पन', 'पय', 'पर', 'पष', 'पह', 'बन', 'बर', 'भएक', 'भय', 'भव', 'मल', 'यत', 'यथ', 'यद', 'यप', 'यसक', 'यसपछ', 'यसब', 'यसर', 'यह', 'रण', 'रत', 'रमश', 'रह', 'लस', 'वर', 'सक', 'सट', 'सध', 'सपछ', 'सब', 'सम', 'सर', 'सह', 'हन', 'हर', 'हरण'] not in stop_words.\n",
            "  warnings.warn(\n",
            "/usr/local/lib/python3.10/dist-packages/sklearn/feature_extraction/text.py:409: UserWarning: Your stop_words may be inconsistent with your preprocessing. Tokenizing the stop words generated tokens ['अक', 'अग', 'अझ', 'अन', 'अर', 'आजक', 'आत', 'आद', 'आफ', 'आय', 'ईक', 'उद', 'उनक', 'उनल', 'उह', 'एउट', 'एन', 'कत', 'कम', 'कस', 'कसर', 'कह', 'गत', 'गय', 'गर', 'चम', 'छन', 'जत', 'जबक', 'जस', 'जसक', 'जसब', 'जसम', 'जसल', 'जह', 'तत', 'तथ', 'तदन', 'तप', 'तवम', 'नज', 'नत', 'नभन', 'नय', 'पक', 'पछ', 'पन', 'पय', 'पर', 'पष', 'पह', 'बन', 'बर', 'भएक', 'भय', 'भव', 'मल', 'यत', 'यथ', 'यद', 'यप', 'यसक', 'यसपछ', 'यसब', 'यसर', 'यह', 'रण', 'रत', 'रमश', 'रह', 'लस', 'वर', 'सक', 'सट', 'सध', 'सपछ', 'सब', 'सम', 'सर', 'सह', 'हन', 'हर', 'हरण'] not in stop_words.\n",
            "  warnings.warn(\n",
            "/usr/local/lib/python3.10/dist-packages/sklearn/feature_extraction/text.py:409: UserWarning: Your stop_words may be inconsistent with your preprocessing. Tokenizing the stop words generated tokens ['अक', 'अग', 'अझ', 'अन', 'अर', 'आजक', 'आत', 'आद', 'आफ', 'आय', 'ईक', 'उद', 'उनक', 'उनल', 'उह', 'एउट', 'एन', 'कत', 'कम', 'कस', 'कसर', 'कह', 'गत', 'गय', 'गर', 'चम', 'छन', 'जत', 'जबक', 'जस', 'जसक', 'जसब', 'जसम', 'जसल', 'जह', 'तत', 'तथ', 'तदन', 'तप', 'तवम', 'नज', 'नत', 'नभन', 'नय', 'पक', 'पछ', 'पन', 'पय', 'पर', 'पष', 'पह', 'बन', 'बर', 'भएक', 'भय', 'भव', 'मल', 'यत', 'यथ', 'यद', 'यप', 'यसक', 'यसपछ', 'यसब', 'यसर', 'यह', 'रण', 'रत', 'रमश', 'रह', 'लस', 'वर', 'सक', 'सट', 'सध', 'सपछ', 'सब', 'सम', 'सर', 'सह', 'हन', 'हर', 'हरण'] not in stop_words.\n",
            "  warnings.warn(\n",
            "/usr/local/lib/python3.10/dist-packages/sklearn/feature_extraction/text.py:409: UserWarning: Your stop_words may be inconsistent with your preprocessing. Tokenizing the stop words generated tokens ['अक', 'अग', 'अझ', 'अन', 'अर', 'आजक', 'आत', 'आद', 'आफ', 'आय', 'ईक', 'उद', 'उनक', 'उनल', 'उह', 'एउट', 'एन', 'कत', 'कम', 'कस', 'कसर', 'कह', 'गत', 'गय', 'गर', 'चम', 'छन', 'जत', 'जबक', 'जस', 'जसक', 'जसब', 'जसम', 'जसल', 'जह', 'तत', 'तथ', 'तदन', 'तप', 'तवम', 'नज', 'नत', 'नभन', 'नय', 'पक', 'पछ', 'पन', 'पय', 'पर', 'पष', 'पह', 'बन', 'बर', 'भएक', 'भय', 'भव', 'मल', 'यत', 'यथ', 'यद', 'यप', 'यसक', 'यसपछ', 'यसब', 'यसर', 'यह', 'रण', 'रत', 'रमश', 'रह', 'लस', 'वर', 'सक', 'सट', 'सध', 'सपछ', 'सब', 'सम', 'सर', 'सह', 'हन', 'हर', 'हरण'] not in stop_words.\n",
            "  warnings.warn(\n"
          ]
        },
        {
          "output_type": "stream",
          "name": "stdout",
          "text": [
            "69.5 0.89\n",
            "62.94 1.38\n"
          ]
        },
        {
          "output_type": "execute_result",
          "data": {
            "text/plain": [
              "537"
            ]
          },
          "metadata": {},
          "execution_count": 114
        }
      ]
    },
    {
      "cell_type": "code",
      "source": [
        "print(coef.shape)\n",
        "print(feature_names.shape)"
      ],
      "metadata": {
        "colab": {
          "base_uri": "https://localhost:8080/"
        },
        "id": "yAlDOaihMxUh",
        "outputId": "26ef3175-2e2c-4eb9-e73a-e16d7067e503"
      },
      "execution_count": null,
      "outputs": [
        {
          "output_type": "stream",
          "name": "stdout",
          "text": [
            "(1, 537)\n",
            "(537,)\n"
          ]
        }
      ]
    },
    {
      "cell_type": "code",
      "source": [
        "print(mask.shape)"
      ],
      "metadata": {
        "colab": {
          "base_uri": "https://localhost:8080/"
        },
        "id": "LwxVIZBfM1N_",
        "outputId": "da19b05c-5143-4c26-fc98-67bc9c20777a"
      },
      "execution_count": null,
      "outputs": [
        {
          "output_type": "stream",
          "name": "stdout",
          "text": [
            "(518,)\n"
          ]
        }
      ]
    },
    {
      "cell_type": "code",
      "source": [
        "len(coef.ravel()), len(feature_names)"
      ],
      "metadata": {
        "colab": {
          "base_uri": "https://localhost:8080/"
        },
        "id": "HMsYQVWod-Ml",
        "outputId": "dd9ebb73-5196-45fb-b32d-3bbfc45a8c08"
      },
      "execution_count": null,
      "outputs": [
        {
          "output_type": "execute_result",
          "data": {
            "text/plain": [
              "(537, 537)"
            ]
          },
          "metadata": {},
          "execution_count": 119
        }
      ]
    },
    {
      "cell_type": "code",
      "source": [
        "data.to_pickle(\"text_cleaned.pkl\")"
      ],
      "metadata": {
        "id": "NKpT5yROeQTU"
      },
      "execution_count": null,
      "outputs": []
    },
    {
      "cell_type": "code",
      "source": [
        "import pickle\n",
        "import numpy as np\n",
        "from sklearn.pipeline import Pipeline\n",
        "from sklearn.feature_extraction.text import CountVectorizer\n",
        "from sklearn.linear_model import LogisticRegression\n",
        "from sklearn.model_selection import cross_validate\n",
        "\n",
        "# Unigrams + Bigrams + Trigrams\n",
        "X = data['cleaned_text_w/o_SW']\n",
        "y = data['label']\n",
        "\n",
        "# Define CountVectorizer\n",
        "CV = CountVectorizer(stop_words=list(nepali_stopwords), ngram_range=(1, 3), min_df=5)\n",
        "\n",
        "# Define Logistic Regression model\n",
        "LR1 = LogisticRegression(class_weight='balanced', solver='liblinear', penalty='l1', C=0.4)\n",
        "\n",
        "# Create a pipeline with CountVectorizer and Logistic Regression\n",
        "CV_pipe = Pipeline([('CV', CV), ('LR', LR1)])\n",
        "\n",
        "# Fit the pipeline and cross-validate\n",
        "results = cross_validate(CV_pipe, X, y, cv=kfold, scoring='accuracy', return_train_score=True)\n",
        "\n",
        "# Print train and test scores\n",
        "print(np.round((results['train_score'].mean()) * 100, 2), np.round((results['train_score'].std()) * 100, 2))\n",
        "print(np.round((results['test_score'].mean()) * 100, 2), np.round((results['test_score'].std()) * 100, 2))\n",
        "\n",
        "# Fit CountVectorizer to the data\n",
        "CV.fit_transform(X)\n",
        "\n",
        "# Fit the pipeline explicitly before saving\n",
        "CV_pipe.fit(X, y)\n",
        "\n",
        "# Save CountVectorizer and trained model using pickle\n",
        "with open('model.pkl', 'wb') as file:\n",
        "    pickle.dump((CV_pipe, CV, LR1), file)\n"
      ],
      "metadata": {
        "colab": {
          "base_uri": "https://localhost:8080/"
        },
        "id": "kbwSw8FVfQq9",
        "outputId": "6e130732-b448-415f-e315-92dce19b8796"
      },
      "execution_count": null,
      "outputs": [
        {
          "output_type": "stream",
          "name": "stderr",
          "text": [
            "/usr/local/lib/python3.10/dist-packages/sklearn/feature_extraction/text.py:409: UserWarning: Your stop_words may be inconsistent with your preprocessing. Tokenizing the stop words generated tokens ['अक', 'अग', 'अझ', 'अन', 'अर', 'आजक', 'आत', 'आद', 'आफ', 'आय', 'ईक', 'उद', 'उनक', 'उनल', 'उह', 'एउट', 'एन', 'कत', 'कम', 'कस', 'कसर', 'कह', 'गत', 'गय', 'गर', 'चम', 'छन', 'जत', 'जबक', 'जस', 'जसक', 'जसब', 'जसम', 'जसल', 'जह', 'तत', 'तथ', 'तदन', 'तप', 'तवम', 'नज', 'नत', 'नभन', 'नय', 'पक', 'पछ', 'पन', 'पय', 'पर', 'पष', 'पह', 'बन', 'बर', 'भएक', 'भय', 'भव', 'मल', 'यत', 'यथ', 'यद', 'यप', 'यसक', 'यसपछ', 'यसब', 'यसर', 'यह', 'रण', 'रत', 'रमश', 'रह', 'लस', 'वर', 'सक', 'सट', 'सध', 'सपछ', 'सब', 'सम', 'सर', 'सह', 'हन', 'हर', 'हरण'] not in stop_words.\n",
            "  warnings.warn(\n",
            "/usr/local/lib/python3.10/dist-packages/sklearn/feature_extraction/text.py:409: UserWarning: Your stop_words may be inconsistent with your preprocessing. Tokenizing the stop words generated tokens ['अक', 'अग', 'अझ', 'अन', 'अर', 'आजक', 'आत', 'आद', 'आफ', 'आय', 'ईक', 'उद', 'उनक', 'उनल', 'उह', 'एउट', 'एन', 'कत', 'कम', 'कस', 'कसर', 'कह', 'गत', 'गय', 'गर', 'चम', 'छन', 'जत', 'जबक', 'जस', 'जसक', 'जसब', 'जसम', 'जसल', 'जह', 'तत', 'तथ', 'तदन', 'तप', 'तवम', 'नज', 'नत', 'नभन', 'नय', 'पक', 'पछ', 'पन', 'पय', 'पर', 'पष', 'पह', 'बन', 'बर', 'भएक', 'भय', 'भव', 'मल', 'यत', 'यथ', 'यद', 'यप', 'यसक', 'यसपछ', 'यसब', 'यसर', 'यह', 'रण', 'रत', 'रमश', 'रह', 'लस', 'वर', 'सक', 'सट', 'सध', 'सपछ', 'सब', 'सम', 'सर', 'सह', 'हन', 'हर', 'हरण'] not in stop_words.\n",
            "  warnings.warn(\n",
            "/usr/local/lib/python3.10/dist-packages/sklearn/feature_extraction/text.py:409: UserWarning: Your stop_words may be inconsistent with your preprocessing. Tokenizing the stop words generated tokens ['अक', 'अग', 'अझ', 'अन', 'अर', 'आजक', 'आत', 'आद', 'आफ', 'आय', 'ईक', 'उद', 'उनक', 'उनल', 'उह', 'एउट', 'एन', 'कत', 'कम', 'कस', 'कसर', 'कह', 'गत', 'गय', 'गर', 'चम', 'छन', 'जत', 'जबक', 'जस', 'जसक', 'जसब', 'जसम', 'जसल', 'जह', 'तत', 'तथ', 'तदन', 'तप', 'तवम', 'नज', 'नत', 'नभन', 'नय', 'पक', 'पछ', 'पन', 'पय', 'पर', 'पष', 'पह', 'बन', 'बर', 'भएक', 'भय', 'भव', 'मल', 'यत', 'यथ', 'यद', 'यप', 'यसक', 'यसपछ', 'यसब', 'यसर', 'यह', 'रण', 'रत', 'रमश', 'रह', 'लस', 'वर', 'सक', 'सट', 'सध', 'सपछ', 'सब', 'सम', 'सर', 'सह', 'हन', 'हर', 'हरण'] not in stop_words.\n",
            "  warnings.warn(\n",
            "/usr/local/lib/python3.10/dist-packages/sklearn/feature_extraction/text.py:409: UserWarning: Your stop_words may be inconsistent with your preprocessing. Tokenizing the stop words generated tokens ['अक', 'अग', 'अझ', 'अन', 'अर', 'आजक', 'आत', 'आद', 'आफ', 'आय', 'ईक', 'उद', 'उनक', 'उनल', 'उह', 'एउट', 'एन', 'कत', 'कम', 'कस', 'कसर', 'कह', 'गत', 'गय', 'गर', 'चम', 'छन', 'जत', 'जबक', 'जस', 'जसक', 'जसब', 'जसम', 'जसल', 'जह', 'तत', 'तथ', 'तदन', 'तप', 'तवम', 'नज', 'नत', 'नभन', 'नय', 'पक', 'पछ', 'पन', 'पय', 'पर', 'पष', 'पह', 'बन', 'बर', 'भएक', 'भय', 'भव', 'मल', 'यत', 'यथ', 'यद', 'यप', 'यसक', 'यसपछ', 'यसब', 'यसर', 'यह', 'रण', 'रत', 'रमश', 'रह', 'लस', 'वर', 'सक', 'सट', 'सध', 'सपछ', 'सब', 'सम', 'सर', 'सह', 'हन', 'हर', 'हरण'] not in stop_words.\n",
            "  warnings.warn(\n",
            "/usr/local/lib/python3.10/dist-packages/sklearn/feature_extraction/text.py:409: UserWarning: Your stop_words may be inconsistent with your preprocessing. Tokenizing the stop words generated tokens ['अक', 'अग', 'अझ', 'अन', 'अर', 'आजक', 'आत', 'आद', 'आफ', 'आय', 'ईक', 'उद', 'उनक', 'उनल', 'उह', 'एउट', 'एन', 'कत', 'कम', 'कस', 'कसर', 'कह', 'गत', 'गय', 'गर', 'चम', 'छन', 'जत', 'जबक', 'जस', 'जसक', 'जसब', 'जसम', 'जसल', 'जह', 'तत', 'तथ', 'तदन', 'तप', 'तवम', 'नज', 'नत', 'नभन', 'नय', 'पक', 'पछ', 'पन', 'पय', 'पर', 'पष', 'पह', 'बन', 'बर', 'भएक', 'भय', 'भव', 'मल', 'यत', 'यथ', 'यद', 'यप', 'यसक', 'यसपछ', 'यसब', 'यसर', 'यह', 'रण', 'रत', 'रमश', 'रह', 'लस', 'वर', 'सक', 'सट', 'सध', 'सपछ', 'सब', 'सम', 'सर', 'सह', 'हन', 'हर', 'हरण'] not in stop_words.\n",
            "  warnings.warn(\n"
          ]
        },
        {
          "output_type": "stream",
          "name": "stdout",
          "text": [
            "69.5 0.89\n",
            "62.94 1.38\n"
          ]
        },
        {
          "output_type": "stream",
          "name": "stderr",
          "text": [
            "/usr/local/lib/python3.10/dist-packages/sklearn/feature_extraction/text.py:409: UserWarning: Your stop_words may be inconsistent with your preprocessing. Tokenizing the stop words generated tokens ['अक', 'अग', 'अझ', 'अन', 'अर', 'आजक', 'आत', 'आद', 'आफ', 'आय', 'ईक', 'उद', 'उनक', 'उनल', 'उह', 'एउट', 'एन', 'कत', 'कम', 'कस', 'कसर', 'कह', 'गत', 'गय', 'गर', 'चम', 'छन', 'जत', 'जबक', 'जस', 'जसक', 'जसब', 'जसम', 'जसल', 'जह', 'तत', 'तथ', 'तदन', 'तप', 'तवम', 'नज', 'नत', 'नभन', 'नय', 'पक', 'पछ', 'पन', 'पय', 'पर', 'पष', 'पह', 'बन', 'बर', 'भएक', 'भय', 'भव', 'मल', 'यत', 'यथ', 'यद', 'यप', 'यसक', 'यसपछ', 'यसब', 'यसर', 'यह', 'रण', 'रत', 'रमश', 'रह', 'लस', 'वर', 'सक', 'सट', 'सध', 'सपछ', 'सब', 'सम', 'सर', 'सह', 'हन', 'हर', 'हरण'] not in stop_words.\n",
            "  warnings.warn(\n"
          ]
        }
      ]
    },
    {
      "cell_type": "code",
      "source": [
        "import pickle\n",
        "CV_pipe.fit(X, y)"
      ],
      "metadata": {
        "colab": {
          "base_uri": "https://localhost:8080/",
          "height": 128
        },
        "id": "r6-XQB3wf0oB",
        "outputId": "f1aa2555-fac3-458a-9fd7-05045171e66e"
      },
      "execution_count": null,
      "outputs": [
        {
          "output_type": "execute_result",
          "data": {
            "text/plain": [
              "Pipeline(steps=[('CV',\n",
              "                 CountVectorizer(min_df=5, ngram_range=(1, 3),\n",
              "                                 stop_words=['iraqi', 'arab', 'kuwait',\n",
              "                                             'country', 'people', 'hahaha',\n",
              "                                             'few', 'herein', 'whom',\n",
              "                                             \"should've\", 'never', 'what',\n",
              "                                             'five', 'having', 'four', 'is',\n",
              "                                             'again', 'per', 'meanwhile',\n",
              "                                             'however', 'back', 'and', 'until',\n",
              "                                             'your', 'the', 'de', 'already',\n",
              "                                             'beforehand', 'down', \"that'll\", ...])),\n",
              "                ('LR',\n",
              "                 LogisticRegression(C=0.4, class_weight='balanced',\n",
              "                                    penalty='l1', solver='liblinear'))])"
            ],
            "text/html": [
              "<style>#sk-container-id-2 {color: black;background-color: white;}#sk-container-id-2 pre{padding: 0;}#sk-container-id-2 div.sk-toggleable {background-color: white;}#sk-container-id-2 label.sk-toggleable__label {cursor: pointer;display: block;width: 100%;margin-bottom: 0;padding: 0.3em;box-sizing: border-box;text-align: center;}#sk-container-id-2 label.sk-toggleable__label-arrow:before {content: \"▸\";float: left;margin-right: 0.25em;color: #696969;}#sk-container-id-2 label.sk-toggleable__label-arrow:hover:before {color: black;}#sk-container-id-2 div.sk-estimator:hover label.sk-toggleable__label-arrow:before {color: black;}#sk-container-id-2 div.sk-toggleable__content {max-height: 0;max-width: 0;overflow: hidden;text-align: left;background-color: #f0f8ff;}#sk-container-id-2 div.sk-toggleable__content pre {margin: 0.2em;color: black;border-radius: 0.25em;background-color: #f0f8ff;}#sk-container-id-2 input.sk-toggleable__control:checked~div.sk-toggleable__content {max-height: 200px;max-width: 100%;overflow: auto;}#sk-container-id-2 input.sk-toggleable__control:checked~label.sk-toggleable__label-arrow:before {content: \"▾\";}#sk-container-id-2 div.sk-estimator input.sk-toggleable__control:checked~label.sk-toggleable__label {background-color: #d4ebff;}#sk-container-id-2 div.sk-label input.sk-toggleable__control:checked~label.sk-toggleable__label {background-color: #d4ebff;}#sk-container-id-2 input.sk-hidden--visually {border: 0;clip: rect(1px 1px 1px 1px);clip: rect(1px, 1px, 1px, 1px);height: 1px;margin: -1px;overflow: hidden;padding: 0;position: absolute;width: 1px;}#sk-container-id-2 div.sk-estimator {font-family: monospace;background-color: #f0f8ff;border: 1px dotted black;border-radius: 0.25em;box-sizing: border-box;margin-bottom: 0.5em;}#sk-container-id-2 div.sk-estimator:hover {background-color: #d4ebff;}#sk-container-id-2 div.sk-parallel-item::after {content: \"\";width: 100%;border-bottom: 1px solid gray;flex-grow: 1;}#sk-container-id-2 div.sk-label:hover label.sk-toggleable__label {background-color: #d4ebff;}#sk-container-id-2 div.sk-serial::before {content: \"\";position: absolute;border-left: 1px solid gray;box-sizing: border-box;top: 0;bottom: 0;left: 50%;z-index: 0;}#sk-container-id-2 div.sk-serial {display: flex;flex-direction: column;align-items: center;background-color: white;padding-right: 0.2em;padding-left: 0.2em;position: relative;}#sk-container-id-2 div.sk-item {position: relative;z-index: 1;}#sk-container-id-2 div.sk-parallel {display: flex;align-items: stretch;justify-content: center;background-color: white;position: relative;}#sk-container-id-2 div.sk-item::before, #sk-container-id-2 div.sk-parallel-item::before {content: \"\";position: absolute;border-left: 1px solid gray;box-sizing: border-box;top: 0;bottom: 0;left: 50%;z-index: -1;}#sk-container-id-2 div.sk-parallel-item {display: flex;flex-direction: column;z-index: 1;position: relative;background-color: white;}#sk-container-id-2 div.sk-parallel-item:first-child::after {align-self: flex-end;width: 50%;}#sk-container-id-2 div.sk-parallel-item:last-child::after {align-self: flex-start;width: 50%;}#sk-container-id-2 div.sk-parallel-item:only-child::after {width: 0;}#sk-container-id-2 div.sk-dashed-wrapped {border: 1px dashed gray;margin: 0 0.4em 0.5em 0.4em;box-sizing: border-box;padding-bottom: 0.4em;background-color: white;}#sk-container-id-2 div.sk-label label {font-family: monospace;font-weight: bold;display: inline-block;line-height: 1.2em;}#sk-container-id-2 div.sk-label-container {text-align: center;}#sk-container-id-2 div.sk-container {/* jupyter's `normalize.less` sets `[hidden] { display: none; }` but bootstrap.min.css set `[hidden] { display: none !important; }` so we also need the `!important` here to be able to override the default hidden behavior on the sphinx rendered scikit-learn.org. See: https://github.com/scikit-learn/scikit-learn/issues/21755 */display: inline-block !important;position: relative;}#sk-container-id-2 div.sk-text-repr-fallback {display: none;}</style><div id=\"sk-container-id-2\" class=\"sk-top-container\"><div class=\"sk-text-repr-fallback\"><pre>Pipeline(steps=[(&#x27;CV&#x27;,\n",
              "                 CountVectorizer(min_df=5, ngram_range=(1, 3),\n",
              "                                 stop_words=[&#x27;iraqi&#x27;, &#x27;arab&#x27;, &#x27;kuwait&#x27;,\n",
              "                                             &#x27;country&#x27;, &#x27;people&#x27;, &#x27;hahaha&#x27;,\n",
              "                                             &#x27;few&#x27;, &#x27;herein&#x27;, &#x27;whom&#x27;,\n",
              "                                             &quot;should&#x27;ve&quot;, &#x27;never&#x27;, &#x27;what&#x27;,\n",
              "                                             &#x27;five&#x27;, &#x27;having&#x27;, &#x27;four&#x27;, &#x27;is&#x27;,\n",
              "                                             &#x27;again&#x27;, &#x27;per&#x27;, &#x27;meanwhile&#x27;,\n",
              "                                             &#x27;however&#x27;, &#x27;back&#x27;, &#x27;and&#x27;, &#x27;until&#x27;,\n",
              "                                             &#x27;your&#x27;, &#x27;the&#x27;, &#x27;de&#x27;, &#x27;already&#x27;,\n",
              "                                             &#x27;beforehand&#x27;, &#x27;down&#x27;, &quot;that&#x27;ll&quot;, ...])),\n",
              "                (&#x27;LR&#x27;,\n",
              "                 LogisticRegression(C=0.4, class_weight=&#x27;balanced&#x27;,\n",
              "                                    penalty=&#x27;l1&#x27;, solver=&#x27;liblinear&#x27;))])</pre><b>In a Jupyter environment, please rerun this cell to show the HTML representation or trust the notebook. <br />On GitHub, the HTML representation is unable to render, please try loading this page with nbviewer.org.</b></div><div class=\"sk-container\" hidden><div class=\"sk-item sk-dashed-wrapped\"><div class=\"sk-label-container\"><div class=\"sk-label sk-toggleable\"><input class=\"sk-toggleable__control sk-hidden--visually\" id=\"sk-estimator-id-2\" type=\"checkbox\" ><label for=\"sk-estimator-id-2\" class=\"sk-toggleable__label sk-toggleable__label-arrow\">Pipeline</label><div class=\"sk-toggleable__content\"><pre>Pipeline(steps=[(&#x27;CV&#x27;,\n",
              "                 CountVectorizer(min_df=5, ngram_range=(1, 3),\n",
              "                                 stop_words=[&#x27;iraqi&#x27;, &#x27;arab&#x27;, &#x27;kuwait&#x27;,\n",
              "                                             &#x27;country&#x27;, &#x27;people&#x27;, &#x27;hahaha&#x27;,\n",
              "                                             &#x27;few&#x27;, &#x27;herein&#x27;, &#x27;whom&#x27;,\n",
              "                                             &quot;should&#x27;ve&quot;, &#x27;never&#x27;, &#x27;what&#x27;,\n",
              "                                             &#x27;five&#x27;, &#x27;having&#x27;, &#x27;four&#x27;, &#x27;is&#x27;,\n",
              "                                             &#x27;again&#x27;, &#x27;per&#x27;, &#x27;meanwhile&#x27;,\n",
              "                                             &#x27;however&#x27;, &#x27;back&#x27;, &#x27;and&#x27;, &#x27;until&#x27;,\n",
              "                                             &#x27;your&#x27;, &#x27;the&#x27;, &#x27;de&#x27;, &#x27;already&#x27;,\n",
              "                                             &#x27;beforehand&#x27;, &#x27;down&#x27;, &quot;that&#x27;ll&quot;, ...])),\n",
              "                (&#x27;LR&#x27;,\n",
              "                 LogisticRegression(C=0.4, class_weight=&#x27;balanced&#x27;,\n",
              "                                    penalty=&#x27;l1&#x27;, solver=&#x27;liblinear&#x27;))])</pre></div></div></div><div class=\"sk-serial\"><div class=\"sk-item\"><div class=\"sk-estimator sk-toggleable\"><input class=\"sk-toggleable__control sk-hidden--visually\" id=\"sk-estimator-id-3\" type=\"checkbox\" ><label for=\"sk-estimator-id-3\" class=\"sk-toggleable__label sk-toggleable__label-arrow\">CountVectorizer</label><div class=\"sk-toggleable__content\"><pre>CountVectorizer(min_df=5, ngram_range=(1, 3),\n",
              "                stop_words=[&#x27;iraqi&#x27;, &#x27;arab&#x27;, &#x27;kuwait&#x27;, &#x27;country&#x27;, &#x27;people&#x27;,\n",
              "                            &#x27;hahaha&#x27;, &#x27;few&#x27;, &#x27;herein&#x27;, &#x27;whom&#x27;, &quot;should&#x27;ve&quot;,\n",
              "                            &#x27;never&#x27;, &#x27;what&#x27;, &#x27;five&#x27;, &#x27;having&#x27;, &#x27;four&#x27;, &#x27;is&#x27;,\n",
              "                            &#x27;again&#x27;, &#x27;per&#x27;, &#x27;meanwhile&#x27;, &#x27;however&#x27;, &#x27;back&#x27;,\n",
              "                            &#x27;and&#x27;, &#x27;until&#x27;, &#x27;your&#x27;, &#x27;the&#x27;, &#x27;de&#x27;, &#x27;already&#x27;,\n",
              "                            &#x27;beforehand&#x27;, &#x27;down&#x27;, &quot;that&#x27;ll&quot;, ...])</pre></div></div></div><div class=\"sk-item\"><div class=\"sk-estimator sk-toggleable\"><input class=\"sk-toggleable__control sk-hidden--visually\" id=\"sk-estimator-id-4\" type=\"checkbox\" ><label for=\"sk-estimator-id-4\" class=\"sk-toggleable__label sk-toggleable__label-arrow\">LogisticRegression</label><div class=\"sk-toggleable__content\"><pre>LogisticRegression(C=0.4, class_weight=&#x27;balanced&#x27;, penalty=&#x27;l1&#x27;,\n",
              "                   solver=&#x27;liblinear&#x27;)</pre></div></div></div></div></div></div></div>"
            ]
          },
          "metadata": {},
          "execution_count": 101
        }
      ]
    },
    {
      "cell_type": "code",
      "source": [
        "# Save the model\n",
        "with open('arabic_model.pkl', 'wb') as file:\n",
        "    pickle.dump(CV_pipe, file)"
      ],
      "metadata": {
        "id": "iUaY97_cgFsX"
      },
      "execution_count": null,
      "outputs": []
    },
    {
      "cell_type": "code",
      "source": [
        "# Load the saved model\n",
        "with open('/content/arabic_model.pkl', 'rb') as file:\n",
        "    loaded_model = pickle.load(file)"
      ],
      "metadata": {
        "id": "4MsfIrg6gSdX"
      },
      "execution_count": null,
      "outputs": []
    },
    {
      "cell_type": "code",
      "source": [
        "import nltk\n",
        "from nltk.corpus import stopwords\n",
        "from nltk.tokenize import word_tokenize\n",
        "import string\n",
        "\n",
        "nltk.download('punkt')\n",
        "nltk.download('stopwords')\n",
        "\n",
        "def preprocess_text(text_list):\n",
        "    cleaned_texts = []\n",
        "    stop_words = set(stopwords.words('english'))\n",
        "\n",
        "    for text in text_list:\n",
        "        # Lowercase the text\n",
        "        text_lower = text.lower()\n",
        "\n",
        "        # Remove punctuation\n",
        "        text_no_punct = text_lower.translate(str.maketrans('', '', string.punctuation))\n",
        "\n",
        "        # Tokenize the text\n",
        "        tokens = word_tokenize(text_no_punct)\n",
        "\n",
        "        # Remove stopwords and join tokens back into text\n",
        "        filtered_tokens = [word for word in tokens if word not in stop_words]\n",
        "        cleaned_text = ' '.join(filtered_tokens)\n",
        "\n",
        "        cleaned_texts.append(cleaned_text)\n",
        "\n",
        "    return cleaned_texts"
      ],
      "metadata": {
        "colab": {
          "base_uri": "https://localhost:8080/"
        },
        "id": "ePdUhQKZhx_4",
        "outputId": "07ee6b22-47cf-4479-d907-cfbd7d7ff182"
      },
      "execution_count": null,
      "outputs": [
        {
          "output_type": "stream",
          "name": "stderr",
          "text": [
            "[nltk_data] Downloading package punkt to /root/nltk_data...\n",
            "[nltk_data]   Package punkt is already up-to-date!\n",
            "[nltk_data] Downloading package stopwords to /root/nltk_data...\n",
            "[nltk_data]   Package stopwords is already up-to-date!\n"
          ]
        }
      ]
    },
    {
      "cell_type": "code",
      "source": [
        "import pickle\n",
        "import re\n",
        "import contractions\n",
        "from nltk.stem import WordNetLemmatizer\n",
        "\n",
        "# Load the saved CountVectorizer and logistic regression model\n",
        "with open('/content/model.pkl', 'rb') as file:\n",
        "    CV_pipe, CV, LR1 = pickle.load(file)\n",
        "\n",
        "# Define your preprocessing function\n",
        "def tweet_cleaner_without_stopwords(text):\n",
        "    new_text = re.sub(r\"'s\\b\", \" is\", text)\n",
        "    new_text = re.sub(\"#\", \"\", new_text)\n",
        "    new_text = re.sub(\"@[A-Za-z0-9]+\", \"\", new_text)\n",
        "    new_text = re.sub(r\"http\\S+\", \"\", new_text)\n",
        "    new_text = contractions.fix(new_text)\n",
        "    new_text = re.sub(r\"[^a-zA-Z]\", \" \", new_text)\n",
        "    new_text = new_text.lower().strip()\n",
        "\n",
        "    cleaned_text = ''\n",
        "    for token in new_text.split():\n",
        "        cleaned_text = cleaned_text + lemmatizer.lemmatize(token) + ' '\n",
        "\n",
        "    return cleaned_text\n",
        "\n",
        "# Example of new data\n",
        "new_data = ['']\n",
        "\n",
        "# Preprocess the new data using the preprocessing function\n",
        "cleaned_data = [tweet_cleaner_without_stopwords(text) for text in new_data]\n",
        "\n",
        "# Transform the preprocessed data using the CountVectorizer\n",
        "transformed_data = CV.transform(cleaned_data)\n",
        "\n",
        "# Make predictions using the logistic regression model\n",
        "predictions = LR1.predict(transformed_data)\n",
        "\n",
        "# Print the predictions\n",
        "print(predictions)\n",
        "\n"
      ],
      "metadata": {
        "colab": {
          "base_uri": "https://localhost:8080/"
        },
        "id": "IhUMcWJdg-aM",
        "outputId": "4c265118-8de9-48ac-b44b-adcec94dc935"
      },
      "execution_count": null,
      "outputs": [
        {
          "output_type": "stream",
          "name": "stdout",
          "text": [
            "[0]\n"
          ]
        }
      ]
    },
    {
      "cell_type": "code",
      "source": [],
      "metadata": {
        "id": "9v2CJYJ0hhla"
      },
      "execution_count": null,
      "outputs": []
    }
  ]
}